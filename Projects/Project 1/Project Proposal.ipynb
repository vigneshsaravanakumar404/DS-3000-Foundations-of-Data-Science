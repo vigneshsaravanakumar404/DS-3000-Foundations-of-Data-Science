{
 "cells": [
  {
   "cell_type": "markdown",
   "id": "8cbd8d62-7b25-4590-aa1e-1395ce8b5038",
   "metadata": {},
   "source": [
    "## Phase I Project Proposal\n",
    "### What Determines Used Car Prices?\n",
    "\n",
    "#### Name: Vignesh Saravanakumar, DS 3000"
   ]
  },
  {
   "cell_type": "markdown",
   "id": "b18e839c-1ef4-4fe0-b2dc-a0cacbe3aa6c",
   "metadata": {},
   "source": [
    "### Introduction\n",
    "\n",
    "What factors determine the price of a used car? When shopping for a used vehicle, buyers encounter a wide range of prices that seem to depend on various characteristics like age, mileage, brand, and condition. I'm interested in examining whether features like a car's mileage, year of manufacture, and brand can help predict its selling price."
   ]
  },
  {
   "cell_type": "markdown",
   "id": "f1dd9251-8c31-4561-8085-aace74e90e76",
   "metadata": {},
   "source": [
    "### Data Collection\n",
    "\n",
    "I plan to scrape used car listings from Craigslist for the Boston area. Craigslist has a predictable URL structure and contains thousands of car listings with relevant features like price, year, make, model, mileage, and condition. The site is commonly used for student scraping projects and has public listings that are suitable for educational analysis."
   ]
  },
  {
   "cell_type": "code",
   "execution_count": null,
   "id": "c16676a7-8125-44b4-825c-fa944a551dd8",
   "metadata": {},
   "outputs": [
    {
     "name": "stdout",
     "output_type": "stream",
     "text": [
      "Scraping: https://www.carfax.com/Used-Cars-in-Boston-MA_c4931\n",
      "Status: 200\n",
      "Found 24 listings\n",
      "Total collected: 24\n",
      "\n",
      "\n",
      "Scraped 24 cars\n",
      "                                   title  price  year  mileage\n",
      "0  Certified Used 2020 Chevrolet Trax LT  15258  2020    51908\n",
      "1       Used 2020 Subaru Outback Premium  19497  2020    72829\n",
      "2         Used 2017 Buick Encore Premium  14497  2017    55089\n",
      "3               Used 2024 Honda Civic LX  20750  2024    63687\n",
      "4   Certified Used 2022 Nissan Sentra SV  18999  2022     9262\n"
     ]
    }
   ],
   "source": [
    "import requests\n",
    "from bs4 import BeautifulSoup\n",
    "import pandas as pd\n",
    "import re\n",
    "\n",
    "\n",
    "def scrape_carfax_cars(url, num_pages=3):\n",
    "    all_cars = []\n",
    "\n",
    "    headers = {\n",
    "        \"sec-ch-ua-platform\": '\"Windows\"',\n",
    "        \"Referer\": \"https://www.carfax.com/\",\n",
    "        \"User-Agent\": \"Mozilla/5.0 (Windows NT 10.0; Win64; x64) AppleWebKit/537.36 (KHTML, like Gecko) Chrome/140.0.0.0 Safari/537.36 Edg/140.0.0.0\",\n",
    "        \"sec-ch-ua\": '\"Chromium\";v=\"140\", \"Not=A?Brand\";v=\"24\", \"Microsoft Edge\";v=\"140\"',\n",
    "        \"DNT\": \"1\",\n",
    "        \"sec-ch-ua-mobile\": \"?0\",\n",
    "    }\n",
    "\n",
    "    for page in range(num_pages):\n",
    "        if page == 0:\n",
    "            page_url = url\n",
    "        else:\n",
    "            page_url = f\"{url}?page={page + 1}\"\n",
    "\n",
    "        print(f\"Scraping: {page_url}\")\n",
    "        response = requests.get(page_url, headers=headers)\n",
    "        print(f\"Status: {response.status_code}\")\n",
    "\n",
    "        soup = BeautifulSoup(response.content, \"html.parser\")\n",
    "\n",
    "        listings = soup.find_all(\"div\", class_=\"srp-grid-list-item\")\n",
    "        print(f\"Found {len(listings)} listings\")\n",
    "\n",
    "        if len(listings) == 0:\n",
    "            print(\"First 500 chars of HTML:\")\n",
    "            print(response.text[:500])\n",
    "\n",
    "        for listing in listings:\n",
    "            title_elem = listing.find(\"h4\", class_=\"srp-list-item-basic-info-model\")\n",
    "            title = title_elem.text.strip() if title_elem else None\n",
    "\n",
    "            price_elem = listing.find(\"div\", class_=\"srp-list-item__price\")\n",
    "            price_text = price_elem.text.strip() if price_elem else None\n",
    "\n",
    "            mileage_elem = listing.find(\n",
    "                \"span\", class_=\"srp-grid-list-item__mileage-address\"\n",
    "            )\n",
    "            mileage_location = mileage_elem.text.strip() if mileage_elem else None\n",
    "\n",
    "            year = None\n",
    "            if title:\n",
    "                year_match = re.search(r\"\\b(19|20)\\d{2}\\b\", title)\n",
    "                if year_match:\n",
    "                    year = int(year_match.group())\n",
    "\n",
    "            price = None\n",
    "            if price_text:\n",
    "                price_match = re.search(r\"([\\d,]+)\", price_text)\n",
    "                if price_match:\n",
    "                    price = int(price_match.group(1).replace(\",\", \"\"))\n",
    "\n",
    "            mileage = None\n",
    "            if mileage_location:\n",
    "                mileage_match = re.search(r\"([\\d,]+)\", mileage_location)\n",
    "                if mileage_match:\n",
    "                    mileage = int(mileage_match.group(1).replace(\",\", \"\"))\n",
    "\n",
    "            if price and year:\n",
    "                all_cars.append(\n",
    "                    {\"title\": title, \"price\": price, \"year\": year, \"mileage\": mileage}\n",
    "                )\n",
    "\n",
    "        print(f\"Total collected: {len(all_cars)}\\n\")\n",
    "\n",
    "    return pd.DataFrame(all_cars)\n",
    "\n",
    "\n",
    "df = scrape_carfax_cars(\n",
    "    \"https://www.carfax.com/Used-Cars-in-Boston-MA_c4931\", num_pages=1\n",
    ")\n",
    "\n",
    "print(f\"\\nScraped {len(df)} cars\")\n",
    "if len(df) > 0:\n",
    "    print(df.head())\n",
    "    df.to_csv(\"carfax_cars.csv\", index=False)\n",
    "\n",
    "\n",
    "# Example results are below, with a CSV file saved as 'carfax_cars.csv'\n"
   ]
  },
  {
   "cell_type": "markdown",
   "id": "30c4ee3e-875b-40af-a136-2cf7f5983e7f",
   "metadata": {},
   "source": [
    "### Data Usage and Remaining Issues\n",
    "\n",
    "The website has heavy rate limits and anti-scraping measures, which may pose challenges in collecting a large dataset. I will need to implement delays between requests and possibly pretend to be a browser to avoid being blocked."
   ]
  }
 ],
 "metadata": {
  "kernelspec": {
   "display_name": ".venv",
   "language": "python",
   "name": "python3"
  },
  "language_info": {
   "codemirror_mode": {
    "name": "ipython",
    "version": 3
   },
   "file_extension": ".py",
   "mimetype": "text/x-python",
   "name": "python",
   "nbconvert_exporter": "python",
   "pygments_lexer": "ipython3",
   "version": "3.13.7"
  }
 },
 "nbformat": 4,
 "nbformat_minor": 5
}
