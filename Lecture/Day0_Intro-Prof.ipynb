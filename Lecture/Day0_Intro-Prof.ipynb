{
 "cells": [
  {
   "cell_type": "markdown",
   "id": "39e41d4a",
   "metadata": {
    "slideshow": {
     "slide_type": "slide"
    }
   },
   "source": [
    "# DS3000 Day 0\n",
    "## Class Introduction\n",
    "September 4/5, 2025\n",
    "\n",
    "Content:\n",
    "- Motivating Clear Communication in DS\n",
    "- Admin/Syllabus Review\n",
    "- Data Collection/Getting to Know You\n",
    "- Python Basics (only some)\n",
    "- Multiple **extra credit**\n",
    "- Numpy\n",
    "\n",
    "Note: **Some of you are new to Python, please review ``Pre-Course Notebook`` by this weekend. Ask the TAs or me if you have questions**\n",
    "    \n",
    "### Assignment Due Dates:\n",
    "* Getting to Know You (Sept. 12 via Gradescope)\n",
    "* Homework 1 (Sept. 12 via Gradescope)"
   ]
  },
  {
   "cell_type": "markdown",
   "id": "db2fc422",
   "metadata": {
    "slideshow": {
     "slide_type": "slide"
    }
   },
   "source": [
    "## Functions in a bit more detail\n",
    "\n",
    "In the pre-course notebook (or DS 2000/2500), you should have seen:\n",
    "\n",
    "* defining and calling functions\n",
    "* functions with multiple inputs\n",
    "* functions with multiple outputs (tuple unpacking to the rescue!)\n",
    "\n",
    "\n",
    "# Time for a Group Activity. \n",
    "\n",
    "![me](https://media.makeameme.org/created/extra-credit-give.jpg)\n",
    "\n",
    "\n",
    "## Write a function called apply_discount that takes a dictionary of items (where keys are item names and values are prices) and a discount percentage. The function should:\n",
    "\n",
    "- Print each item and its original price\n",
    "- Apply the discount to all items\n",
    "- Return a new dictionary with discounted prices\n",
    "- Make sure you put a docstring for the function\n"
   ]
  },
  {
   "cell_type": "code",
   "execution_count": 16,
   "id": "f163e71f-823b-409e-9f59-f86867025f5a",
   "metadata": {},
   "outputs": [
    {
     "name": "stdout",
     "output_type": "stream",
     "text": [
      "\n",
      "Discounted prices: {'laptop': 799.992, 'mouse': 23.991999999999997, 'keyboard': 63.992, 'monitor': 239.99200000000002, 'headphones': 119.992}\n"
     ]
    }
   ],
   "source": [
    "def apply_discount(items, discount_percent):\n",
    "    \"\"\" applies discount to the prices of the items from the shopping_cart dictionary\n",
    "    \n",
    "    Args:\n",
    "        items (dict): dictionary of the shopping list\n",
    "        discounted_percent (val): the percentage to apply\n",
    "        \n",
    "    Return:\n",
    "        discounted_items (dict): dictionary of discounted prices\n",
    "    \"\"\" \n",
    "    discounted_items = {}\n",
    "    for key, its in items.items():\n",
    "        its=its-(its*0.2)\n",
    "        discounted_items[key]=its\n",
    "\n",
    "    return discounted_items\n",
    "        \n",
    "       \n",
    "        \n",
    "\n",
    "# Test your function\n",
    "shopping_cart = {\n",
    "    \"laptop\": 999.99,\n",
    "    \"mouse\": 29.99,\n",
    "    \"keyboard\": 79.99,\n",
    "    \"monitor\": 299.99,\n",
    "    \"headphones\": 149.99\n",
    "}\n",
    "\n",
    "discounted_items = apply_discount(shopping_cart, 20)  # 20% discount\n",
    "print(\"\\nDiscounted prices:\", discounted_items)"
   ]
  },
  {
   "cell_type": "markdown",
   "id": "3c8e73cb-3ace-4f2e-ba9e-e4669a0936ec",
   "metadata": {},
   "source": [
    "# <span style=\"color:Red\">Let's take a breather</span>\n",
    "# Individual Extra Credit Task \n",
    "\n",
    "## Create code for the following questions and run the cells. If there are errors you need to discuss in the markdown cell why a particular cell did not work. Before submitting delete all the other cells!\n",
    "\n",
    "Using the Iris dataset do the following questions: \n",
    "\n",
    "a) Print the shape\n",
    "\n",
    "b) Get every 10th row starting from the end using negative step: iris_array[-1::-10]\n",
    "\n",
    "c) Extract a 2D slice: rows from -20 to -10, columns -4 to -2\n",
    "\n",
    "d) Create a 1D slice by selecting row -50 and try to transpose it\n",
    "\n",
    "e) Create a 2D slice with shape (1, 4) from row -50 and transpose it\n",
    "\n",
    "f) Access positions [:,-5]. Explain the output"
   ]
  },
  {
   "cell_type": "code",
   "execution_count": 1,
   "id": "2572dbb9-6fbc-4b7c-b88f-26dca455641d",
   "metadata": {},
   "outputs": [],
   "source": [
    "import seaborn as sns\n",
    "import numpy as np\n",
    "\n",
    "iris = sns.load_dataset('iris')\n",
    "iris_array = iris[['sepal_length', 'sepal_width', 'petal_length', 'petal_width']].to_numpy()"
   ]
  },
  {
   "cell_type": "code",
   "execution_count": 2,
   "id": "9967b12f-7af6-425d-8a86-5224e20ab10c",
   "metadata": {},
   "outputs": [
    {
     "data": {
      "text/plain": [
       "(150, 4)"
      ]
     },
     "execution_count": 2,
     "metadata": {},
     "output_type": "execute_result"
    }
   ],
   "source": [
    "#a \n",
    "iris_array.shape"
   ]
  },
  {
   "cell_type": "code",
   "execution_count": 3,
   "id": "fdfa3357-0a89-4192-bd3b-ec01ddb7070f",
   "metadata": {},
   "outputs": [
    {
     "data": {
      "text/plain": [
       "array([[5.9, 3. , 5.1, 1.8],\n",
       "       [6.9, 3.1, 5.4, 2.1],\n",
       "       [7.2, 3. , 5.8, 1.6],\n",
       "       [6. , 2.2, 5. , 1.5],\n",
       "       [7.2, 3.6, 6.1, 2.5],\n",
       "       [5.7, 2.8, 4.1, 1.3],\n",
       "       [5.5, 2.5, 4. , 1.3],\n",
       "       [5.7, 2.6, 3.5, 1. ],\n",
       "       [5.6, 2.5, 3.9, 1.1],\n",
       "       [5.2, 2.7, 3.9, 1.4],\n",
       "       [5. , 3.3, 1.4, 0.2],\n",
       "       [5.1, 3.4, 1.5, 0.2],\n",
       "       [4.7, 3.2, 1.6, 0.2],\n",
       "       [5.1, 3.8, 1.5, 0.3],\n",
       "       [4.9, 3.1, 1.5, 0.1]])"
      ]
     },
     "execution_count": 3,
     "metadata": {},
     "output_type": "execute_result"
    }
   ],
   "source": [
    "#b\n",
    "iris_array[-1::-10]"
   ]
  },
  {
   "cell_type": "code",
   "execution_count": 4,
   "id": "520de50d-6661-4053-b486-a7f465416a1f",
   "metadata": {},
   "outputs": [
    {
     "data": {
      "text/plain": [
       "array([[7.4, 2.8],\n",
       "       [7.9, 3.8],\n",
       "       [6.4, 2.8],\n",
       "       [6.3, 2.8],\n",
       "       [6.1, 2.6],\n",
       "       [7.7, 3. ],\n",
       "       [6.3, 3.4],\n",
       "       [6.4, 3.1],\n",
       "       [6. , 3. ],\n",
       "       [6.9, 3.1]])"
      ]
     },
     "execution_count": 4,
     "metadata": {},
     "output_type": "execute_result"
    }
   ],
   "source": [
    "#c\n",
    "iris_array[-20:-10,-4:-2]"
   ]
  },
  {
   "cell_type": "code",
   "execution_count": 5,
   "id": "a23d2838-cf58-412f-8915-a8af8c5381a7",
   "metadata": {},
   "outputs": [
    {
     "data": {
      "text/plain": [
       "array([6.3, 3.3, 6. , 2.5])"
      ]
     },
     "execution_count": 5,
     "metadata": {},
     "output_type": "execute_result"
    }
   ],
   "source": [
    "#d\n",
    "a=iris_array[-50]\n",
    "a.T"
   ]
  },
  {
   "cell_type": "code",
   "execution_count": 21,
   "id": "679ad4bd-e077-47ed-8e55-35608dc74512",
   "metadata": {},
   "outputs": [
    {
     "data": {
      "text/plain": [
       "array([[6.3],\n",
       "       [3.3],\n",
       "       [6. ],\n",
       "       [2.5]])"
      ]
     },
     "execution_count": 21,
     "metadata": {},
     "output_type": "execute_result"
    }
   ],
   "source": [
    "#e\n",
    "a=iris_array[-50]\n",
    "a.T\n",
    "\n",
    "# OR\n",
    "\n",
    "a=iris_array[-50:-49]\n",
    "a.T\n",
    "\n",
    "# I am considering both as correct as the question was wrongly framed and i saw multiple variations"
   ]
  },
  {
   "cell_type": "code",
   "execution_count": 7,
   "id": "21c8834e-d626-4007-bff8-03e57ccfb58d",
   "metadata": {},
   "outputs": [
    {
     "ename": "IndexError",
     "evalue": "index -5 is out of bounds for axis 1 with size 4",
     "output_type": "error",
     "traceback": [
      "\u001b[0;31m---------------------------------------------------------------------------\u001b[0m",
      "\u001b[0;31mIndexError\u001b[0m                                Traceback (most recent call last)",
      "Cell \u001b[0;32mIn[7], line 2\u001b[0m\n\u001b[1;32m      1\u001b[0m \u001b[38;5;66;03m#f\u001b[39;00m\n\u001b[0;32m----> 2\u001b[0m \u001b[43miris_array\u001b[49m\u001b[43m[\u001b[49m\u001b[43m:\u001b[49m\u001b[43m,\u001b[49m\u001b[38;5;241;43m-\u001b[39;49m\u001b[38;5;241;43m5\u001b[39;49m\u001b[43m]\u001b[49m\n\u001b[1;32m      4\u001b[0m \u001b[38;5;66;03m# Since there are only 4 coloumns, we are trying to get the position -1 which does not exist\u001b[39;00m\n",
      "\u001b[0;31mIndexError\u001b[0m: index -5 is out of bounds for axis 1 with size 4"
     ]
    }
   ],
   "source": [
    "#f\n",
    "iris_array[:,-5]\n",
    "\n",
    "# Since there are only 4 coloumns, we are trying to get the position -1 which does not exist"
   ]
  }
 ],
 "metadata": {
  "celltoolbar": "Edit Metadata",
  "kernelspec": {
   "display_name": "Python 3 (ipykernel)",
   "language": "python",
   "name": "python3"
  },
  "language_info": {
   "codemirror_mode": {
    "name": "ipython",
    "version": 3
   },
   "file_extension": ".py",
   "mimetype": "text/x-python",
   "name": "python",
   "nbconvert_exporter": "python",
   "pygments_lexer": "ipython3",
   "version": "3.13.0"
  }
 },
 "nbformat": 4,
 "nbformat_minor": 5
}
