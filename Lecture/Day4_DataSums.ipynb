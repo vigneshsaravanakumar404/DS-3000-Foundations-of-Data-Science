{
 "cells": [
  {
   "cell_type": "markdown",
   "metadata": {
    "slideshow": {
     "slide_type": "slide"
    }
   },
   "source": [
    "# DS3000 Day 4\n",
    "\n",
    "Sept. 23, 2025\n",
    "\n",
    "Admin\n",
    "\n",
    "- Lab 2 will be **Sept. 30th**\n",
    "- Project Phase I: Proposal due by **October 5th**\n",
    "- Project Groups will be assigned Monday **October 8**\n",
    "- Homework 2 due by **October 3rd**, **Homework 3** (due **Oct 17**) will be posted\n",
    "- On Sept. 25th we have a guest lecture in the 2:50 PM class! The speaker is Mr. Karanbir Singh from Salesforce. He will discuss about Ethics of ML. Those in the Friday sections i.e., 03 and 05 if you are free you can come to 04 section or join virtually! \n",
    "[Meeting link](https://northeastern.zoom.us/j/92994398974?pwd=6eLCZ26f6KqZKbw6pdYmwnbuTvVO3C.1)\n",
    "\n",
    "\n",
    "Push-Up Tracker\n",
    "- Section 03:0\n",
    "- Section 04:1 \n",
    "- Section 05:1\n",
    "\n",
    "Content:\n",
    "- Exploring Data\n",
    "    - Basic Data Summaries and Intro to Vectors\n",
    "         - (This leads us into the **MATH** part of the course!)\n",
    "![s](https://64.media.tumblr.com/64473de68f3efee55b24dc1d5c881458/8f9b7a2f21d7b8ff-04/s1280x1920/08b38e3b7a1d8baddcc77f8f1e8f5f71257f6317.jpg)"
   ]
  },
  {
   "cell_type": "markdown",
   "metadata": {},
   "source": [
    "## Describing Sets of Numbers\n",
    "\n",
    "- types of data\n",
    "    - numeric vs categorical\n",
    "    \n",
    "- measures of central tendency (and when to use each)\n",
    "    - mean\n",
    "    - median\n",
    "    - mode\n",
    "- measures of dispersion\n",
    "    - variance and standard deviation"
   ]
  },
  {
   "cell_type": "markdown",
   "metadata": {},
   "source": [
    "## Types of Data\n",
    "\n",
    "### Categorical Data\n",
    "- categorical data need not be ordered\n",
    "- examples:\n",
    "    - favorite color of person \n",
    "        - green, blue, red, ...\n",
    "    - which network discusses a stock most\n",
    "        - cnn, fox, msnbc\n",
    "    - type of weather in a given day\n",
    "        - rainy, sunny, windy\n",
    "    \n",
    "### Numerical (continuous) data:\n",
    "- data always has an order (ordered data)\n",
    "    - for every pair of items x, y in the data either:\n",
    "        - x < y\n",
    "        - x > y\n",
    "        - x = y\n",
    "- between every pair of items, there is another item\n",
    "- examples:\n",
    "    - height of a person\n",
    "        - 5'6\", 5'10\"\n",
    "    - value of a stock\n",
    "        - \\\\$123.45, \\\\$8\n",
    "    - amount of rain in a day\n",
    "        - 2\", 0\"\n"
   ]
  },
  {
   "cell_type": "markdown",
   "metadata": {},
   "source": [
    "## Measures of Center for Numerical Data:\n",
    "\n",
    "- Sample Mean\n",
    "- Sample Median"
   ]
  },
  {
   "cell_type": "markdown",
   "metadata": {},
   "source": [
    "## Sample Mean\n",
    "\n",
    "**Sample Mean** of a population is the arithmetic average:\n",
    "$$ \\bar{x} = \\frac{1}{N} \\sum_i x_i $$"
   ]
  },
  {
   "cell_type": "markdown",
   "metadata": {},
   "source": [
    "## Sample Median \n",
    "\n",
    "is the \"halfway\" point (the 50th percentile) of a set of sorted values:\n",
    "- half of the remaining data is greater than median\n",
    "- half of the remaining data is less than  median\n",
    "\n",
    "If a set of numbers has an even number of points then median is mean of middle most two points."
   ]
  },
  {
   "cell_type": "markdown",
   "metadata": {},
   "source": [
    "Median is an attractive measure of center when:\n",
    "- data is inconsistently distributed (e.g. log scaled data)\n",
    "- data contains outliers\n",
    "    **outlier:** a value which is atypically far from the average (datum are typically closer to the average)"
   ]
  },
  {
   "cell_type": "markdown",
   "metadata": {},
   "source": [
    "## Measures of Spread for Numerical Data:\n",
    "\n",
    "- Sample Variance\n",
    "- Sample Standard Deviation\n",
    "- Sample Quartiles"
   ]
  },
  {
   "cell_type": "markdown",
   "metadata": {},
   "source": [
    "## Observations vs Ground Truth\n",
    "\n",
    "    Fishing in a new pond, you catch fish which are 3 lbs and another which is 5 lbs.  \n",
    "    What can (and can't) you say about the average fish weight in the pond?\n",
    "\n",
    "\n",
    "- **Observed** data points can be collected from an experiment.\n",
    "- The **Ground Truth** describes information which is absolutely true.  \n",
    "    - we rarely know ground truth information about distributions\n",
    "        - instead ... we estimate them\n",
    "        \n",
    "       \n",
    "### Language (and notation) to distinguish between observations and ground truth:\n",
    "\n",
    "| **Observed**                             | **Ground Truth**            |\n",
    "|------------------------------------------|-----------------------------|\n",
    "| Sample Mean $\\bar{x}$                    | Expected Value $E[x], \\mu$       |\n",
    "| Sample Standard Deviation $\\hat{\\sigma}$ | Standard Deviation $\\sigma$ |\n",
    "| Sample Variance $\\hat{\\sigma^2}$         | Variance $\\sigma^2$         |\n",
    "\n",
    "**(In DS practice, because almost all our data is observed, we rarely say \"Sample Mean\" and usually just say \"Mean\", and usually when folks just say \"Standard Deviation\" or \"Variance\" they mean the \"Sample Standard Deviation\" and \"Sample Variance\")**\n",
    "    "
   ]
  },
  {
   "cell_type": "markdown",
   "metadata": {},
   "source": [
    "### Variance and Sample Variance\n",
    "**Variance** is the average squared distance from the mean. \n",
    "$$ \\sigma^2 = \\frac{1}{N} \\sum_i (x_i-\\mu)^2 $$\n",
    "where $\\mu$ is the expected value of the distribution that $x_i$ came from.\n",
    "\n",
    "Rarely do we know the distribution (or its mean $\\mu$).  The best we can do is estimate this value as the **Sample Variance**:\n",
    "$$ \\hat{\\sigma}^2 = \\frac{1}{N-1} \\sum_i (x_i-\\bar{x})^2 $$\n",
    "where $\\bar{x}$ is the sample mean.  \n",
    "\n",
    "**Note the $\\frac{1}{N-1}$ term in Sample Variance (Bessel's Correction) differs from the $\\frac{1}{N}$ term in Variance above.**"
   ]
  },
  {
   "cell_type": "code",
   "execution_count": 18,
   "metadata": {},
   "outputs": [
    {
     "data": {
      "text/html": [
       "<div>\n",
       "<style scoped>\n",
       "    .dataframe tbody tr th:only-of-type {\n",
       "        vertical-align: middle;\n",
       "    }\n",
       "\n",
       "    .dataframe tbody tr th {\n",
       "        vertical-align: top;\n",
       "    }\n",
       "\n",
       "    .dataframe thead th {\n",
       "        text-align: right;\n",
       "    }\n",
       "</style>\n",
       "<table border=\"1\" class=\"dataframe\">\n",
       "  <thead>\n",
       "    <tr style=\"text-align: right;\">\n",
       "      <th></th>\n",
       "      <th>quiz1</th>\n",
       "      <th>quiz2</th>\n",
       "    </tr>\n",
       "  </thead>\n",
       "  <tbody>\n",
       "    <tr>\n",
       "      <th>0</th>\n",
       "      <td>6</td>\n",
       "      <td>6</td>\n",
       "    </tr>\n",
       "    <tr>\n",
       "      <th>1</th>\n",
       "      <td>7</td>\n",
       "      <td>5</td>\n",
       "    </tr>\n",
       "    <tr>\n",
       "      <th>2</th>\n",
       "      <td>8</td>\n",
       "      <td>6</td>\n",
       "    </tr>\n",
       "    <tr>\n",
       "      <th>3</th>\n",
       "      <td>8</td>\n",
       "      <td>10</td>\n",
       "    </tr>\n",
       "    <tr>\n",
       "      <th>4</th>\n",
       "      <td>6</td>\n",
       "      <td>9</td>\n",
       "    </tr>\n",
       "    <tr>\n",
       "      <th>5</th>\n",
       "      <td>7</td>\n",
       "      <td>5</td>\n",
       "    </tr>\n",
       "    <tr>\n",
       "      <th>6</th>\n",
       "      <td>7</td>\n",
       "      <td>6</td>\n",
       "    </tr>\n",
       "    <tr>\n",
       "      <th>7</th>\n",
       "      <td>6</td>\n",
       "      <td>10</td>\n",
       "    </tr>\n",
       "    <tr>\n",
       "      <th>8</th>\n",
       "      <td>8</td>\n",
       "      <td>6</td>\n",
       "    </tr>\n",
       "  </tbody>\n",
       "</table>\n",
       "</div>"
      ],
      "text/plain": [
       "   quiz1  quiz2\n",
       "0      6      6\n",
       "1      7      5\n",
       "2      8      6\n",
       "3      8     10\n",
       "4      6      9\n",
       "5      7      5\n",
       "6      7      6\n",
       "7      6     10\n",
       "8      8      6"
      ]
     },
     "execution_count": 18,
     "metadata": {},
     "output_type": "execute_result"
    }
   ],
   "source": [
    "df_grades = pd.DataFrame({'quiz1': [6, 7, 8, 8, 6, 7, 7, 6, 8],\n",
    "                          'quiz2': [6, 5, 6, 10, 9, 5, 6, 10, 6]})\n",
    "df_grades"
   ]
  },
  {
   "cell_type": "markdown",
   "metadata": {},
   "source": [
    "In Quiz 2 we see that the sample mean is the same, but the distances from the mean are bigger:\n",
    "$$ \\hat{\\sigma}^2 = \\frac{1}{9-1} \\cdot((-1)^2 + (-2)^2 + (-1)^2 + 3^2 + 2^2 + (-2)^2 + (-1)^2 + 3^2 + (-1)^2) = \\frac{34}{8} = 4.25$$"
   ]
  },
  {
   "cell_type": "code",
   "execution_count": 41,
   "metadata": {},
   "outputs": [
    {
     "data": {
      "text/plain": [
       "quiz1    0.75\n",
       "quiz2    4.25\n",
       "dtype: float64"
      ]
     },
     "execution_count": 41,
     "metadata": {},
     "output_type": "execute_result"
    }
   ],
   "source": [
    "df_grades.var()"
   ]
  },
  {
   "cell_type": "markdown",
   "metadata": {},
   "source": [
    "Even though the average for the two quizes are the same it seems like the quizes were different:\n",
    "* all the students found the first quiz similarly difficult.\n",
    "* some students nailed the second quiz and some there were also some did quite poorly"
   ]
  },
  {
   "cell_type": "markdown",
   "metadata": {},
   "source": [
    "### Standard deviation\n",
    "Standard deviation is just the square root of the variance:\n",
    "\n",
    "$$ \\hat{\\sigma} = \\sqrt{\\hat{\\sigma}^2} = \\sqrt{\\frac{1}{N-1} \\sum_i (x_i-\\bar{x})^2} $$\n",
    "\n",
    "#### Common misconception:\n",
    "Wait, square root of average squared distance from mean ... isn't it just the average distance from mean?\n",
    "\n",
    "No!\n",
    "* square root of a sum does not equal the sum of square roots "
   ]
  },
  {
   "cell_type": "code",
   "execution_count": 19,
   "metadata": {},
   "outputs": [
    {
     "data": {
      "text/plain": [
       "quiz1    0.866025\n",
       "quiz2    2.061553\n",
       "dtype: float64"
      ]
     },
     "execution_count": 19,
     "metadata": {},
     "output_type": "execute_result"
    }
   ],
   "source": [
    "# compute standard deviation\n",
    "df_grades.std()"
   ]
  },
  {
   "cell_type": "code",
   "execution_count": 20,
   "metadata": {},
   "outputs": [
    {
     "data": {
      "text/plain": [
       "quiz1    0.866025\n",
       "quiz2    2.061553\n",
       "dtype: float64"
      ]
     },
     "execution_count": 20,
     "metadata": {},
     "output_type": "execute_result"
    }
   ],
   "source": [
    "# compute square root of variances (same as std dev)\n",
    "np.sqrt(df_grades.var())"
   ]
  },
  {
   "cell_type": "markdown",
   "metadata": {},
   "source": [
    "### Co-variance & correlation: Qualitatively\n",
    "(How two values vary together)\n",
    "\n",
    "The behavior between any two values x and y can be summarized in one of the three ways:\n",
    "1. as x gets larger y typically gets larger too\n",
    "    - ex: \n",
    "        - `x=temp on some day`\n",
    "        - `y=number of people on the beach on the same day`\n",
    "    - covariance & correlation is positive\n",
    "2. as x gets larger y typically doesn't get larger or smaller\n",
    "    - ex: \n",
    "        - `x=individual's favorite number`\n",
    "        - `y=number of hot dogs that individual has eaten in their lifetime`\n",
    "    - covariance & correlation is zero\n",
    "3. as x gets larger, y typically gets smaller\n",
    "    - ex: \n",
    "        - `x=average speed of driver on 10 mile commute`\n",
    "        - `y=average commute time of driver on 10 mile commute`\n",
    "    - covariance & correlation are negative"
   ]
  },
  {
   "cell_type": "markdown",
   "metadata": {},
   "source": [
    "Covariance & Correlation are only defined between two values when the observations are somehow **linked**:\n",
    "1. on the same **day**, we observe temp & beach population\n",
    "1. on the same **individual**, we observe favortie number & hot dogs eaten\n",
    "1. on the same **driver**, we observe speed and commute time\n",
    "\n",
    "If we don't observe the data in pairs, correlation / covariance is not defined:\n",
    "- `x=an individual's favorite number`\n",
    "- `y=the temperature on a given day`\n",
    "\n",
    "`x` is observed per individual while `y` is observed per day ... there isn't a way to \"pair\" every x with a y!"
   ]
  },
  {
   "cell_type": "code",
   "execution_count": 26,
   "metadata": {},
   "outputs": [
    {
     "data": {
      "text/html": [
       "<div>\n",
       "<style scoped>\n",
       "    .dataframe tbody tr th:only-of-type {\n",
       "        vertical-align: middle;\n",
       "    }\n",
       "\n",
       "    .dataframe tbody tr th {\n",
       "        vertical-align: top;\n",
       "    }\n",
       "\n",
       "    .dataframe thead th {\n",
       "        text-align: right;\n",
       "    }\n",
       "</style>\n",
       "<table border=\"1\" class=\"dataframe\">\n",
       "  <thead>\n",
       "    <tr style=\"text-align: right;\">\n",
       "      <th></th>\n",
       "      <th>area</th>\n",
       "      <th>population</th>\n",
       "      <th>male_life_expectancy</th>\n",
       "      <th>female_life_expectancy</th>\n",
       "      <th>birth_rate</th>\n",
       "      <th>death_rate</th>\n",
       "      <th>pop_density</th>\n",
       "    </tr>\n",
       "  </thead>\n",
       "  <tbody>\n",
       "    <tr>\n",
       "      <th>area</th>\n",
       "      <td>8.000314e+12</td>\n",
       "      <td>6.313201e+13</td>\n",
       "      <td>-4.582980e+06</td>\n",
       "      <td>-2.597495e+06</td>\n",
       "      <td>4.074482e+04</td>\n",
       "      <td>1.622372e+06</td>\n",
       "      <td>-8.182096e+07</td>\n",
       "    </tr>\n",
       "    <tr>\n",
       "      <th>population</th>\n",
       "      <td>6.313201e+13</td>\n",
       "      <td>9.021667e+14</td>\n",
       "      <td>-3.023432e+07</td>\n",
       "      <td>-1.419289e+07</td>\n",
       "      <td>-2.844891e+06</td>\n",
       "      <td>1.829263e+07</td>\n",
       "      <td>-5.710219e+08</td>\n",
       "    </tr>\n",
       "    <tr>\n",
       "      <th>male_life_expectancy</th>\n",
       "      <td>-4.582980e+06</td>\n",
       "      <td>-3.023432e+07</td>\n",
       "      <td>2.230197e+01</td>\n",
       "      <td>1.283270e+01</td>\n",
       "      <td>1.187968e+00</td>\n",
       "      <td>-1.165654e+01</td>\n",
       "      <td>3.742888e+02</td>\n",
       "    </tr>\n",
       "    <tr>\n",
       "      <th>female_life_expectancy</th>\n",
       "      <td>-2.597495e+06</td>\n",
       "      <td>-1.419289e+07</td>\n",
       "      <td>1.283270e+01</td>\n",
       "      <td>8.319135e+00</td>\n",
       "      <td>3.013413e-01</td>\n",
       "      <td>-6.557841e+00</td>\n",
       "      <td>1.956119e+02</td>\n",
       "    </tr>\n",
       "    <tr>\n",
       "      <th>birth_rate</th>\n",
       "      <td>4.074482e+04</td>\n",
       "      <td>-2.844891e+06</td>\n",
       "      <td>1.187968e+00</td>\n",
       "      <td>3.013413e-01</td>\n",
       "      <td>1.231897e+00</td>\n",
       "      <td>-1.587397e+00</td>\n",
       "      <td>-4.224056e+01</td>\n",
       "    </tr>\n",
       "    <tr>\n",
       "      <th>death_rate</th>\n",
       "      <td>1.622372e+06</td>\n",
       "      <td>1.829263e+07</td>\n",
       "      <td>-1.165654e+01</td>\n",
       "      <td>-6.557841e+00</td>\n",
       "      <td>-1.587397e+00</td>\n",
       "      <td>8.813968e+00</td>\n",
       "      <td>-2.172171e+02</td>\n",
       "    </tr>\n",
       "    <tr>\n",
       "      <th>pop_density</th>\n",
       "      <td>-8.182096e+07</td>\n",
       "      <td>-5.710219e+08</td>\n",
       "      <td>3.742888e+02</td>\n",
       "      <td>1.956119e+02</td>\n",
       "      <td>-4.224056e+01</td>\n",
       "      <td>-2.172171e+02</td>\n",
       "      <td>7.177194e+04</td>\n",
       "    </tr>\n",
       "  </tbody>\n",
       "</table>\n",
       "</div>"
      ],
      "text/plain": [
       "                                area    population  male_life_expectancy  \\\n",
       "area                    8.000314e+12  6.313201e+13         -4.582980e+06   \n",
       "population              6.313201e+13  9.021667e+14         -3.023432e+07   \n",
       "male_life_expectancy   -4.582980e+06 -3.023432e+07          2.230197e+01   \n",
       "female_life_expectancy -2.597495e+06 -1.419289e+07          1.283270e+01   \n",
       "birth_rate              4.074482e+04 -2.844891e+06          1.187968e+00   \n",
       "death_rate              1.622372e+06  1.829263e+07         -1.165654e+01   \n",
       "pop_density            -8.182096e+07 -5.710219e+08          3.742888e+02   \n",
       "\n",
       "                        female_life_expectancy    birth_rate    death_rate  \\\n",
       "area                             -2.597495e+06  4.074482e+04  1.622372e+06   \n",
       "population                       -1.419289e+07 -2.844891e+06  1.829263e+07   \n",
       "male_life_expectancy              1.283270e+01  1.187968e+00 -1.165654e+01   \n",
       "female_life_expectancy            8.319135e+00  3.013413e-01 -6.557841e+00   \n",
       "birth_rate                        3.013413e-01  1.231897e+00 -1.587397e+00   \n",
       "death_rate                       -6.557841e+00 -1.587397e+00  8.813968e+00   \n",
       "pop_density                       1.956119e+02 -4.224056e+01 -2.172171e+02   \n",
       "\n",
       "                         pop_density  \n",
       "area                   -8.182096e+07  \n",
       "population             -5.710219e+08  \n",
       "male_life_expectancy    3.742888e+02  \n",
       "female_life_expectancy  1.956119e+02  \n",
       "birth_rate             -4.224056e+01  \n",
       "death_rate             -2.172171e+02  \n",
       "pop_density             7.177194e+04  "
      ]
     },
     "execution_count": 26,
     "metadata": {},
     "output_type": "execute_result"
    }
   ],
   "source": [
    "df_EUpop = pd.read_csv('europe_pop_data.zip')\n",
    "\n",
    "df_EUpop['area'] = df_EUpop['area'].str.replace(r'\\D', '', regex=True).astype(int)\n",
    "\n",
    "df_EUpop['population'] = df_EUpop['population'].str.replace(r'\\D', '', regex=True).astype(int)\n",
    "df_EUpop['pop_density'] = (df_EUpop.population/df_EUpop.area).round(1)\n",
    "\n",
    "\n",
    "\n",
    "df_EUpop.iloc[:, np.r_[4:11]].cov()"
   ]
  },
  {
   "cell_type": "markdown",
   "metadata": {},
   "source": [
    "## Computing Co-variance \n"
   ]
  },
  {
   "cell_type": "markdown",
   "metadata": {},
   "source": [
    "**Sample covariance:**\n",
    "$$ \\texttt{cov}(x, y) = \\frac{1}{N-1} \\sum_i (x_i - \\bar{x})(y_i - \\bar{y})$$\n",
    "\n"
   ]
  },
  {
   "cell_type": "markdown",
   "metadata": {},
   "source": [
    "A covariance matrix contains the covariance of every pair of elements:\n",
    "    \n",
    "|   |         x |         y |\n",
    "|--:|----------:|----------:|\n",
    "| x | cov(x, x) | cov(x, y) |\n",
    "| y | cov(y, x) | cov(y, y) |\n",
    "\n",
    "- Note 1: cov(x, y) = cov(y, x) (always, not just in this example)\n",
    "- Note 2: cov(x, x) is the variance of x and itself"
   ]
  },
  {
   "cell_type": "markdown",
   "metadata": {},
   "source": [
    "## Correlation (motivation)\n",
    "\n",
    "Covariance by itself is not actually very useful, since the units are not (usually) interpretable. Instead, we usually use correlation.\n",
    "\n",
    "Which has a more consistent relationship? (or maybe they're the same?)\n",
    "- height of a person in `inches`\n",
    "- height of a person in `cm`\n",
    "\n",
    "or\n",
    "- height of a person in `inches`\n",
    "- height of a person in `feet`"
   ]
  },
  {
   "cell_type": "code",
   "execution_count": 49,
   "metadata": {},
   "outputs": [
    {
     "data": {
      "text/html": [
       "<div>\n",
       "<style scoped>\n",
       "    .dataframe tbody tr th:only-of-type {\n",
       "        vertical-align: middle;\n",
       "    }\n",
       "\n",
       "    .dataframe tbody tr th {\n",
       "        vertical-align: top;\n",
       "    }\n",
       "\n",
       "    .dataframe thead th {\n",
       "        text-align: right;\n",
       "    }\n",
       "</style>\n",
       "<table border=\"1\" class=\"dataframe\">\n",
       "  <thead>\n",
       "    <tr style=\"text-align: right;\">\n",
       "      <th></th>\n",
       "      <th>height_inches</th>\n",
       "      <th>height_cm</th>\n",
       "      <th>height_feet</th>\n",
       "    </tr>\n",
       "  </thead>\n",
       "  <tbody>\n",
       "    <tr>\n",
       "      <th>0</th>\n",
       "      <td>68</td>\n",
       "      <td>172.72</td>\n",
       "      <td>5.666667</td>\n",
       "    </tr>\n",
       "    <tr>\n",
       "      <th>1</th>\n",
       "      <td>69</td>\n",
       "      <td>175.26</td>\n",
       "      <td>5.750000</td>\n",
       "    </tr>\n",
       "    <tr>\n",
       "      <th>2</th>\n",
       "      <td>70</td>\n",
       "      <td>177.80</td>\n",
       "      <td>5.833333</td>\n",
       "    </tr>\n",
       "    <tr>\n",
       "      <th>3</th>\n",
       "      <td>72</td>\n",
       "      <td>182.88</td>\n",
       "      <td>6.000000</td>\n",
       "    </tr>\n",
       "    <tr>\n",
       "      <th>4</th>\n",
       "      <td>55</td>\n",
       "      <td>139.70</td>\n",
       "      <td>4.583333</td>\n",
       "    </tr>\n",
       "    <tr>\n",
       "      <th>5</th>\n",
       "      <td>77</td>\n",
       "      <td>195.58</td>\n",
       "      <td>6.416667</td>\n",
       "    </tr>\n",
       "  </tbody>\n",
       "</table>\n",
       "</div>"
      ],
      "text/plain": [
       "   height_inches  height_cm  height_feet\n",
       "0             68     172.72     5.666667\n",
       "1             69     175.26     5.750000\n",
       "2             70     177.80     5.833333\n",
       "3             72     182.88     6.000000\n",
       "4             55     139.70     4.583333\n",
       "5             77     195.58     6.416667"
      ]
     },
     "execution_count": 49,
     "metadata": {},
     "output_type": "execute_result"
    }
   ],
   "source": [
    "inch_to_cm = 2.54\n",
    "inch_to_feet = 1/12\n",
    "\n",
    "df_height = pd.DataFrame({'height_inches': [68, 69, 70, 72, 55, 77]})\n",
    "df_height['height_cm'] = df_height['height_inches'] * inch_to_cm\n",
    "df_height['height_feet'] = df_height['height_inches'] * inch_to_feet\n",
    "\n",
    "df_height"
   ]
  },
  {
   "cell_type": "code",
   "execution_count": 50,
   "metadata": {},
   "outputs": [
    {
     "data": {
      "text/html": [
       "<div>\n",
       "<style scoped>\n",
       "    .dataframe tbody tr th:only-of-type {\n",
       "        vertical-align: middle;\n",
       "    }\n",
       "\n",
       "    .dataframe tbody tr th {\n",
       "        vertical-align: top;\n",
       "    }\n",
       "\n",
       "    .dataframe thead th {\n",
       "        text-align: right;\n",
       "    }\n",
       "</style>\n",
       "<table border=\"1\" class=\"dataframe\">\n",
       "  <thead>\n",
       "    <tr style=\"text-align: right;\">\n",
       "      <th></th>\n",
       "      <th>height_inches</th>\n",
       "      <th>height_cm</th>\n",
       "      <th>height_feet</th>\n",
       "    </tr>\n",
       "  </thead>\n",
       "  <tbody>\n",
       "    <tr>\n",
       "      <th>height_inches</th>\n",
       "      <td>53.900000</td>\n",
       "      <td>136.906000</td>\n",
       "      <td>4.491667</td>\n",
       "    </tr>\n",
       "    <tr>\n",
       "      <th>height_cm</th>\n",
       "      <td>136.906000</td>\n",
       "      <td>347.741240</td>\n",
       "      <td>11.408833</td>\n",
       "    </tr>\n",
       "    <tr>\n",
       "      <th>height_feet</th>\n",
       "      <td>4.491667</td>\n",
       "      <td>11.408833</td>\n",
       "      <td>0.374306</td>\n",
       "    </tr>\n",
       "  </tbody>\n",
       "</table>\n",
       "</div>"
      ],
      "text/plain": [
       "               height_inches   height_cm  height_feet\n",
       "height_inches      53.900000  136.906000     4.491667\n",
       "height_cm         136.906000  347.741240    11.408833\n",
       "height_feet         4.491667   11.408833     0.374306"
      ]
     },
     "execution_count": 50,
     "metadata": {},
     "output_type": "execute_result"
    }
   ],
   "source": [
    "df_height.cov()"
   ]
  },
  {
   "cell_type": "markdown",
   "metadata": {},
   "source": [
    "- Covariance between `height_inches` and `height_cm` ~= 136\n",
    "- Covariance between `height_inches` and `height_feet` ~= 4\n",
    "\n",
    "So is there a stronger relationship between `height_inches` and `height_cm`? ..."
   ]
  },
  {
   "cell_type": "code",
   "execution_count": 51,
   "metadata": {},
   "outputs": [
    {
     "data": {
      "image/png": "[encoded data removed]",
      "text/plain": [
       "<Figure size 640x480 with 1 Axes>"
      ]
     },
     "metadata": {},
     "output_type": "display_data"
    }
   ],
   "source": [
    "sns.scatterplot(data=df_height, x='height_inches', y='height_cm');"
   ]
  },
  {
   "cell_type": "code",
   "execution_count": 52,
   "metadata": {},
   "outputs": [
    {
     "data": {
      "image/png": "[encoded data removed]",
      "text/plain": [
       "<Figure size 640x480 with 1 Axes>"
      ]
     },
     "metadata": {},
     "output_type": "display_data"
    }
   ],
   "source": [
    "sns.scatterplot(data=df_height, x='height_inches', y='height_feet');"
   ]
  },
  {
   "cell_type": "markdown",
   "metadata": {},
   "source": [
    "So is there a stronger relationship between `height_inches` and `height_cm`? ...\n",
    "\n",
    "... not at all, they have the *same* relationship.  Its just that covariance depends on the units we measure in.  Smaller units -> bigger values -> bigger covariance.\n",
    "\n",
    "## The 'strongest' relationship between two variables\n",
    "\n",
    "In some sense, this is the 'strongest' possible relationship.  When one variable increases, the other always does so too.  \n",
    "\n",
    "**Helpful fact:**\n",
    "The covariance is always smaller than the product of the standard deviations of both variables:\n",
    "\n",
    "$$|cov(x,y)| \\leq \\sigma_x \\sigma_y$$\n"
   ]
  },
  {
   "cell_type": "markdown",
   "metadata": {},
   "source": [
    "## Correlation (Compute)\n",
    "\n",
    "Remember, the biggest (and smallest) covariance we can possibly have is the product of the standard deviations:\n",
    "\n",
    "$$|cov(x,y)| \\leq \\sigma_x \\sigma_y$$\n",
    "\n",
    "Correlation: \"How big of a covariance do you have comapred to how big it could possibly be?\"\n",
    "\n",
    "$$corr(x,y) = \\frac{\\texttt{cov}(x, y)}{\\sigma_x \\sigma_y} $$\n",
    "\n",
    "In doing so, it removes any effect of the scale of the data might have (e.g. changing units)."
   ]
  },
  {
   "cell_type": "code",
   "execution_count": 32,
   "metadata": {},
   "outputs": [
    {
     "data": {
      "text/html": [
       "<div>\n",
       "<style scoped>\n",
       "    .dataframe tbody tr th:only-of-type {\n",
       "        vertical-align: middle;\n",
       "    }\n",
       "\n",
       "    .dataframe tbody tr th {\n",
       "        vertical-align: top;\n",
       "    }\n",
       "\n",
       "    .dataframe thead th {\n",
       "        text-align: right;\n",
       "    }\n",
       "</style>\n",
       "<table border=\"1\" class=\"dataframe\">\n",
       "  <thead>\n",
       "    <tr style=\"text-align: right;\">\n",
       "      <th></th>\n",
       "      <th>area</th>\n",
       "      <th>population</th>\n",
       "      <th>male_life_expectancy</th>\n",
       "      <th>female_life_expectancy</th>\n",
       "      <th>birth_rate</th>\n",
       "      <th>death_rate</th>\n",
       "      <th>pop_density</th>\n",
       "    </tr>\n",
       "  </thead>\n",
       "  <tbody>\n",
       "    <tr>\n",
       "      <th>area</th>\n",
       "      <td>8.000314e+12</td>\n",
       "      <td>6.313201e+13</td>\n",
       "      <td>-4.582980e+06</td>\n",
       "      <td>-2.597495e+06</td>\n",
       "      <td>4.074482e+04</td>\n",
       "      <td>1.622372e+06</td>\n",
       "      <td>-8.182096e+07</td>\n",
       "    </tr>\n",
       "    <tr>\n",
       "      <th>population</th>\n",
       "      <td>6.313201e+13</td>\n",
       "      <td>9.021667e+14</td>\n",
       "      <td>-3.023432e+07</td>\n",
       "      <td>-1.419289e+07</td>\n",
       "      <td>-2.844891e+06</td>\n",
       "      <td>1.829263e+07</td>\n",
       "      <td>-5.710219e+08</td>\n",
       "    </tr>\n",
       "    <tr>\n",
       "      <th>male_life_expectancy</th>\n",
       "      <td>-4.582980e+06</td>\n",
       "      <td>-3.023432e+07</td>\n",
       "      <td>2.230197e+01</td>\n",
       "      <td>1.283270e+01</td>\n",
       "      <td>1.187968e+00</td>\n",
       "      <td>-1.165654e+01</td>\n",
       "      <td>3.742888e+02</td>\n",
       "    </tr>\n",
       "    <tr>\n",
       "      <th>female_life_expectancy</th>\n",
       "      <td>-2.597495e+06</td>\n",
       "      <td>-1.419289e+07</td>\n",
       "      <td>1.283270e+01</td>\n",
       "      <td>8.319135e+00</td>\n",
       "      <td>3.013413e-01</td>\n",
       "      <td>-6.557841e+00</td>\n",
       "      <td>1.956119e+02</td>\n",
       "    </tr>\n",
       "    <tr>\n",
       "      <th>birth_rate</th>\n",
       "      <td>4.074482e+04</td>\n",
       "      <td>-2.844891e+06</td>\n",
       "      <td>1.187968e+00</td>\n",
       "      <td>3.013413e-01</td>\n",
       "      <td>1.231897e+00</td>\n",
       "      <td>-1.587397e+00</td>\n",
       "      <td>-4.224056e+01</td>\n",
       "    </tr>\n",
       "    <tr>\n",
       "      <th>death_rate</th>\n",
       "      <td>1.622372e+06</td>\n",
       "      <td>1.829263e+07</td>\n",
       "      <td>-1.165654e+01</td>\n",
       "      <td>-6.557841e+00</td>\n",
       "      <td>-1.587397e+00</td>\n",
       "      <td>8.813968e+00</td>\n",
       "      <td>-2.172171e+02</td>\n",
       "    </tr>\n",
       "    <tr>\n",
       "      <th>pop_density</th>\n",
       "      <td>-8.182096e+07</td>\n",
       "      <td>-5.710219e+08</td>\n",
       "      <td>3.742888e+02</td>\n",
       "      <td>1.956119e+02</td>\n",
       "      <td>-4.224056e+01</td>\n",
       "      <td>-2.172171e+02</td>\n",
       "      <td>7.177194e+04</td>\n",
       "    </tr>\n",
       "  </tbody>\n",
       "</table>\n",
       "</div>"
      ],
      "text/plain": [
       "                                area    population  male_life_expectancy  \\\n",
       "area                    8.000314e+12  6.313201e+13         -4.582980e+06   \n",
       "population              6.313201e+13  9.021667e+14         -3.023432e+07   \n",
       "male_life_expectancy   -4.582980e+06 -3.023432e+07          2.230197e+01   \n",
       "female_life_expectancy -2.597495e+06 -1.419289e+07          1.283270e+01   \n",
       "birth_rate              4.074482e+04 -2.844891e+06          1.187968e+00   \n",
       "death_rate              1.622372e+06  1.829263e+07         -1.165654e+01   \n",
       "pop_density            -8.182096e+07 -5.710219e+08          3.742888e+02   \n",
       "\n",
       "                        female_life_expectancy    birth_rate    death_rate  \\\n",
       "area                             -2.597495e+06  4.074482e+04  1.622372e+06   \n",
       "population                       -1.419289e+07 -2.844891e+06  1.829263e+07   \n",
       "male_life_expectancy              1.283270e+01  1.187968e+00 -1.165654e+01   \n",
       "female_life_expectancy            8.319135e+00  3.013413e-01 -6.557841e+00   \n",
       "birth_rate                        3.013413e-01  1.231897e+00 -1.587397e+00   \n",
       "death_rate                       -6.557841e+00 -1.587397e+00  8.813968e+00   \n",
       "pop_density                       1.956119e+02 -4.224056e+01 -2.172171e+02   \n",
       "\n",
       "                         pop_density  \n",
       "area                   -8.182096e+07  \n",
       "population             -5.710219e+08  \n",
       "male_life_expectancy    3.742888e+02  \n",
       "female_life_expectancy  1.956119e+02  \n",
       "birth_rate             -4.224056e+01  \n",
       "death_rate             -2.172171e+02  \n",
       "pop_density             7.177194e+04  "
      ]
     },
     "execution_count": 32,
     "metadata": {},
     "output_type": "execute_result"
    }
   ],
   "source": [
    "df_EUpop.iloc[:, np.r_[4:11]].cov()"
   ]
  },
  {
   "cell_type": "code",
   "execution_count": 31,
   "metadata": {},
   "outputs": [
    {
     "data": {
      "text/html": [
       "<div>\n",
       "<style scoped>\n",
       "    .dataframe tbody tr th:only-of-type {\n",
       "        vertical-align: middle;\n",
       "    }\n",
       "\n",
       "    .dataframe tbody tr th {\n",
       "        vertical-align: top;\n",
       "    }\n",
       "\n",
       "    .dataframe thead th {\n",
       "        text-align: right;\n",
       "    }\n",
       "</style>\n",
       "<table border=\"1\" class=\"dataframe\">\n",
       "  <thead>\n",
       "    <tr style=\"text-align: right;\">\n",
       "      <th></th>\n",
       "      <th>area</th>\n",
       "      <th>population</th>\n",
       "      <th>male_life_expectancy</th>\n",
       "      <th>female_life_expectancy</th>\n",
       "      <th>birth_rate</th>\n",
       "      <th>death_rate</th>\n",
       "      <th>pop_density</th>\n",
       "    </tr>\n",
       "  </thead>\n",
       "  <tbody>\n",
       "    <tr>\n",
       "      <th>area</th>\n",
       "      <td>1.000000</td>\n",
       "      <td>0.743109</td>\n",
       "      <td>-0.343102</td>\n",
       "      <td>-0.318392</td>\n",
       "      <td>0.012979</td>\n",
       "      <td>0.193202</td>\n",
       "      <td>-0.107978</td>\n",
       "    </tr>\n",
       "    <tr>\n",
       "      <th>population</th>\n",
       "      <td>0.743109</td>\n",
       "      <td>1.000000</td>\n",
       "      <td>-0.213150</td>\n",
       "      <td>-0.163828</td>\n",
       "      <td>-0.085337</td>\n",
       "      <td>0.205138</td>\n",
       "      <td>-0.070963</td>\n",
       "    </tr>\n",
       "    <tr>\n",
       "      <th>male_life_expectancy</th>\n",
       "      <td>-0.343102</td>\n",
       "      <td>-0.213150</td>\n",
       "      <td>1.000000</td>\n",
       "      <td>0.942122</td>\n",
       "      <td>0.226645</td>\n",
       "      <td>-0.831404</td>\n",
       "      <td>0.295841</td>\n",
       "    </tr>\n",
       "    <tr>\n",
       "      <th>female_life_expectancy</th>\n",
       "      <td>-0.318392</td>\n",
       "      <td>-0.163828</td>\n",
       "      <td>0.942122</td>\n",
       "      <td>1.000000</td>\n",
       "      <td>0.094131</td>\n",
       "      <td>-0.765837</td>\n",
       "      <td>0.253151</td>\n",
       "    </tr>\n",
       "    <tr>\n",
       "      <th>birth_rate</th>\n",
       "      <td>0.012979</td>\n",
       "      <td>-0.085337</td>\n",
       "      <td>0.226645</td>\n",
       "      <td>0.094131</td>\n",
       "      <td>1.000000</td>\n",
       "      <td>-0.481740</td>\n",
       "      <td>-0.142058</td>\n",
       "    </tr>\n",
       "    <tr>\n",
       "      <th>death_rate</th>\n",
       "      <td>0.193202</td>\n",
       "      <td>0.205138</td>\n",
       "      <td>-0.831404</td>\n",
       "      <td>-0.765837</td>\n",
       "      <td>-0.481740</td>\n",
       "      <td>1.000000</td>\n",
       "      <td>-0.273106</td>\n",
       "    </tr>\n",
       "    <tr>\n",
       "      <th>pop_density</th>\n",
       "      <td>-0.107978</td>\n",
       "      <td>-0.070963</td>\n",
       "      <td>0.295841</td>\n",
       "      <td>0.253151</td>\n",
       "      <td>-0.142058</td>\n",
       "      <td>-0.273106</td>\n",
       "      <td>1.000000</td>\n",
       "    </tr>\n",
       "  </tbody>\n",
       "</table>\n",
       "</div>"
      ],
      "text/plain": [
       "                            area  population  male_life_expectancy  \\\n",
       "area                    1.000000    0.743109             -0.343102   \n",
       "population              0.743109    1.000000             -0.213150   \n",
       "male_life_expectancy   -0.343102   -0.213150              1.000000   \n",
       "female_life_expectancy -0.318392   -0.163828              0.942122   \n",
       "birth_rate              0.012979   -0.085337              0.226645   \n",
       "death_rate              0.193202    0.205138             -0.831404   \n",
       "pop_density            -0.107978   -0.070963              0.295841   \n",
       "\n",
       "                        female_life_expectancy  birth_rate  death_rate  \\\n",
       "area                                 -0.318392    0.012979    0.193202   \n",
       "population                           -0.163828   -0.085337    0.205138   \n",
       "male_life_expectancy                  0.942122    0.226645   -0.831404   \n",
       "female_life_expectancy                1.000000    0.094131   -0.765837   \n",
       "birth_rate                            0.094131    1.000000   -0.481740   \n",
       "death_rate                           -0.765837   -0.481740    1.000000   \n",
       "pop_density                           0.253151   -0.142058   -0.273106   \n",
       "\n",
       "                        pop_density  \n",
       "area                      -0.107978  \n",
       "population                -0.070963  \n",
       "male_life_expectancy       0.295841  \n",
       "female_life_expectancy     0.253151  \n",
       "birth_rate                -0.142058  \n",
       "death_rate                -0.273106  \n",
       "pop_density                1.000000  "
      ]
     },
     "execution_count": 31,
     "metadata": {},
     "output_type": "execute_result"
    }
   ],
   "source": [
    "df_EUpop.iloc[:, np.r_[4:11]].corr()"
   ]
  },
  {
   "cell_type": "markdown",
   "metadata": {},
   "source": [
    "## Let's discuss Correlation some more\n",
    "\n",
    "Correlations are shown above each scatter (credit: wikipedia)\n",
    "<img src=\"https://upload.wikimedia.org/wikipedia/commons/thumb/d/d4/Correlation_examples2.svg/1920px-Correlation_examples2.svg.png\" alt=\"Drawing\" style=\"width: 800px;\"/>\n",
    "\n",
    "Common misconception:\n",
    "\n",
    "- if x and y are independent, then they're uncorrelated\n",
    "- if x and y are uncorrelated, they need not be uncorrelated\n",
    "    - (see examples in last row directly above)"
   ]
  },
  {
   "cell_type": "markdown",
   "metadata": {},
   "source": [
    "## The most important correlation/covariance slide: why did we go through all this trouble?\n",
    "\n",
    "- mean describes where a feature typically is\n",
    "- variance / standard deviation describes how consistently a feature stays near its mean\n",
    "- correlation describes which relationship two values have:\n",
    "    - when x increases, y typically increases\n",
    "    - when x increases, y typically stays the same\n",
    "    - when x increases, y typically decreases\n",
    "    - **MOST IMPORTANTLY**: Just because two features have a correlation, **does not** mean they have anything to do with each other: [Spurious Correlations](http://www.tylervigen.com/spurious-correlations)\n",
    "\n",
    "![sd](https://miro.medium.com/v2/resize:fit:547/1*2BnD3YAUBGNutkKiG5dKfg.jpeg)\n",
    "\n",
    "\n",
    "![h](https://miro.medium.com/v2/resize:fit:600/0*PM2JXsJKrkZUS3DL.jpg)"
   ]
  },
  {
   "cell_type": "markdown",
   "metadata": {},
   "source": [
    "## Reminder: representing data (samples & features)\n",
    "To describe a collection of **samples** we record a set of **features** for each sample.\n",
    "\n",
    "For example, when describing penguins:"
   ]
  },
  {
   "cell_type": "code",
   "execution_count": 33,
   "metadata": {},
   "outputs": [
    {
     "data": {
      "text/html": [
       "<div>\n",
       "<style scoped>\n",
       "    .dataframe tbody tr th:only-of-type {\n",
       "        vertical-align: middle;\n",
       "    }\n",
       "\n",
       "    .dataframe tbody tr th {\n",
       "        vertical-align: top;\n",
       "    }\n",
       "\n",
       "    .dataframe thead th {\n",
       "        text-align: right;\n",
       "    }\n",
       "</style>\n",
       "<table border=\"1\" class=\"dataframe\">\n",
       "  <thead>\n",
       "    <tr style=\"text-align: right;\">\n",
       "      <th></th>\n",
       "      <th>species</th>\n",
       "      <th>island</th>\n",
       "      <th>bill_length_mm</th>\n",
       "      <th>bill_depth_mm</th>\n",
       "      <th>flipper_length_mm</th>\n",
       "      <th>body_mass_g</th>\n",
       "      <th>sex</th>\n",
       "    </tr>\n",
       "  </thead>\n",
       "  <tbody>\n",
       "    <tr>\n",
       "      <th>0</th>\n",
       "      <td>Adelie</td>\n",
       "      <td>Torgersen</td>\n",
       "      <td>39.1</td>\n",
       "      <td>18.7</td>\n",
       "      <td>181.0</td>\n",
       "      <td>3750.0</td>\n",
       "      <td>Male</td>\n",
       "    </tr>\n",
       "    <tr>\n",
       "      <th>1</th>\n",
       "      <td>Adelie</td>\n",
       "      <td>Torgersen</td>\n",
       "      <td>39.5</td>\n",
       "      <td>17.4</td>\n",
       "      <td>186.0</td>\n",
       "      <td>3800.0</td>\n",
       "      <td>Female</td>\n",
       "    </tr>\n",
       "    <tr>\n",
       "      <th>2</th>\n",
       "      <td>Adelie</td>\n",
       "      <td>Torgersen</td>\n",
       "      <td>40.3</td>\n",
       "      <td>18.0</td>\n",
       "      <td>195.0</td>\n",
       "      <td>3250.0</td>\n",
       "      <td>Female</td>\n",
       "    </tr>\n",
       "    <tr>\n",
       "      <th>4</th>\n",
       "      <td>Adelie</td>\n",
       "      <td>Torgersen</td>\n",
       "      <td>36.7</td>\n",
       "      <td>19.3</td>\n",
       "      <td>193.0</td>\n",
       "      <td>3450.0</td>\n",
       "      <td>Female</td>\n",
       "    </tr>\n",
       "    <tr>\n",
       "      <th>5</th>\n",
       "      <td>Adelie</td>\n",
       "      <td>Torgersen</td>\n",
       "      <td>39.3</td>\n",
       "      <td>20.6</td>\n",
       "      <td>190.0</td>\n",
       "      <td>3650.0</td>\n",
       "      <td>Male</td>\n",
       "    </tr>\n",
       "  </tbody>\n",
       "</table>\n",
       "</div>"
      ],
      "text/plain": [
       "  species     island  bill_length_mm  bill_depth_mm  flipper_length_mm  \\\n",
       "0  Adelie  Torgersen            39.1           18.7              181.0   \n",
       "1  Adelie  Torgersen            39.5           17.4              186.0   \n",
       "2  Adelie  Torgersen            40.3           18.0              195.0   \n",
       "4  Adelie  Torgersen            36.7           19.3              193.0   \n",
       "5  Adelie  Torgersen            39.3           20.6              190.0   \n",
       "\n",
       "   body_mass_g     sex  \n",
       "0       3750.0    Male  \n",
       "1       3800.0  Female  \n",
       "2       3250.0  Female  \n",
       "4       3450.0  Female  \n",
       "5       3650.0    Male  "
      ]
     },
     "execution_count": 33,
     "metadata": {},
     "output_type": "execute_result"
    }
   ],
   "source": [
    "df_penguin = sns.load_dataset('penguins')\n",
    "df_penguin.dropna(axis=0, inplace=True)\n",
    "\n",
    "df_penguin.head()"
   ]
  },
  {
   "cell_type": "markdown",
   "metadata": {},
   "source": [
    "Each penguin is a sample for which we've observed 7 features:\n",
    "- species\n",
    "- island\n",
    "- bill_length_mm\n",
    "- bill_depth_mm\n",
    "- flipper_length_mm\n",
    "- body_mass_g\n",
    "- sex \n",
    "\n",
    "A numerical dataset can be represented as an array (we'll return to those categorical variables `species`, `island` and `sex` later on). \n",
    "\n",
    "**By convention, sklearn (our Python ML library) represent:**\n",
    "- each sample as a row \n",
    "- each feature as a column \n"
   ]
  },
  {
   "cell_type": "markdown",
   "metadata": {},
   "source": [
    "## Samples as vectors (or, \"Uh-Oh, here comes some math!\")"
   ]
  },
  {
   "cell_type": "code",
   "execution_count": 59,
   "metadata": {},
   "outputs": [
    {
     "data": {
      "text/html": [
       "<div>\n",
       "<style scoped>\n",
       "    .dataframe tbody tr th:only-of-type {\n",
       "        vertical-align: middle;\n",
       "    }\n",
       "\n",
       "    .dataframe tbody tr th {\n",
       "        vertical-align: top;\n",
       "    }\n",
       "\n",
       "    .dataframe thead th {\n",
       "        text-align: right;\n",
       "    }\n",
       "</style>\n",
       "<table border=\"1\" class=\"dataframe\">\n",
       "  <thead>\n",
       "    <tr style=\"text-align: right;\">\n",
       "      <th></th>\n",
       "      <th>bill_length_mm</th>\n",
       "      <th>bill_depth_mm</th>\n",
       "      <th>flipper_length_mm</th>\n",
       "      <th>body_mass_g</th>\n",
       "    </tr>\n",
       "  </thead>\n",
       "  <tbody>\n",
       "    <tr>\n",
       "      <th>0</th>\n",
       "      <td>39.1</td>\n",
       "      <td>18.7</td>\n",
       "      <td>181.0</td>\n",
       "      <td>3750.0</td>\n",
       "    </tr>\n",
       "    <tr>\n",
       "      <th>1</th>\n",
       "      <td>40.2</td>\n",
       "      <td>17.9</td>\n",
       "      <td>194.0</td>\n",
       "      <td>3700.0</td>\n",
       "    </tr>\n",
       "    <tr>\n",
       "      <th>2</th>\n",
       "      <td>40.3</td>\n",
       "      <td>18.0</td>\n",
       "      <td>195.0</td>\n",
       "      <td>3250.0</td>\n",
       "    </tr>\n",
       "    <tr>\n",
       "      <th>4</th>\n",
       "      <td>36.7</td>\n",
       "      <td>19.3</td>\n",
       "      <td>193.0</td>\n",
       "      <td>3450.0</td>\n",
       "    </tr>\n",
       "    <tr>\n",
       "      <th>5</th>\n",
       "      <td>39.3</td>\n",
       "      <td>20.6</td>\n",
       "      <td>190.0</td>\n",
       "      <td>3650.0</td>\n",
       "    </tr>\n",
       "  </tbody>\n",
       "</table>\n",
       "</div>"
      ],
      "text/plain": [
       "   bill_length_mm  bill_depth_mm  flipper_length_mm  body_mass_g\n",
       "0            39.1           18.7              181.0       3750.0\n",
       "1            40.2           17.9              194.0       3700.0\n",
       "2            40.3           18.0              195.0       3250.0\n",
       "4            36.7           19.3              193.0       3450.0\n",
       "5            39.3           20.6              190.0       3650.0"
      ]
     },
     "execution_count": 59,
     "metadata": {},
     "output_type": "execute_result"
    }
   ],
   "source": [
    "# only focus on numerical features (for now)\n",
    "col_num_list = ['bill_length_mm', 'bill_depth_mm', 'flipper_length_mm', 'body_mass_g']\n",
    "df_penguin_num = df_penguin.loc[:, col_num_list]\n",
    "\n",
    "# for pedagogical reasons, we need penguin1 to have slightly different values\n",
    "df_penguin_num.iloc[1, :] = [40.2, 17.9, 194.0, 3700]\n",
    "\n",
    "df_penguin_num.head()"
   ]
  },
  {
   "cell_type": "markdown",
   "metadata": {},
   "source": [
    "Individual samples (penguins) are considered, mathematically, as vectors.  When sklearn looks at the first penguin it sees:"
   ]
  },
  {
   "cell_type": "code",
   "execution_count": 60,
   "metadata": {},
   "outputs": [
    {
     "data": {
      "text/plain": [
       "array([  39.1,   18.7,  181. , 3750. ])"
      ]
     },
     "execution_count": 60,
     "metadata": {},
     "output_type": "execute_result"
    }
   ],
   "source": [
    "np.array(df_penguin_num.iloc[0, :])"
   ]
  },
  {
   "cell_type": "markdown",
   "metadata": {},
   "source": [
    "## Distances between samples\n",
    "Many ML tools require that these vectors have meaningful distances between them.  \n",
    "- A pair of samples with a large distance between them are considered different\n",
    "- A pair of samples with a small distance between them are considered similar\n",
    "\n",
    "Computing (the $\\ell_2$, or Euclidean) distance between two vectors $x = \\begin{bmatrix} x_1 \\\\ x_2 \\end{bmatrix}$ and $x' = \\begin{bmatrix} x_1' \\\\ x_2' \\end{bmatrix}$:\n",
    "\n",
    "$$||x - x'||_2 = \\sqrt{\\sum_i (x_i - x_i')^2}$$\n",
    "\n",
    "In words, to compute the distance between two vectors:\n",
    "- we square the differences of each element\n",
    "- add these values together\n",
    "- compute the square root of this sum\n",
    "\n",
    "How similar is penguin0 to penguin1?"
   ]
  },
  {
   "cell_type": "code",
   "execution_count": 61,
   "metadata": {},
   "outputs": [
    {
     "data": {
      "text/plain": [
       "bill_length_mm         39.1\n",
       "bill_depth_mm          18.7\n",
       "flipper_length_mm     181.0\n",
       "body_mass_g          3750.0\n",
       "Name: 0, dtype: float64"
      ]
     },
     "execution_count": 61,
     "metadata": {},
     "output_type": "execute_result"
    }
   ],
   "source": [
    "penguin0 = df_penguin_num.iloc[0, :]\n",
    "penguin0"
   ]
  },
  {
   "cell_type": "code",
   "execution_count": 62,
   "metadata": {},
   "outputs": [
    {
     "data": {
      "text/plain": [
       "bill_length_mm         40.2\n",
       "bill_depth_mm          17.9\n",
       "flipper_length_mm     194.0\n",
       "body_mass_g          3700.0\n",
       "Name: 1, dtype: float64"
      ]
     },
     "execution_count": 62,
     "metadata": {},
     "output_type": "execute_result"
    }
   ],
   "source": [
    "penguin1 = df_penguin_num.iloc[1, :]\n",
    "penguin1"
   ]
  },
  {
   "cell_type": "code",
   "execution_count": 63,
   "metadata": {},
   "outputs": [
    {
     "data": {
      "text/plain": [
       "51.68026702717392"
      ]
     },
     "execution_count": 63,
     "metadata": {},
     "output_type": "execute_result"
    }
   ],
   "source": [
    "sq_diff_per_feat = [(39.1 - 40.2) ** 2, (18.7 - 17.9) ** 2, (181 - 194) ** 2, (3750 - 3700) ** 2]\n",
    "l2_dist = sum(sq_diff_per_feat) ** .5\n",
    "l2_dist"
   ]
  },
  {
   "cell_type": "markdown",
   "metadata": {},
   "source": [
    "In and of itself, this distance isn't too insightful ... the penguins are 50 ?unit? apart?  The value becomes more useful when compared to other distances.  Is penguin 1 more similar to penguin 0 or penguin 2?"
   ]
  },
  {
   "cell_type": "code",
   "execution_count": 64,
   "metadata": {},
   "outputs": [
    {
     "name": "stdout",
     "output_type": "stream",
     "text": [
      "distance between penguin0 and penguin1: 51.680\n",
      "distance between penguin1 and penguin2: 450.001\n"
     ]
    }
   ],
   "source": [
    "vec_penguin0 = np.array(df_penguin_num.iloc[0, :])\n",
    "vec_penguin1 = np.array(df_penguin_num.iloc[1, :])\n",
    "vec_penguin2 = np.array(df_penguin_num.iloc[2, :])\n",
    "\n",
    "# a quicker, equivilent way to compute distance\n",
    "l2_dist_quick_a = np.linalg.norm(vec_penguin0 - vec_penguin1)\n",
    "l2_dist_quick_b = np.linalg.norm(vec_penguin1 - vec_penguin2)\n",
    "\n",
    "print(f'distance between penguin0 and penguin1: {l2_dist_quick_a:.3f}') #the .3f limits the printing to 3 decimals\n",
    "print(f'distance between penguin1 and penguin2: {l2_dist_quick_b:.3f}')"
   ]
  },
  {
   "cell_type": "markdown",
   "metadata": {},
   "source": [
    "So: penguin0 and penguin1 are more similar since we observed:\n",
    "\n",
    "    distance between penguin0 and penguin1: 51.680\n",
    "    distance between penguin1 and penguin2: 450.001\n",
    "    \n",
    "Is this satisfying or should penguin1 and penguin2 be considered more similar?  Lets break it out by feature:"
   ]
  },
  {
   "cell_type": "code",
   "execution_count": 65,
   "metadata": {},
   "outputs": [
    {
     "data": {
      "text/plain": [
       "bill_length_mm        1.1\n",
       "bill_depth_mm        -0.8\n",
       "flipper_length_mm    13.0\n",
       "body_mass_g         -50.0\n",
       "dtype: float64"
      ]
     },
     "execution_count": 65,
     "metadata": {},
     "output_type": "execute_result"
    }
   ],
   "source": [
    "df_penguin_num.iloc[1, :] - df_penguin_num.iloc[0, :]"
   ]
  },
  {
   "cell_type": "code",
   "execution_count": 66,
   "metadata": {},
   "outputs": [
    {
     "data": {
      "text/plain": [
       "bill_length_mm        -0.1\n",
       "bill_depth_mm         -0.1\n",
       "flipper_length_mm     -1.0\n",
       "body_mass_g          450.0\n",
       "dtype: float64"
      ]
     },
     "execution_count": 66,
     "metadata": {},
     "output_type": "execute_result"
    }
   ],
   "source": [
    "df_penguin_num.iloc[1, :] - df_penguin_num.iloc[2, :]"
   ]
  },
  {
   "cell_type": "markdown",
   "metadata": {},
   "source": [
    "The bills and flippers of penguin2 and penguin1 are just about identical ... but their difference in body mass is so large that it yields a large distance.\n",
    "\n",
    "## Big Idea 1: Distances assume that a change of 1 unit (in any feature) is equally significant\n",
    "\n",
    "What if we measured the body mass of the penguin in a different unit?"
   ]
  },
  {
   "cell_type": "code",
   "execution_count": 67,
   "metadata": {},
   "outputs": [
    {
     "data": {
      "text/html": [
       "<div>\n",
       "<style scoped>\n",
       "    .dataframe tbody tr th:only-of-type {\n",
       "        vertical-align: middle;\n",
       "    }\n",
       "\n",
       "    .dataframe tbody tr th {\n",
       "        vertical-align: top;\n",
       "    }\n",
       "\n",
       "    .dataframe thead th {\n",
       "        text-align: right;\n",
       "    }\n",
       "</style>\n",
       "<table border=\"1\" class=\"dataframe\">\n",
       "  <thead>\n",
       "    <tr style=\"text-align: right;\">\n",
       "      <th></th>\n",
       "      <th>bill_length_mm</th>\n",
       "      <th>bill_depth_mm</th>\n",
       "      <th>flipper_length_mm</th>\n",
       "      <th>body_mass_kg</th>\n",
       "    </tr>\n",
       "  </thead>\n",
       "  <tbody>\n",
       "    <tr>\n",
       "      <th>0</th>\n",
       "      <td>39.1</td>\n",
       "      <td>18.7</td>\n",
       "      <td>181.0</td>\n",
       "      <td>3.75</td>\n",
       "    </tr>\n",
       "    <tr>\n",
       "      <th>1</th>\n",
       "      <td>40.2</td>\n",
       "      <td>17.9</td>\n",
       "      <td>194.0</td>\n",
       "      <td>3.70</td>\n",
       "    </tr>\n",
       "    <tr>\n",
       "      <th>2</th>\n",
       "      <td>40.3</td>\n",
       "      <td>18.0</td>\n",
       "      <td>195.0</td>\n",
       "      <td>3.25</td>\n",
       "    </tr>\n",
       "  </tbody>\n",
       "</table>\n",
       "</div>"
      ],
      "text/plain": [
       "   bill_length_mm  bill_depth_mm  flipper_length_mm  body_mass_kg\n",
       "0            39.1           18.7              181.0          3.75\n",
       "1            40.2           17.9              194.0          3.70\n",
       "2            40.3           18.0              195.0          3.25"
      ]
     },
     "execution_count": 67,
     "metadata": {},
     "output_type": "execute_result"
    }
   ],
   "source": [
    "# replace body_mass_g with body_mass_kg\n",
    "df_penguin_num['body_mass_kg'] = df_penguin_num['body_mass_g'] / 1000\n",
    "del df_penguin_num['body_mass_g']\n",
    "\n",
    "df_penguin_num.head(3)"
   ]
  },
  {
   "cell_type": "code",
   "execution_count": 68,
   "metadata": {},
   "outputs": [
    {
     "name": "stdout",
     "output_type": "stream",
     "text": [
      "distance between penguin0 and penguin1: 13.071\n",
      "distance between penguin1 and penguin2: 1.106\n"
     ]
    }
   ],
   "source": [
    "vec_penguin0 = np.array(df_penguin_num.iloc[0, :])\n",
    "vec_penguin1 = np.array(df_penguin_num.iloc[1, :])\n",
    "vec_penguin2 = np.array(df_penguin_num.iloc[2, :])\n",
    "\n",
    "# a quicker, equivilent way to compute distance\n",
    "l2_dist_quick_a = np.linalg.norm(vec_penguin0 - vec_penguin1)\n",
    "l2_dist_quick_b = np.linalg.norm(vec_penguin1 - vec_penguin2)\n",
    "\n",
    "print(f'distance between penguin0 and penguin1: {l2_dist_quick_a:.3f}') #the .3f limits the printing to 3 decimals\n",
    "print(f'distance between penguin1 and penguin2: {l2_dist_quick_b:.3f}')"
   ]
  },
  {
   "cell_type": "markdown",
   "metadata": {},
   "source": [
    "These numbers aren't just different, they claim an opposite conclusion: penguin1 and penguin2 are more similar!\n",
    "\n",
    "- **Distances assume that a change of 1 unit (in any feature) is equally significant**\n",
    "- **Distances implicitly weight how important each feature is relative to others according to its variance**\n",
    "    - a feature with a higher variance is responsible for more of the distances\n",
    "    \n",
    "To wrap all the different features into a single distance we must say *something* about how important one feature is compared to another.  "
   ]
  },
  {
   "cell_type": "code",
   "execution_count": 69,
   "metadata": {},
   "outputs": [
    {
     "data": {
      "text/plain": [
       "bill_length_mm        5.467070\n",
       "bill_depth_mm         1.969606\n",
       "flipper_length_mm    13.996877\n",
       "body_mass_kg          0.805387\n",
       "dtype: float64"
      ]
     },
     "execution_count": 69,
     "metadata": {},
     "output_type": "execute_result"
    }
   ],
   "source": [
    "df_penguin_num.std()"
   ]
  },
  {
   "cell_type": "markdown",
   "metadata": {},
   "source": [
    "### Scale Normalization:\n",
    "How to scale your features so that they're equally important in our distance metric:"
   ]
  },
  {
   "cell_type": "code",
   "execution_count": 70,
   "metadata": {},
   "outputs": [],
   "source": [
    "# by dividing each feature by the standard deviation, outputs will have same std dev\n",
    "df_penguin_num_scaled = pd.DataFrame()\n",
    "for feat in df_penguin_num.columns:\n",
    "    df_penguin_num_scaled[f'{feat}_scaled'] = df_penguin_num[feat] / df_penguin_num[feat].std()"
   ]
  },
  {
   "cell_type": "code",
   "execution_count": 71,
   "metadata": {},
   "outputs": [
    {
     "data": {
      "text/plain": [
       "bill_length_mm_scaled       1.0\n",
       "bill_depth_mm_scaled        1.0\n",
       "flipper_length_mm_scaled    1.0\n",
       "body_mass_kg_scaled         1.0\n",
       "dtype: float64"
      ]
     },
     "execution_count": 71,
     "metadata": {},
     "output_type": "execute_result"
    }
   ],
   "source": [
    "df_penguin_num_scaled.std()"
   ]
  },
  {
   "cell_type": "code",
   "execution_count": 72,
   "metadata": {},
   "outputs": [
    {
     "data": {
      "text/html": [
       "<div>\n",
       "<style scoped>\n",
       "    .dataframe tbody tr th:only-of-type {\n",
       "        vertical-align: middle;\n",
       "    }\n",
       "\n",
       "    .dataframe tbody tr th {\n",
       "        vertical-align: top;\n",
       "    }\n",
       "\n",
       "    .dataframe thead th {\n",
       "        text-align: right;\n",
       "    }\n",
       "</style>\n",
       "<table border=\"1\" class=\"dataframe\">\n",
       "  <thead>\n",
       "    <tr style=\"text-align: right;\">\n",
       "      <th></th>\n",
       "      <th>bill_length_mm_scaled</th>\n",
       "      <th>bill_depth_mm_scaled</th>\n",
       "      <th>flipper_length_mm_scaled</th>\n",
       "      <th>body_mass_kg_scaled</th>\n",
       "    </tr>\n",
       "  </thead>\n",
       "  <tbody>\n",
       "    <tr>\n",
       "      <th>0</th>\n",
       "      <td>7.151911</td>\n",
       "      <td>9.494285</td>\n",
       "      <td>12.931456</td>\n",
       "      <td>4.656148</td>\n",
       "    </tr>\n",
       "    <tr>\n",
       "      <th>1</th>\n",
       "      <td>7.353115</td>\n",
       "      <td>9.088113</td>\n",
       "      <td>13.860235</td>\n",
       "      <td>4.594066</td>\n",
       "    </tr>\n",
       "    <tr>\n",
       "      <th>2</th>\n",
       "      <td>7.371407</td>\n",
       "      <td>9.138884</td>\n",
       "      <td>13.931679</td>\n",
       "      <td>4.035329</td>\n",
       "    </tr>\n",
       "  </tbody>\n",
       "</table>\n",
       "</div>"
      ],
      "text/plain": [
       "   bill_length_mm_scaled  bill_depth_mm_scaled  flipper_length_mm_scaled  \\\n",
       "0               7.151911              9.494285                 12.931456   \n",
       "1               7.353115              9.088113                 13.860235   \n",
       "2               7.371407              9.138884                 13.931679   \n",
       "\n",
       "   body_mass_kg_scaled  \n",
       "0             4.656148  \n",
       "1             4.594066  \n",
       "2             4.035329  "
      ]
     },
     "execution_count": 72,
     "metadata": {},
     "output_type": "execute_result"
    }
   ],
   "source": [
    "df_penguin_num_scaled.head(3)"
   ]
  },
  {
   "cell_type": "markdown",
   "metadata": {},
   "source": [
    "Notice that in doing so, our units are no longer valid, so lets remove the units:"
   ]
  },
  {
   "cell_type": "code",
   "execution_count": 73,
   "metadata": {},
   "outputs": [
    {
     "data": {
      "text/html": [
       "<div>\n",
       "<style scoped>\n",
       "    .dataframe tbody tr th:only-of-type {\n",
       "        vertical-align: middle;\n",
       "    }\n",
       "\n",
       "    .dataframe tbody tr th {\n",
       "        vertical-align: top;\n",
       "    }\n",
       "\n",
       "    .dataframe thead th {\n",
       "        text-align: right;\n",
       "    }\n",
       "</style>\n",
       "<table border=\"1\" class=\"dataframe\">\n",
       "  <thead>\n",
       "    <tr style=\"text-align: right;\">\n",
       "      <th></th>\n",
       "      <th>bill_length_scaled</th>\n",
       "      <th>bill_depth_scaled</th>\n",
       "      <th>flippter_length_scaled</th>\n",
       "      <th>body_mass_scaled</th>\n",
       "    </tr>\n",
       "  </thead>\n",
       "  <tbody>\n",
       "    <tr>\n",
       "      <th>0</th>\n",
       "      <td>7.151911</td>\n",
       "      <td>9.494285</td>\n",
       "      <td>12.931456</td>\n",
       "      <td>4.656148</td>\n",
       "    </tr>\n",
       "    <tr>\n",
       "      <th>1</th>\n",
       "      <td>7.353115</td>\n",
       "      <td>9.088113</td>\n",
       "      <td>13.860235</td>\n",
       "      <td>4.594066</td>\n",
       "    </tr>\n",
       "    <tr>\n",
       "      <th>2</th>\n",
       "      <td>7.371407</td>\n",
       "      <td>9.138884</td>\n",
       "      <td>13.931679</td>\n",
       "      <td>4.035329</td>\n",
       "    </tr>\n",
       "  </tbody>\n",
       "</table>\n",
       "</div>"
      ],
      "text/plain": [
       "   bill_length_scaled  bill_depth_scaled  flippter_length_scaled  \\\n",
       "0            7.151911           9.494285               12.931456   \n",
       "1            7.353115           9.088113               13.860235   \n",
       "2            7.371407           9.138884               13.931679   \n",
       "\n",
       "   body_mass_scaled  \n",
       "0          4.656148  \n",
       "1          4.594066  \n",
       "2          4.035329  "
      ]
     },
     "execution_count": 73,
     "metadata": {},
     "output_type": "execute_result"
    }
   ],
   "source": [
    "df_penguin_num_scaled.columns = ['bill_length_scaled',\n",
    "                                'bill_depth_scaled',\n",
    "                                'flippter_length_scaled',\n",
    "                                'body_mass_scaled']\n",
    "df_penguin_num_scaled.head(3)"
   ]
  },
  {
   "cell_type": "markdown",
   "metadata": {},
   "source": [
    "Now, which penguins are actually most similar?"
   ]
  },
  {
   "cell_type": "code",
   "execution_count": 74,
   "metadata": {},
   "outputs": [
    {
     "name": "stdout",
     "output_type": "stream",
     "text": [
      "distance between penguin0 and penguin1: 1.035\n",
      "distance between penguin1 and penguin2: 0.566\n"
     ]
    }
   ],
   "source": [
    "vec_penguin0 = np.array(df_penguin_num_scaled.iloc[0, :])\n",
    "vec_penguin1 = np.array(df_penguin_num_scaled.iloc[1, :])\n",
    "vec_penguin2 = np.array(df_penguin_num_scaled.iloc[2, :])\n",
    "\n",
    "# a quicker, equivilent way to compute distance\n",
    "l2_dist_quick_a = np.linalg.norm(vec_penguin0 - vec_penguin1)\n",
    "l2_dist_quick_b = np.linalg.norm(vec_penguin1 - vec_penguin2)\n",
    "\n",
    "print(f'distance between penguin0 and penguin1: {l2_dist_quick_a:.3f}') #the .3f limits the printing to 3 decimals\n",
    "print(f'distance between penguin1 and penguin2: {l2_dist_quick_b:.3f}')"
   ]
  },
  {
   "cell_type": "markdown",
   "metadata": {},
   "source": [
    "### Note on Normalization:\n",
    "\n",
    "There are **many** ways to normalize data! The above is only one (very simple) way, but is actually not the most popular. In addition to scale normalizing, there is also:\n",
    "\n",
    "- **Standardization** (probably the most common): subtract all features by their **mean**, then divide by their **standard deviation**\n",
    "- **Min-Max Scaling**: subtract all features by their **minimum**, then divide by their **range**\n",
    "\n",
    "I may use any of the three (scale normalization, standardization, min-max scaling), but will most often use scale normalization because it's the easiest..."
   ]
  },
  {
   "cell_type": "markdown",
   "metadata": {},
   "source": [
    "# What do we do with categorical features?\n",
    "## One hot encoding and \"Dummy\" variables\n",
    "### (Representing categorical variables in the sample vector as numbers)\n",
    "\n",
    "**One hot encoding:** replace each categorical column with a set of columns per each unique category.  These new columns (called dummy variables) have value 1 where the original row belonged to the corresponding category.\n",
    "\n",
    "![g](https://preview.redd.it/ml-terminology-strikes-again-v0-6f7z17ptl6xa1.jpg?width=640&crop=smart&auto=webp&s=e778bd2f290263bbb72f490db819faab9f6c5ebe)"
   ]
  },
  {
   "cell_type": "code",
   "execution_count": 75,
   "metadata": {},
   "outputs": [
    {
     "data": {
      "text/html": [
       "<div>\n",
       "<style scoped>\n",
       "    .dataframe tbody tr th:only-of-type {\n",
       "        vertical-align: middle;\n",
       "    }\n",
       "\n",
       "    .dataframe tbody tr th {\n",
       "        vertical-align: top;\n",
       "    }\n",
       "\n",
       "    .dataframe thead th {\n",
       "        text-align: right;\n",
       "    }\n",
       "</style>\n",
       "<table border=\"1\" class=\"dataframe\">\n",
       "  <thead>\n",
       "    <tr style=\"text-align: right;\">\n",
       "      <th></th>\n",
       "      <th>species</th>\n",
       "      <th>island</th>\n",
       "      <th>bill_length_mm</th>\n",
       "      <th>bill_depth_mm</th>\n",
       "      <th>flipper_length_mm</th>\n",
       "      <th>body_mass_g</th>\n",
       "      <th>sex</th>\n",
       "    </tr>\n",
       "  </thead>\n",
       "  <tbody>\n",
       "    <tr>\n",
       "      <th>65</th>\n",
       "      <td>Adelie</td>\n",
       "      <td>Biscoe</td>\n",
       "      <td>41.6</td>\n",
       "      <td>18.0</td>\n",
       "      <td>192.0</td>\n",
       "      <td>3950.0</td>\n",
       "      <td>Male</td>\n",
       "    </tr>\n",
       "    <tr>\n",
       "      <th>276</th>\n",
       "      <td>Gentoo</td>\n",
       "      <td>Biscoe</td>\n",
       "      <td>43.8</td>\n",
       "      <td>13.9</td>\n",
       "      <td>208.0</td>\n",
       "      <td>4300.0</td>\n",
       "      <td>Female</td>\n",
       "    </tr>\n",
       "    <tr>\n",
       "      <th>186</th>\n",
       "      <td>Chinstrap</td>\n",
       "      <td>Dream</td>\n",
       "      <td>49.7</td>\n",
       "      <td>18.6</td>\n",
       "      <td>195.0</td>\n",
       "      <td>3600.0</td>\n",
       "      <td>Male</td>\n",
       "    </tr>\n",
       "    <tr>\n",
       "      <th>198</th>\n",
       "      <td>Chinstrap</td>\n",
       "      <td>Dream</td>\n",
       "      <td>50.1</td>\n",
       "      <td>17.9</td>\n",
       "      <td>190.0</td>\n",
       "      <td>3400.0</td>\n",
       "      <td>Female</td>\n",
       "    </tr>\n",
       "    <tr>\n",
       "      <th>293</th>\n",
       "      <td>Gentoo</td>\n",
       "      <td>Biscoe</td>\n",
       "      <td>46.5</td>\n",
       "      <td>14.8</td>\n",
       "      <td>217.0</td>\n",
       "      <td>5200.0</td>\n",
       "      <td>Female</td>\n",
       "    </tr>\n",
       "  </tbody>\n",
       "</table>\n",
       "</div>"
      ],
      "text/plain": [
       "       species  island  bill_length_mm  bill_depth_mm  flipper_length_mm  \\\n",
       "65      Adelie  Biscoe            41.6           18.0              192.0   \n",
       "276     Gentoo  Biscoe            43.8           13.9              208.0   \n",
       "186  Chinstrap   Dream            49.7           18.6              195.0   \n",
       "198  Chinstrap   Dream            50.1           17.9              190.0   \n",
       "293     Gentoo  Biscoe            46.5           14.8              217.0   \n",
       "\n",
       "     body_mass_g     sex  \n",
       "65        3950.0    Male  \n",
       "276       4300.0  Female  \n",
       "186       3600.0    Male  \n",
       "198       3400.0  Female  \n",
       "293       5200.0  Female  "
      ]
     },
     "execution_count": 75,
     "metadata": {},
     "output_type": "execute_result"
    }
   ],
   "source": [
    "df_penguin = sns.load_dataset('penguins')\n",
    "\n",
    "# discard penguins with missing features\n",
    "df_penguin.dropna(axis=0, inplace=True)\n",
    "\n",
    "# shuffle order of rows\n",
    "df_penguin = df_penguin.sample(frac=1, random_state=1)\n",
    "\n",
    "# grab only the first few rows\n",
    "df_penguin = df_penguin.head()\n",
    "\n",
    "df_penguin"
   ]
  },
  {
   "cell_type": "code",
   "execution_count": 76,
   "metadata": {},
   "outputs": [
    {
     "data": {
      "text/html": [
       "<div>\n",
       "<style scoped>\n",
       "    .dataframe tbody tr th:only-of-type {\n",
       "        vertical-align: middle;\n",
       "    }\n",
       "\n",
       "    .dataframe tbody tr th {\n",
       "        vertical-align: top;\n",
       "    }\n",
       "\n",
       "    .dataframe thead th {\n",
       "        text-align: right;\n",
       "    }\n",
       "</style>\n",
       "<table border=\"1\" class=\"dataframe\">\n",
       "  <thead>\n",
       "    <tr style=\"text-align: right;\">\n",
       "      <th></th>\n",
       "      <th>island</th>\n",
       "      <th>bill_length_mm</th>\n",
       "      <th>bill_depth_mm</th>\n",
       "      <th>flipper_length_mm</th>\n",
       "      <th>body_mass_g</th>\n",
       "      <th>sex</th>\n",
       "      <th>species_Adelie</th>\n",
       "      <th>species_Chinstrap</th>\n",
       "      <th>species_Gentoo</th>\n",
       "    </tr>\n",
       "  </thead>\n",
       "  <tbody>\n",
       "    <tr>\n",
       "      <th>65</th>\n",
       "      <td>Biscoe</td>\n",
       "      <td>41.6</td>\n",
       "      <td>18.0</td>\n",
       "      <td>192.0</td>\n",
       "      <td>3950.0</td>\n",
       "      <td>Male</td>\n",
       "      <td>True</td>\n",
       "      <td>False</td>\n",
       "      <td>False</td>\n",
       "    </tr>\n",
       "    <tr>\n",
       "      <th>276</th>\n",
       "      <td>Biscoe</td>\n",
       "      <td>43.8</td>\n",
       "      <td>13.9</td>\n",
       "      <td>208.0</td>\n",
       "      <td>4300.0</td>\n",
       "      <td>Female</td>\n",
       "      <td>False</td>\n",
       "      <td>False</td>\n",
       "      <td>True</td>\n",
       "    </tr>\n",
       "    <tr>\n",
       "      <th>186</th>\n",
       "      <td>Dream</td>\n",
       "      <td>49.7</td>\n",
       "      <td>18.6</td>\n",
       "      <td>195.0</td>\n",
       "      <td>3600.0</td>\n",
       "      <td>Male</td>\n",
       "      <td>False</td>\n",
       "      <td>True</td>\n",
       "      <td>False</td>\n",
       "    </tr>\n",
       "    <tr>\n",
       "      <th>198</th>\n",
       "      <td>Dream</td>\n",
       "      <td>50.1</td>\n",
       "      <td>17.9</td>\n",
       "      <td>190.0</td>\n",
       "      <td>3400.0</td>\n",
       "      <td>Female</td>\n",
       "      <td>False</td>\n",
       "      <td>True</td>\n",
       "      <td>False</td>\n",
       "    </tr>\n",
       "    <tr>\n",
       "      <th>293</th>\n",
       "      <td>Biscoe</td>\n",
       "      <td>46.5</td>\n",
       "      <td>14.8</td>\n",
       "      <td>217.0</td>\n",
       "      <td>5200.0</td>\n",
       "      <td>Female</td>\n",
       "      <td>False</td>\n",
       "      <td>False</td>\n",
       "      <td>True</td>\n",
       "    </tr>\n",
       "  </tbody>\n",
       "</table>\n",
       "</div>"
      ],
      "text/plain": [
       "     island  bill_length_mm  bill_depth_mm  flipper_length_mm  body_mass_g  \\\n",
       "65   Biscoe            41.6           18.0              192.0       3950.0   \n",
       "276  Biscoe            43.8           13.9              208.0       4300.0   \n",
       "186   Dream            49.7           18.6              195.0       3600.0   \n",
       "198   Dream            50.1           17.9              190.0       3400.0   \n",
       "293  Biscoe            46.5           14.8              217.0       5200.0   \n",
       "\n",
       "        sex  species_Adelie  species_Chinstrap  species_Gentoo  \n",
       "65     Male            True              False           False  \n",
       "276  Female           False              False            True  \n",
       "186    Male           False               True           False  \n",
       "198  Female           False               True           False  \n",
       "293  Female           False              False            True  "
      ]
     },
     "execution_count": 76,
     "metadata": {},
     "output_type": "execute_result"
    }
   ],
   "source": [
    "pd.get_dummies(df_penguin, columns=['species'])"
   ]
  },
  {
   "cell_type": "code",
   "execution_count": 77,
   "metadata": {},
   "outputs": [
    {
     "data": {
      "text/html": [
       "<div>\n",
       "<style scoped>\n",
       "    .dataframe tbody tr th:only-of-type {\n",
       "        vertical-align: middle;\n",
       "    }\n",
       "\n",
       "    .dataframe tbody tr th {\n",
       "        vertical-align: top;\n",
       "    }\n",
       "\n",
       "    .dataframe thead th {\n",
       "        text-align: right;\n",
       "    }\n",
       "</style>\n",
       "<table border=\"1\" class=\"dataframe\">\n",
       "  <thead>\n",
       "    <tr style=\"text-align: right;\">\n",
       "      <th></th>\n",
       "      <th>bill_length_mm</th>\n",
       "      <th>bill_depth_mm</th>\n",
       "      <th>flipper_length_mm</th>\n",
       "      <th>body_mass_g</th>\n",
       "      <th>species_Adelie</th>\n",
       "      <th>species_Chinstrap</th>\n",
       "      <th>species_Gentoo</th>\n",
       "      <th>island_Biscoe</th>\n",
       "      <th>island_Dream</th>\n",
       "      <th>sex_Female</th>\n",
       "      <th>sex_Male</th>\n",
       "    </tr>\n",
       "  </thead>\n",
       "  <tbody>\n",
       "    <tr>\n",
       "      <th>65</th>\n",
       "      <td>41.6</td>\n",
       "      <td>18.0</td>\n",
       "      <td>192.0</td>\n",
       "      <td>3950.0</td>\n",
       "      <td>1.0</td>\n",
       "      <td>0.0</td>\n",
       "      <td>0.0</td>\n",
       "      <td>1.0</td>\n",
       "      <td>0.0</td>\n",
       "      <td>0.0</td>\n",
       "      <td>1.0</td>\n",
       "    </tr>\n",
       "    <tr>\n",
       "      <th>276</th>\n",
       "      <td>43.8</td>\n",
       "      <td>13.9</td>\n",
       "      <td>208.0</td>\n",
       "      <td>4300.0</td>\n",
       "      <td>0.0</td>\n",
       "      <td>0.0</td>\n",
       "      <td>1.0</td>\n",
       "      <td>1.0</td>\n",
       "      <td>0.0</td>\n",
       "      <td>1.0</td>\n",
       "      <td>0.0</td>\n",
       "    </tr>\n",
       "    <tr>\n",
       "      <th>186</th>\n",
       "      <td>49.7</td>\n",
       "      <td>18.6</td>\n",
       "      <td>195.0</td>\n",
       "      <td>3600.0</td>\n",
       "      <td>0.0</td>\n",
       "      <td>1.0</td>\n",
       "      <td>0.0</td>\n",
       "      <td>0.0</td>\n",
       "      <td>1.0</td>\n",
       "      <td>0.0</td>\n",
       "      <td>1.0</td>\n",
       "    </tr>\n",
       "    <tr>\n",
       "      <th>198</th>\n",
       "      <td>50.1</td>\n",
       "      <td>17.9</td>\n",
       "      <td>190.0</td>\n",
       "      <td>3400.0</td>\n",
       "      <td>0.0</td>\n",
       "      <td>1.0</td>\n",
       "      <td>0.0</td>\n",
       "      <td>0.0</td>\n",
       "      <td>1.0</td>\n",
       "      <td>1.0</td>\n",
       "      <td>0.0</td>\n",
       "    </tr>\n",
       "    <tr>\n",
       "      <th>293</th>\n",
       "      <td>46.5</td>\n",
       "      <td>14.8</td>\n",
       "      <td>217.0</td>\n",
       "      <td>5200.0</td>\n",
       "      <td>0.0</td>\n",
       "      <td>0.0</td>\n",
       "      <td>1.0</td>\n",
       "      <td>1.0</td>\n",
       "      <td>0.0</td>\n",
       "      <td>1.0</td>\n",
       "      <td>0.0</td>\n",
       "    </tr>\n",
       "  </tbody>\n",
       "</table>\n",
       "</div>"
      ],
      "text/plain": [
       "     bill_length_mm  bill_depth_mm  flipper_length_mm  body_mass_g  \\\n",
       "65             41.6           18.0              192.0       3950.0   \n",
       "276            43.8           13.9              208.0       4300.0   \n",
       "186            49.7           18.6              195.0       3600.0   \n",
       "198            50.1           17.9              190.0       3400.0   \n",
       "293            46.5           14.8              217.0       5200.0   \n",
       "\n",
       "     species_Adelie  species_Chinstrap  species_Gentoo  island_Biscoe  \\\n",
       "65              1.0                0.0             0.0            1.0   \n",
       "276             0.0                0.0             1.0            1.0   \n",
       "186             0.0                1.0             0.0            0.0   \n",
       "198             0.0                1.0             0.0            0.0   \n",
       "293             0.0                0.0             1.0            1.0   \n",
       "\n",
       "     island_Dream  sex_Female  sex_Male  \n",
       "65            0.0         0.0       1.0  \n",
       "276           0.0         1.0       0.0  \n",
       "186           1.0         0.0       1.0  \n",
       "198           1.0         1.0       0.0  \n",
       "293           0.0         1.0       0.0  "
      ]
     },
     "execution_count": 77,
     "metadata": {},
     "output_type": "execute_result"
    }
   ],
   "source": [
    "pd.get_dummies(df_penguin, columns=['species', 'island', 'sex'], dtype='float')"
   ]
  },
  {
   "cell_type": "markdown",
   "metadata": {},
   "source": [
    "# Intro to Machine Learning \n",
    "\n",
    "Before we move on (as we've already started a little bit into the key mathematical concepts), let's set up **WHY** we're about to do all this math and how we need to be careful moving forward with real data:\n",
    "\n",
    "## What is *Machine Learning* anyway?\n",
    "\n",
    "- Start with data: observed measures from the real world\n",
    "- Develop a strategy of analysis that leads to choosing an appropriate algorithm\n",
    "- \"Learn\" $\\rightarrow$ improve the algorithm, identify patterns in the data\n",
    "- Make predictions on new observations based on the results of the model, or clarify understanding of patterns\n",
    "\n",
    "### Example ML Algorithms\n",
    "\n",
    "#### Supervised Learning (Prediction)\n",
    "- Linear Perceptron*\n",
    "- Support Vector Machines\n",
    "- Logistic Regression*\n",
    "- Linear*, Multiple*, Polynomial* Regression\n",
    "- Decision Trees, Random Forests**\n",
    "- Time Series Models**\n",
    "- Bayesian Models\n",
    "- Nearest Neighbor Classifiers**\n",
    "- Neural Networks\n",
    "\n",
    "#### Unsupervised Learning (Inference)\n",
    "- Principal Component Analysis*\n",
    "- Factor Analysis\n",
    "- Recommender Systems*\n",
    "- K-means, Clustering**\n",
    "- Gaussian Mixture Models\n",
    "- Kernel Estimation\n",
    "\n",
    "#### Key\n",
    "- \"*\" means we will be (or would usually plan to) cover it in this course\n",
    "- \"**\" means we'll have talked about the basic mathematical concepts that make these methods up, and are simple enough that I believe you could learn it on your own outside of class (and potentially apply it in a project setting)\n",
    "- The rest are not too terribly difficult, though perhaps would require a bit more effort on your part to figure out."
   ]
  },
  {
   "cell_type": "markdown",
   "metadata": {},
   "source": [
    "## Ethics in Machine Learning\n",
    "\n",
    "Before getting into our first ML algorithm, let's discuss some important ideas that we need to keep in mind as we proceed. Though some of these ideas may seem obvious, they are not trivial and deserve our time.\n",
    "\n",
    "![f](https://s3.amazonaws.com/lowres.cartoonstock.com/technology-ai-ethic-corporate_ethics-moral-morality-llan1868_low.jpg)\n",
    "\n",
    "What are some situations where ML is used in real life, where the use of the algorithm may pose ethical issues?\n",
    "\n",
    "- Self-driving cars\n",
    "- Facial recognition\n",
    "- Speech recognition\n",
    "- Financial analysis\n",
    "- Government policy\n",
    "\n",
    "What is a stereotype?\n",
    "\n",
    "- A generalization of a group based on **one or few example(s)/identity/cultural assumptions**\n",
    "- Stereotypes can be: negative, neutral, or positive but all raise concerns and can be harmful\n",
    "  - Denial of services because of stereotype (either negative or positive)\n",
    "  - Alienate people\n",
    "  - Lead to discrimination in hiring\n",
    "  - Make assessing health care more difficult\n"
   ]
  },
  {
   "cell_type": "markdown",
   "metadata": {},
   "source": [
    "In data science, there are multiple types of bias, both technical (response, non-response, sampling) and non-technical. Non-technical biases include:\n",
    "\n",
    "- A **representational bias** is when a system detracts from the representation of certain groups and their identities\n",
    "  - Ex: Google translate (though excellent) may not quite work for some languages where the pronouns are not flexible. Try translating \"She is a doctor\" to Akan, then back to English using Google translate. What happens?\n",
    "- An **allocative/allocation bias** is when a system unfairly allocates resources to certain group(s) over others.\n",
    "\n",
    "Neither of these are necessarily easy to identify, but can have severe impacts on people's lives, and must be considered when building ML models with real data.\n",
    "\n",
    "We like to think because ML is built upon mathematics that it is unbiased, but humans make choices about how to collect/classify data that is fed to these models, and it is **very difficult** to make sure data are unbiased. Data are not produced in a vacuum."
   ]
  },
  {
   "cell_type": "markdown",
   "metadata": {},
   "source": [
    "## Extra Credit (Done in next class)\n",
    "### Machine Learning Ethics Debate \n",
    "\n",
    "**Rules**\n",
    "- Group up into groups with 4 people on each\n",
    "- Each group will pick one of the prompts below and split the group up into two teams.\n",
    "- 2 per team, spend 5-10 minutes:\n",
    "  - Team A: list at least 2 (preferably more) specific major ethics issues (incl. potential biases) you think are **capable** of being addressed about the prompt.\n",
    "  - Team B: list at least 2 (preferably more) specific major ethics issues (incl. potential biases) you think are **impossible (or at least unlikely)** to be addressed given the prompt.\n",
    "- Spend 5 minutes discussing in groups, seeing if there are any disagreements, coming to a consensus, etc.\n",
    "- Spend 5 minutes as a class discussing.\n",
    "\n",
    "### Prompts\n",
    "\n",
    "1. You are working for Northeastern University and the admissions office has decided to implement a machine learning algorithm that will review student applications and make admission decisions. They argue that this system will be much more unbiased than when human admissions officers reviewed applications. They give you all the historical admission data they have (of all the students who have applied and been admitted/not admitted) and ask you to build the model using that data. ([Some universities are already doing something like this](https://rossier.usc.edu/news-insights/news/balancing-potentials-and-pitfalls-ai-college-admissions))\n",
    "2. You work for the US Dept of Justice and are tasked with building a model to predict the likelihood of recidivism in determining sentences.  You have access to a database containing all historical information concerning judgements, sentence lengths, and subsequent recidivism of the convicted.  This tool and model will be used by judges in determining post-conviction sentence duration and parole boards in determining whether or not to grant parole. ([You might imagine how they could be wrong](https://www.propublica.org/article/machine-bias-risk-assessments-in-criminal-sentencing))\n",
    "3. Your first job is as an intern at Google (exciting!) and in your role as a data scientist you are tasked with helping to create a hate speech filter for social media companies interested in keeping their platforms inclusive and welcoming to all. They have a prototype for the model and would like you to improve it. ([You may have to think critically about what data to train it on](https://www.forbes.com/sites/nicolemartin1/2019/08/13/googles-artificial-intelligence-hate-speech-detector-is-racially-biased/))\n",
    "4. You're an engineer for an Acme Tech, the largest search engine provider in the UK.  Your team has been tasked with building a custom news and non-fiction books and journals search engine for a foreign gov entity to improve the research capabilities of its citizen researchers.  However, that gov is known for being prone to censorship and controlling the flow of information.  It has requested implementation control over certain features including user-specific access (i.e. searches, downloads, etc.) related to the aforementioned.\n",
    "5. You work for Boston Medical Diagnostics Consulting Group.  Your team has developed a LLM-enabled automated diagnostic tool to be used in early stages of cancer screening. The custom LLM was trained with all medical records of Boston Metro area hospitals after a recent decision by the MA Supreme Court allowing access to anonymized health records for tech development. Your team gets a call from the Minister of Health of Poland, and they want to license your tool for use in their cancer screening practices as well.\n",
    "6. You work for the Leuven Politie (Police Department) and have been using X and Instagram, and you have operatives that have infiltrated pivotal Telegram and WhatsApp groups related on-campus protests sponsored by certain student groups. You are planning to use the data you collect and store to build a model to predict location and threat level of potential protests for the purposes of appropriate police resource allocation and deployment."
   ]
  },
  {
   "cell_type": "markdown",
   "metadata": {},
   "source": [
    "#### Example/Hints (Things To Consider)\n",
    "\n",
    "As you're coming up with your list of ethical issues, it can be helpful to remember that issues can arise during any part of the Data Science pipeline (from problem inception to dissemination and implementation of results).\n",
    "\n",
    "To illustrate how you can identify some of the potential ethical issues in the pipeline, here is a hypothetical example of a machine learning-based algorithm for hiring people at a mid-size biotechnology company, and four potential areas across the pipeline where issues might arise:\n",
    "\n",
    "1. First area: _clearly specifying the problem for which the ML algorithm is meant to be a solution_. In this case: what is the purpose or goal of incorporating ML algorithms in the hiring process? If your answer is something like, \"Identifying the best-qualified applicants\", then can you agree as a group on whether identifying \"best qualified\" is something that an algorithm can do? Given the data that you're able to gather about applicants, how might the algorithm (help to) identify the \"best qualified\"?\n",
    "2. Second area: _understanding the data that you're able to gather_. In this case: where and how did you get information about past and current applicants? Are there obvious ways in which the dataset about  applicants is incomplete or distorted? Given the contents of the dataset, is it possible to compare the subsequent \"performance\" of applicants who were hired _and_ those who weren't?\n",
    "3. Third area: _understanding that it's not just about the data_. In this case:  A model represents an objective function. What are the \"goals\" of the objective function?  To minimize the chance of false positives (i.e., accepting an applicant who isn't among \"the best qualified\")? To minimize the chance of false negatives (i.e., rejecting an applicant who is among the \"best qualified\")?  To provide equal odds of false positives and false negatives?\n",
    "4. Fourth area: _understanding the context of use_. In this case: what is the larger system in which the hiring algorithm will be used? The people in the company must still decide whether and how to use that prediction. Must they use it to to decide whom to screen out, or could they use it in some other way? How closely does the context from which the training data came, resemble the context in which your hiring algorithm will be used? How might your company's use of a hiring algorithm influence what other companies do?"
   ]
  }
 ],
 "metadata": {
  "celltoolbar": "Slideshow",
  "kernelspec": {
   "display_name": "Python 3 (ipykernel)",
   "language": "python",
   "name": "python3"
  },
  "language_info": {
   "codemirror_mode": {
    "name": "ipython",
    "version": 3
   },
   "file_extension": ".py",
   "mimetype": "text/x-python",
   "name": "python",
   "nbconvert_exporter": "python",
   "pygments_lexer": "ipython3",
   "version": "3.13.0"
  }
 },
 "nbformat": 4,
 "nbformat_minor": 4
}
