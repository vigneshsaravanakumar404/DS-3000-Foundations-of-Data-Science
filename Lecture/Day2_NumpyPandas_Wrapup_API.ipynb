{
  "cells": [
    {
      "cell_type": "markdown",
      "metadata": {
        "id": "yFUDE0swqpvC"
      },
      "source": [
        "# DS3000 Day 2\n",
        "\n",
        "Jan 13, 2025\n",
        "\n",
        "Admin\n",
        "- New modules for today and next week:\n",
        "    - `pip install requests plotly matplotlib`\n",
        "- Homework 1 due this Thur, Jan 16 by end of the day\n",
        "    - Submit by Tuesday night to get 5\\% extra credit.\n",
        "\n",
        "Push-Up Tracker\n",
        "- Section 04: 2\n",
        "\n",
        "Content\n",
        "- numpy\n",
        "- pandas\n",
        "    - series\n",
        "    - dataframe\n",
        "- introduce APIs\n"
      ]
    },
    {
      "cell_type": "markdown",
      "metadata": {
        "id": "pKQUNU3zqpvL"
      },
      "source": [
        "## Super useful slice syntax on arrays:\n",
        "(so useful it deserves its own title)"
      ]
    },
    {
      "cell_type": "code",
      "execution_count": null,
      "metadata": {
        "id": "H2d6iymCqpvL",
        "outputId": "cfc7f8ae-005e-4f01-a16d-95ec28f14b56"
      },
      "outputs": [
        {
          "data": {
            "text/plain": [
              "array([1, 2, 3])"
            ]
          },
          "execution_count": 46,
          "metadata": {},
          "output_type": "execute_result"
        }
      ],
      "source": [
        "# by default, the slice indexing chooses start:stop to give the entire object\n",
        "x = np.array([1, 2, 3])\n",
        "x[:]"
      ]
    },
    {
      "cell_type": "code",
      "execution_count": null,
      "metadata": {
        "id": "_PhIcaYoqpvL",
        "outputId": "5bef9939-7641-4cd1-d80e-c2ae71b2e7da"
      },
      "outputs": [
        {
          "name": "stdout",
          "output_type": "stream",
          "text": [
            "[[ 0  1  2  3  4]\n",
            " [ 5  6  7  8  9]\n",
            " [10 11 12 13 14]\n",
            " [15 16 17 18 19]]\n",
            "[[15 16 17 18 19]]\n"
          ]
        }
      ],
      "source": [
        "# we can use this to get an entire rows or columns as needed\n",
        "import numpy as np\n",
        "x = np.arange(20).reshape((4, 5))\n",
        "print(x)\n",
        "print(x[3:])"
      ]
    },
    {
      "cell_type": "code",
      "execution_count": null,
      "metadata": {
        "id": "ViXZApKwqpvM",
        "outputId": "30a3b9cc-fa12-4cac-d67c-d21e6808d668"
      },
      "outputs": [
        {
          "data": {
            "text/plain": [
              "array([ 0,  5, 10, 15])"
            ]
          },
          "execution_count": 3,
          "metadata": {},
          "output_type": "execute_result"
        }
      ],
      "source": [
        "# get the first column\n",
        "x[:, 0]"
      ]
    },
    {
      "cell_type": "code",
      "execution_count": null,
      "metadata": {
        "id": "ExrB8X34qpvM",
        "outputId": "b1b37735-1acf-4d65-ea9d-3804edd3da43"
      },
      "outputs": [
        {
          "data": {
            "text/plain": [
              "array([[ 2,  3],\n",
              "       [ 7,  8],\n",
              "       [12, 13],\n",
              "       [17, 18]])"
            ]
          },
          "execution_count": 5,
          "metadata": {},
          "output_type": "execute_result"
        }
      ],
      "source": [
        "x[:, -3:-1]"
      ]
    },
    {
      "cell_type": "markdown",
      "metadata": {
        "id": "q8iQN3Z0_1rV"
      },
      "source": [
        "\n",
        "<img src=\"https://media.tenor.com/9VuG1d2QOOQAAAAM/oh-my-god-its-happening.gif\" width=300 />\n",
        "\n"
      ]
    },
    {
      "cell_type": "markdown",
      "metadata": {
        "id": "SxPjKbJcqpvM"
      },
      "source": [
        "### Computing stats on an array\n",
        "- `.sum()`\n",
        "- `.min()`\n",
        "- `.max()`\n",
        "- `.mean()`\n",
        "- `.std()`\n",
        "    - standard deviation\n",
        "- `.var()`\n",
        "    - variance\n",
        "- `.argmin()`\n",
        "    - index of item which is smallest\n",
        "- `.argmax()`\n",
        "    - index of item which is largest"
      ]
    },
    {
      "cell_type": "code",
      "execution_count": null,
      "metadata": {
        "id": "SGKCFLzuqpvM",
        "outputId": "db9545ee-d724-4693-c2f5-fca5cc4ad6ac"
      },
      "outputs": [
        {
          "data": {
            "text/plain": [
              "array([4, 3, 5, 4])"
            ]
          },
          "execution_count": 51,
          "metadata": {},
          "output_type": "execute_result"
        }
      ],
      "source": [
        "x = np.array([4, 3, 5, 4])\n",
        "x"
      ]
    },
    {
      "cell_type": "code",
      "execution_count": null,
      "metadata": {
        "id": "PRIIsbckqpvM",
        "outputId": "c6cb73a2-6fba-402d-c749-a374634b00f9"
      },
      "outputs": [
        {
          "data": {
            "text/plain": [
              "1"
            ]
          },
          "execution_count": 52,
          "metadata": {},
          "output_type": "execute_result"
        }
      ],
      "source": [
        "# get index of smallest item\n",
        "# (smallest item, 3, is at index 1)\n",
        "x.argmin()"
      ]
    },
    {
      "cell_type": "code",
      "execution_count": null,
      "metadata": {
        "id": "PoCkbgAoqpvM",
        "outputId": "99edb030-605a-44d5-f3bf-4c48b2df2cbc"
      },
      "outputs": [
        {
          "data": {
            "text/plain": [
              "array([[100, 101, 102, 103],\n",
              "       [104, 105, 106, 107],\n",
              "       [108, 109, 110, 111]])"
            ]
          },
          "execution_count": 53,
          "metadata": {},
          "output_type": "execute_result"
        }
      ],
      "source": [
        "y = np.arange(100, 112).reshape((3, 4))\n",
        "y"
      ]
    },
    {
      "cell_type": "code",
      "execution_count": null,
      "metadata": {
        "id": "n5O8E6wkqpvM",
        "outputId": "7bc102b2-5033-401d-8cad-369b987f7a26"
      },
      "outputs": [
        {
          "data": {
            "text/plain": [
              "(1266, 100, 111, 105.5, 3.452052529534663, 11.916666666666666)"
            ]
          },
          "execution_count": 54,
          "metadata": {},
          "output_type": "execute_result"
        }
      ],
      "source": [
        "y.sum(), y.min(), y.max(), y.mean(), y.std(), y.var()"
      ]
    },
    {
      "cell_type": "code",
      "execution_count": null,
      "metadata": {
        "id": "Wuqy3gqmqpvM",
        "outputId": "501509b7-7f81-4394-9957-3713f95d7841"
      },
      "outputs": [
        {
          "data": {
            "text/plain": [
              "array([104., 105., 106., 107.])"
            ]
          },
          "execution_count": 55,
          "metadata": {},
          "output_type": "execute_result"
        }
      ],
      "source": [
        "# axis: which of the shape parameters should I operate on?\n",
        "# shape = (shape0, shape1)\n",
        "\n",
        "# axis=0 averages across different rows to give the column average\n",
        "y.mean(axis=0)"
      ]
    },
    {
      "cell_type": "code",
      "execution_count": null,
      "metadata": {
        "id": "5pcKeh94qpvM",
        "outputId": "e848b52e-30f3-4229-cf98-ba59231d2a96"
      },
      "outputs": [
        {
          "data": {
            "text/plain": [
              "array([101.5, 105.5, 109.5])"
            ]
          },
          "execution_count": 56,
          "metadata": {},
          "output_type": "execute_result"
        }
      ],
      "source": [
        "# axis=1 averages across different columns to give the row average\n",
        "y.mean(axis=1)"
      ]
    },
    {
      "cell_type": "markdown",
      "metadata": {
        "id": "eU2d8pPJApVB"
      },
      "source": [
        "**So in a nutshell, when we say axis=0, we mean get stuff from the coloumns and axis =1, to get stuff from rows!**"
      ]
    },
    {
      "cell_type": "code",
      "execution_count": null,
      "metadata": {
        "id": "lh9frJ6ZqpvM",
        "outputId": "ffae4ab2-0b68-4fdc-edb4-3f93d8ca3d90"
      },
      "outputs": [
        {
          "data": {
            "text/plain": [
              "array([100, 104, 108])"
            ]
          },
          "execution_count": 57,
          "metadata": {},
          "output_type": "execute_result"
        }
      ],
      "source": [
        "# axis is an accepted keyword of all methods listed above\n",
        "y.min(axis=1)"
      ]
    },
    {
      "cell_type": "code",
      "execution_count": null,
      "metadata": {
        "id": "S2QveuxaqpvM",
        "outputId": "ea1272a7-8ea1-41e6-cfc9-b5da8a4bc8c6"
      },
      "outputs": [
        {
          "data": {
            "text/plain": [
              "array([100, 101, 102, 103])"
            ]
          },
          "execution_count": 58,
          "metadata": {},
          "output_type": "execute_result"
        }
      ],
      "source": [
        "y.min(axis=0)"
      ]
    },
    {
      "cell_type": "markdown",
      "metadata": {
        "id": "lG4YpucLqpvM"
      },
      "source": [
        "## Why are we doing this again?\n",
        "\n",
        "<img src=\"https://imgur.com/orZWHly.png\" width=300 />"
      ]
    },
    {
      "cell_type": "code",
      "execution_count": null,
      "metadata": {
        "colab": {
          "base_uri": "https://localhost:8080/",
          "height": 206
        },
        "id": "pfxCuUf7qpvN",
        "outputId": "4c2f48ea-cf13-4a64-e6b8-72c4945b8f3f"
      },
      "outputs": [
        {
          "data": {
            "application/vnd.google.colaboratory.intrinsic+json": {
              "summary": "{\n  \"name\": \"df_penguin\",\n  \"rows\": 344,\n  \"fields\": [\n    {\n      \"column\": \"species\",\n      \"properties\": {\n        \"dtype\": \"category\",\n        \"num_unique_values\": 3,\n        \"samples\": [\n          \"Adelie\",\n          \"Chinstrap\",\n          \"Gentoo\"\n        ],\n        \"semantic_type\": \"\",\n        \"description\": \"\"\n      }\n    },\n    {\n      \"column\": \"island\",\n      \"properties\": {\n        \"dtype\": \"category\",\n        \"num_unique_values\": 3,\n        \"samples\": [\n          \"Torgersen\",\n          \"Biscoe\",\n          \"Dream\"\n        ],\n        \"semantic_type\": \"\",\n        \"description\": \"\"\n      }\n    },\n    {\n      \"column\": \"bill_length_mm\",\n      \"properties\": {\n        \"dtype\": \"number\",\n        \"std\": 5.4595837139265315,\n        \"min\": 32.1,\n        \"max\": 59.6,\n        \"num_unique_values\": 164,\n        \"samples\": [\n          48.2,\n          49.8,\n          45.1\n        ],\n        \"semantic_type\": \"\",\n        \"description\": \"\"\n      }\n    },\n    {\n      \"column\": \"bill_depth_mm\",\n      \"properties\": {\n        \"dtype\": \"number\",\n        \"std\": 1.9747931568167816,\n        \"min\": 13.1,\n        \"max\": 21.5,\n        \"num_unique_values\": 80,\n        \"samples\": [\n          16.9,\n          18.7,\n          18.6\n        ],\n        \"semantic_type\": \"\",\n        \"description\": \"\"\n      }\n    },\n    {\n      \"column\": \"flipper_length_mm\",\n      \"properties\": {\n        \"dtype\": \"number\",\n        \"std\": 14.061713679356888,\n        \"min\": 172.0,\n        \"max\": 231.0,\n        \"num_unique_values\": 55,\n        \"samples\": [\n          201.0,\n          180.0,\n          212.0\n        ],\n        \"semantic_type\": \"\",\n        \"description\": \"\"\n      }\n    },\n    {\n      \"column\": \"body_mass_g\",\n      \"properties\": {\n        \"dtype\": \"number\",\n        \"std\": 801.9545356980956,\n        \"min\": 2700.0,\n        \"max\": 6300.0,\n        \"num_unique_values\": 94,\n        \"samples\": [\n          4350.0,\n          4150.0,\n          3525.0\n        ],\n        \"semantic_type\": \"\",\n        \"description\": \"\"\n      }\n    },\n    {\n      \"column\": \"sex\",\n      \"properties\": {\n        \"dtype\": \"category\",\n        \"num_unique_values\": 2,\n        \"samples\": [\n          \"Female\",\n          \"Male\"\n        ],\n        \"semantic_type\": \"\",\n        \"description\": \"\"\n      }\n    }\n  ]\n}",
              "type": "dataframe",
              "variable_name": "df_penguin"
            },
            "text/html": [
              "\n",
              "  <div id=\"df-0ea4c0ce-df29-4f53-b913-2b3d4ed79b10\" class=\"colab-df-container\">\n",
              "    <div>\n",
              "<style scoped>\n",
              "    .dataframe tbody tr th:only-of-type {\n",
              "        vertical-align: middle;\n",
              "    }\n",
              "\n",
              "    .dataframe tbody tr th {\n",
              "        vertical-align: top;\n",
              "    }\n",
              "\n",
              "    .dataframe thead th {\n",
              "        text-align: right;\n",
              "    }\n",
              "</style>\n",
              "<table border=\"1\" class=\"dataframe\">\n",
              "  <thead>\n",
              "    <tr style=\"text-align: right;\">\n",
              "      <th></th>\n",
              "      <th>species</th>\n",
              "      <th>island</th>\n",
              "      <th>bill_length_mm</th>\n",
              "      <th>bill_depth_mm</th>\n",
              "      <th>flipper_length_mm</th>\n",
              "      <th>body_mass_g</th>\n",
              "      <th>sex</th>\n",
              "    </tr>\n",
              "  </thead>\n",
              "  <tbody>\n",
              "    <tr>\n",
              "      <th>0</th>\n",
              "      <td>Adelie</td>\n",
              "      <td>Torgersen</td>\n",
              "      <td>39.1</td>\n",
              "      <td>18.7</td>\n",
              "      <td>181.0</td>\n",
              "      <td>3750.0</td>\n",
              "      <td>Male</td>\n",
              "    </tr>\n",
              "    <tr>\n",
              "      <th>1</th>\n",
              "      <td>Adelie</td>\n",
              "      <td>Torgersen</td>\n",
              "      <td>39.5</td>\n",
              "      <td>17.4</td>\n",
              "      <td>186.0</td>\n",
              "      <td>3800.0</td>\n",
              "      <td>Female</td>\n",
              "    </tr>\n",
              "    <tr>\n",
              "      <th>2</th>\n",
              "      <td>Adelie</td>\n",
              "      <td>Torgersen</td>\n",
              "      <td>40.3</td>\n",
              "      <td>18.0</td>\n",
              "      <td>195.0</td>\n",
              "      <td>3250.0</td>\n",
              "      <td>Female</td>\n",
              "    </tr>\n",
              "    <tr>\n",
              "      <th>3</th>\n",
              "      <td>Adelie</td>\n",
              "      <td>Torgersen</td>\n",
              "      <td>NaN</td>\n",
              "      <td>NaN</td>\n",
              "      <td>NaN</td>\n",
              "      <td>NaN</td>\n",
              "      <td>NaN</td>\n",
              "    </tr>\n",
              "    <tr>\n",
              "      <th>4</th>\n",
              "      <td>Adelie</td>\n",
              "      <td>Torgersen</td>\n",
              "      <td>36.7</td>\n",
              "      <td>19.3</td>\n",
              "      <td>193.0</td>\n",
              "      <td>3450.0</td>\n",
              "      <td>Female</td>\n",
              "    </tr>\n",
              "  </tbody>\n",
              "</table>\n",
              "</div>\n",
              "    <div class=\"colab-df-buttons\">\n",
              "\n",
              "  <div class=\"colab-df-container\">\n",
              "    <button class=\"colab-df-convert\" onclick=\"convertToInteractive('df-0ea4c0ce-df29-4f53-b913-2b3d4ed79b10')\"\n",
              "            title=\"Convert this dataframe to an interactive table.\"\n",
              "            style=\"display:none;\">\n",
              "\n",
              "  <svg xmlns=\"http://www.w3.org/2000/svg\" height=\"24px\" viewBox=\"0 -960 960 960\">\n",
              "    <path d=\"M120-120v-720h720v720H120Zm60-500h600v-160H180v160Zm220 220h160v-160H400v160Zm0 220h160v-160H400v160ZM180-400h160v-160H180v160Zm440 0h160v-160H620v160ZM180-180h160v-160H180v160Zm440 0h160v-160H620v160Z\"/>\n",
              "  </svg>\n",
              "    </button>\n",
              "\n",
              "  <style>\n",
              "    .colab-df-container {\n",
              "      display:flex;\n",
              "      gap: 12px;\n",
              "    }\n",
              "\n",
              "    .colab-df-convert {\n",
              "      background-color: #E8F0FE;\n",
              "      border: none;\n",
              "      border-radius: 50%;\n",
              "      cursor: pointer;\n",
              "      display: none;\n",
              "      fill: #1967D2;\n",
              "      height: 32px;\n",
              "      padding: 0 0 0 0;\n",
              "      width: 32px;\n",
              "    }\n",
              "\n",
              "    .colab-df-convert:hover {\n",
              "      background-color: #E2EBFA;\n",
              "      box-shadow: 0px 1px 2px rgba(60, 64, 67, 0.3), 0px 1px 3px 1px rgba(60, 64, 67, 0.15);\n",
              "      fill: #174EA6;\n",
              "    }\n",
              "\n",
              "    .colab-df-buttons div {\n",
              "      margin-bottom: 4px;\n",
              "    }\n",
              "\n",
              "    [theme=dark] .colab-df-convert {\n",
              "      background-color: #3B4455;\n",
              "      fill: #D2E3FC;\n",
              "    }\n",
              "\n",
              "    [theme=dark] .colab-df-convert:hover {\n",
              "      background-color: #434B5C;\n",
              "      box-shadow: 0px 1px 3px 1px rgba(0, 0, 0, 0.15);\n",
              "      filter: drop-shadow(0px 1px 2px rgba(0, 0, 0, 0.3));\n",
              "      fill: #FFFFFF;\n",
              "    }\n",
              "  </style>\n",
              "\n",
              "    <script>\n",
              "      const buttonEl =\n",
              "        document.querySelector('#df-0ea4c0ce-df29-4f53-b913-2b3d4ed79b10 button.colab-df-convert');\n",
              "      buttonEl.style.display =\n",
              "        google.colab.kernel.accessAllowed ? 'block' : 'none';\n",
              "\n",
              "      async function convertToInteractive(key) {\n",
              "        const element = document.querySelector('#df-0ea4c0ce-df29-4f53-b913-2b3d4ed79b10');\n",
              "        const dataTable =\n",
              "          await google.colab.kernel.invokeFunction('convertToInteractive',\n",
              "                                                    [key], {});\n",
              "        if (!dataTable) return;\n",
              "\n",
              "        const docLinkHtml = 'Like what you see? Visit the ' +\n",
              "          '<a target=\"_blank\" href=https://colab.research.google.com/notebooks/data_table.ipynb>data table notebook</a>'\n",
              "          + ' to learn more about interactive tables.';\n",
              "        element.innerHTML = '';\n",
              "        dataTable['output_type'] = 'display_data';\n",
              "        await google.colab.output.renderOutput(dataTable, element);\n",
              "        const docLink = document.createElement('div');\n",
              "        docLink.innerHTML = docLinkHtml;\n",
              "        element.appendChild(docLink);\n",
              "      }\n",
              "    </script>\n",
              "  </div>\n",
              "\n",
              "\n",
              "<div id=\"df-75a918c8-5c12-4523-af27-eec755613318\">\n",
              "  <button class=\"colab-df-quickchart\" onclick=\"quickchart('df-75a918c8-5c12-4523-af27-eec755613318')\"\n",
              "            title=\"Suggest charts\"\n",
              "            style=\"display:none;\">\n",
              "\n",
              "<svg xmlns=\"http://www.w3.org/2000/svg\" height=\"24px\"viewBox=\"0 0 24 24\"\n",
              "     width=\"24px\">\n",
              "    <g>\n",
              "        <path d=\"M19 3H5c-1.1 0-2 .9-2 2v14c0 1.1.9 2 2 2h14c1.1 0 2-.9 2-2V5c0-1.1-.9-2-2-2zM9 17H7v-7h2v7zm4 0h-2V7h2v10zm4 0h-2v-4h2v4z\"/>\n",
              "    </g>\n",
              "</svg>\n",
              "  </button>\n",
              "\n",
              "<style>\n",
              "  .colab-df-quickchart {\n",
              "      --bg-color: #E8F0FE;\n",
              "      --fill-color: #1967D2;\n",
              "      --hover-bg-color: #E2EBFA;\n",
              "      --hover-fill-color: #174EA6;\n",
              "      --disabled-fill-color: #AAA;\n",
              "      --disabled-bg-color: #DDD;\n",
              "  }\n",
              "\n",
              "  [theme=dark] .colab-df-quickchart {\n",
              "      --bg-color: #3B4455;\n",
              "      --fill-color: #D2E3FC;\n",
              "      --hover-bg-color: #434B5C;\n",
              "      --hover-fill-color: #FFFFFF;\n",
              "      --disabled-bg-color: #3B4455;\n",
              "      --disabled-fill-color: #666;\n",
              "  }\n",
              "\n",
              "  .colab-df-quickchart {\n",
              "    background-color: var(--bg-color);\n",
              "    border: none;\n",
              "    border-radius: 50%;\n",
              "    cursor: pointer;\n",
              "    display: none;\n",
              "    fill: var(--fill-color);\n",
              "    height: 32px;\n",
              "    padding: 0;\n",
              "    width: 32px;\n",
              "  }\n",
              "\n",
              "  .colab-df-quickchart:hover {\n",
              "    background-color: var(--hover-bg-color);\n",
              "    box-shadow: 0 1px 2px rgba(60, 64, 67, 0.3), 0 1px 3px 1px rgba(60, 64, 67, 0.15);\n",
              "    fill: var(--button-hover-fill-color);\n",
              "  }\n",
              "\n",
              "  .colab-df-quickchart-complete:disabled,\n",
              "  .colab-df-quickchart-complete:disabled:hover {\n",
              "    background-color: var(--disabled-bg-color);\n",
              "    fill: var(--disabled-fill-color);\n",
              "    box-shadow: none;\n",
              "  }\n",
              "\n",
              "  .colab-df-spinner {\n",
              "    border: 2px solid var(--fill-color);\n",
              "    border-color: transparent;\n",
              "    border-bottom-color: var(--fill-color);\n",
              "    animation:\n",
              "      spin 1s steps(1) infinite;\n",
              "  }\n",
              "\n",
              "  @keyframes spin {\n",
              "    0% {\n",
              "      border-color: transparent;\n",
              "      border-bottom-color: var(--fill-color);\n",
              "      border-left-color: var(--fill-color);\n",
              "    }\n",
              "    20% {\n",
              "      border-color: transparent;\n",
              "      border-left-color: var(--fill-color);\n",
              "      border-top-color: var(--fill-color);\n",
              "    }\n",
              "    30% {\n",
              "      border-color: transparent;\n",
              "      border-left-color: var(--fill-color);\n",
              "      border-top-color: var(--fill-color);\n",
              "      border-right-color: var(--fill-color);\n",
              "    }\n",
              "    40% {\n",
              "      border-color: transparent;\n",
              "      border-right-color: var(--fill-color);\n",
              "      border-top-color: var(--fill-color);\n",
              "    }\n",
              "    60% {\n",
              "      border-color: transparent;\n",
              "      border-right-color: var(--fill-color);\n",
              "    }\n",
              "    80% {\n",
              "      border-color: transparent;\n",
              "      border-right-color: var(--fill-color);\n",
              "      border-bottom-color: var(--fill-color);\n",
              "    }\n",
              "    90% {\n",
              "      border-color: transparent;\n",
              "      border-bottom-color: var(--fill-color);\n",
              "    }\n",
              "  }\n",
              "</style>\n",
              "\n",
              "  <script>\n",
              "    async function quickchart(key) {\n",
              "      const quickchartButtonEl =\n",
              "        document.querySelector('#' + key + ' button');\n",
              "      quickchartButtonEl.disabled = true;  // To prevent multiple clicks.\n",
              "      quickchartButtonEl.classList.add('colab-df-spinner');\n",
              "      try {\n",
              "        const charts = await google.colab.kernel.invokeFunction(\n",
              "            'suggestCharts', [key], {});\n",
              "      } catch (error) {\n",
              "        console.error('Error during call to suggestCharts:', error);\n",
              "      }\n",
              "      quickchartButtonEl.classList.remove('colab-df-spinner');\n",
              "      quickchartButtonEl.classList.add('colab-df-quickchart-complete');\n",
              "    }\n",
              "    (() => {\n",
              "      let quickchartButtonEl =\n",
              "        document.querySelector('#df-75a918c8-5c12-4523-af27-eec755613318 button');\n",
              "      quickchartButtonEl.style.display =\n",
              "        google.colab.kernel.accessAllowed ? 'block' : 'none';\n",
              "    })();\n",
              "  </script>\n",
              "</div>\n",
              "\n",
              "    </div>\n",
              "  </div>\n"
            ],
            "text/plain": [
              "  species     island  bill_length_mm  bill_depth_mm  flipper_length_mm  \\\n",
              "0  Adelie  Torgersen            39.1           18.7              181.0   \n",
              "1  Adelie  Torgersen            39.5           17.4              186.0   \n",
              "2  Adelie  Torgersen            40.3           18.0              195.0   \n",
              "3  Adelie  Torgersen             NaN            NaN                NaN   \n",
              "4  Adelie  Torgersen            36.7           19.3              193.0   \n",
              "\n",
              "   body_mass_g     sex  \n",
              "0       3750.0    Male  \n",
              "1       3800.0  Female  \n",
              "2       3250.0  Female  \n",
              "3          NaN     NaN  \n",
              "4       3450.0  Female  "
            ]
          },
          "execution_count": 52,
          "metadata": {},
          "output_type": "execute_result"
        }
      ],
      "source": [
        "import seaborn as sns\n",
        "\n",
        "# data source='https://github.com/mwaskom/seaborn-data/blob/master/penguins.csv'\n",
        "df_penguin = sns.load_dataset('penguins')\n",
        "df_penguin.head()"
      ]
    },
    {
      "cell_type": "markdown",
      "metadata": {
        "id": "D-hjRxb8qpvN"
      },
      "source": [
        "## Array Operations:\n",
        "- array and a scalar:\n",
        "    - apply operation to every element of array\n",
        "- array and array:\n",
        "    - apply operation to corresponding elements of arrays (requires shape or [special](https://numpy.org/doc/stable/user/basics.broadcasting.html) structure)\n"
      ]
    },
    {
      "cell_type": "code",
      "execution_count": null,
      "metadata": {
        "colab": {
          "base_uri": "https://localhost:8080/"
        },
        "id": "2cifEUgdqpvN",
        "outputId": "ccfc6085-5131-4b8a-95af-bbe9f856d9ca"
      },
      "outputs": [
        {
          "data": {
            "text/plain": [
              "array([[ 0,  1,  2,  3],\n",
              "       [ 4,  5,  6,  7],\n",
              "       [ 8,  9, 10, 11]])"
            ]
          },
          "execution_count": 54,
          "metadata": {},
          "output_type": "execute_result"
        }
      ],
      "source": [
        "y1 = np.arange(12).reshape((3, 4))\n",
        "y1"
      ]
    },
    {
      "cell_type": "code",
      "execution_count": null,
      "metadata": {
        "colab": {
          "base_uri": "https://localhost:8080/"
        },
        "id": "PN4sqVbIqpvN",
        "outputId": "87355a4e-63da-4398-e5a8-fce9d4356380"
      },
      "outputs": [
        {
          "data": {
            "text/plain": [
              "array([[ 3,  4,  5,  6],\n",
              "       [ 7,  8,  9, 10],\n",
              "       [11, 12, 13, 14]])"
            ]
          },
          "execution_count": 55,
          "metadata": {},
          "output_type": "execute_result"
        }
      ],
      "source": [
        "y1 + 3"
      ]
    },
    {
      "cell_type": "code",
      "execution_count": null,
      "metadata": {
        "colab": {
          "base_uri": "https://localhost:8080/"
        },
        "id": "b84bSH2SqpvN",
        "outputId": "f8d7ced2-43a4-499d-fc7d-0a2dbd8a85f3"
      },
      "outputs": [
        {
          "data": {
            "text/plain": [
              "array([[  0,  10,  20,  30],\n",
              "       [ 40,  50,  60,  70],\n",
              "       [ 80,  90, 100, 110]])"
            ]
          },
          "execution_count": 56,
          "metadata": {},
          "output_type": "execute_result"
        }
      ],
      "source": [
        "y1 * 10"
      ]
    },
    {
      "cell_type": "code",
      "execution_count": null,
      "metadata": {
        "colab": {
          "base_uri": "https://localhost:8080/"
        },
        "id": "OOFBm5tEqpvN",
        "outputId": "ef938e14-7633-4651-800e-892ee07c72f2"
      },
      "outputs": [
        {
          "data": {
            "text/plain": [
              "array([[  0,   1,   4,   9],\n",
              "       [ 16,  25,  36,  49],\n",
              "       [ 64,  81, 100, 121]])"
            ]
          },
          "execution_count": 57,
          "metadata": {},
          "output_type": "execute_result"
        }
      ],
      "source": [
        "y1 ** 2"
      ]
    },
    {
      "cell_type": "code",
      "execution_count": null,
      "metadata": {
        "id": "0KZO7IPRqpvN",
        "outputId": "53a80a4b-6904-4623-e08b-754441a48cf9"
      },
      "outputs": [
        {
          "data": {
            "text/plain": [
              "array([[100, 101, 102, 103],\n",
              "       [104, 105, 106, 107],\n",
              "       [108, 109, 110, 111]])"
            ]
          },
          "execution_count": 64,
          "metadata": {},
          "output_type": "execute_result"
        }
      ],
      "source": [
        "# array and array arithmetic\n",
        "y2 = np.arange(100, 112).reshape((3, 4))\n",
        "y2"
      ]
    },
    {
      "cell_type": "code",
      "execution_count": null,
      "metadata": {
        "id": "PYk2zZB6qpvN",
        "outputId": "d15bdd27-aeb9-4636-96a8-9d2e3da77c16"
      },
      "outputs": [
        {
          "data": {
            "text/plain": [
              "array([[100, 102, 104, 106],\n",
              "       [108, 110, 112, 114],\n",
              "       [116, 118, 120, 122]])"
            ]
          },
          "execution_count": 65,
          "metadata": {},
          "output_type": "execute_result"
        }
      ],
      "source": [
        "# array and array arithmetic applies operation to corresponding items in arrays\n",
        "y1 + y2"
      ]
    },
    {
      "cell_type": "code",
      "execution_count": null,
      "metadata": {
        "id": "ij59X7BjqpvN",
        "outputId": "bc150e62-fe1d-4f48-da50-b61c27bbbde1"
      },
      "outputs": [
        {
          "data": {
            "text/plain": [
              "array([[   0,  101,  204,  309],\n",
              "       [ 416,  525,  636,  749],\n",
              "       [ 864,  981, 1100, 1221]])"
            ]
          },
          "execution_count": 66,
          "metadata": {},
          "output_type": "execute_result"
        }
      ],
      "source": [
        "y1 * y2"
      ]
    },
    {
      "cell_type": "code",
      "execution_count": null,
      "metadata": {
        "colab": {
          "base_uri": "https://localhost:8080/"
        },
        "id": "7OVIIfkGqpvN",
        "outputId": "0ba8a981-8de2-4796-8e9f-bb8332981140"
      },
      "outputs": [
        {
          "data": {
            "text/plain": [
              "array([[ 0,  1,  2,  3],\n",
              "       [ 4,  5,  6,  7],\n",
              "       [ 8,  9, 10, 11]])"
            ]
          },
          "execution_count": 58,
          "metadata": {},
          "output_type": "execute_result"
        }
      ],
      "source": [
        "y1"
      ]
    },
    {
      "cell_type": "code",
      "execution_count": null,
      "metadata": {
        "colab": {
          "base_uri": "https://localhost:8080/"
        },
        "id": "FMhI0dePqpvN",
        "outputId": "f987ebef-1e79-447a-c9da-d257756dd287"
      },
      "outputs": [
        {
          "data": {
            "text/plain": [
              "array([[1000, 2001, 3002, 4003],\n",
              "       [1004, 2005, 3006, 4007],\n",
              "       [1008, 2009, 3010, 4011]])"
            ]
          },
          "execution_count": 63,
          "metadata": {},
          "output_type": "execute_result"
        }
      ],
      "source": [
        "# (++) adding a constant row (x) to all rows of a matrix (y1)\n",
        "# more details here: https://numpy.org/doc/stable/user/basics.broadcasting.html\n",
        "x = np.array([1000, 2000, 3000, 4000])\n",
        "y1 + x"
      ]
    },
    {
      "cell_type": "markdown",
      "metadata": {
        "id": "pIMiaWxSqpvO"
      },
      "source": [
        "# Pandas\n",
        "\n",
        "\n",
        "*   My nickname is Panda (Look at my cute picture)\n",
        "\n",
        "<img src=\"https://images.ctfassets.net/rt5zmd3ipxai/25pHfG94sGlRALOqbRvSxl/9f591d8263607fdf923b962cbfcde2a9/NVA-panda.jpg\" width=700 />\n",
        "\n",
        "\n",
        "Pandas is a python module which stores data.  \n",
        "\n",
        "### If we already have `np.array()`, why do we need pandas?\n",
        "- pandas supports non numeric data (strings for categorical data, for example)\n",
        "- pandas supports reading / storing data from more formats\n",
        "    - csv (spreadsheets)\n",
        "- pandas more elegantly deals with missing data\n",
        "- pandas handles indexing woes\n",
        "\n",
        "You could do almost everything pandas does with numpy arrays ... but it would be much more difficult to accomplish.\n",
        "\n",
        "### Pandas has two essential objects:\n",
        "- **dataframe**\n",
        "    - 2 dimensional data structure\n",
        "    - you've already seen one today!  (we replicate below)\n",
        "- **series (vectors)**\n",
        "    - 1 dimensional data structure, each item associated with some index\n",
        "    - you could store the weight of all the penguins as a series\n",
        "        - (all samples of one feature)\n",
        "    - you could store the weight, bill size, sex, island, etc for a single penguin as a series\n",
        "        - (all features for one sample)"
      ]
    },
    {
      "cell_type": "code",
      "execution_count": null,
      "metadata": {
        "colab": {
          "base_uri": "https://localhost:8080/",
          "height": 206
        },
        "id": "QA0kK8DMqpvO",
        "outputId": "54ac3b9a-b940-4591-dfe2-485d1084bab5"
      },
      "outputs": [
        {
          "data": {
            "application/vnd.google.colaboratory.intrinsic+json": {
              "summary": "{\n  \"name\": \"df_penguin\",\n  \"rows\": 344,\n  \"fields\": [\n    {\n      \"column\": \"species\",\n      \"properties\": {\n        \"dtype\": \"category\",\n        \"num_unique_values\": 3,\n        \"samples\": [\n          \"Adelie\",\n          \"Chinstrap\",\n          \"Gentoo\"\n        ],\n        \"semantic_type\": \"\",\n        \"description\": \"\"\n      }\n    },\n    {\n      \"column\": \"island\",\n      \"properties\": {\n        \"dtype\": \"category\",\n        \"num_unique_values\": 3,\n        \"samples\": [\n          \"Torgersen\",\n          \"Biscoe\",\n          \"Dream\"\n        ],\n        \"semantic_type\": \"\",\n        \"description\": \"\"\n      }\n    },\n    {\n      \"column\": \"bill_length_mm\",\n      \"properties\": {\n        \"dtype\": \"number\",\n        \"std\": 5.4595837139265315,\n        \"min\": 32.1,\n        \"max\": 59.6,\n        \"num_unique_values\": 164,\n        \"samples\": [\n          48.2,\n          49.8,\n          45.1\n        ],\n        \"semantic_type\": \"\",\n        \"description\": \"\"\n      }\n    },\n    {\n      \"column\": \"bill_depth_mm\",\n      \"properties\": {\n        \"dtype\": \"number\",\n        \"std\": 1.9747931568167816,\n        \"min\": 13.1,\n        \"max\": 21.5,\n        \"num_unique_values\": 80,\n        \"samples\": [\n          16.9,\n          18.7,\n          18.6\n        ],\n        \"semantic_type\": \"\",\n        \"description\": \"\"\n      }\n    },\n    {\n      \"column\": \"flipper_length_mm\",\n      \"properties\": {\n        \"dtype\": \"number\",\n        \"std\": 14.061713679356888,\n        \"min\": 172.0,\n        \"max\": 231.0,\n        \"num_unique_values\": 55,\n        \"samples\": [\n          201.0,\n          180.0,\n          212.0\n        ],\n        \"semantic_type\": \"\",\n        \"description\": \"\"\n      }\n    },\n    {\n      \"column\": \"body_mass_g\",\n      \"properties\": {\n        \"dtype\": \"number\",\n        \"std\": 801.9545356980956,\n        \"min\": 2700.0,\n        \"max\": 6300.0,\n        \"num_unique_values\": 94,\n        \"samples\": [\n          4350.0,\n          4150.0,\n          3525.0\n        ],\n        \"semantic_type\": \"\",\n        \"description\": \"\"\n      }\n    },\n    {\n      \"column\": \"sex\",\n      \"properties\": {\n        \"dtype\": \"category\",\n        \"num_unique_values\": 2,\n        \"samples\": [\n          \"Female\",\n          \"Male\"\n        ],\n        \"semantic_type\": \"\",\n        \"description\": \"\"\n      }\n    }\n  ]\n}",
              "type": "dataframe",
              "variable_name": "df_penguin"
            },
            "text/html": [
              "\n",
              "  <div id=\"df-cdf963c5-4944-47f5-b679-89148bcbd5bd\" class=\"colab-df-container\">\n",
              "    <div>\n",
              "<style scoped>\n",
              "    .dataframe tbody tr th:only-of-type {\n",
              "        vertical-align: middle;\n",
              "    }\n",
              "\n",
              "    .dataframe tbody tr th {\n",
              "        vertical-align: top;\n",
              "    }\n",
              "\n",
              "    .dataframe thead th {\n",
              "        text-align: right;\n",
              "    }\n",
              "</style>\n",
              "<table border=\"1\" class=\"dataframe\">\n",
              "  <thead>\n",
              "    <tr style=\"text-align: right;\">\n",
              "      <th></th>\n",
              "      <th>species</th>\n",
              "      <th>island</th>\n",
              "      <th>bill_length_mm</th>\n",
              "      <th>bill_depth_mm</th>\n",
              "      <th>flipper_length_mm</th>\n",
              "      <th>body_mass_g</th>\n",
              "      <th>sex</th>\n",
              "    </tr>\n",
              "  </thead>\n",
              "  <tbody>\n",
              "    <tr>\n",
              "      <th>0</th>\n",
              "      <td>Adelie</td>\n",
              "      <td>Torgersen</td>\n",
              "      <td>39.1</td>\n",
              "      <td>18.7</td>\n",
              "      <td>181.0</td>\n",
              "      <td>3750.0</td>\n",
              "      <td>Male</td>\n",
              "    </tr>\n",
              "    <tr>\n",
              "      <th>1</th>\n",
              "      <td>Adelie</td>\n",
              "      <td>Torgersen</td>\n",
              "      <td>39.5</td>\n",
              "      <td>17.4</td>\n",
              "      <td>186.0</td>\n",
              "      <td>3800.0</td>\n",
              "      <td>Female</td>\n",
              "    </tr>\n",
              "    <tr>\n",
              "      <th>2</th>\n",
              "      <td>Adelie</td>\n",
              "      <td>Torgersen</td>\n",
              "      <td>40.3</td>\n",
              "      <td>18.0</td>\n",
              "      <td>195.0</td>\n",
              "      <td>3250.0</td>\n",
              "      <td>Female</td>\n",
              "    </tr>\n",
              "    <tr>\n",
              "      <th>3</th>\n",
              "      <td>Adelie</td>\n",
              "      <td>Torgersen</td>\n",
              "      <td>NaN</td>\n",
              "      <td>NaN</td>\n",
              "      <td>NaN</td>\n",
              "      <td>NaN</td>\n",
              "      <td>NaN</td>\n",
              "    </tr>\n",
              "    <tr>\n",
              "      <th>4</th>\n",
              "      <td>Adelie</td>\n",
              "      <td>Torgersen</td>\n",
              "      <td>36.7</td>\n",
              "      <td>19.3</td>\n",
              "      <td>193.0</td>\n",
              "      <td>3450.0</td>\n",
              "      <td>Female</td>\n",
              "    </tr>\n",
              "  </tbody>\n",
              "</table>\n",
              "</div>\n",
              "    <div class=\"colab-df-buttons\">\n",
              "\n",
              "  <div class=\"colab-df-container\">\n",
              "    <button class=\"colab-df-convert\" onclick=\"convertToInteractive('df-cdf963c5-4944-47f5-b679-89148bcbd5bd')\"\n",
              "            title=\"Convert this dataframe to an interactive table.\"\n",
              "            style=\"display:none;\">\n",
              "\n",
              "  <svg xmlns=\"http://www.w3.org/2000/svg\" height=\"24px\" viewBox=\"0 -960 960 960\">\n",
              "    <path d=\"M120-120v-720h720v720H120Zm60-500h600v-160H180v160Zm220 220h160v-160H400v160Zm0 220h160v-160H400v160ZM180-400h160v-160H180v160Zm440 0h160v-160H620v160ZM180-180h160v-160H180v160Zm440 0h160v-160H620v160Z\"/>\n",
              "  </svg>\n",
              "    </button>\n",
              "\n",
              "  <style>\n",
              "    .colab-df-container {\n",
              "      display:flex;\n",
              "      gap: 12px;\n",
              "    }\n",
              "\n",
              "    .colab-df-convert {\n",
              "      background-color: #E8F0FE;\n",
              "      border: none;\n",
              "      border-radius: 50%;\n",
              "      cursor: pointer;\n",
              "      display: none;\n",
              "      fill: #1967D2;\n",
              "      height: 32px;\n",
              "      padding: 0 0 0 0;\n",
              "      width: 32px;\n",
              "    }\n",
              "\n",
              "    .colab-df-convert:hover {\n",
              "      background-color: #E2EBFA;\n",
              "      box-shadow: 0px 1px 2px rgba(60, 64, 67, 0.3), 0px 1px 3px 1px rgba(60, 64, 67, 0.15);\n",
              "      fill: #174EA6;\n",
              "    }\n",
              "\n",
              "    .colab-df-buttons div {\n",
              "      margin-bottom: 4px;\n",
              "    }\n",
              "\n",
              "    [theme=dark] .colab-df-convert {\n",
              "      background-color: #3B4455;\n",
              "      fill: #D2E3FC;\n",
              "    }\n",
              "\n",
              "    [theme=dark] .colab-df-convert:hover {\n",
              "      background-color: #434B5C;\n",
              "      box-shadow: 0px 1px 3px 1px rgba(0, 0, 0, 0.15);\n",
              "      filter: drop-shadow(0px 1px 2px rgba(0, 0, 0, 0.3));\n",
              "      fill: #FFFFFF;\n",
              "    }\n",
              "  </style>\n",
              "\n",
              "    <script>\n",
              "      const buttonEl =\n",
              "        document.querySelector('#df-cdf963c5-4944-47f5-b679-89148bcbd5bd button.colab-df-convert');\n",
              "      buttonEl.style.display =\n",
              "        google.colab.kernel.accessAllowed ? 'block' : 'none';\n",
              "\n",
              "      async function convertToInteractive(key) {\n",
              "        const element = document.querySelector('#df-cdf963c5-4944-47f5-b679-89148bcbd5bd');\n",
              "        const dataTable =\n",
              "          await google.colab.kernel.invokeFunction('convertToInteractive',\n",
              "                                                    [key], {});\n",
              "        if (!dataTable) return;\n",
              "\n",
              "        const docLinkHtml = 'Like what you see? Visit the ' +\n",
              "          '<a target=\"_blank\" href=https://colab.research.google.com/notebooks/data_table.ipynb>data table notebook</a>'\n",
              "          + ' to learn more about interactive tables.';\n",
              "        element.innerHTML = '';\n",
              "        dataTable['output_type'] = 'display_data';\n",
              "        await google.colab.output.renderOutput(dataTable, element);\n",
              "        const docLink = document.createElement('div');\n",
              "        docLink.innerHTML = docLinkHtml;\n",
              "        element.appendChild(docLink);\n",
              "      }\n",
              "    </script>\n",
              "  </div>\n",
              "\n",
              "\n",
              "<div id=\"df-155da9b2-3bc8-4539-abdd-39a5d1f7efab\">\n",
              "  <button class=\"colab-df-quickchart\" onclick=\"quickchart('df-155da9b2-3bc8-4539-abdd-39a5d1f7efab')\"\n",
              "            title=\"Suggest charts\"\n",
              "            style=\"display:none;\">\n",
              "\n",
              "<svg xmlns=\"http://www.w3.org/2000/svg\" height=\"24px\"viewBox=\"0 0 24 24\"\n",
              "     width=\"24px\">\n",
              "    <g>\n",
              "        <path d=\"M19 3H5c-1.1 0-2 .9-2 2v14c0 1.1.9 2 2 2h14c1.1 0 2-.9 2-2V5c0-1.1-.9-2-2-2zM9 17H7v-7h2v7zm4 0h-2V7h2v10zm4 0h-2v-4h2v4z\"/>\n",
              "    </g>\n",
              "</svg>\n",
              "  </button>\n",
              "\n",
              "<style>\n",
              "  .colab-df-quickchart {\n",
              "      --bg-color: #E8F0FE;\n",
              "      --fill-color: #1967D2;\n",
              "      --hover-bg-color: #E2EBFA;\n",
              "      --hover-fill-color: #174EA6;\n",
              "      --disabled-fill-color: #AAA;\n",
              "      --disabled-bg-color: #DDD;\n",
              "  }\n",
              "\n",
              "  [theme=dark] .colab-df-quickchart {\n",
              "      --bg-color: #3B4455;\n",
              "      --fill-color: #D2E3FC;\n",
              "      --hover-bg-color: #434B5C;\n",
              "      --hover-fill-color: #FFFFFF;\n",
              "      --disabled-bg-color: #3B4455;\n",
              "      --disabled-fill-color: #666;\n",
              "  }\n",
              "\n",
              "  .colab-df-quickchart {\n",
              "    background-color: var(--bg-color);\n",
              "    border: none;\n",
              "    border-radius: 50%;\n",
              "    cursor: pointer;\n",
              "    display: none;\n",
              "    fill: var(--fill-color);\n",
              "    height: 32px;\n",
              "    padding: 0;\n",
              "    width: 32px;\n",
              "  }\n",
              "\n",
              "  .colab-df-quickchart:hover {\n",
              "    background-color: var(--hover-bg-color);\n",
              "    box-shadow: 0 1px 2px rgba(60, 64, 67, 0.3), 0 1px 3px 1px rgba(60, 64, 67, 0.15);\n",
              "    fill: var(--button-hover-fill-color);\n",
              "  }\n",
              "\n",
              "  .colab-df-quickchart-complete:disabled,\n",
              "  .colab-df-quickchart-complete:disabled:hover {\n",
              "    background-color: var(--disabled-bg-color);\n",
              "    fill: var(--disabled-fill-color);\n",
              "    box-shadow: none;\n",
              "  }\n",
              "\n",
              "  .colab-df-spinner {\n",
              "    border: 2px solid var(--fill-color);\n",
              "    border-color: transparent;\n",
              "    border-bottom-color: var(--fill-color);\n",
              "    animation:\n",
              "      spin 1s steps(1) infinite;\n",
              "  }\n",
              "\n",
              "  @keyframes spin {\n",
              "    0% {\n",
              "      border-color: transparent;\n",
              "      border-bottom-color: var(--fill-color);\n",
              "      border-left-color: var(--fill-color);\n",
              "    }\n",
              "    20% {\n",
              "      border-color: transparent;\n",
              "      border-left-color: var(--fill-color);\n",
              "      border-top-color: var(--fill-color);\n",
              "    }\n",
              "    30% {\n",
              "      border-color: transparent;\n",
              "      border-left-color: var(--fill-color);\n",
              "      border-top-color: var(--fill-color);\n",
              "      border-right-color: var(--fill-color);\n",
              "    }\n",
              "    40% {\n",
              "      border-color: transparent;\n",
              "      border-right-color: var(--fill-color);\n",
              "      border-top-color: var(--fill-color);\n",
              "    }\n",
              "    60% {\n",
              "      border-color: transparent;\n",
              "      border-right-color: var(--fill-color);\n",
              "    }\n",
              "    80% {\n",
              "      border-color: transparent;\n",
              "      border-right-color: var(--fill-color);\n",
              "      border-bottom-color: var(--fill-color);\n",
              "    }\n",
              "    90% {\n",
              "      border-color: transparent;\n",
              "      border-bottom-color: var(--fill-color);\n",
              "    }\n",
              "  }\n",
              "</style>\n",
              "\n",
              "  <script>\n",
              "    async function quickchart(key) {\n",
              "      const quickchartButtonEl =\n",
              "        document.querySelector('#' + key + ' button');\n",
              "      quickchartButtonEl.disabled = true;  // To prevent multiple clicks.\n",
              "      quickchartButtonEl.classList.add('colab-df-spinner');\n",
              "      try {\n",
              "        const charts = await google.colab.kernel.invokeFunction(\n",
              "            'suggestCharts', [key], {});\n",
              "      } catch (error) {\n",
              "        console.error('Error during call to suggestCharts:', error);\n",
              "      }\n",
              "      quickchartButtonEl.classList.remove('colab-df-spinner');\n",
              "      quickchartButtonEl.classList.add('colab-df-quickchart-complete');\n",
              "    }\n",
              "    (() => {\n",
              "      let quickchartButtonEl =\n",
              "        document.querySelector('#df-155da9b2-3bc8-4539-abdd-39a5d1f7efab button');\n",
              "      quickchartButtonEl.style.display =\n",
              "        google.colab.kernel.accessAllowed ? 'block' : 'none';\n",
              "    })();\n",
              "  </script>\n",
              "</div>\n",
              "\n",
              "    </div>\n",
              "  </div>\n"
            ],
            "text/plain": [
              "  species     island  bill_length_mm  bill_depth_mm  flipper_length_mm  \\\n",
              "0  Adelie  Torgersen            39.1           18.7              181.0   \n",
              "1  Adelie  Torgersen            39.5           17.4              186.0   \n",
              "2  Adelie  Torgersen            40.3           18.0              195.0   \n",
              "3  Adelie  Torgersen             NaN            NaN                NaN   \n",
              "4  Adelie  Torgersen            36.7           19.3              193.0   \n",
              "\n",
              "   body_mass_g     sex  \n",
              "0       3750.0    Male  \n",
              "1       3800.0  Female  \n",
              "2       3250.0  Female  \n",
              "3          NaN     NaN  \n",
              "4       3450.0  Female  "
            ]
          },
          "execution_count": 64,
          "metadata": {},
          "output_type": "execute_result"
        }
      ],
      "source": [
        "import seaborn as sns\n",
        "\n",
        "# df stands for dataframe.  df_penguin is a dataframe of penguin data\n",
        "df_penguin = sns.load_dataset('penguins')\n",
        "df_penguin.head()"
      ]
    },
    {
      "cell_type": "code",
      "execution_count": null,
      "metadata": {
        "id": "1eolI03OqpvO",
        "outputId": "1c2e2304-70ea-47ac-ca81-7982e80242f8"
      },
      "outputs": [
        {
          "data": {
            "text/plain": [
              "pandas.core.frame.DataFrame"
            ]
          },
          "execution_count": 70,
          "metadata": {},
          "output_type": "execute_result"
        }
      ],
      "source": [
        "# the table above is a dataframe\n",
        "type(df_penguin)"
      ]
    },
    {
      "cell_type": "markdown",
      "metadata": {
        "id": "xT-iZ7W8qpvO"
      },
      "source": [
        "## Pandas Series\n",
        "### building:\n",
        "- building: default index\n",
        "- building: custom index\n",
        "- building: from a dict"
      ]
    },
    {
      "cell_type": "code",
      "execution_count": null,
      "metadata": {
        "colab": {
          "base_uri": "https://localhost:8080/",
          "height": 304
        },
        "id": "FrCQawQVqpvO",
        "outputId": "64608f49-7b82-4721-8887-c6a857bcec23"
      },
      "outputs": [
        {
          "data": {
            "text/html": [
              "<div>\n",
              "<style scoped>\n",
              "    .dataframe tbody tr th:only-of-type {\n",
              "        vertical-align: middle;\n",
              "    }\n",
              "\n",
              "    .dataframe tbody tr th {\n",
              "        vertical-align: top;\n",
              "    }\n",
              "\n",
              "    .dataframe thead th {\n",
              "        text-align: right;\n",
              "    }\n",
              "</style>\n",
              "<table border=\"1\" class=\"dataframe\">\n",
              "  <thead>\n",
              "    <tr style=\"text-align: right;\">\n",
              "      <th></th>\n",
              "      <th>0</th>\n",
              "    </tr>\n",
              "  </thead>\n",
              "  <tbody>\n",
              "    <tr>\n",
              "      <th>species</th>\n",
              "      <td>Adelie</td>\n",
              "    </tr>\n",
              "    <tr>\n",
              "      <th>island</th>\n",
              "      <td>Torgersen</td>\n",
              "    </tr>\n",
              "    <tr>\n",
              "      <th>bill_length_mm</th>\n",
              "      <td>39.1</td>\n",
              "    </tr>\n",
              "    <tr>\n",
              "      <th>bill_depth_mm</th>\n",
              "      <td>18.7</td>\n",
              "    </tr>\n",
              "    <tr>\n",
              "      <th>flipper_length_mm</th>\n",
              "      <td>181.0</td>\n",
              "    </tr>\n",
              "    <tr>\n",
              "      <th>body_mass_g</th>\n",
              "      <td>3750.0</td>\n",
              "    </tr>\n",
              "    <tr>\n",
              "      <th>sex</th>\n",
              "      <td>Male</td>\n",
              "    </tr>\n",
              "  </tbody>\n",
              "</table>\n",
              "</div><br><label><b>dtype:</b> object</label>"
            ],
            "text/plain": [
              "species                 Adelie\n",
              "island               Torgersen\n",
              "bill_length_mm            39.1\n",
              "bill_depth_mm             18.7\n",
              "flipper_length_mm        181.0\n",
              "body_mass_g             3750.0\n",
              "sex                       Male\n",
              "Name: 0, dtype: object"
            ]
          },
          "execution_count": 66,
          "metadata": {},
          "output_type": "execute_result"
        }
      ],
      "source": [
        "# each row, or column is a series object\n",
        "# this represents first row of dataframe\n",
        "penguin0_series = df_penguin.iloc[0, :]\n",
        "penguin0_series"
      ]
    },
    {
      "cell_type": "markdown",
      "metadata": {
        "id": "yorBUSZgqpvO"
      },
      "source": [
        "Pandas series contain a sequence of labelled data elements:\n",
        "- penguin0's `species` is `Adelie`\n",
        "- penguin0's `island` is `Torgersen`\n",
        "- penguin0's `bill_length_mm` is `39.1` ...\n",
        "- penguin0's `<index-name>` is `<corresponding-value>`\n",
        "\n",
        "A series is quite similar to a dictionary ..."
      ]
    },
    {
      "cell_type": "code",
      "execution_count": null,
      "metadata": {
        "id": "T-Ni55roqpvO"
      },
      "outputs": [],
      "source": [
        "penguin0_dict = {'species': 'Adelie',\n",
        " 'island': 'Torgersen',\n",
        " 'bill_length_mm': 39.1,\n",
        " 'bill_depth_mm': 18.7,\n",
        " 'flipper_length_mm': 181.0,\n",
        " 'body_mass_g': 3750.0,\n",
        " 'sex': 'Male'}"
      ]
    },
    {
      "cell_type": "code",
      "execution_count": null,
      "metadata": {
        "colab": {
          "base_uri": "https://localhost:8080/",
          "height": 304
        },
        "id": "wGK26687qpvO",
        "outputId": "9d464e4b-8e37-4a4b-f1e5-fcc11dd44cdd"
      },
      "outputs": [
        {
          "data": {
            "text/plain": [
              "species                 Adelie\n",
              "island               Torgersen\n",
              "bill_length_mm            39.1\n",
              "bill_depth_mm             18.7\n",
              "flipper_length_mm        181.0\n",
              "body_mass_g             3750.0\n",
              "sex                       Male\n",
              "dtype: object"
            ]
          },
          "execution_count": 19,
          "metadata": {},
          "output_type": "execute_result"
        }
      ],
      "source": [
        "import pandas as pd\n",
        "\n",
        "# build a series from dict\n",
        "penguin0_series = pd.Series(penguin0_dict)\n",
        "penguin0_series"
      ]
    },
    {
      "cell_type": "code",
      "execution_count": null,
      "metadata": {
        "id": "iOB1aXXNqpvO",
        "outputId": "189467cd-aa92-437b-c22d-da400ce51e73"
      },
      "outputs": [
        {
          "data": {
            "text/plain": [
              "species                 Adelie\n",
              "island               Torgersen\n",
              "bill_length_mm            39.1\n",
              "bill_depth_mm             18.7\n",
              "flipper_length_mm        181.0\n",
              "body_mass_g             3750.0\n",
              "sex                       Male\n",
              "dtype: object"
            ]
          },
          "execution_count": 74,
          "metadata": {},
          "output_type": "execute_result"
        }
      ],
      "source": [
        "# you can also pass two corresponding lists / tuples\n",
        "index = ['species', 'island', 'bill_length_mm', 'bill_depth_mm',\n",
        "       'flipper_length_mm', 'body_mass_g', 'sex']\n",
        "values = ['Adelie', 'Torgersen', 39.1, 18.7, 181.0, 3750.0, 'Male']\n",
        "\n",
        "penguin0_series = pd.Series(values, index=index)\n",
        "penguin0_series"
      ]
    },
    {
      "cell_type": "code",
      "execution_count": null,
      "metadata": {
        "colab": {
          "base_uri": "https://localhost:8080/",
          "height": 210
        },
        "id": "kDsZwu5gqpvO",
        "outputId": "874ef118-72e7-4ad5-b848-c30f0d6a4621"
      },
      "outputs": [
        {
          "data": {
            "text/html": [
              "<div>\n",
              "<style scoped>\n",
              "    .dataframe tbody tr th:only-of-type {\n",
              "        vertical-align: middle;\n",
              "    }\n",
              "\n",
              "    .dataframe tbody tr th {\n",
              "        vertical-align: top;\n",
              "    }\n",
              "\n",
              "    .dataframe thead th {\n",
              "        text-align: right;\n",
              "    }\n",
              "</style>\n",
              "<table border=\"1\" class=\"dataframe\">\n",
              "  <thead>\n",
              "    <tr style=\"text-align: right;\">\n",
              "      <th></th>\n",
              "      <th>0</th>\n",
              "    </tr>\n",
              "  </thead>\n",
              "  <tbody>\n",
              "    <tr>\n",
              "      <th>0</th>\n",
              "      <td>vanilla</td>\n",
              "    </tr>\n",
              "    <tr>\n",
              "      <th>1</th>\n",
              "      <td>chocolate</td>\n",
              "    </tr>\n",
              "    <tr>\n",
              "      <th>2</th>\n",
              "      <td>cherry garcia</td>\n",
              "    </tr>\n",
              "    <tr>\n",
              "      <th>3</th>\n",
              "      <td>oatmeal</td>\n",
              "    </tr>\n",
              "  </tbody>\n",
              "</table>\n",
              "</div><br><label><b>dtype:</b> object</label>"
            ],
            "text/plain": [
              "0          vanilla\n",
              "1        chocolate\n",
              "2    cherry garcia\n",
              "3          oatmeal\n",
              "dtype: object"
            ]
          },
          "execution_count": 70,
          "metadata": {},
          "output_type": "execute_result"
        }
      ],
      "source": [
        "# sometimes your data has no meaningful index\n",
        "# pandas will default to indexing things with integers\n",
        "ice_cream_flavors = 'vanilla', 'chocolate', 'cherry garcia', 'oatmeal'\n",
        "pd.Series(ice_cream_flavors)"
      ]
    },
    {
      "cell_type": "code",
      "execution_count": null,
      "metadata": {
        "colab": {
          "base_uri": "https://localhost:8080/"
        },
        "id": "loqdWiz0qpvO",
        "outputId": "97b845e2-f8f5-4960-abf0-5494c50c3b47"
      },
      "outputs": [
        {
          "data": {
            "text/plain": [
              "array(['Adelie', 'Torgersen', 39.1, 18.7, 181.0, 3750.0, 'Male'],\n",
              "      dtype=object)"
            ]
          },
          "execution_count": 71,
          "metadata": {},
          "output_type": "execute_result"
        }
      ],
      "source": [
        "# you can access values via .values\n",
        "penguin0_series.values"
      ]
    },
    {
      "cell_type": "code",
      "execution_count": null,
      "metadata": {
        "id": "zuDadAXxqpvO",
        "outputId": "e49fc846-eb00-4d54-ac5b-9851d4a84748"
      },
      "outputs": [
        {
          "data": {
            "text/plain": [
              "Index(['species', 'island', 'bill_length_mm', 'bill_depth_mm',\n",
              "       'flipper_length_mm', 'body_mass_g', 'sex'],\n",
              "      dtype='object')"
            ]
          },
          "execution_count": 77,
          "metadata": {},
          "output_type": "execute_result"
        }
      ],
      "source": [
        "# you can access index via .index\n",
        "penguin0_series.index"
      ]
    },
    {
      "cell_type": "markdown",
      "metadata": {
        "id": "o2DZEQ6XqpvO"
      },
      "source": [
        "### Using Series (hey, don't they look a little like dictionaries?)\n",
        "- casting dictionaries to series\n",
        "- accessing custom index:\n",
        "    - by name: `series.loc[name]`\n",
        "    - by position: `series.iloc[idx]`\n",
        "- iterating: keys, items, iteritems (much like dict)\n",
        "- deleting an entry"
      ]
    },
    {
      "cell_type": "markdown",
      "metadata": {
        "id": "JJJweJbwZape"
      },
      "source": [
        "## There are two ways using iloc and loc:\n",
        "\n",
        "- loc gets rows (and/or columns) with particular labels.\n",
        "- iloc gets rows (and/or columns) at integer locations.\n",
        "\n",
        "s = pd.Series(list(\"abcdef\"), index=[49, 48, 47, 0, 1, 2])\n",
        "\n",
        "49    a\n",
        "\n",
        "48    b\n",
        "\n",
        "47    c\n",
        "\n",
        "0     d\n",
        "\n",
        "1     e\n",
        "\n",
        "2     f\n",
        "\n",
        "s.loc[0]    # value at index label 0\n",
        "'d'\n",
        "\n",
        "s.iloc[0]   # value at index location 0\n",
        "'a'\n",
        "\n",
        "s.loc[0:1]  # rows at index labels between 0 and 1 (inclusive)\n",
        "0    d\n",
        "1    e\n",
        "\n",
        "s.iloc[0:1] # rows at index location between 0 and 1 (exclusive)\n",
        "49    a\n"
      ]
    },
    {
      "cell_type": "code",
      "execution_count": null,
      "metadata": {
        "colab": {
          "base_uri": "https://localhost:8080/",
          "height": 210
        },
        "id": "dRI658XhqpvO",
        "outputId": "28d12a4d-912c-4b12-bb85-1e156f8f031c"
      },
      "outputs": [
        {
          "data": {
            "text/plain": [
              "mohit     17\n",
              "qi         7\n",
              "lynne      3\n",
              "tamrat     1\n",
              "dtype: int64"
            ]
          },
          "execution_count": 20,
          "metadata": {},
          "output_type": "execute_result"
        }
      ],
      "source": [
        "dict_fav_num = {'mohit':  17, 'qi': 7, 'lynne': 3, 'tamrat': 1}\n",
        "series_fav_num = pd.Series(dict_fav_num)\n",
        "series_fav_num"
      ]
    },
    {
      "cell_type": "code",
      "execution_count": null,
      "metadata": {
        "id": "VkXFatwqqpvP",
        "outputId": "98122454-dbe8-464d-ada8-cdf29df0bd2a"
      },
      "outputs": [
        {
          "data": {
            "text/plain": [
              "np.int64(17)"
            ]
          },
          "execution_count": 21,
          "metadata": {},
          "output_type": "execute_result"
        }
      ],
      "source": [
        "# lookup value associated with index='eric'\n",
        "series_fav_num['mohit']"
      ]
    },
    {
      "cell_type": "code",
      "execution_count": null,
      "metadata": {
        "id": "ovA6BLLIqpvP",
        "outputId": "6b5de185-dc1c-4d26-b892-544bbd73265c"
      },
      "outputs": [
        {
          "data": {
            "text/plain": [
              "np.int64(17)"
            ]
          },
          "execution_count": 23,
          "metadata": {},
          "output_type": "execute_result"
        }
      ],
      "source": [
        "# another way to lookup value associated with index='eric'\n",
        "series_fav_num.loc['mohit']"
      ]
    },
    {
      "cell_type": "code",
      "execution_count": null,
      "metadata": {
        "colab": {
          "base_uri": "https://localhost:8080/"
        },
        "id": "u1fWK9dRqpvP",
        "outputId": "a5bd9e68-0b02-4e72-cb98-b4301208814a"
      },
      "outputs": [
        {
          "data": {
            "text/plain": [
              "7"
            ]
          },
          "execution_count": 75,
          "metadata": {},
          "output_type": "execute_result"
        }
      ],
      "source": [
        "# return the value in position 2 (the third position, from top)\n",
        "series_fav_num.iloc[1]"
      ]
    },
    {
      "cell_type": "code",
      "execution_count": null,
      "metadata": {
        "id": "3VnfaXsNqpvP",
        "outputId": "d3577bcd-951d-4d18-b10a-f79a215e328c"
      },
      "outputs": [
        {
          "data": {
            "text/plain": [
              "eric        17\n",
              "qi           7\n",
              "lynne     1000\n",
              "tamrat       1\n",
              "dtype: int64"
            ]
          },
          "execution_count": 82,
          "metadata": {},
          "output_type": "execute_result"
        }
      ],
      "source": [
        "# each of these access methods can also set the value\n",
        "series_fav_num.iloc[2] = 1000\n",
        "series_fav_num"
      ]
    },
    {
      "cell_type": "code",
      "execution_count": null,
      "metadata": {
        "id": "omkbLKHeqpvP",
        "outputId": "da624699-c81b-4c80-ce9b-1fb89c177890"
      },
      "outputs": [
        {
          "name": "stdout",
          "output_type": "stream",
          "text": [
            "eric\n",
            "qi\n",
            "lynne\n",
            "tamrat\n"
          ]
        }
      ],
      "source": [
        "for idx in series_fav_num.index:\n",
        "    print(idx)"
      ]
    },
    {
      "cell_type": "code",
      "execution_count": null,
      "metadata": {
        "colab": {
          "base_uri": "https://localhost:8080/"
        },
        "id": "GFPW_MrQqpvP",
        "outputId": "429ad863-964b-47af-f9a9-a9424b6ab847"
      },
      "outputs": [
        {
          "data": {
            "text/plain": [
              "True"
            ]
          },
          "execution_count": 24,
          "metadata": {},
          "output_type": "execute_result"
        }
      ],
      "source": [
        "# check membership of item in index\n",
        "'mohit' in series_fav_num.index"
      ]
    },
    {
      "cell_type": "code",
      "execution_count": null,
      "metadata": {
        "id": "P7XxS3_oqpvP",
        "outputId": "ae269bd4-d251-4bb3-e3b4-15b9d91b34d8"
      },
      "outputs": [
        {
          "data": {
            "text/plain": [
              "False"
            ]
          },
          "execution_count": 85,
          "metadata": {},
          "output_type": "execute_result"
        }
      ],
      "source": [
        "'alice' in series_fav_num.index"
      ]
    },
    {
      "cell_type": "code",
      "execution_count": null,
      "metadata": {
        "colab": {
          "base_uri": "https://localhost:8080/"
        },
        "id": "xtRubXCPqpvP",
        "outputId": "1a32d125-d3cb-45db-d0ef-af5e76f9b74f"
      },
      "outputs": [
        {
          "name": "stdout",
          "output_type": "stream",
          "text": [
            "7\n",
            "3\n",
            "1\n"
          ]
        }
      ],
      "source": [
        "# iterating through values\n",
        "for val in series_fav_num.values:\n",
        "    print(val)"
      ]
    },
    {
      "cell_type": "code",
      "execution_count": null,
      "metadata": {
        "colab": {
          "base_uri": "https://localhost:8080/"
        },
        "id": "YY6IMbbSqpvP",
        "outputId": "44c07840-b636-40be-cc74-51a3c4e59cef"
      },
      "outputs": [
        {
          "name": "stdout",
          "output_type": "stream",
          "text": [
            "qi\n",
            "lynne\n",
            "tamrat\n"
          ]
        }
      ],
      "source": [
        "# iterating through index (just a like dict!)\n",
        "# .keys() produces same thing as .index\n",
        "for key in series_fav_num.keys():\n",
        "    print(key)"
      ]
    },
    {
      "cell_type": "code",
      "execution_count": null,
      "metadata": {
        "colab": {
          "base_uri": "https://localhost:8080/"
        },
        "id": "H3Kcc85ZqpvP",
        "outputId": "ff60a1bd-0a21-44e1-b7fe-0a5b5260e59c"
      },
      "outputs": [
        {
          "name": "stdout",
          "output_type": "stream",
          "text": [
            "qi 7\n",
            "lynne 3\n",
            "tamrat 1\n"
          ]
        }
      ],
      "source": [
        "# iterating through index, value pairs (just like dict!)\n",
        "for key, val in series_fav_num.items():\n",
        "    print(key, val)"
      ]
    },
    {
      "cell_type": "code",
      "execution_count": null,
      "metadata": {
        "id": "nqGvZKupqpvP"
      },
      "outputs": [],
      "source": [
        "# removing a pair by its corresponding index (just like dict!)\n",
        "del series_fav_num['mohit']"
      ]
    },
    {
      "cell_type": "code",
      "execution_count": null,
      "metadata": {
        "colab": {
          "base_uri": "https://localhost:8080/",
          "height": 178
        },
        "id": "deik9Y_sqpvP",
        "outputId": "a40210d1-f0a2-47ac-e585-f6973d4226e9"
      },
      "outputs": [
        {
          "data": {
            "text/html": [
              "<div>\n",
              "<style scoped>\n",
              "    .dataframe tbody tr th:only-of-type {\n",
              "        vertical-align: middle;\n",
              "    }\n",
              "\n",
              "    .dataframe tbody tr th {\n",
              "        vertical-align: top;\n",
              "    }\n",
              "\n",
              "    .dataframe thead th {\n",
              "        text-align: right;\n",
              "    }\n",
              "</style>\n",
              "<table border=\"1\" class=\"dataframe\">\n",
              "  <thead>\n",
              "    <tr style=\"text-align: right;\">\n",
              "      <th></th>\n",
              "      <th>0</th>\n",
              "    </tr>\n",
              "  </thead>\n",
              "  <tbody>\n",
              "    <tr>\n",
              "      <th>qi</th>\n",
              "      <td>7</td>\n",
              "    </tr>\n",
              "    <tr>\n",
              "      <th>lynne</th>\n",
              "      <td>3</td>\n",
              "    </tr>\n",
              "    <tr>\n",
              "      <th>tamrat</th>\n",
              "      <td>1</td>\n",
              "    </tr>\n",
              "  </tbody>\n",
              "</table>\n",
              "</div><br><label><b>dtype:</b> int64</label>"
            ],
            "text/plain": [
              "qi        7\n",
              "lynne     3\n",
              "tamrat    1\n",
              "dtype: int64"
            ]
          },
          "execution_count": 77,
          "metadata": {},
          "output_type": "execute_result"
        }
      ],
      "source": [
        "series_fav_num"
      ]
    },
    {
      "cell_type": "markdown",
      "metadata": {
        "id": "cdXnz9P0qpvP"
      },
      "source": [
        "### Describing a `pd.Series`\n",
        "\n",
        "Just like numpy arrays:\n",
        "- `Series.argmin()`\n",
        "    - which index has smallest value\n",
        "    - pandas gives the row number, not the index\n",
        "- `Series.argmax()`\n",
        "    - which index has largest value\n",
        "    - pandas gives the row number, not the index\n",
        "- `Series.mean()`\n",
        "- `Series.min()`\n",
        "- `Series.max()`\n",
        "- `Series.std()`\n",
        "- `Series.var()`\n",
        "\n",
        "New to pandas:\n",
        "- `Series.count()`\n",
        "    - number of item pairs in series\n",
        "- `Series.describe()`\n",
        "    - summary statistics"
      ]
    },
    {
      "cell_type": "code",
      "execution_count": null,
      "metadata": {
        "id": "5fs7qX85qpvQ",
        "outputId": "9a1fe7a2-5ff6-498d-cef9-7671d2b32c97"
      },
      "outputs": [
        {
          "data": {
            "text/plain": [
              "3"
            ]
          },
          "execution_count": 91,
          "metadata": {},
          "output_type": "execute_result"
        }
      ],
      "source": [
        "# number of entries (rows)\n",
        "series_fav_num.count()"
      ]
    },
    {
      "cell_type": "markdown",
      "metadata": {
        "id": "7kHB1i5TLC2t"
      },
      "source": [
        "# why do things indiviually, when we can just use the describe function!\n",
        "# That sounds suspicious\n",
        "<img src=\"https://media4.giphy.com/media/lxfXcVFaE42By/giphy.gif?cid=6c09b952maa6322c0k5ptstqtnyfh17567xj6xpjyc6nsoae&ep=v1_internal_gif_by_id&rid=giphy.gif&ct=g\" width=700 />"
      ]
    },
    {
      "cell_type": "code",
      "execution_count": null,
      "metadata": {
        "colab": {
          "base_uri": "https://localhost:8080/",
          "height": 335
        },
        "id": "zvGVBHkBqpvQ",
        "outputId": "f501309f-6ddc-42fe-c430-65bc99198b8c"
      },
      "outputs": [
        {
          "data": {
            "text/html": [
              "<div>\n",
              "<style scoped>\n",
              "    .dataframe tbody tr th:only-of-type {\n",
              "        vertical-align: middle;\n",
              "    }\n",
              "\n",
              "    .dataframe tbody tr th {\n",
              "        vertical-align: top;\n",
              "    }\n",
              "\n",
              "    .dataframe thead th {\n",
              "        text-align: right;\n",
              "    }\n",
              "</style>\n",
              "<table border=\"1\" class=\"dataframe\">\n",
              "  <thead>\n",
              "    <tr style=\"text-align: right;\">\n",
              "      <th></th>\n",
              "      <th>0</th>\n",
              "    </tr>\n",
              "  </thead>\n",
              "  <tbody>\n",
              "    <tr>\n",
              "      <th>count</th>\n",
              "      <td>3.000000</td>\n",
              "    </tr>\n",
              "    <tr>\n",
              "      <th>mean</th>\n",
              "      <td>3.666667</td>\n",
              "    </tr>\n",
              "    <tr>\n",
              "      <th>std</th>\n",
              "      <td>3.055050</td>\n",
              "    </tr>\n",
              "    <tr>\n",
              "      <th>min</th>\n",
              "      <td>1.000000</td>\n",
              "    </tr>\n",
              "    <tr>\n",
              "      <th>25%</th>\n",
              "      <td>2.000000</td>\n",
              "    </tr>\n",
              "    <tr>\n",
              "      <th>50%</th>\n",
              "      <td>3.000000</td>\n",
              "    </tr>\n",
              "    <tr>\n",
              "      <th>75%</th>\n",
              "      <td>5.000000</td>\n",
              "    </tr>\n",
              "    <tr>\n",
              "      <th>max</th>\n",
              "      <td>7.000000</td>\n",
              "    </tr>\n",
              "  </tbody>\n",
              "</table>\n",
              "</div><br><label><b>dtype:</b> float64</label>"
            ],
            "text/plain": [
              "count    3.000000\n",
              "mean     3.666667\n",
              "std      3.055050\n",
              "min      1.000000\n",
              "25%      2.000000\n",
              "50%      3.000000\n",
              "75%      5.000000\n",
              "max      7.000000\n",
              "dtype: float64"
            ]
          },
          "execution_count": 83,
          "metadata": {},
          "output_type": "execute_result"
        }
      ],
      "source": [
        "# other descriptors/summary statistics\n",
        "\n",
        "series_fav_num.describe()"
      ]
    },
    {
      "cell_type": "markdown",
      "metadata": {
        "id": "M-VYj2q7qpvQ"
      },
      "source": [
        "## Pandas: DataFrame\n",
        "\n",
        "Remember:\n",
        "- `Series`:  1d data object\n",
        "- `DataFrame`: 2d data object\n",
        "\n",
        "`DataFrame`s represent two-dimensional data, for example, grades:\n",
        "\n",
        "|           | Quiz 0 | Quiz 1 | Quiz 2 |\n",
        "|-----------|--------|--------|--------|\n",
        "| Student 0 | 80     | 90     | 50     |\n",
        "| Student 1 | 87     | 92     | 80     |\n",
        "\n",
        "Each column or row above could be considered a `Series` object (as we'll see later, we can indeed extract a single row or column of a dataframe as a `Series` object)."
      ]
    },
    {
      "cell_type": "code",
      "execution_count": null,
      "metadata": {
        "colab": {
          "base_uri": "https://localhost:8080/",
          "height": 125
        },
        "id": "ORgERYbsqpvQ",
        "outputId": "0b592485-bffe-4335-c4c1-d0d5b42651d8"
      },
      "outputs": [
        {
          "data": {
            "text/html": [
              "<div>\n",
              "<style scoped>\n",
              "    .dataframe tbody tr th:only-of-type {\n",
              "        vertical-align: middle;\n",
              "    }\n",
              "\n",
              "    .dataframe tbody tr th {\n",
              "        vertical-align: top;\n",
              "    }\n",
              "\n",
              "    .dataframe thead th {\n",
              "        text-align: right;\n",
              "    }\n",
              "</style>\n",
              "<table border=\"1\" class=\"dataframe\">\n",
              "  <thead>\n",
              "    <tr style=\"text-align: right;\">\n",
              "      <th></th>\n",
              "      <th>quiz0</th>\n",
              "      <th>quiz1</th>\n",
              "      <th>quiz2</th>\n",
              "    </tr>\n",
              "  </thead>\n",
              "  <tbody>\n",
              "    <tr>\n",
              "      <th>student0</th>\n",
              "      <td>80</td>\n",
              "      <td>90</td>\n",
              "      <td>50</td>\n",
              "    </tr>\n",
              "    <tr>\n",
              "      <th>student1</th>\n",
              "      <td>87</td>\n",
              "      <td>92</td>\n",
              "      <td>80</td>\n",
              "    </tr>\n",
              "  </tbody>\n",
              "</table>\n",
              "</div>"
            ],
            "text/plain": [
              "          quiz0  quiz1  quiz2\n",
              "student0     80     90     50\n",
              "student1     87     92     80"
            ]
          },
          "execution_count": 21,
          "metadata": {},
          "output_type": "execute_result"
        }
      ],
      "source": [
        "import pandas as pd\n",
        "import numpy as np\n",
        "\n",
        "quiz_array = np.array([[80, 90, 50],\n",
        "                 [87, 92, 80]])\n",
        "\n",
        "df_quiz = pd.DataFrame(quiz_array,\n",
        "                       columns=('quiz0', 'quiz1', 'quiz2'),\n",
        "                       index=('student0', 'student1'))\n",
        "df_quiz"
      ]
    },
    {
      "cell_type": "code",
      "execution_count": null,
      "metadata": {
        "colab": {
          "base_uri": "https://localhost:8080/",
          "height": 112
        },
        "id": "_ZcYcXMPqpvQ",
        "outputId": "ba043f3d-cac4-4986-8d4a-1097086ffd80"
      },
      "outputs": [
        {
          "data": {
            "text/html": [
              "<div>\n",
              "<style scoped>\n",
              "    .dataframe tbody tr th:only-of-type {\n",
              "        vertical-align: middle;\n",
              "    }\n",
              "\n",
              "    .dataframe tbody tr th {\n",
              "        vertical-align: top;\n",
              "    }\n",
              "\n",
              "    .dataframe thead th {\n",
              "        text-align: right;\n",
              "    }\n",
              "</style>\n",
              "<table border=\"1\" class=\"dataframe\">\n",
              "  <thead>\n",
              "    <tr style=\"text-align: right;\">\n",
              "      <th></th>\n",
              "      <th>quiz0</th>\n",
              "      <th>quiz1</th>\n",
              "      <th>quiz2</th>\n",
              "    </tr>\n",
              "  </thead>\n",
              "  <tbody>\n",
              "    <tr>\n",
              "      <th>student0</th>\n",
              "      <td>80</td>\n",
              "      <td>90</td>\n",
              "      <td>50</td>\n",
              "    </tr>\n",
              "    <tr>\n",
              "      <th>student1</th>\n",
              "      <td>87</td>\n",
              "      <td>92</td>\n",
              "      <td>80</td>\n",
              "    </tr>\n",
              "  </tbody>\n",
              "</table>\n",
              "</div>"
            ],
            "text/plain": [
              "          quiz0  quiz1  quiz2\n",
              "student0     80     90     50\n",
              "student1     87     92     80"
            ]
          },
          "execution_count": 22,
          "metadata": {},
          "output_type": "execute_result"
        }
      ],
      "source": [
        "# we construct a dataframe as a dictionary\n",
        "# keys of the dictionary are columns of dataframe\n",
        "# values are lists (or tuples) of the values in each column\n",
        "quiz_dict = {'quiz0': [80, 87],\n",
        "            'quiz1': [90, 92],\n",
        "            'quiz2': [50, 80]}\n",
        "pd.DataFrame(quiz_dict, index=('student0', 'student1'))"
      ]
    },
    {
      "cell_type": "code",
      "execution_count": null,
      "metadata": {
        "colab": {
          "base_uri": "https://localhost:8080/",
          "height": 143
        },
        "id": "ZFs2jKtEqpvQ",
        "outputId": "3062ffc4-e68f-4a72-81a8-a326ad6713ec"
      },
      "outputs": [
        {
          "data": {
            "text/html": [
              "<div>\n",
              "<style scoped>\n",
              "    .dataframe tbody tr th:only-of-type {\n",
              "        vertical-align: middle;\n",
              "    }\n",
              "\n",
              "    .dataframe tbody tr th {\n",
              "        vertical-align: top;\n",
              "    }\n",
              "\n",
              "    .dataframe thead th {\n",
              "        text-align: right;\n",
              "    }\n",
              "</style>\n",
              "<table border=\"1\" class=\"dataframe\">\n",
              "  <thead>\n",
              "    <tr style=\"text-align: right;\">\n",
              "      <th></th>\n",
              "      <th>student0</th>\n",
              "      <th>student1</th>\n",
              "    </tr>\n",
              "  </thead>\n",
              "  <tbody>\n",
              "    <tr>\n",
              "      <th>quiz0</th>\n",
              "      <td>80</td>\n",
              "      <td>87</td>\n",
              "    </tr>\n",
              "    <tr>\n",
              "      <th>quiz1</th>\n",
              "      <td>90</td>\n",
              "      <td>92</td>\n",
              "    </tr>\n",
              "    <tr>\n",
              "      <th>quiz2</th>\n",
              "      <td>50</td>\n",
              "      <td>80</td>\n",
              "    </tr>\n",
              "  </tbody>\n",
              "</table>\n",
              "</div>"
            ],
            "text/plain": [
              "       student0  student1\n",
              "quiz0        80        87\n",
              "quiz1        90        92\n",
              "quiz2        50        80"
            ]
          },
          "execution_count": 23,
          "metadata": {},
          "output_type": "execute_result"
        }
      ],
      "source": [
        "# another way to construct, this time the transpose\n",
        "quiz_dict2 = {'student0': [80, 90, 50],\n",
        "             'student1': [87, 92, 80]}\n",
        "pd.DataFrame(quiz_dict2, index=('quiz0', 'quiz1', 'quiz2'))"
      ]
    },
    {
      "cell_type": "code",
      "execution_count": null,
      "metadata": {
        "colab": {
          "base_uri": "https://localhost:8080/",
          "height": 143
        },
        "id": "2ug3pbFkqpvQ",
        "outputId": "d6f0b01d-c48c-4d4c-8e9e-75cb0779cd8a"
      },
      "outputs": [
        {
          "data": {
            "text/html": [
              "<div>\n",
              "<style scoped>\n",
              "    .dataframe tbody tr th:only-of-type {\n",
              "        vertical-align: middle;\n",
              "    }\n",
              "\n",
              "    .dataframe tbody tr th {\n",
              "        vertical-align: top;\n",
              "    }\n",
              "\n",
              "    .dataframe thead th {\n",
              "        text-align: right;\n",
              "    }\n",
              "</style>\n",
              "<table border=\"1\" class=\"dataframe\">\n",
              "  <thead>\n",
              "    <tr style=\"text-align: right;\">\n",
              "      <th></th>\n",
              "      <th>quiz0</th>\n",
              "      <th>quiz1</th>\n",
              "      <th>quiz2</th>\n",
              "    </tr>\n",
              "  </thead>\n",
              "  <tbody>\n",
              "    <tr>\n",
              "      <th>student0</th>\n",
              "      <td>80</td>\n",
              "      <td>90</td>\n",
              "      <td>50</td>\n",
              "    </tr>\n",
              "    <tr>\n",
              "      <th>student1</th>\n",
              "      <td>87</td>\n",
              "      <td>92</td>\n",
              "      <td>80</td>\n",
              "    </tr>\n",
              "  </tbody>\n",
              "</table>\n",
              "</div>"
            ],
            "text/plain": [
              "          quiz0  quiz1  quiz2\n",
              "student0     80     90     50\n",
              "student1     87     92     80"
            ]
          },
          "execution_count": 24,
          "metadata": {},
          "output_type": "execute_result"
        }
      ],
      "source": [
        "# could also use .transpose() or even .T\n",
        "df_quiz.transpose()\n",
        "# df_quiz.T\n",
        "df_quiz"
      ]
    },
    {
      "cell_type": "code",
      "execution_count": null,
      "metadata": {
        "colab": {
          "base_uri": "https://localhost:8080/",
          "height": 125
        },
        "id": "Xe8Tfk5WqpvQ",
        "outputId": "822c5b00-9424-4663-e4aa-ee64c244968c"
      },
      "outputs": [
        {
          "data": {
            "text/html": [
              "<div>\n",
              "<style scoped>\n",
              "    .dataframe tbody tr th:only-of-type {\n",
              "        vertical-align: middle;\n",
              "    }\n",
              "\n",
              "    .dataframe tbody tr th {\n",
              "        vertical-align: top;\n",
              "    }\n",
              "\n",
              "    .dataframe thead th {\n",
              "        text-align: right;\n",
              "    }\n",
              "</style>\n",
              "<table border=\"1\" class=\"dataframe\">\n",
              "  <thead>\n",
              "    <tr style=\"text-align: right;\">\n",
              "      <th></th>\n",
              "      <th>0</th>\n",
              "      <th>1</th>\n",
              "      <th>2</th>\n",
              "    </tr>\n",
              "  </thead>\n",
              "  <tbody>\n",
              "    <tr>\n",
              "      <th>0</th>\n",
              "      <td>80</td>\n",
              "      <td>90</td>\n",
              "      <td>50</td>\n",
              "    </tr>\n",
              "    <tr>\n",
              "      <th>1</th>\n",
              "      <td>87</td>\n",
              "      <td>92</td>\n",
              "      <td>80</td>\n",
              "    </tr>\n",
              "  </tbody>\n",
              "</table>\n",
              "</div>"
            ],
            "text/plain": [
              "    0   1   2\n",
              "0  80  90  50\n",
              "1  87  92  80"
            ]
          },
          "execution_count": 25,
          "metadata": {},
          "output_type": "execute_result"
        }
      ],
      "source": [
        "# we can also add the column or index names after creation\n",
        "df_quiz = pd.DataFrame(quiz_array)\n",
        "df_quiz"
      ]
    },
    {
      "cell_type": "code",
      "execution_count": null,
      "metadata": {
        "colab": {
          "base_uri": "https://localhost:8080/",
          "height": 125
        },
        "id": "UROyRptsqpvQ",
        "outputId": "e4ef9aaa-d4de-4d13-ed75-c7fd32c055ff"
      },
      "outputs": [
        {
          "data": {
            "text/html": [
              "<div>\n",
              "<style scoped>\n",
              "    .dataframe tbody tr th:only-of-type {\n",
              "        vertical-align: middle;\n",
              "    }\n",
              "\n",
              "    .dataframe tbody tr th {\n",
              "        vertical-align: top;\n",
              "    }\n",
              "\n",
              "    .dataframe thead th {\n",
              "        text-align: right;\n",
              "    }\n",
              "</style>\n",
              "<table border=\"1\" class=\"dataframe\">\n",
              "  <thead>\n",
              "    <tr style=\"text-align: right;\">\n",
              "      <th></th>\n",
              "      <th>quiz0</th>\n",
              "      <th>quiz1</th>\n",
              "      <th>quiz2</th>\n",
              "    </tr>\n",
              "  </thead>\n",
              "  <tbody>\n",
              "    <tr>\n",
              "      <th>student0</th>\n",
              "      <td>80</td>\n",
              "      <td>90</td>\n",
              "      <td>50</td>\n",
              "    </tr>\n",
              "    <tr>\n",
              "      <th>student1</th>\n",
              "      <td>87</td>\n",
              "      <td>92</td>\n",
              "      <td>80</td>\n",
              "    </tr>\n",
              "  </tbody>\n",
              "</table>\n",
              "</div>"
            ],
            "text/plain": [
              "          quiz0  quiz1  quiz2\n",
              "student0     80     90     50\n",
              "student1     87     92     80"
            ]
          },
          "execution_count": 26,
          "metadata": {},
          "output_type": "execute_result"
        }
      ],
      "source": [
        "df_quiz.columns = ['quiz0', 'quiz1', 'quiz2']\n",
        "df_quiz.index = ('student0', 'student1')\n",
        "df_quiz"
      ]
    },
    {
      "cell_type": "markdown",
      "metadata": {
        "id": "5dE6HyHkqpvQ"
      },
      "source": [
        "### Describing a `pd.DataFrame`\n",
        "\n",
        "Similar to Series (for now), but with a couple differences:\n",
        "- `DataFrame.iloc[].idxmin()` or `DataFrame.loc[].idxmin()`\n",
        "    - note that this does not work on the DataFrame itself, but on specified series/rows\n",
        "    - which index has smallest value\n",
        "    - pandas gives the row number, not the index\n",
        "- `DataFrame.iloc[].idxmax()` or `DataFrame.loc[].idxmax()`\n",
        "    - note that this does not work on the DataFrame itself, but on specified series/rows\n",
        "    - which index has largest value\n",
        "    - pandas gives the row number, not the index\n",
        "- `DataFrame.mean()`\n",
        "- `DataFrame.min()`\n",
        "- `DataFrame.max()`\n",
        "- `DataFrame.std()`\n",
        "- `DataFrame.var()`\n",
        "\n",
        "New to pandas:\n",
        "- `DataFrame.count()`\n",
        "    - number of item pairs in series\n",
        "- `DataFrame.describe()`\n",
        "    - summary statistics"
      ]
    },
    {
      "cell_type": "code",
      "execution_count": null,
      "metadata": {
        "id": "fVdDUiCmqpvQ",
        "outputId": "5fbb68fe-02d9-4333-afc0-4846f4242af2"
      },
      "outputs": [
        {
          "data": {
            "text/plain": [
              "quiz0    83.5\n",
              "quiz1    91.0\n",
              "quiz2    65.0\n",
              "dtype: float64"
            ]
          },
          "execution_count": 27,
          "metadata": {},
          "output_type": "execute_result"
        }
      ],
      "source": [
        "# by default, each method applies operation to entire column of data\n",
        "# note that there may be some complaining from python if not all the columns are numeric\n",
        "df_quiz.mean()"
      ]
    },
    {
      "cell_type": "code",
      "execution_count": null,
      "metadata": {
        "id": "zJObxUjtqpvQ",
        "outputId": "5c426ca7-4514-427e-c68f-1150e5170dac"
      },
      "outputs": [
        {
          "data": {
            "text/plain": [
              "student0    73.333333\n",
              "student1    86.333333\n",
              "dtype: float64"
            ]
          },
          "execution_count": 28,
          "metadata": {},
          "output_type": "execute_result"
        }
      ],
      "source": [
        "# we can also pass axis parameter to specify if operation should be applied to row or column\n",
        "# !remember!\n",
        "# axis=0 -> apply operation across all rows and returns operation output per col\n",
        "# axis=1 -> apply operation across all cols and returns operation output per row\n",
        "df_quiz.mean(axis=1)"
      ]
    },
    {
      "cell_type": "code",
      "execution_count": null,
      "metadata": {
        "id": "VD-9KFs7qpvR",
        "outputId": "d5fb08a0-e58e-4fbe-efee-03490f5f1ebc"
      },
      "outputs": [
        {
          "data": {
            "text/html": [
              "<div>\n",
              "<style scoped>\n",
              "    .dataframe tbody tr th:only-of-type {\n",
              "        vertical-align: middle;\n",
              "    }\n",
              "\n",
              "    .dataframe tbody tr th {\n",
              "        vertical-align: top;\n",
              "    }\n",
              "\n",
              "    .dataframe thead th {\n",
              "        text-align: right;\n",
              "    }\n",
              "</style>\n",
              "<table border=\"1\" class=\"dataframe\">\n",
              "  <thead>\n",
              "    <tr style=\"text-align: right;\">\n",
              "      <th></th>\n",
              "      <th>quiz0</th>\n",
              "      <th>quiz1</th>\n",
              "      <th>quiz2</th>\n",
              "    </tr>\n",
              "  </thead>\n",
              "  <tbody>\n",
              "    <tr>\n",
              "      <th>count</th>\n",
              "      <td>2.000000</td>\n",
              "      <td>2.000000</td>\n",
              "      <td>2.000000</td>\n",
              "    </tr>\n",
              "    <tr>\n",
              "      <th>mean</th>\n",
              "      <td>83.500000</td>\n",
              "      <td>91.000000</td>\n",
              "      <td>65.000000</td>\n",
              "    </tr>\n",
              "    <tr>\n",
              "      <th>std</th>\n",
              "      <td>4.949747</td>\n",
              "      <td>1.414214</td>\n",
              "      <td>21.213203</td>\n",
              "    </tr>\n",
              "    <tr>\n",
              "      <th>min</th>\n",
              "      <td>80.000000</td>\n",
              "      <td>90.000000</td>\n",
              "      <td>50.000000</td>\n",
              "    </tr>\n",
              "    <tr>\n",
              "      <th>25%</th>\n",
              "      <td>81.750000</td>\n",
              "      <td>90.500000</td>\n",
              "      <td>57.500000</td>\n",
              "    </tr>\n",
              "    <tr>\n",
              "      <th>50%</th>\n",
              "      <td>83.500000</td>\n",
              "      <td>91.000000</td>\n",
              "      <td>65.000000</td>\n",
              "    </tr>\n",
              "    <tr>\n",
              "      <th>75%</th>\n",
              "      <td>85.250000</td>\n",
              "      <td>91.500000</td>\n",
              "      <td>72.500000</td>\n",
              "    </tr>\n",
              "    <tr>\n",
              "      <th>max</th>\n",
              "      <td>87.000000</td>\n",
              "      <td>92.000000</td>\n",
              "      <td>80.000000</td>\n",
              "    </tr>\n",
              "  </tbody>\n",
              "</table>\n",
              "</div>"
            ],
            "text/plain": [
              "           quiz0      quiz1      quiz2\n",
              "count   2.000000   2.000000   2.000000\n",
              "mean   83.500000  91.000000  65.000000\n",
              "std     4.949747   1.414214  21.213203\n",
              "min    80.000000  90.000000  50.000000\n",
              "25%    81.750000  90.500000  57.500000\n",
              "50%    83.500000  91.000000  65.000000\n",
              "75%    85.250000  91.500000  72.500000\n",
              "max    87.000000  92.000000  80.000000"
            ]
          },
          "execution_count": 29,
          "metadata": {},
          "output_type": "execute_result"
        }
      ],
      "source": [
        "# describe only works on columns\n",
        "df_quiz.describe()"
      ]
    },
    {
      "cell_type": "markdown",
      "metadata": {
        "id": "6lnxY5WEqpvR"
      },
      "source": [
        "## Indexing / Accessing a DataFrame\n",
        "- indexing:\n",
        "    - `.loc[]` indexing by name of row or column\n",
        "    - `.iloc[]` indexing by position integer (0, 1, 2, 3, 4 ...)\n",
        "    & slicing & subsets\n",
        "- using `:` to get full rows or columns\n",
        "- single cell's contents: `at`, `iat` & slicing"
      ]
    },
    {
      "cell_type": "code",
      "execution_count": null,
      "metadata": {
        "colab": {
          "base_uri": "https://localhost:8080/",
          "height": 125
        },
        "id": "mVUxzZ6RMRKd",
        "outputId": "37175daf-8529-44a0-8510-935063ce35ef"
      },
      "outputs": [
        {
          "data": {
            "text/html": [
              "<div>\n",
              "<style scoped>\n",
              "    .dataframe tbody tr th:only-of-type {\n",
              "        vertical-align: middle;\n",
              "    }\n",
              "\n",
              "    .dataframe tbody tr th {\n",
              "        vertical-align: top;\n",
              "    }\n",
              "\n",
              "    .dataframe thead th {\n",
              "        text-align: right;\n",
              "    }\n",
              "</style>\n",
              "<table border=\"1\" class=\"dataframe\">\n",
              "  <thead>\n",
              "    <tr style=\"text-align: right;\">\n",
              "      <th></th>\n",
              "      <th>quiz0</th>\n",
              "      <th>quiz1</th>\n",
              "      <th>quiz2</th>\n",
              "    </tr>\n",
              "  </thead>\n",
              "  <tbody>\n",
              "    <tr>\n",
              "      <th>student0</th>\n",
              "      <td>80</td>\n",
              "      <td>90</td>\n",
              "      <td>50</td>\n",
              "    </tr>\n",
              "    <tr>\n",
              "      <th>student1</th>\n",
              "      <td>87</td>\n",
              "      <td>92</td>\n",
              "      <td>80</td>\n",
              "    </tr>\n",
              "  </tbody>\n",
              "</table>\n",
              "</div>"
            ],
            "text/plain": [
              "          quiz0  quiz1  quiz2\n",
              "student0     80     90     50\n",
              "student1     87     92     80"
            ]
          },
          "execution_count": 41,
          "metadata": {},
          "output_type": "execute_result"
        }
      ],
      "source": [
        "df_quiz"
      ]
    },
    {
      "cell_type": "code",
      "execution_count": null,
      "metadata": {
        "colab": {
          "base_uri": "https://localhost:8080/"
        },
        "id": "4GBcOVVYqpvR",
        "outputId": "3cbdf337-8494-43f3-cdac-56e4532483c1"
      },
      "outputs": [
        {
          "data": {
            "text/plain": [
              "np.int64(80)"
            ]
          },
          "execution_count": 31,
          "metadata": {},
          "output_type": "execute_result"
        }
      ],
      "source": [
        "# indexing data by \"name\"\n",
        "# remember: rows first, then columns ...\n",
        "# 1st entry describes which row ('student0')\n",
        "# 2nd entry describes which col ('quiz0')\n",
        "\n",
        "df_quiz.loc['student0', 'quiz0']"
      ]
    },
    {
      "cell_type": "code",
      "execution_count": null,
      "metadata": {
        "id": "_Hf9iPCuqpvR",
        "outputId": "4710e369-d9de-493f-d1b1-084c4f94619d"
      },
      "outputs": [
        {
          "data": {
            "text/plain": [
              "np.int64(50)"
            ]
          },
          "execution_count": 35,
          "metadata": {},
          "output_type": "execute_result"
        }
      ],
      "source": [
        "# index data by position\n",
        "# 1st entry describes which row.  0 -> the 1st (topmost) row\n",
        "# 2nd entry describes which col.  2 -> the 3rd (from the left) col\n",
        "df_quiz.iloc[0, 2]"
      ]
    },
    {
      "cell_type": "code",
      "execution_count": null,
      "metadata": {
        "id": "zlJQqH4yZapg",
        "outputId": "bbafb9fb-674b-4063-a3d6-e5d25d6c9cd5"
      },
      "outputs": [
        {
          "data": {
            "text/plain": [
              "quiz0    80\n",
              "quiz1    90\n",
              "quiz2    50\n",
              "Name: student0, dtype: int64"
            ]
          },
          "execution_count": 58,
          "metadata": {},
          "output_type": "execute_result"
        }
      ],
      "source": [
        "#In loc, 'quiz0':'quiz2', quiz2 is inclusive\n",
        "df_quiz.loc['student0','quiz0':'quiz2']"
      ]
    },
    {
      "cell_type": "code",
      "execution_count": null,
      "metadata": {
        "id": "8eX5yIgaZapg",
        "outputId": "aff7242e-af80-4d11-dac3-eef7f4f816f2"
      },
      "outputs": [
        {
          "ename": "KeyError",
          "evalue": "0",
          "output_type": "error",
          "traceback": [
            "\u001b[0;31m---------------------------------------------------------------------------\u001b[0m",
            "\u001b[0;31mKeyError\u001b[0m                                  Traceback (most recent call last)",
            "File \u001b[0;32m/opt/homebrew/lib/python3.13/site-packages/pandas/core/indexes/base.py:3805\u001b[0m, in \u001b[0;36mIndex.get_loc\u001b[0;34m(self, key)\u001b[0m\n\u001b[1;32m   3804\u001b[0m \u001b[38;5;28;01mtry\u001b[39;00m:\n\u001b[0;32m-> 3805\u001b[0m     \u001b[38;5;28;01mreturn\u001b[39;00m \u001b[38;5;28;43mself\u001b[39;49m\u001b[38;5;241;43m.\u001b[39;49m\u001b[43m_engine\u001b[49m\u001b[38;5;241;43m.\u001b[39;49m\u001b[43mget_loc\u001b[49m\u001b[43m(\u001b[49m\u001b[43mcasted_key\u001b[49m\u001b[43m)\u001b[49m\n\u001b[1;32m   3806\u001b[0m \u001b[38;5;28;01mexcept\u001b[39;00m \u001b[38;5;167;01mKeyError\u001b[39;00m \u001b[38;5;28;01mas\u001b[39;00m err:\n",
            "File \u001b[0;32mindex.pyx:167\u001b[0m, in \u001b[0;36mpandas._libs.index.IndexEngine.get_loc\u001b[0;34m()\u001b[0m\n",
            "File \u001b[0;32mindex.pyx:196\u001b[0m, in \u001b[0;36mpandas._libs.index.IndexEngine.get_loc\u001b[0;34m()\u001b[0m\n",
            "File \u001b[0;32mpandas/_libs/hashtable_class_helper.pxi:7081\u001b[0m, in \u001b[0;36mpandas._libs.hashtable.PyObjectHashTable.get_item\u001b[0;34m()\u001b[0m\n",
            "File \u001b[0;32mpandas/_libs/hashtable_class_helper.pxi:7089\u001b[0m, in \u001b[0;36mpandas._libs.hashtable.PyObjectHashTable.get_item\u001b[0;34m()\u001b[0m\n",
            "\u001b[0;31mKeyError\u001b[0m: 0",
            "\nThe above exception was the direct cause of the following exception:\n",
            "\u001b[0;31mKeyError\u001b[0m                                  Traceback (most recent call last)",
            "Cell \u001b[0;32mIn[61], line 2\u001b[0m\n\u001b[1;32m      1\u001b[0m \u001b[38;5;66;03m#this gives error becuase remember loc, works on the name of the row or column, and since we do not those as the names, it is an error.\u001b[39;00m\n\u001b[0;32m----> 2\u001b[0m \u001b[43mdf_quiz\u001b[49m\u001b[38;5;241;43m.\u001b[39;49m\u001b[43mloc\u001b[49m\u001b[43m[\u001b[49m\u001b[38;5;241;43m0\u001b[39;49m\u001b[43m,\u001b[49m\u001b[38;5;241;43m0\u001b[39;49m\u001b[43m:\u001b[49m\u001b[38;5;241;43m2\u001b[39;49m\u001b[43m]\u001b[49m\n",
            "File \u001b[0;32m/opt/homebrew/lib/python3.13/site-packages/pandas/core/indexing.py:1184\u001b[0m, in \u001b[0;36m_LocationIndexer.__getitem__\u001b[0;34m(self, key)\u001b[0m\n\u001b[1;32m   1182\u001b[0m     \u001b[38;5;28;01mif\u001b[39;00m \u001b[38;5;28mself\u001b[39m\u001b[38;5;241m.\u001b[39m_is_scalar_access(key):\n\u001b[1;32m   1183\u001b[0m         \u001b[38;5;28;01mreturn\u001b[39;00m \u001b[38;5;28mself\u001b[39m\u001b[38;5;241m.\u001b[39mobj\u001b[38;5;241m.\u001b[39m_get_value(\u001b[38;5;241m*\u001b[39mkey, takeable\u001b[38;5;241m=\u001b[39m\u001b[38;5;28mself\u001b[39m\u001b[38;5;241m.\u001b[39m_takeable)\n\u001b[0;32m-> 1184\u001b[0m     \u001b[38;5;28;01mreturn\u001b[39;00m \u001b[38;5;28;43mself\u001b[39;49m\u001b[38;5;241;43m.\u001b[39;49m\u001b[43m_getitem_tuple\u001b[49m\u001b[43m(\u001b[49m\u001b[43mkey\u001b[49m\u001b[43m)\u001b[49m\n\u001b[1;32m   1185\u001b[0m \u001b[38;5;28;01melse\u001b[39;00m:\n\u001b[1;32m   1186\u001b[0m     \u001b[38;5;66;03m# we by definition only have the 0th axis\u001b[39;00m\n\u001b[1;32m   1187\u001b[0m     axis \u001b[38;5;241m=\u001b[39m \u001b[38;5;28mself\u001b[39m\u001b[38;5;241m.\u001b[39maxis \u001b[38;5;129;01mor\u001b[39;00m \u001b[38;5;241m0\u001b[39m\n",
            "File \u001b[0;32m/opt/homebrew/lib/python3.13/site-packages/pandas/core/indexing.py:1368\u001b[0m, in \u001b[0;36m_LocIndexer._getitem_tuple\u001b[0;34m(self, tup)\u001b[0m\n\u001b[1;32m   1366\u001b[0m \u001b[38;5;28;01mwith\u001b[39;00m suppress(IndexingError):\n\u001b[1;32m   1367\u001b[0m     tup \u001b[38;5;241m=\u001b[39m \u001b[38;5;28mself\u001b[39m\u001b[38;5;241m.\u001b[39m_expand_ellipsis(tup)\n\u001b[0;32m-> 1368\u001b[0m     \u001b[38;5;28;01mreturn\u001b[39;00m \u001b[38;5;28;43mself\u001b[39;49m\u001b[38;5;241;43m.\u001b[39;49m\u001b[43m_getitem_lowerdim\u001b[49m\u001b[43m(\u001b[49m\u001b[43mtup\u001b[49m\u001b[43m)\u001b[49m\n\u001b[1;32m   1370\u001b[0m \u001b[38;5;66;03m# no multi-index, so validate all of the indexers\u001b[39;00m\n\u001b[1;32m   1371\u001b[0m tup \u001b[38;5;241m=\u001b[39m \u001b[38;5;28mself\u001b[39m\u001b[38;5;241m.\u001b[39m_validate_tuple_indexer(tup)\n",
            "File \u001b[0;32m/opt/homebrew/lib/python3.13/site-packages/pandas/core/indexing.py:1065\u001b[0m, in \u001b[0;36m_LocationIndexer._getitem_lowerdim\u001b[0;34m(self, tup)\u001b[0m\n\u001b[1;32m   1061\u001b[0m \u001b[38;5;28;01mfor\u001b[39;00m i, key \u001b[38;5;129;01min\u001b[39;00m \u001b[38;5;28menumerate\u001b[39m(tup):\n\u001b[1;32m   1062\u001b[0m     \u001b[38;5;28;01mif\u001b[39;00m is_label_like(key):\n\u001b[1;32m   1063\u001b[0m         \u001b[38;5;66;03m# We don't need to check for tuples here because those are\u001b[39;00m\n\u001b[1;32m   1064\u001b[0m         \u001b[38;5;66;03m#  caught by the _is_nested_tuple_indexer check above.\u001b[39;00m\n\u001b[0;32m-> 1065\u001b[0m         section \u001b[38;5;241m=\u001b[39m \u001b[38;5;28;43mself\u001b[39;49m\u001b[38;5;241;43m.\u001b[39;49m\u001b[43m_getitem_axis\u001b[49m\u001b[43m(\u001b[49m\u001b[43mkey\u001b[49m\u001b[43m,\u001b[49m\u001b[43m \u001b[49m\u001b[43maxis\u001b[49m\u001b[38;5;241;43m=\u001b[39;49m\u001b[43mi\u001b[49m\u001b[43m)\u001b[49m\n\u001b[1;32m   1067\u001b[0m         \u001b[38;5;66;03m# We should never have a scalar section here, because\u001b[39;00m\n\u001b[1;32m   1068\u001b[0m         \u001b[38;5;66;03m#  _getitem_lowerdim is only called after a check for\u001b[39;00m\n\u001b[1;32m   1069\u001b[0m         \u001b[38;5;66;03m#  is_scalar_access, which that would be.\u001b[39;00m\n\u001b[1;32m   1070\u001b[0m         \u001b[38;5;28;01mif\u001b[39;00m section\u001b[38;5;241m.\u001b[39mndim \u001b[38;5;241m==\u001b[39m \u001b[38;5;28mself\u001b[39m\u001b[38;5;241m.\u001b[39mndim:\n\u001b[1;32m   1071\u001b[0m             \u001b[38;5;66;03m# we're in the middle of slicing through a MultiIndex\u001b[39;00m\n\u001b[1;32m   1072\u001b[0m             \u001b[38;5;66;03m# revise the key wrt to `section` by inserting an _NS\u001b[39;00m\n",
            "File \u001b[0;32m/opt/homebrew/lib/python3.13/site-packages/pandas/core/indexing.py:1431\u001b[0m, in \u001b[0;36m_LocIndexer._getitem_axis\u001b[0;34m(self, key, axis)\u001b[0m\n\u001b[1;32m   1429\u001b[0m \u001b[38;5;66;03m# fall thru to straight lookup\u001b[39;00m\n\u001b[1;32m   1430\u001b[0m \u001b[38;5;28mself\u001b[39m\u001b[38;5;241m.\u001b[39m_validate_key(key, axis)\n\u001b[0;32m-> 1431\u001b[0m \u001b[38;5;28;01mreturn\u001b[39;00m \u001b[38;5;28;43mself\u001b[39;49m\u001b[38;5;241;43m.\u001b[39;49m\u001b[43m_get_label\u001b[49m\u001b[43m(\u001b[49m\u001b[43mkey\u001b[49m\u001b[43m,\u001b[49m\u001b[43m \u001b[49m\u001b[43maxis\u001b[49m\u001b[38;5;241;43m=\u001b[39;49m\u001b[43maxis\u001b[49m\u001b[43m)\u001b[49m\n",
            "File \u001b[0;32m/opt/homebrew/lib/python3.13/site-packages/pandas/core/indexing.py:1381\u001b[0m, in \u001b[0;36m_LocIndexer._get_label\u001b[0;34m(self, label, axis)\u001b[0m\n\u001b[1;32m   1379\u001b[0m \u001b[38;5;28;01mdef\u001b[39;00m \u001b[38;5;21m_get_label\u001b[39m(\u001b[38;5;28mself\u001b[39m, label, axis: AxisInt):\n\u001b[1;32m   1380\u001b[0m     \u001b[38;5;66;03m# GH#5567 this will fail if the label is not present in the axis.\u001b[39;00m\n\u001b[0;32m-> 1381\u001b[0m     \u001b[38;5;28;01mreturn\u001b[39;00m \u001b[38;5;28;43mself\u001b[39;49m\u001b[38;5;241;43m.\u001b[39;49m\u001b[43mobj\u001b[49m\u001b[38;5;241;43m.\u001b[39;49m\u001b[43mxs\u001b[49m\u001b[43m(\u001b[49m\u001b[43mlabel\u001b[49m\u001b[43m,\u001b[49m\u001b[43m \u001b[49m\u001b[43maxis\u001b[49m\u001b[38;5;241;43m=\u001b[39;49m\u001b[43maxis\u001b[49m\u001b[43m)\u001b[49m\n",
            "File \u001b[0;32m/opt/homebrew/lib/python3.13/site-packages/pandas/core/generic.py:4301\u001b[0m, in \u001b[0;36mNDFrame.xs\u001b[0;34m(self, key, axis, level, drop_level)\u001b[0m\n\u001b[1;32m   4299\u001b[0m             new_index \u001b[38;5;241m=\u001b[39m index[loc]\n\u001b[1;32m   4300\u001b[0m \u001b[38;5;28;01melse\u001b[39;00m:\n\u001b[0;32m-> 4301\u001b[0m     loc \u001b[38;5;241m=\u001b[39m \u001b[43mindex\u001b[49m\u001b[38;5;241;43m.\u001b[39;49m\u001b[43mget_loc\u001b[49m\u001b[43m(\u001b[49m\u001b[43mkey\u001b[49m\u001b[43m)\u001b[49m\n\u001b[1;32m   4303\u001b[0m     \u001b[38;5;28;01mif\u001b[39;00m \u001b[38;5;28misinstance\u001b[39m(loc, np\u001b[38;5;241m.\u001b[39mndarray):\n\u001b[1;32m   4304\u001b[0m         \u001b[38;5;28;01mif\u001b[39;00m loc\u001b[38;5;241m.\u001b[39mdtype \u001b[38;5;241m==\u001b[39m np\u001b[38;5;241m.\u001b[39mbool_:\n",
            "File \u001b[0;32m/opt/homebrew/lib/python3.13/site-packages/pandas/core/indexes/base.py:3812\u001b[0m, in \u001b[0;36mIndex.get_loc\u001b[0;34m(self, key)\u001b[0m\n\u001b[1;32m   3807\u001b[0m     \u001b[38;5;28;01mif\u001b[39;00m \u001b[38;5;28misinstance\u001b[39m(casted_key, \u001b[38;5;28mslice\u001b[39m) \u001b[38;5;129;01mor\u001b[39;00m (\n\u001b[1;32m   3808\u001b[0m         \u001b[38;5;28misinstance\u001b[39m(casted_key, abc\u001b[38;5;241m.\u001b[39mIterable)\n\u001b[1;32m   3809\u001b[0m         \u001b[38;5;129;01mand\u001b[39;00m \u001b[38;5;28many\u001b[39m(\u001b[38;5;28misinstance\u001b[39m(x, \u001b[38;5;28mslice\u001b[39m) \u001b[38;5;28;01mfor\u001b[39;00m x \u001b[38;5;129;01min\u001b[39;00m casted_key)\n\u001b[1;32m   3810\u001b[0m     ):\n\u001b[1;32m   3811\u001b[0m         \u001b[38;5;28;01mraise\u001b[39;00m InvalidIndexError(key)\n\u001b[0;32m-> 3812\u001b[0m     \u001b[38;5;28;01mraise\u001b[39;00m \u001b[38;5;167;01mKeyError\u001b[39;00m(key) \u001b[38;5;28;01mfrom\u001b[39;00m \u001b[38;5;21;01merr\u001b[39;00m\n\u001b[1;32m   3813\u001b[0m \u001b[38;5;28;01mexcept\u001b[39;00m \u001b[38;5;167;01mTypeError\u001b[39;00m:\n\u001b[1;32m   3814\u001b[0m     \u001b[38;5;66;03m# If we have a listlike key, _check_indexing_error will raise\u001b[39;00m\n\u001b[1;32m   3815\u001b[0m     \u001b[38;5;66;03m#  InvalidIndexError. Otherwise we fall through and re-raise\u001b[39;00m\n\u001b[1;32m   3816\u001b[0m     \u001b[38;5;66;03m#  the TypeError.\u001b[39;00m\n\u001b[1;32m   3817\u001b[0m     \u001b[38;5;28mself\u001b[39m\u001b[38;5;241m.\u001b[39m_check_indexing_error(key)\n",
            "\u001b[0;31mKeyError\u001b[0m: 0"
          ]
        }
      ],
      "source": [
        "#this gives error becuase remember loc, works on the name of the row or column, and since we do not those as the names, it is an error.\n",
        "df_quiz.loc[0,0:2]"
      ]
    },
    {
      "cell_type": "code",
      "execution_count": null,
      "metadata": {
        "id": "jm4wc9jdZapg",
        "outputId": "d00f09f3-0730-4aec-a664-9cbc790ef76c"
      },
      "outputs": [
        {
          "data": {
            "text/plain": [
              "quiz0    80\n",
              "quiz1    90\n",
              "Name: student0, dtype: int64"
            ]
          },
          "execution_count": 44,
          "metadata": {},
          "output_type": "execute_result"
        }
      ],
      "source": [
        "#However, in iloc, 2 is exclusive\n",
        "df_quiz.iloc[0,0:2]"
      ]
    },
    {
      "cell_type": "code",
      "execution_count": null,
      "metadata": {
        "id": "MEl3ImPBqpvR",
        "outputId": "56b3f252-33bc-4eb7-c2e0-81b91bae7599"
      },
      "outputs": [
        {
          "data": {
            "text/plain": [
              "np.int64(50)"
            ]
          },
          "execution_count": 47,
          "metadata": {},
          "output_type": "execute_result"
        }
      ],
      "source": [
        "# you can use same slicing syntaxes on both .loc and .iloc\n",
        "# 1st row, last col\n",
        "df_quiz.iloc[0, -1]"
      ]
    },
    {
      "cell_type": "code",
      "execution_count": null,
      "metadata": {
        "id": "PBvloXsbqpvR",
        "outputId": "b0d38ffd-50c2-45a3-ea93-2ccdfc16c37b"
      },
      "outputs": [
        {
          "data": {
            "text/plain": [
              "student0    90\n",
              "student1    92\n",
              "Name: quiz1, dtype: int64"
            ]
          },
          "execution_count": 48,
          "metadata": {},
          "output_type": "execute_result"
        }
      ],
      "source": [
        "# all rows, only the second col\n",
        "df_quiz.iloc[:, 1]"
      ]
    },
    {
      "cell_type": "code",
      "execution_count": null,
      "metadata": {
        "id": "gT1MC7F1qpvR",
        "outputId": "b0a8bbe6-1c3b-4216-b333-0c9277826464"
      },
      "outputs": [
        {
          "data": {
            "text/plain": [
              "student0    80\n",
              "student1    87\n",
              "Name: quiz0, dtype: int64"
            ]
          },
          "execution_count": 49,
          "metadata": {},
          "output_type": "execute_result"
        }
      ],
      "source": [
        "# all rows, only quiz0\n",
        "df_quiz.loc[:, 'quiz0']"
      ]
    },
    {
      "cell_type": "code",
      "execution_count": null,
      "metadata": {
        "id": "Z9yf5JHeqpvR",
        "outputId": "f44424ce-a342-48a2-baf3-f93b616108b1"
      },
      "outputs": [
        {
          "data": {
            "text/plain": [
              "quiz0    80\n",
              "quiz1    90\n",
              "quiz2    50\n",
              "Name: student0, dtype: int64"
            ]
          },
          "execution_count": 50,
          "metadata": {},
          "output_type": "execute_result"
        }
      ],
      "source": [
        "# slicing with named cols and rows\n",
        "# you can get a range, by name of row/col\n",
        "# note: this includes both start and stop columns\n",
        "df_quiz.loc['student0', 'quiz0':'quiz2' ]"
      ]
    },
    {
      "cell_type": "code",
      "execution_count": null,
      "metadata": {
        "id": "3JQakZRwqpvR",
        "outputId": "9742591c-383e-4be0-d893-e012e422130c"
      },
      "outputs": [
        {
          "data": {
            "text/plain": [
              "quiz0    80\n",
              "quiz1    90\n",
              "Name: student0, dtype: int64"
            ]
          },
          "execution_count": 51,
          "metadata": {},
          "output_type": "execute_result"
        }
      ],
      "source": [
        "# watch out:\n",
        "# when you get ranges indexed by position: include start idx, exclude stop idx)\n",
        "df_quiz.iloc[0, 0:2 ]"
      ]
    },
    {
      "cell_type": "code",
      "execution_count": null,
      "metadata": {
        "id": "TFxG1gyVqpvR",
        "outputId": "2c2447bb-45f2-4193-aedb-ba47e8778b69"
      },
      "outputs": [
        {
          "data": {
            "text/plain": [
              "student0    80\n",
              "student1    87\n",
              "Name: quiz0, dtype: int64"
            ]
          },
          "execution_count": 52,
          "metadata": {},
          "output_type": "execute_result"
        }
      ],
      "source": [
        "# if you access directly into dataframe, it will assume you're looking for a column\n",
        "# (below is equivilent to df_quiz.loc[:, 'quiz0'])\n",
        "df_quiz['quiz0']"
      ]
    },
    {
      "cell_type": "markdown",
      "metadata": {
        "id": "YNeo7IgJMzSl"
      },
      "source": [
        "loc gets rows (and/or columns) with particular labels.\n",
        "\n",
        "iloc gets rows (and/or columns) at integer locations.\n",
        "\n",
        "Additionally, `s.loc[0,0:2]`  # rows at index labels between 0 and 1 (inclusive) so this means 0, 1 and 2\n",
        "`s.iloc[0,0:2]`  # rows at index labels between 0 and 1 (exclusive), so that means 0th and 1st\n",
        "\n",
        "\n",
        "<img src='https://media1.giphy.com/media/l2R01mSIsazqNQ7ks/giphy.gif?cid=6c09b952x9z29ab4af9xpluk4vjxwzu6tm0nacgw1qxi8e5f&ep=v1_gifs_search&rid=giphy.gif&ct=g' width=700 />"
      ]
    },
    {
      "cell_type": "markdown",
      "metadata": {
        "id": "WVXiLR8eqpvR"
      },
      "source": [
        "## Modifying a DataFrame\n",
        "- updating values: single cell\n",
        "- adding a new column\n",
        "- `pd.DataFrame.append()` and `pd.DataFrame.concat()`\n",
        "    - adds a single row to a dataframe\n",
        "    - `.append()` is deprecated, and may not work depending on your version of Python! Has been replaced with `.concat()` (which we use here)"
      ]
    },
    {
      "cell_type": "code",
      "execution_count": null,
      "metadata": {
        "id": "TleTwCBNqpvR",
        "outputId": "889bd7d4-9b29-4ab0-8731-562a42791541"
      },
      "outputs": [
        {
          "data": {
            "text/html": [
              "<div>\n",
              "<style scoped>\n",
              "    .dataframe tbody tr th:only-of-type {\n",
              "        vertical-align: middle;\n",
              "    }\n",
              "\n",
              "    .dataframe tbody tr th {\n",
              "        vertical-align: top;\n",
              "    }\n",
              "\n",
              "    .dataframe thead th {\n",
              "        text-align: right;\n",
              "    }\n",
              "</style>\n",
              "<table border=\"1\" class=\"dataframe\">\n",
              "  <thead>\n",
              "    <tr style=\"text-align: right;\">\n",
              "      <th></th>\n",
              "      <th>quiz0</th>\n",
              "      <th>quiz1</th>\n",
              "      <th>quiz2</th>\n",
              "    </tr>\n",
              "  </thead>\n",
              "  <tbody>\n",
              "    <tr>\n",
              "      <th>student0</th>\n",
              "      <td>80</td>\n",
              "      <td>123</td>\n",
              "      <td>50</td>\n",
              "    </tr>\n",
              "    <tr>\n",
              "      <th>student1</th>\n",
              "      <td>87</td>\n",
              "      <td>92</td>\n",
              "      <td>80</td>\n",
              "    </tr>\n",
              "  </tbody>\n",
              "</table>\n",
              "</div>"
            ],
            "text/plain": [
              "          quiz0  quiz1  quiz2\n",
              "student0     80    123     50\n",
              "student1     87     92     80"
            ]
          },
          "execution_count": 62,
          "metadata": {},
          "output_type": "execute_result"
        }
      ],
      "source": [
        "# setting single entry in dataframe\n",
        "df_quiz.loc['student0', 'quiz1'] = 123\n",
        "df_quiz"
      ]
    },
    {
      "cell_type": "code",
      "execution_count": null,
      "metadata": {
        "id": "BAxv53Q7qpvR",
        "outputId": "ad31df85-73b2-4cd2-b067-09aeec191425"
      },
      "outputs": [
        {
          "data": {
            "text/html": [
              "<div>\n",
              "<style scoped>\n",
              "    .dataframe tbody tr th:only-of-type {\n",
              "        vertical-align: middle;\n",
              "    }\n",
              "\n",
              "    .dataframe tbody tr th {\n",
              "        vertical-align: top;\n",
              "    }\n",
              "\n",
              "    .dataframe thead th {\n",
              "        text-align: right;\n",
              "    }\n",
              "</style>\n",
              "<table border=\"1\" class=\"dataframe\">\n",
              "  <thead>\n",
              "    <tr style=\"text-align: right;\">\n",
              "      <th></th>\n",
              "      <th>quiz0</th>\n",
              "      <th>quiz1</th>\n",
              "      <th>quiz2</th>\n",
              "      <th>overall grade</th>\n",
              "    </tr>\n",
              "  </thead>\n",
              "  <tbody>\n",
              "    <tr>\n",
              "      <th>student0</th>\n",
              "      <td>80</td>\n",
              "      <td>123</td>\n",
              "      <td>50</td>\n",
              "      <td>a</td>\n",
              "    </tr>\n",
              "    <tr>\n",
              "      <th>student1</th>\n",
              "      <td>87</td>\n",
              "      <td>92</td>\n",
              "      <td>80</td>\n",
              "      <td>b</td>\n",
              "    </tr>\n",
              "  </tbody>\n",
              "</table>\n",
              "</div>"
            ],
            "text/plain": [
              "          quiz0  quiz1  quiz2 overall grade\n",
              "student0     80    123     50             a\n",
              "student1     87     92     80             b"
            ]
          },
          "execution_count": 71,
          "metadata": {},
          "output_type": "execute_result"
        }
      ],
      "source": [
        "# adding a new column (which student got which grade?)\n",
        "# notice data frames can include columns of multiple types!\n",
        "df_quiz['overall grade'] = 'a', 'b'\n",
        "df_quiz"
      ]
    },
    {
      "cell_type": "code",
      "execution_count": null,
      "metadata": {
        "id": "f_oyY-1GqpvR",
        "outputId": "10076a61-7453-4c5e-baca-d495d10908c8"
      },
      "outputs": [
        {
          "data": {
            "text/html": [
              "<div>\n",
              "<style scoped>\n",
              "    .dataframe tbody tr th:only-of-type {\n",
              "        vertical-align: middle;\n",
              "    }\n",
              "\n",
              "    .dataframe tbody tr th {\n",
              "        vertical-align: top;\n",
              "    }\n",
              "\n",
              "    .dataframe thead th {\n",
              "        text-align: right;\n",
              "    }\n",
              "</style>\n",
              "<table border=\"1\" class=\"dataframe\">\n",
              "  <thead>\n",
              "    <tr style=\"text-align: right;\">\n",
              "      <th></th>\n",
              "      <th>quiz0</th>\n",
              "      <th>quiz1</th>\n",
              "      <th>quiz2</th>\n",
              "    </tr>\n",
              "  </thead>\n",
              "  <tbody>\n",
              "    <tr>\n",
              "      <th>student0</th>\n",
              "      <td>80</td>\n",
              "      <td>123</td>\n",
              "      <td>50</td>\n",
              "    </tr>\n",
              "    <tr>\n",
              "      <th>student1</th>\n",
              "      <td>87</td>\n",
              "      <td>92</td>\n",
              "      <td>80</td>\n",
              "    </tr>\n",
              "  </tbody>\n",
              "</table>\n",
              "</div>"
            ],
            "text/plain": [
              "          quiz0  quiz1  quiz2\n",
              "student0     80    123     50\n",
              "student1     87     92     80"
            ]
          },
          "execution_count": 72,
          "metadata": {},
          "output_type": "execute_result"
        }
      ],
      "source": [
        "# delete a column\n",
        "del df_quiz['overall grade']\n",
        "df_quiz\n",
        "\n",
        "# There is another way of deleteing a coloumn which is by using the drop() function (Typically much better than the other one)\n",
        "# df_quiz.drop('overall grade', axis=1)"
      ]
    },
    {
      "cell_type": "code",
      "execution_count": null,
      "metadata": {
        "id": "-92DUe70qpvR",
        "outputId": "6ce3fb2c-79e7-4710-d003-fea305c16284"
      },
      "outputs": [
        {
          "data": {
            "text/plain": [
              "student1                      b-\n",
              "student2    f (no quizzes taken)\n",
              "dtype: object"
            ]
          },
          "execution_count": 74,
          "metadata": {},
          "output_type": "execute_result"
        }
      ],
      "source": [
        "# adding a column (next 2 cells) more error robust way of handling indexing\n",
        "# by explicitly labelling the index we're sure to match more explicitly\n",
        "s_overgrade = pd.Series({'student1': 'b-',\n",
        "                         # 'student0': 'a+',\n",
        "                        'student2': 'f (no quizzes taken)'})\n",
        "s_overgrade"
      ]
    },
    {
      "cell_type": "code",
      "execution_count": null,
      "metadata": {
        "id": "LITU_gW0qpvR",
        "outputId": "9bbcb5c3-de63-4312-aa5e-8df00123cefa"
      },
      "outputs": [
        {
          "data": {
            "text/html": [
              "<div>\n",
              "<style scoped>\n",
              "    .dataframe tbody tr th:only-of-type {\n",
              "        vertical-align: middle;\n",
              "    }\n",
              "\n",
              "    .dataframe tbody tr th {\n",
              "        vertical-align: top;\n",
              "    }\n",
              "\n",
              "    .dataframe thead th {\n",
              "        text-align: right;\n",
              "    }\n",
              "</style>\n",
              "<table border=\"1\" class=\"dataframe\">\n",
              "  <thead>\n",
              "    <tr style=\"text-align: right;\">\n",
              "      <th></th>\n",
              "      <th>quiz0</th>\n",
              "      <th>quiz1</th>\n",
              "      <th>quiz2</th>\n",
              "      <th>overall grade</th>\n",
              "    </tr>\n",
              "  </thead>\n",
              "  <tbody>\n",
              "    <tr>\n",
              "      <th>student0</th>\n",
              "      <td>80</td>\n",
              "      <td>123</td>\n",
              "      <td>50</td>\n",
              "      <td>NaN</td>\n",
              "    </tr>\n",
              "    <tr>\n",
              "      <th>student1</th>\n",
              "      <td>87</td>\n",
              "      <td>92</td>\n",
              "      <td>80</td>\n",
              "      <td>b-</td>\n",
              "    </tr>\n",
              "  </tbody>\n",
              "</table>\n",
              "</div>"
            ],
            "text/plain": [
              "          quiz0  quiz1  quiz2 overall grade\n",
              "student0     80    123     50           NaN\n",
              "student1     87     92     80            b-"
            ]
          },
          "execution_count": 76,
          "metadata": {},
          "output_type": "execute_result"
        }
      ],
      "source": [
        "# notice how pandas helps us out in aligning our new column with proper row\n",
        "# (and avoids including student2)\n",
        "df_quiz['overall grade'] = s_overgrade\n",
        "df_quiz"
      ]
    },
    {
      "cell_type": "code",
      "execution_count": null,
      "metadata": {
        "id": "tY37MuiTqpvS",
        "outputId": "222deba9-e18e-498d-b220-659edcaa0fbe"
      },
      "outputs": [
        {
          "data": {
            "text/html": [
              "<div>\n",
              "<style scoped>\n",
              "    .dataframe tbody tr th:only-of-type {\n",
              "        vertical-align: middle;\n",
              "    }\n",
              "\n",
              "    .dataframe tbody tr th {\n",
              "        vertical-align: top;\n",
              "    }\n",
              "\n",
              "    .dataframe thead th {\n",
              "        text-align: right;\n",
              "    }\n",
              "</style>\n",
              "<table border=\"1\" class=\"dataframe\">\n",
              "  <thead>\n",
              "    <tr style=\"text-align: right;\">\n",
              "      <th></th>\n",
              "      <th>quiz0</th>\n",
              "      <th>quiz1</th>\n",
              "      <th>quiz2</th>\n",
              "      <th>overall grade</th>\n",
              "    </tr>\n",
              "  </thead>\n",
              "  <tbody>\n",
              "    <tr>\n",
              "      <th>student1</th>\n",
              "      <td>87</td>\n",
              "      <td>92</td>\n",
              "      <td>80</td>\n",
              "      <td>b-</td>\n",
              "    </tr>\n",
              "  </tbody>\n",
              "</table>\n",
              "</div>"
            ],
            "text/plain": [
              "          quiz0  quiz1  quiz2 overall grade\n",
              "student1     87     92     80            b-"
            ]
          },
          "execution_count": 77,
          "metadata": {},
          "output_type": "execute_result"
        }
      ],
      "source": [
        "# how to 'drop' a row (returns a dataframe with row removed)\n",
        "df_quiz_short = df_quiz.drop('student0')\n",
        "df_quiz_short"
      ]
    },
    {
      "cell_type": "code",
      "execution_count": null,
      "metadata": {
        "colab": {
          "base_uri": "https://localhost:8080/",
          "height": 125
        },
        "id": "udFVRStrqpvS",
        "outputId": "342dca78-4b0b-4eec-f979-e140ffa956c8"
      },
      "outputs": [
        {
          "data": {
            "text/html": [
              "<div>\n",
              "<style scoped>\n",
              "    .dataframe tbody tr th:only-of-type {\n",
              "        vertical-align: middle;\n",
              "    }\n",
              "\n",
              "    .dataframe tbody tr th {\n",
              "        vertical-align: top;\n",
              "    }\n",
              "\n",
              "    .dataframe thead th {\n",
              "        text-align: right;\n",
              "    }\n",
              "</style>\n",
              "<table border=\"1\" class=\"dataframe\">\n",
              "  <thead>\n",
              "    <tr style=\"text-align: right;\">\n",
              "      <th></th>\n",
              "      <th>quiz0</th>\n",
              "      <th>quiz1</th>\n",
              "      <th>quiz2</th>\n",
              "    </tr>\n",
              "  </thead>\n",
              "  <tbody>\n",
              "    <tr>\n",
              "      <th>student0</th>\n",
              "      <td>80</td>\n",
              "      <td>90</td>\n",
              "      <td>50</td>\n",
              "    </tr>\n",
              "    <tr>\n",
              "      <th>student1</th>\n",
              "      <td>87</td>\n",
              "      <td>92</td>\n",
              "      <td>80</td>\n",
              "    </tr>\n",
              "  </tbody>\n",
              "</table>\n",
              "</div>"
            ],
            "text/plain": [
              "          quiz0  quiz1  quiz2\n",
              "student0     80     90     50\n",
              "student1     87     92     80"
            ]
          },
          "execution_count": 78,
          "metadata": {},
          "output_type": "execute_result"
        }
      ],
      "source": [
        "# rebuild df_quiz\n",
        "quiz_dict = {'quiz0': [80, 87],\n",
        "            'quiz1': [90, 92],\n",
        "            'quiz2': [50, 80]}\n",
        "df_quiz = pd.DataFrame(quiz_dict, index=('student0', 'student1'))\n",
        "df_quiz"
      ]
    },
    {
      "cell_type": "code",
      "execution_count": null,
      "metadata": {
        "colab": {
          "base_uri": "https://localhost:8080/",
          "height": 178
        },
        "id": "Yxsb8Ea-qpvS",
        "outputId": "d89fa7de-b2c9-41f3-df12-c9d6c17accb4"
      },
      "outputs": [
        {
          "data": {
            "text/plain": [
              "quiz1     90\n",
              "quiz2    100\n",
              "quiz0     95\n",
              "Name: student3, dtype: int64"
            ]
          },
          "execution_count": 79,
          "metadata": {},
          "output_type": "execute_result"
        }
      ],
      "source": [
        "# notice: name of series ends up on index of dataframe\n",
        "# notice: order of items in series doesnt matter, they're aligned by index\n",
        "s_student3 = pd.Series({'quiz1': 90,\n",
        "                        'quiz2': 100,\n",
        "                        'quiz0': 95},\n",
        "                      name='student3')\n",
        "s_student3"
      ]
    },
    {
      "cell_type": "code",
      "execution_count": null,
      "metadata": {
        "id": "LL8fuA1QqpvS",
        "outputId": "399cd7af-01fc-4035-c7b7-b6ed03e3f60d"
      },
      "outputs": [
        {
          "data": {
            "text/html": [
              "<div>\n",
              "<style scoped>\n",
              "    .dataframe tbody tr th:only-of-type {\n",
              "        vertical-align: middle;\n",
              "    }\n",
              "\n",
              "    .dataframe tbody tr th {\n",
              "        vertical-align: top;\n",
              "    }\n",
              "\n",
              "    .dataframe thead th {\n",
              "        text-align: right;\n",
              "    }\n",
              "</style>\n",
              "<table border=\"1\" class=\"dataframe\">\n",
              "  <thead>\n",
              "    <tr style=\"text-align: right;\">\n",
              "      <th></th>\n",
              "      <th>quiz0</th>\n",
              "      <th>quiz1</th>\n",
              "      <th>quiz2</th>\n",
              "    </tr>\n",
              "  </thead>\n",
              "  <tbody>\n",
              "    <tr>\n",
              "      <th>student0</th>\n",
              "      <td>80</td>\n",
              "      <td>90</td>\n",
              "      <td>50</td>\n",
              "    </tr>\n",
              "    <tr>\n",
              "      <th>student1</th>\n",
              "      <td>87</td>\n",
              "      <td>92</td>\n",
              "      <td>80</td>\n",
              "    </tr>\n",
              "    <tr>\n",
              "      <th>student3</th>\n",
              "      <td>95</td>\n",
              "      <td>90</td>\n",
              "      <td>100</td>\n",
              "    </tr>\n",
              "  </tbody>\n",
              "</table>\n",
              "</div>"
            ],
            "text/plain": [
              "          quiz0  quiz1  quiz2\n",
              "student0     80     90     50\n",
              "student1     87     92     80\n",
              "student3     95     90    100"
            ]
          },
          "execution_count": 82,
          "metadata": {},
          "output_type": "execute_result"
        }
      ],
      "source": [
        "# add new row to dataframe\n",
        "pd.concat([df_quiz, s_student3.to_frame().T])"
      ]
    },
    {
      "cell_type": "code",
      "execution_count": null,
      "metadata": {
        "colab": {
          "base_uri": "https://localhost:8080/",
          "height": 125
        },
        "id": "uHx9fp6yqpvS",
        "outputId": "1e87d47f-6d60-4aee-f7b7-421e89d351cc"
      },
      "outputs": [
        {
          "data": {
            "text/html": [
              "<div>\n",
              "<style scoped>\n",
              "    .dataframe tbody tr th:only-of-type {\n",
              "        vertical-align: middle;\n",
              "    }\n",
              "\n",
              "    .dataframe tbody tr th {\n",
              "        vertical-align: top;\n",
              "    }\n",
              "\n",
              "    .dataframe thead th {\n",
              "        text-align: right;\n",
              "    }\n",
              "</style>\n",
              "<table border=\"1\" class=\"dataframe\">\n",
              "  <thead>\n",
              "    <tr style=\"text-align: right;\">\n",
              "      <th></th>\n",
              "      <th>quiz0</th>\n",
              "      <th>quiz1</th>\n",
              "      <th>quiz2</th>\n",
              "    </tr>\n",
              "  </thead>\n",
              "  <tbody>\n",
              "    <tr>\n",
              "      <th>student0</th>\n",
              "      <td>80</td>\n",
              "      <td>90</td>\n",
              "      <td>50</td>\n",
              "    </tr>\n",
              "    <tr>\n",
              "      <th>student1</th>\n",
              "      <td>87</td>\n",
              "      <td>92</td>\n",
              "      <td>80</td>\n",
              "    </tr>\n",
              "  </tbody>\n",
              "</table>\n",
              "</div>"
            ],
            "text/plain": [
              "          quiz0  quiz1  quiz2\n",
              "student0     80     90     50\n",
              "student1     87     92     80"
            ]
          },
          "execution_count": 83,
          "metadata": {},
          "output_type": "execute_result"
        }
      ],
      "source": [
        "# also notice: .concat() returns a copy of df_quiz, it isn't modified above\n",
        "df_quiz"
      ]
    },
    {
      "cell_type": "code",
      "execution_count": null,
      "metadata": {
        "colab": {
          "base_uri": "https://localhost:8080/",
          "height": 143
        },
        "id": "Qq460wlJqpvS",
        "outputId": "ee3409b1-c820-4318-86d2-0c01b47552d7"
      },
      "outputs": [
        {
          "data": {
            "text/html": [
              "<div>\n",
              "<style scoped>\n",
              "    .dataframe tbody tr th:only-of-type {\n",
              "        vertical-align: middle;\n",
              "    }\n",
              "\n",
              "    .dataframe tbody tr th {\n",
              "        vertical-align: top;\n",
              "    }\n",
              "\n",
              "    .dataframe thead th {\n",
              "        text-align: right;\n",
              "    }\n",
              "</style>\n",
              "<table border=\"1\" class=\"dataframe\">\n",
              "  <thead>\n",
              "    <tr style=\"text-align: right;\">\n",
              "      <th></th>\n",
              "      <th>quiz0</th>\n",
              "      <th>quiz1</th>\n",
              "      <th>quiz2</th>\n",
              "    </tr>\n",
              "  </thead>\n",
              "  <tbody>\n",
              "    <tr>\n",
              "      <th>student0</th>\n",
              "      <td>80</td>\n",
              "      <td>90</td>\n",
              "      <td>50</td>\n",
              "    </tr>\n",
              "    <tr>\n",
              "      <th>student1</th>\n",
              "      <td>87</td>\n",
              "      <td>92</td>\n",
              "      <td>80</td>\n",
              "    </tr>\n",
              "    <tr>\n",
              "      <th>student3</th>\n",
              "      <td>95</td>\n",
              "      <td>90</td>\n",
              "      <td>100</td>\n",
              "    </tr>\n",
              "  </tbody>\n",
              "</table>\n",
              "</div>"
            ],
            "text/plain": [
              "          quiz0  quiz1  quiz2\n",
              "student0     80     90     50\n",
              "student1     87     92     80\n",
              "student3     95     90    100"
            ]
          },
          "execution_count": 84,
          "metadata": {},
          "output_type": "execute_result"
        }
      ],
      "source": [
        "# thus, must overwrite:\n",
        "df_quiz = pd.concat([df_quiz, s_student3.to_frame().T])\n",
        "df_quiz"
      ]
    },
    {
      "cell_type": "code",
      "execution_count": null,
      "metadata": {
        "colab": {
          "base_uri": "https://localhost:8080/",
          "height": 143
        },
        "id": "dHx137cLqpvS",
        "outputId": "a2535e89-ea9b-49a7-da9c-1f1eca82db57"
      },
      "outputs": [
        {
          "data": {
            "text/html": [
              "<div>\n",
              "<style scoped>\n",
              "    .dataframe tbody tr th:only-of-type {\n",
              "        vertical-align: middle;\n",
              "    }\n",
              "\n",
              "    .dataframe tbody tr th {\n",
              "        vertical-align: top;\n",
              "    }\n",
              "\n",
              "    .dataframe thead th {\n",
              "        text-align: right;\n",
              "    }\n",
              "</style>\n",
              "<table border=\"1\" class=\"dataframe\">\n",
              "  <thead>\n",
              "    <tr style=\"text-align: right;\">\n",
              "      <th></th>\n",
              "      <th>quiz0</th>\n",
              "      <th>quiz1</th>\n",
              "      <th>quiz2</th>\n",
              "      <th>average</th>\n",
              "    </tr>\n",
              "  </thead>\n",
              "  <tbody>\n",
              "    <tr>\n",
              "      <th>student0</th>\n",
              "      <td>80</td>\n",
              "      <td>90</td>\n",
              "      <td>50</td>\n",
              "      <td>73.333333</td>\n",
              "    </tr>\n",
              "    <tr>\n",
              "      <th>student1</th>\n",
              "      <td>87</td>\n",
              "      <td>92</td>\n",
              "      <td>80</td>\n",
              "      <td>86.333333</td>\n",
              "    </tr>\n",
              "    <tr>\n",
              "      <th>student3</th>\n",
              "      <td>95</td>\n",
              "      <td>90</td>\n",
              "      <td>100</td>\n",
              "      <td>95.000000</td>\n",
              "    </tr>\n",
              "  </tbody>\n",
              "</table>\n",
              "</div>"
            ],
            "text/plain": [
              "          quiz0  quiz1  quiz2    average\n",
              "student0     80     90     50  73.333333\n",
              "student1     87     92     80  86.333333\n",
              "student3     95     90    100  95.000000"
            ]
          },
          "execution_count": 85,
          "metadata": {},
          "output_type": "execute_result"
        }
      ],
      "source": [
        "# adding a column that is a function of other columns:\n",
        "df_quiz['average'] = (df_quiz['quiz0'] + df_quiz.quiz1 + df_quiz.quiz2)/3\n",
        "df_quiz"
      ]
    },
    {
      "cell_type": "code",
      "execution_count": null,
      "metadata": {
        "id": "9KtkB1bRqpvS",
        "outputId": "dd2ca687-baef-4149-cf49-35cf01b44508"
      },
      "outputs": [
        {
          "data": {
            "text/plain": [
              "student0    73.333333\n",
              "student1    86.333333\n",
              "student3    95.000000\n",
              "Name: average, dtype: float64"
            ]
          },
          "execution_count": 86,
          "metadata": {},
          "output_type": "execute_result"
        }
      ],
      "source": [
        "df_quiz.average"
      ]
    },
    {
      "cell_type": "code",
      "execution_count": null,
      "metadata": {
        "id": "qhQClERVqpvS",
        "outputId": "8d575f76-0d55-4029-c2cf-e36a3c7dd18d"
      },
      "outputs": [
        {
          "data": {
            "text/plain": [
              "student0    80\n",
              "student1    87\n",
              "student3    95\n",
              "Name: quiz0, dtype: int64"
            ]
          },
          "execution_count": 87,
          "metadata": {},
          "output_type": "execute_result"
        }
      ],
      "source": [
        "df_quiz['quiz0']"
      ]
    },
    {
      "cell_type": "markdown",
      "metadata": {
        "id": "eL5dXcU_qpvS"
      },
      "source": [
        "### Operating on DataFrame & Series Objects\n",
        "\n",
        "Your operators do what you'd expect them to:"
      ]
    },
    {
      "cell_type": "code",
      "execution_count": null,
      "metadata": {
        "id": "DRV-o6T7qpvS",
        "outputId": "8652c9aa-fb7b-407b-ae8c-7f439dd63b63"
      },
      "outputs": [
        {
          "data": {
            "text/html": [
              "<div>\n",
              "<style scoped>\n",
              "    .dataframe tbody tr th:only-of-type {\n",
              "        vertical-align: middle;\n",
              "    }\n",
              "\n",
              "    .dataframe tbody tr th {\n",
              "        vertical-align: top;\n",
              "    }\n",
              "\n",
              "    .dataframe thead th {\n",
              "        text-align: right;\n",
              "    }\n",
              "</style>\n",
              "<table border=\"1\" class=\"dataframe\">\n",
              "  <thead>\n",
              "    <tr style=\"text-align: right;\">\n",
              "      <th></th>\n",
              "      <th>quiz0</th>\n",
              "      <th>quiz1</th>\n",
              "      <th>quiz2</th>\n",
              "      <th>average</th>\n",
              "    </tr>\n",
              "  </thead>\n",
              "  <tbody>\n",
              "    <tr>\n",
              "      <th>student0</th>\n",
              "      <td>80000</td>\n",
              "      <td>90000</td>\n",
              "      <td>50000</td>\n",
              "      <td>73333.333333</td>\n",
              "    </tr>\n",
              "    <tr>\n",
              "      <th>student1</th>\n",
              "      <td>87000</td>\n",
              "      <td>92000</td>\n",
              "      <td>80000</td>\n",
              "      <td>86333.333333</td>\n",
              "    </tr>\n",
              "    <tr>\n",
              "      <th>student3</th>\n",
              "      <td>95000</td>\n",
              "      <td>90000</td>\n",
              "      <td>100000</td>\n",
              "      <td>95000.000000</td>\n",
              "    </tr>\n",
              "  </tbody>\n",
              "</table>\n",
              "</div>"
            ],
            "text/plain": [
              "          quiz0  quiz1   quiz2       average\n",
              "student0  80000  90000   50000  73333.333333\n",
              "student1  87000  92000   80000  86333.333333\n",
              "student3  95000  90000  100000  95000.000000"
            ]
          },
          "execution_count": 124,
          "metadata": {},
          "output_type": "execute_result"
        }
      ],
      "source": [
        "df_quiz * 1000"
      ]
    },
    {
      "cell_type": "code",
      "execution_count": null,
      "metadata": {
        "id": "WTWNmdQ9qpvS",
        "outputId": "82f974e9-13e8-4d52-e1a7-3e821e7f50a2"
      },
      "outputs": [
        {
          "data": {
            "text/html": [
              "<div>\n",
              "<style scoped>\n",
              "    .dataframe tbody tr th:only-of-type {\n",
              "        vertical-align: middle;\n",
              "    }\n",
              "\n",
              "    .dataframe tbody tr th {\n",
              "        vertical-align: top;\n",
              "    }\n",
              "\n",
              "    .dataframe thead th {\n",
              "        text-align: right;\n",
              "    }\n",
              "</style>\n",
              "<table border=\"1\" class=\"dataframe\">\n",
              "  <thead>\n",
              "    <tr style=\"text-align: right;\">\n",
              "      <th></th>\n",
              "      <th>quiz0</th>\n",
              "      <th>quiz1</th>\n",
              "      <th>quiz2</th>\n",
              "      <th>average</th>\n",
              "    </tr>\n",
              "  </thead>\n",
              "  <tbody>\n",
              "    <tr>\n",
              "      <th>student0</th>\n",
              "      <td>False</td>\n",
              "      <td>True</td>\n",
              "      <td>False</td>\n",
              "      <td>False</td>\n",
              "    </tr>\n",
              "    <tr>\n",
              "      <th>student1</th>\n",
              "      <td>True</td>\n",
              "      <td>True</td>\n",
              "      <td>False</td>\n",
              "      <td>True</td>\n",
              "    </tr>\n",
              "    <tr>\n",
              "      <th>student3</th>\n",
              "      <td>True</td>\n",
              "      <td>True</td>\n",
              "      <td>True</td>\n",
              "      <td>True</td>\n",
              "    </tr>\n",
              "  </tbody>\n",
              "</table>\n",
              "</div>"
            ],
            "text/plain": [
              "          quiz0  quiz1  quiz2  average\n",
              "student0  False   True  False    False\n",
              "student1   True   True  False     True\n",
              "student3   True   True   True     True"
            ]
          },
          "execution_count": 125,
          "metadata": {},
          "output_type": "execute_result"
        }
      ],
      "source": [
        "# we can also use comparison operators (super helpful, see boolean indexing next)\n",
        "df_quiz >= 85"
      ]
    },
    {
      "cell_type": "markdown",
      "metadata": {
        "id": "xChqed15qpvS"
      },
      "source": [
        "### Boolean Indexing into DataFrame\n",
        "\n",
        "Sometimes we want to grab only the rows or columns which meet a particular condition.\n",
        "\n",
        "\"Get all students whose grade was higher than 85 on quiz 1\""
      ]
    },
    {
      "cell_type": "code",
      "execution_count": null,
      "metadata": {
        "colab": {
          "base_uri": "https://localhost:8080/",
          "height": 175
        },
        "id": "Gmva79VRqpvS",
        "outputId": "cc8babb6-2466-4c72-fbc4-bffcecc44a51"
      },
      "outputs": [
        {
          "data": {
            "text/html": [
              "<div>\n",
              "<style scoped>\n",
              "    .dataframe tbody tr th:only-of-type {\n",
              "        vertical-align: middle;\n",
              "    }\n",
              "\n",
              "    .dataframe tbody tr th {\n",
              "        vertical-align: top;\n",
              "    }\n",
              "\n",
              "    .dataframe thead th {\n",
              "        text-align: right;\n",
              "    }\n",
              "</style>\n",
              "<table border=\"1\" class=\"dataframe\">\n",
              "  <thead>\n",
              "    <tr style=\"text-align: right;\">\n",
              "      <th></th>\n",
              "      <th>quiz0</th>\n",
              "      <th>quiz1</th>\n",
              "      <th>quiz2</th>\n",
              "    </tr>\n",
              "  </thead>\n",
              "  <tbody>\n",
              "    <tr>\n",
              "      <th>student0</th>\n",
              "      <td>80</td>\n",
              "      <td>90</td>\n",
              "      <td>50</td>\n",
              "    </tr>\n",
              "    <tr>\n",
              "      <th>student1</th>\n",
              "      <td>87</td>\n",
              "      <td>92</td>\n",
              "      <td>80</td>\n",
              "    </tr>\n",
              "    <tr>\n",
              "      <th>student2</th>\n",
              "      <td>60</td>\n",
              "      <td>60</td>\n",
              "      <td>70</td>\n",
              "    </tr>\n",
              "    <tr>\n",
              "      <th>student3</th>\n",
              "      <td>30</td>\n",
              "      <td>23</td>\n",
              "      <td>64</td>\n",
              "    </tr>\n",
              "  </tbody>\n",
              "</table>\n",
              "</div>"
            ],
            "text/plain": [
              "          quiz0  quiz1  quiz2\n",
              "student0     80     90     50\n",
              "student1     87     92     80\n",
              "student2     60     60     70\n",
              "student3     30     23     64"
            ]
          },
          "execution_count": 88,
          "metadata": {},
          "output_type": "execute_result"
        }
      ],
      "source": [
        "quiz_dict = {'quiz0': [80, 87, 60, 30],\n",
        "            'quiz1': [90, 92, 60, 23],\n",
        "            'quiz2': [50, 80, 70, 64]}\n",
        "df_quiz = pd.DataFrame(quiz_dict, index=('student0', 'student1', 'student2', 'student3'))\n",
        "df_quiz"
      ]
    },
    {
      "cell_type": "code",
      "execution_count": null,
      "metadata": {
        "colab": {
          "base_uri": "https://localhost:8080/",
          "height": 210
        },
        "id": "TNF3dQrRqpvS",
        "outputId": "215a891c-7f99-4079-c75d-7cab31f3293b"
      },
      "outputs": [
        {
          "data": {
            "text/plain": [
              "student0    50\n",
              "student1    80\n",
              "student2    70\n",
              "student3    64\n",
              "Name: quiz2, dtype: int64"
            ]
          },
          "execution_count": 89,
          "metadata": {},
          "output_type": "execute_result"
        }
      ],
      "source": [
        "# quiz 2 is a series object which contains every index's quiz 2 grade\n",
        "# one, verbose way:\n",
        "s_quiz2 = df_quiz.loc[:, 'quiz2']\n",
        "s_quiz2"
      ]
    },
    {
      "cell_type": "code",
      "execution_count": null,
      "metadata": {
        "id": "NSw__3spqpvS",
        "outputId": "b05d7452-7c01-4068-d454-c0675b136ff6"
      },
      "outputs": [
        {
          "data": {
            "text/plain": [
              "student0    50\n",
              "student1    80\n",
              "student2    70\n",
              "student3    64\n",
              "Name: quiz2, dtype: int64"
            ]
          },
          "execution_count": 90,
          "metadata": {},
          "output_type": "execute_result"
        }
      ],
      "source": [
        "# easier way, but not as convenient for seeing what we're about to do\n",
        "df_quiz.quiz2"
      ]
    },
    {
      "cell_type": "code",
      "execution_count": null,
      "metadata": {
        "colab": {
          "base_uri": "https://localhost:8080/",
          "height": 112
        },
        "id": "S5uIBPE_qpvS",
        "outputId": "9910d2a7-1d5f-4055-b1ae-5cea918c6cee"
      },
      "outputs": [
        {
          "data": {
            "text/html": [
              "<div>\n",
              "<style scoped>\n",
              "    .dataframe tbody tr th:only-of-type {\n",
              "        vertical-align: middle;\n",
              "    }\n",
              "\n",
              "    .dataframe tbody tr th {\n",
              "        vertical-align: top;\n",
              "    }\n",
              "\n",
              "    .dataframe thead th {\n",
              "        text-align: right;\n",
              "    }\n",
              "</style>\n",
              "<table border=\"1\" class=\"dataframe\">\n",
              "  <thead>\n",
              "    <tr style=\"text-align: right;\">\n",
              "      <th></th>\n",
              "      <th>quiz0</th>\n",
              "      <th>quiz1</th>\n",
              "      <th>quiz2</th>\n",
              "    </tr>\n",
              "  </thead>\n",
              "  <tbody>\n",
              "    <tr>\n",
              "      <th>student1</th>\n",
              "      <td>87</td>\n",
              "      <td>92</td>\n",
              "      <td>80</td>\n",
              "    </tr>\n",
              "    <tr>\n",
              "      <th>student2</th>\n",
              "      <td>60</td>\n",
              "      <td>60</td>\n",
              "      <td>70</td>\n",
              "    </tr>\n",
              "  </tbody>\n",
              "</table>\n",
              "</div>"
            ],
            "text/plain": [
              "          quiz0  quiz1  quiz2\n",
              "student1     87     92     80\n",
              "student2     60     60     70"
            ]
          },
          "execution_count": 91,
          "metadata": {},
          "output_type": "execute_result"
        }
      ],
      "source": [
        "# boolean indexing: using a boolean series as index returns only those entries which are True\n",
        "# notice that since student0 & student3's quiz1 grade wasn't > 70 they aren't\n",
        "# included below.\n",
        "df_quiz.loc[s_quiz2 >= 70, :]"
      ]
    },
    {
      "cell_type": "code",
      "execution_count": null,
      "metadata": {
        "id": "-u7Me4PIqpvT",
        "outputId": "e213757c-dc43-4ac5-f8f9-ea6ed865809a"
      },
      "outputs": [
        {
          "data": {
            "text/plain": [
              "student0     True\n",
              "student1    False\n",
              "student2    False\n",
              "student3    False\n",
              "dtype: bool"
            ]
          },
          "execution_count": 92,
          "metadata": {},
          "output_type": "execute_result"
        }
      ],
      "source": [
        "# we can build more complex conditions using\n",
        "# & (and operator)\n",
        "# | (or operator)\n",
        "\n",
        "# all students who got at least an 80 on quiz1 but scored less than 75 on quiz2\n",
        "s_bool = (df_quiz.loc[:, 'quiz1'] >= 80) & (df_quiz.quiz2  < 75)\n",
        "s_bool"
      ]
    },
    {
      "cell_type": "code",
      "execution_count": null,
      "metadata": {
        "id": "G-C3g-dmqpvT",
        "outputId": "6f3a8bd3-caa4-42e3-caa4-c3c548e73d73"
      },
      "outputs": [
        {
          "data": {
            "text/html": [
              "<div>\n",
              "<style scoped>\n",
              "    .dataframe tbody tr th:only-of-type {\n",
              "        vertical-align: middle;\n",
              "    }\n",
              "\n",
              "    .dataframe tbody tr th {\n",
              "        vertical-align: top;\n",
              "    }\n",
              "\n",
              "    .dataframe thead th {\n",
              "        text-align: right;\n",
              "    }\n",
              "</style>\n",
              "<table border=\"1\" class=\"dataframe\">\n",
              "  <thead>\n",
              "    <tr style=\"text-align: right;\">\n",
              "      <th></th>\n",
              "      <th>quiz0</th>\n",
              "      <th>quiz1</th>\n",
              "      <th>quiz2</th>\n",
              "    </tr>\n",
              "  </thead>\n",
              "  <tbody>\n",
              "    <tr>\n",
              "      <th>student0</th>\n",
              "      <td>80</td>\n",
              "      <td>90</td>\n",
              "      <td>50</td>\n",
              "    </tr>\n",
              "  </tbody>\n",
              "</table>\n",
              "</div>"
            ],
            "text/plain": [
              "          quiz0  quiz1  quiz2\n",
              "student0     80     90     50"
            ]
          },
          "execution_count": 93,
          "metadata": {},
          "output_type": "execute_result"
        }
      ],
      "source": [
        "df_quiz.loc[s_bool, :]"
      ]
    },
    {
      "cell_type": "markdown",
      "metadata": {
        "id": "veCQ_oDFqpvT"
      },
      "source": [
        "# Loading Data into Pandas\n",
        "\n",
        "Data comes from many places:\n",
        "- Web Scraping\n",
        "- Application Program Interface (API)\n",
        "- SQL\n",
        "- local file:\n",
        "    - csv\n",
        "    - JSON\n",
        "    - fixed width tables (HTML)\n",
        "    \n",
        "### Pandas functions which load data\n",
        "| Mode | Description\n",
        "| ------ | :------\n",
        "| **`read_csv`** | Load comma seperated values data from a file or URL (other delimeters too!)\n",
        "| **`read_xlsx`** | Read data in xls format (Mircosoft Excel)\n",
        "| **`read-fwf`** | Read data in fixed-width column format (i.e., no delimiters such as tab-separated txt files)\n",
        "| **`read_clipboard`** | Version of read_csv that reads data from the clipboard; useful for converting tables from web pages\n",
        "| **`read_html`** | Read all tables contained in the given HTML document.\n",
        "| **`read_json`** | Read data from a JSON (JavaScript Object Notation) string representation"
      ]
    },
    {
      "cell_type": "markdown",
      "metadata": {
        "id": "URhvY7QRqpvT"
      },
      "source": [
        "## Reading CSV into Pandas\n",
        "- read_csv\n",
        "- index_col\n",
        "- header"
      ]
    },
    {
      "cell_type": "code",
      "execution_count": null,
      "metadata": {
        "id": "Ybf9IcRAqpvT",
        "outputId": "66853796-ae71-4815-f8c0-a58264a6d0be"
      },
      "outputs": [
        {
          "data": {
            "text/html": [
              "<div>\n",
              "<style scoped>\n",
              "    .dataframe tbody tr th:only-of-type {\n",
              "        vertical-align: middle;\n",
              "    }\n",
              "\n",
              "    .dataframe tbody tr th {\n",
              "        vertical-align: top;\n",
              "    }\n",
              "\n",
              "    .dataframe thead th {\n",
              "        text-align: right;\n",
              "    }\n",
              "</style>\n",
              "<table border=\"1\" class=\"dataframe\">\n",
              "  <thead>\n",
              "    <tr style=\"text-align: right;\">\n",
              "      <th></th>\n",
              "      <th>Restaurant</th>\n",
              "      <th>Latitude</th>\n",
              "      <th>Longitude</th>\n",
              "      <th>Address</th>\n",
              "      <th>PlaceID</th>\n",
              "      <th>URL</th>\n",
              "      <th>AverageExposure</th>\n",
              "      <th>Stars</th>\n",
              "      <th>ZIP</th>\n",
              "      <th>Count</th>\n",
              "      <th>...</th>\n",
              "      <th>HED</th>\n",
              "      <th>Unemployment</th>\n",
              "      <th>HUne</th>\n",
              "      <th>Wealth</th>\n",
              "      <th>HWe</th>\n",
              "      <th>Attraction</th>\n",
              "      <th>Hotspot</th>\n",
              "      <th>Reviews</th>\n",
              "      <th>Amenities</th>\n",
              "      <th>Amenity_Count</th>\n",
              "    </tr>\n",
              "  </thead>\n",
              "  <tbody>\n",
              "    <tr>\n",
              "      <th>0</th>\n",
              "      <td>61Sliders</td>\n",
              "      <td>61.149140</td>\n",
              "      <td>-149.878090</td>\n",
              "      <td>7920 King St, Anchorage, AK 99518</td>\n",
              "      <td>-</td>\n",
              "      <td>/biz/61sliders-anchorage?osq=Restaurants</td>\n",
              "      <td>0.124478</td>\n",
              "      <td>3.6</td>\n",
              "      <td>99507</td>\n",
              "      <td>22</td>\n",
              "      <td>...</td>\n",
              "      <td>0</td>\n",
              "      <td>4.7</td>\n",
              "      <td>1</td>\n",
              "      <td>88485</td>\n",
              "      <td>0</td>\n",
              "      <td>1</td>\n",
              "      <td>0</td>\n",
              "      <td>1</td>\n",
              "      <td>Classy</td>\n",
              "      <td>1</td>\n",
              "    </tr>\n",
              "    <tr>\n",
              "      <th>1</th>\n",
              "      <td>907 Alehouse &amp; Grill</td>\n",
              "      <td>61.148140</td>\n",
              "      <td>-149.863132</td>\n",
              "      <td>8001 Old Seward Hwy, Anchorage, AK 99518, Unit...</td>\n",
              "      <td>ChIJsX90-NaZyFYRGJ_WD0iQlaA</td>\n",
              "      <td>/biz/907-alehouse-and-grill-anchorage?osq=Rest...</td>\n",
              "      <td>0.130601</td>\n",
              "      <td>3.4</td>\n",
              "      <td>99503</td>\n",
              "      <td>93</td>\n",
              "      <td>...</td>\n",
              "      <td>0</td>\n",
              "      <td>7.9</td>\n",
              "      <td>1</td>\n",
              "      <td>63338</td>\n",
              "      <td>0</td>\n",
              "      <td>0</td>\n",
              "      <td>1</td>\n",
              "      <td>135</td>\n",
              "      <td>Takes Reservations\\nOffers Takeout\\nNo Deliver...</td>\n",
              "      <td>22</td>\n",
              "    </tr>\n",
              "    <tr>\n",
              "      <th>2</th>\n",
              "      <td>907 Wingman</td>\n",
              "      <td>61.188415</td>\n",
              "      <td>-149.907983</td>\n",
              "      <td>3505 Spenard Rd, Anchorage, AK 99503, United S...</td>\n",
              "      <td>ChIJ4-dvWd2XyFYR-dL2s0DiD_0</td>\n",
              "      <td>/biz/907-wingman-anchorage?osq=Restaurants</td>\n",
              "      <td>0.109058</td>\n",
              "      <td>4.1</td>\n",
              "      <td>99508</td>\n",
              "      <td>9</td>\n",
              "      <td>...</td>\n",
              "      <td>0</td>\n",
              "      <td>6.5</td>\n",
              "      <td>1</td>\n",
              "      <td>65430</td>\n",
              "      <td>0</td>\n",
              "      <td>1</td>\n",
              "      <td>1</td>\n",
              "      <td>110</td>\n",
              "      <td>Offers Delivery\\nOffers Takeout\\nNo Reservatio...</td>\n",
              "      <td>17</td>\n",
              "    </tr>\n",
              "    <tr>\n",
              "      <th>3</th>\n",
              "      <td>AK Alchemist</td>\n",
              "      <td>61.218773</td>\n",
              "      <td>-149.882808</td>\n",
              "      <td>103 E 4th Ave, Anchorage, AK 99501, United States</td>\n",
              "      <td>ChIJt_B88yiWyFYRZQB7I68Jokk</td>\n",
              "      <td>/biz/ak-alchemist-anchorage?osq=Restaurants</td>\n",
              "      <td>0.164824</td>\n",
              "      <td>3.8</td>\n",
              "      <td>99501</td>\n",
              "      <td>58</td>\n",
              "      <td>...</td>\n",
              "      <td>0</td>\n",
              "      <td>7.2</td>\n",
              "      <td>1</td>\n",
              "      <td>61509</td>\n",
              "      <td>0</td>\n",
              "      <td>1</td>\n",
              "      <td>1</td>\n",
              "      <td>178</td>\n",
              "      <td>Offers Delivery\\nOffers Takeout\\nNo Reservatio...</td>\n",
              "      <td>3</td>\n",
              "    </tr>\n",
              "    <tr>\n",
              "      <th>4</th>\n",
              "      <td>Alaska Crepery</td>\n",
              "      <td>61.217756</td>\n",
              "      <td>-149.888169</td>\n",
              "      <td>319 W 5th Ave, Anchorage, AK 99501, United States</td>\n",
              "      <td>ChIJC6dwVAyXyFYR0ZZMmzzULww</td>\n",
              "      <td>/biz/alaska-crepery-anchorage-2?osq=Restaurants</td>\n",
              "      <td>0.161754</td>\n",
              "      <td>4.5</td>\n",
              "      <td>99507</td>\n",
              "      <td>22</td>\n",
              "      <td>...</td>\n",
              "      <td>0</td>\n",
              "      <td>4.7</td>\n",
              "      <td>1</td>\n",
              "      <td>88485</td>\n",
              "      <td>0</td>\n",
              "      <td>1</td>\n",
              "      <td>1</td>\n",
              "      <td>164</td>\n",
              "      <td>Takes Reservations\\nOffers Delivery\\nOffers Ta...</td>\n",
              "      <td>16</td>\n",
              "    </tr>\n",
              "    <tr>\n",
              "      <th>...</th>\n",
              "      <td>...</td>\n",
              "      <td>...</td>\n",
              "      <td>...</td>\n",
              "      <td>...</td>\n",
              "      <td>...</td>\n",
              "      <td>...</td>\n",
              "      <td>...</td>\n",
              "      <td>...</td>\n",
              "      <td>...</td>\n",
              "      <td>...</td>\n",
              "      <td>...</td>\n",
              "      <td>...</td>\n",
              "      <td>...</td>\n",
              "      <td>...</td>\n",
              "      <td>...</td>\n",
              "      <td>...</td>\n",
              "      <td>...</td>\n",
              "      <td>...</td>\n",
              "      <td>...</td>\n",
              "      <td>...</td>\n",
              "      <td>...</td>\n",
              "    </tr>\n",
              "    <tr>\n",
              "      <th>286</th>\n",
              "      <td>Yakishabu Sushi House</td>\n",
              "      <td>61.144031</td>\n",
              "      <td>-149.892769</td>\n",
              "      <td>720 W Dimond Blvd, Anchorage, AK 99515, United...</td>\n",
              "      <td>ChIJMdQzoAOZyFYR1rEIFO_2Wyo</td>\n",
              "      <td>/biz/yakishabu-sushi-house-anchorage-4?osq=Res...</td>\n",
              "      <td>0.184925</td>\n",
              "      <td>3.9</td>\n",
              "      <td>99515</td>\n",
              "      <td>39</td>\n",
              "      <td>...</td>\n",
              "      <td>1</td>\n",
              "      <td>4.0</td>\n",
              "      <td>1</td>\n",
              "      <td>106755</td>\n",
              "      <td>1</td>\n",
              "      <td>0</td>\n",
              "      <td>0</td>\n",
              "      <td>32</td>\n",
              "      <td>Offers Delivery\\nOffers Takeout\\nCasual, Trend...</td>\n",
              "      <td>9</td>\n",
              "    </tr>\n",
              "    <tr>\n",
              "      <th>287</th>\n",
              "      <td>Yamaya Seafood Restaurant</td>\n",
              "      <td>61.216698</td>\n",
              "      <td>-149.898625</td>\n",
              "      <td>825 W 6th Ave, Anchorage, AK 99501, United States</td>\n",
              "      <td>ChIJVVN224C9yFYRmmjSJ1vPVj4</td>\n",
              "      <td>/biz/yamaya-seafood-restaurant-anchorage?osq=R...</td>\n",
              "      <td>0.123558</td>\n",
              "      <td>3.7</td>\n",
              "      <td>99501</td>\n",
              "      <td>58</td>\n",
              "      <td>...</td>\n",
              "      <td>0</td>\n",
              "      <td>7.2</td>\n",
              "      <td>1</td>\n",
              "      <td>61509</td>\n",
              "      <td>0</td>\n",
              "      <td>1</td>\n",
              "      <td>1</td>\n",
              "      <td>124</td>\n",
              "      <td>Takes Reservations\\nOffers Takeout\\nNo Deliver...</td>\n",
              "      <td>15</td>\n",
              "    </tr>\n",
              "    <tr>\n",
              "      <th>288</th>\n",
              "      <td>Yogo Delight</td>\n",
              "      <td>61.184160</td>\n",
              "      <td>-149.867577</td>\n",
              "      <td>4007 Old Seward Hwy # 200, Anchorage, AK 99503...</td>\n",
              "      <td>ChIJT0w0d7yXyFYRcCATvyPkT6Y</td>\n",
              "      <td>/biz/yogo-delight-anchorage?osq=Restaurants</td>\n",
              "      <td>0.099800</td>\n",
              "      <td>4.4</td>\n",
              "      <td>99508</td>\n",
              "      <td>9</td>\n",
              "      <td>...</td>\n",
              "      <td>0</td>\n",
              "      <td>6.5</td>\n",
              "      <td>1</td>\n",
              "      <td>65430</td>\n",
              "      <td>0</td>\n",
              "      <td>1</td>\n",
              "      <td>0</td>\n",
              "      <td>116</td>\n",
              "      <td>Offers Takeout\\nNo Reservations\\nNo Delivery\\n...</td>\n",
              "      <td>18</td>\n",
              "    </tr>\n",
              "    <tr>\n",
              "      <th>289</th>\n",
              "      <td>Zorba's Gyros</td>\n",
              "      <td>61.195857</td>\n",
              "      <td>-149.890254</td>\n",
              "      <td>2700 Blueberry Rd, Anchorage, AK 99503, United...</td>\n",
              "      <td>ChIJI7cNe8WXyFYRuJw8-CPA5f4</td>\n",
              "      <td>/biz/zorbas-gyros-anchorage?osq=Restaurants</td>\n",
              "      <td>0.116808</td>\n",
              "      <td>4.4</td>\n",
              "      <td>99518</td>\n",
              "      <td>21</td>\n",
              "      <td>...</td>\n",
              "      <td>0</td>\n",
              "      <td>3.0</td>\n",
              "      <td>0</td>\n",
              "      <td>84045</td>\n",
              "      <td>0</td>\n",
              "      <td>1</td>\n",
              "      <td>1</td>\n",
              "      <td>80</td>\n",
              "      <td>Offers Takeout\\nNo Reservations\\nAccepts Credi...</td>\n",
              "      <td>11</td>\n",
              "    </tr>\n",
              "    <tr>\n",
              "      <th>290</th>\n",
              "      <td>Serrano's Mexican Grill</td>\n",
              "      <td>61.195468</td>\n",
              "      <td>-149.880141</td>\n",
              "      <td>201 E Northern Lights Blvd, Anchorage, AK 9950...</td>\n",
              "      <td>ChIJH0A8uciXyFYRQvUedUNWEEU</td>\n",
              "      <td>/biz/serranos-mexican-grill-anchorage?osq=Rest...</td>\n",
              "      <td>0.141745</td>\n",
              "      <td>3.9</td>\n",
              "      <td>99577</td>\n",
              "      <td>13</td>\n",
              "      <td>...</td>\n",
              "      <td>1</td>\n",
              "      <td>3.5</td>\n",
              "      <td>1</td>\n",
              "      <td>111388</td>\n",
              "      <td>1</td>\n",
              "      <td>1</td>\n",
              "      <td>0</td>\n",
              "      <td>270</td>\n",
              "      <td>Offers Delivery\\nOffers Takeout\\nNo Reservatio...</td>\n",
              "      <td>20</td>\n",
              "    </tr>\n",
              "  </tbody>\n",
              "</table>\n",
              "<p>291 rows × 38 columns</p>\n",
              "</div>"
            ],
            "text/plain": [
              "                    Restaurant   Latitude   Longitude  \\\n",
              "0                    61Sliders  61.149140 -149.878090   \n",
              "1         907 Alehouse & Grill  61.148140 -149.863132   \n",
              "2                  907 Wingman  61.188415 -149.907983   \n",
              "3                 AK Alchemist  61.218773 -149.882808   \n",
              "4               Alaska Crepery  61.217756 -149.888169   \n",
              "..                         ...        ...         ...   \n",
              "286      Yakishabu Sushi House  61.144031 -149.892769   \n",
              "287  Yamaya Seafood Restaurant  61.216698 -149.898625   \n",
              "288               Yogo Delight  61.184160 -149.867577   \n",
              "289              Zorba's Gyros  61.195857 -149.890254   \n",
              "290    Serrano's Mexican Grill  61.195468 -149.880141   \n",
              "\n",
              "                                               Address  \\\n",
              "0                    7920 King St, Anchorage, AK 99518   \n",
              "1    8001 Old Seward Hwy, Anchorage, AK 99518, Unit...   \n",
              "2    3505 Spenard Rd, Anchorage, AK 99503, United S...   \n",
              "3    103 E 4th Ave, Anchorage, AK 99501, United States   \n",
              "4    319 W 5th Ave, Anchorage, AK 99501, United States   \n",
              "..                                                 ...   \n",
              "286  720 W Dimond Blvd, Anchorage, AK 99515, United...   \n",
              "287  825 W 6th Ave, Anchorage, AK 99501, United States   \n",
              "288  4007 Old Seward Hwy # 200, Anchorage, AK 99503...   \n",
              "289  2700 Blueberry Rd, Anchorage, AK 99503, United...   \n",
              "290  201 E Northern Lights Blvd, Anchorage, AK 9950...   \n",
              "\n",
              "                         PlaceID  \\\n",
              "0                              -   \n",
              "1    ChIJsX90-NaZyFYRGJ_WD0iQlaA   \n",
              "2    ChIJ4-dvWd2XyFYR-dL2s0DiD_0   \n",
              "3    ChIJt_B88yiWyFYRZQB7I68Jokk   \n",
              "4    ChIJC6dwVAyXyFYR0ZZMmzzULww   \n",
              "..                           ...   \n",
              "286  ChIJMdQzoAOZyFYR1rEIFO_2Wyo   \n",
              "287  ChIJVVN224C9yFYRmmjSJ1vPVj4   \n",
              "288  ChIJT0w0d7yXyFYRcCATvyPkT6Y   \n",
              "289  ChIJI7cNe8WXyFYRuJw8-CPA5f4   \n",
              "290  ChIJH0A8uciXyFYRQvUedUNWEEU   \n",
              "\n",
              "                                                   URL  AverageExposure  \\\n",
              "0             /biz/61sliders-anchorage?osq=Restaurants         0.124478   \n",
              "1    /biz/907-alehouse-and-grill-anchorage?osq=Rest...         0.130601   \n",
              "2           /biz/907-wingman-anchorage?osq=Restaurants         0.109058   \n",
              "3          /biz/ak-alchemist-anchorage?osq=Restaurants         0.164824   \n",
              "4      /biz/alaska-crepery-anchorage-2?osq=Restaurants         0.161754   \n",
              "..                                                 ...              ...   \n",
              "286  /biz/yakishabu-sushi-house-anchorage-4?osq=Res...         0.184925   \n",
              "287  /biz/yamaya-seafood-restaurant-anchorage?osq=R...         0.123558   \n",
              "288        /biz/yogo-delight-anchorage?osq=Restaurants         0.099800   \n",
              "289        /biz/zorbas-gyros-anchorage?osq=Restaurants         0.116808   \n",
              "290  /biz/serranos-mexican-grill-anchorage?osq=Rest...         0.141745   \n",
              "\n",
              "     Stars    ZIP  Count  ...  HED  Unemployment  HUne  Wealth  HWe  \\\n",
              "0      3.6  99507     22  ...    0           4.7     1   88485    0   \n",
              "1      3.4  99503     93  ...    0           7.9     1   63338    0   \n",
              "2      4.1  99508      9  ...    0           6.5     1   65430    0   \n",
              "3      3.8  99501     58  ...    0           7.2     1   61509    0   \n",
              "4      4.5  99507     22  ...    0           4.7     1   88485    0   \n",
              "..     ...    ...    ...  ...  ...           ...   ...     ...  ...   \n",
              "286    3.9  99515     39  ...    1           4.0     1  106755    1   \n",
              "287    3.7  99501     58  ...    0           7.2     1   61509    0   \n",
              "288    4.4  99508      9  ...    0           6.5     1   65430    0   \n",
              "289    4.4  99518     21  ...    0           3.0     0   84045    0   \n",
              "290    3.9  99577     13  ...    1           3.5     1  111388    1   \n",
              "\n",
              "     Attraction  Hotspot  Reviews  \\\n",
              "0             1        0        1   \n",
              "1             0        1      135   \n",
              "2             1        1      110   \n",
              "3             1        1      178   \n",
              "4             1        1      164   \n",
              "..          ...      ...      ...   \n",
              "286           0        0       32   \n",
              "287           1        1      124   \n",
              "288           1        0      116   \n",
              "289           1        1       80   \n",
              "290           1        0      270   \n",
              "\n",
              "                                             Amenities  Amenity_Count  \n",
              "0                                               Classy              1  \n",
              "1    Takes Reservations\\nOffers Takeout\\nNo Deliver...             22  \n",
              "2    Offers Delivery\\nOffers Takeout\\nNo Reservatio...             17  \n",
              "3    Offers Delivery\\nOffers Takeout\\nNo Reservatio...              3  \n",
              "4    Takes Reservations\\nOffers Delivery\\nOffers Ta...             16  \n",
              "..                                                 ...            ...  \n",
              "286  Offers Delivery\\nOffers Takeout\\nCasual, Trend...              9  \n",
              "287  Takes Reservations\\nOffers Takeout\\nNo Deliver...             15  \n",
              "288  Offers Takeout\\nNo Reservations\\nNo Delivery\\n...             18  \n",
              "289  Offers Takeout\\nNo Reservations\\nAccepts Credi...             11  \n",
              "290  Offers Delivery\\nOffers Takeout\\nNo Reservatio...             20  \n",
              "\n",
              "[291 rows x 38 columns]"
            ]
          },
          "execution_count": 6,
          "metadata": {},
          "output_type": "execute_result"
        }
      ],
      "source": [
        "import pandas as pd\n",
        "# note: file must be in same folder as jupyter notebook\n",
        "pd.read_csv('day-1dataset.csv')"
      ]
    },
    {
      "cell_type": "code",
      "execution_count": null,
      "metadata": {
        "id": "ZxUw0B7SqpvT",
        "outputId": "5a169758-9743-40b8-faff-644c31ccc823",
        "scrolled": true
      },
      "outputs": [
        {
          "data": {
            "text/html": [
              "<div>\n",
              "<style scoped>\n",
              "    .dataframe tbody tr th:only-of-type {\n",
              "        vertical-align: middle;\n",
              "    }\n",
              "\n",
              "    .dataframe tbody tr th {\n",
              "        vertical-align: top;\n",
              "    }\n",
              "\n",
              "    .dataframe thead th {\n",
              "        text-align: right;\n",
              "    }\n",
              "</style>\n",
              "<table border=\"1\" class=\"dataframe\">\n",
              "  <thead>\n",
              "    <tr style=\"text-align: right;\">\n",
              "      <th></th>\n",
              "      <th>Restaurant</th>\n",
              "      <th>Longitude</th>\n",
              "      <th>Address</th>\n",
              "      <th>PlaceID</th>\n",
              "      <th>URL</th>\n",
              "      <th>AverageExposure</th>\n",
              "      <th>Stars</th>\n",
              "      <th>ZIP</th>\n",
              "      <th>Count</th>\n",
              "      <th>White</th>\n",
              "      <th>...</th>\n",
              "      <th>HED</th>\n",
              "      <th>Unemployment</th>\n",
              "      <th>HUne</th>\n",
              "      <th>Wealth</th>\n",
              "      <th>HWe</th>\n",
              "      <th>Attraction</th>\n",
              "      <th>Hotspot</th>\n",
              "      <th>Reviews</th>\n",
              "      <th>Amenities</th>\n",
              "      <th>Amenity_Count</th>\n",
              "    </tr>\n",
              "    <tr>\n",
              "      <th>Latitude</th>\n",
              "      <th></th>\n",
              "      <th></th>\n",
              "      <th></th>\n",
              "      <th></th>\n",
              "      <th></th>\n",
              "      <th></th>\n",
              "      <th></th>\n",
              "      <th></th>\n",
              "      <th></th>\n",
              "      <th></th>\n",
              "      <th></th>\n",
              "      <th></th>\n",
              "      <th></th>\n",
              "      <th></th>\n",
              "      <th></th>\n",
              "      <th></th>\n",
              "      <th></th>\n",
              "      <th></th>\n",
              "      <th></th>\n",
              "      <th></th>\n",
              "      <th></th>\n",
              "    </tr>\n",
              "  </thead>\n",
              "  <tbody>\n",
              "    <tr>\n",
              "      <th>61.149140</th>\n",
              "      <td>61Sliders</td>\n",
              "      <td>-149.878090</td>\n",
              "      <td>7920 King St, Anchorage, AK 99518</td>\n",
              "      <td>-</td>\n",
              "      <td>/biz/61sliders-anchorage?osq=Restaurants</td>\n",
              "      <td>0.124478</td>\n",
              "      <td>3.6</td>\n",
              "      <td>99507</td>\n",
              "      <td>22</td>\n",
              "      <td>20110</td>\n",
              "      <td>...</td>\n",
              "      <td>0</td>\n",
              "      <td>4.7</td>\n",
              "      <td>1</td>\n",
              "      <td>88485</td>\n",
              "      <td>0</td>\n",
              "      <td>1</td>\n",
              "      <td>0</td>\n",
              "      <td>1</td>\n",
              "      <td>Classy</td>\n",
              "      <td>1</td>\n",
              "    </tr>\n",
              "    <tr>\n",
              "      <th>61.148140</th>\n",
              "      <td>907 Alehouse &amp; Grill</td>\n",
              "      <td>-149.863132</td>\n",
              "      <td>8001 Old Seward Hwy, Anchorage, AK 99518, Unit...</td>\n",
              "      <td>ChIJsX90-NaZyFYRGJ_WD0iQlaA</td>\n",
              "      <td>/biz/907-alehouse-and-grill-anchorage?osq=Rest...</td>\n",
              "      <td>0.130601</td>\n",
              "      <td>3.4</td>\n",
              "      <td>99503</td>\n",
              "      <td>93</td>\n",
              "      <td>6167</td>\n",
              "      <td>...</td>\n",
              "      <td>0</td>\n",
              "      <td>7.9</td>\n",
              "      <td>1</td>\n",
              "      <td>63338</td>\n",
              "      <td>0</td>\n",
              "      <td>0</td>\n",
              "      <td>1</td>\n",
              "      <td>135</td>\n",
              "      <td>Takes Reservations\\nOffers Takeout\\nNo Deliver...</td>\n",
              "      <td>22</td>\n",
              "    </tr>\n",
              "    <tr>\n",
              "      <th>61.188415</th>\n",
              "      <td>907 Wingman</td>\n",
              "      <td>-149.907983</td>\n",
              "      <td>3505 Spenard Rd, Anchorage, AK 99503, United S...</td>\n",
              "      <td>ChIJ4-dvWd2XyFYR-dL2s0DiD_0</td>\n",
              "      <td>/biz/907-wingman-anchorage?osq=Restaurants</td>\n",
              "      <td>0.109058</td>\n",
              "      <td>4.1</td>\n",
              "      <td>99508</td>\n",
              "      <td>9</td>\n",
              "      <td>15722</td>\n",
              "      <td>...</td>\n",
              "      <td>0</td>\n",
              "      <td>6.5</td>\n",
              "      <td>1</td>\n",
              "      <td>65430</td>\n",
              "      <td>0</td>\n",
              "      <td>1</td>\n",
              "      <td>1</td>\n",
              "      <td>110</td>\n",
              "      <td>Offers Delivery\\nOffers Takeout\\nNo Reservatio...</td>\n",
              "      <td>17</td>\n",
              "    </tr>\n",
              "    <tr>\n",
              "      <th>61.218773</th>\n",
              "      <td>AK Alchemist</td>\n",
              "      <td>-149.882808</td>\n",
              "      <td>103 E 4th Ave, Anchorage, AK 99501, United States</td>\n",
              "      <td>ChIJt_B88yiWyFYRZQB7I68Jokk</td>\n",
              "      <td>/biz/ak-alchemist-anchorage?osq=Restaurants</td>\n",
              "      <td>0.164824</td>\n",
              "      <td>3.8</td>\n",
              "      <td>99501</td>\n",
              "      <td>58</td>\n",
              "      <td>9223</td>\n",
              "      <td>...</td>\n",
              "      <td>0</td>\n",
              "      <td>7.2</td>\n",
              "      <td>1</td>\n",
              "      <td>61509</td>\n",
              "      <td>0</td>\n",
              "      <td>1</td>\n",
              "      <td>1</td>\n",
              "      <td>178</td>\n",
              "      <td>Offers Delivery\\nOffers Takeout\\nNo Reservatio...</td>\n",
              "      <td>3</td>\n",
              "    </tr>\n",
              "    <tr>\n",
              "      <th>61.217756</th>\n",
              "      <td>Alaska Crepery</td>\n",
              "      <td>-149.888169</td>\n",
              "      <td>319 W 5th Ave, Anchorage, AK 99501, United States</td>\n",
              "      <td>ChIJC6dwVAyXyFYR0ZZMmzzULww</td>\n",
              "      <td>/biz/alaska-crepery-anchorage-2?osq=Restaurants</td>\n",
              "      <td>0.161754</td>\n",
              "      <td>4.5</td>\n",
              "      <td>99507</td>\n",
              "      <td>22</td>\n",
              "      <td>20110</td>\n",
              "      <td>...</td>\n",
              "      <td>0</td>\n",
              "      <td>4.7</td>\n",
              "      <td>1</td>\n",
              "      <td>88485</td>\n",
              "      <td>0</td>\n",
              "      <td>1</td>\n",
              "      <td>1</td>\n",
              "      <td>164</td>\n",
              "      <td>Takes Reservations\\nOffers Delivery\\nOffers Ta...</td>\n",
              "      <td>16</td>\n",
              "    </tr>\n",
              "  </tbody>\n",
              "</table>\n",
              "<p>5 rows × 37 columns</p>\n",
              "</div>"
            ],
            "text/plain": [
              "                     Restaurant   Longitude  \\\n",
              "Latitude                                      \n",
              "61.149140             61Sliders -149.878090   \n",
              "61.148140  907 Alehouse & Grill -149.863132   \n",
              "61.188415           907 Wingman -149.907983   \n",
              "61.218773          AK Alchemist -149.882808   \n",
              "61.217756        Alaska Crepery -149.888169   \n",
              "\n",
              "                                                     Address  \\\n",
              "Latitude                                                       \n",
              "61.149140                  7920 King St, Anchorage, AK 99518   \n",
              "61.148140  8001 Old Seward Hwy, Anchorage, AK 99518, Unit...   \n",
              "61.188415  3505 Spenard Rd, Anchorage, AK 99503, United S...   \n",
              "61.218773  103 E 4th Ave, Anchorage, AK 99501, United States   \n",
              "61.217756  319 W 5th Ave, Anchorage, AK 99501, United States   \n",
              "\n",
              "                               PlaceID  \\\n",
              "Latitude                                 \n",
              "61.149140                            -   \n",
              "61.148140  ChIJsX90-NaZyFYRGJ_WD0iQlaA   \n",
              "61.188415  ChIJ4-dvWd2XyFYR-dL2s0DiD_0   \n",
              "61.218773  ChIJt_B88yiWyFYRZQB7I68Jokk   \n",
              "61.217756  ChIJC6dwVAyXyFYR0ZZMmzzULww   \n",
              "\n",
              "                                                         URL  AverageExposure  \\\n",
              "Latitude                                                                        \n",
              "61.149140           /biz/61sliders-anchorage?osq=Restaurants         0.124478   \n",
              "61.148140  /biz/907-alehouse-and-grill-anchorage?osq=Rest...         0.130601   \n",
              "61.188415         /biz/907-wingman-anchorage?osq=Restaurants         0.109058   \n",
              "61.218773        /biz/ak-alchemist-anchorage?osq=Restaurants         0.164824   \n",
              "61.217756    /biz/alaska-crepery-anchorage-2?osq=Restaurants         0.161754   \n",
              "\n",
              "           Stars    ZIP  Count  White  ...  HED  Unemployment  HUne  Wealth  \\\n",
              "Latitude                               ...                                    \n",
              "61.149140    3.6  99507     22  20110  ...    0           4.7     1   88485   \n",
              "61.148140    3.4  99503     93   6167  ...    0           7.9     1   63338   \n",
              "61.188415    4.1  99508      9  15722  ...    0           6.5     1   65430   \n",
              "61.218773    3.8  99501     58   9223  ...    0           7.2     1   61509   \n",
              "61.217756    4.5  99507     22  20110  ...    0           4.7     1   88485   \n",
              "\n",
              "           HWe  Attraction  Hotspot  Reviews  \\\n",
              "Latitude                                       \n",
              "61.149140    0           1        0        1   \n",
              "61.148140    0           0        1      135   \n",
              "61.188415    0           1        1      110   \n",
              "61.218773    0           1        1      178   \n",
              "61.217756    0           1        1      164   \n",
              "\n",
              "                                                   Amenities  Amenity_Count  \n",
              "Latitude                                                                     \n",
              "61.149140                                             Classy              1  \n",
              "61.148140  Takes Reservations\\nOffers Takeout\\nNo Deliver...             22  \n",
              "61.188415  Offers Delivery\\nOffers Takeout\\nNo Reservatio...             17  \n",
              "61.218773  Offers Delivery\\nOffers Takeout\\nNo Reservatio...              3  \n",
              "61.217756  Takes Reservations\\nOffers Delivery\\nOffers Ta...             16  \n",
              "\n",
              "[5 rows x 37 columns]"
            ]
          },
          "execution_count": 8,
          "metadata": {},
          "output_type": "execute_result"
        }
      ],
      "source": [
        "# look at the first few rows (header)\n",
        "gtky = pd.read_csv('day-1dataset.csv', index_col='Latitude')\n",
        "gtky.head()"
      ]
    },
    {
      "cell_type": "code",
      "execution_count": null,
      "metadata": {
        "id": "V31aqNVVqpvT",
        "outputId": "0ecebf28-7766-4bf3-c12b-cd9ea61b0995"
      },
      "outputs": [
        {
          "data": {
            "text/html": [
              "<div>\n",
              "<style scoped>\n",
              "    .dataframe tbody tr th:only-of-type {\n",
              "        vertical-align: middle;\n",
              "    }\n",
              "\n",
              "    .dataframe tbody tr th {\n",
              "        vertical-align: top;\n",
              "    }\n",
              "\n",
              "    .dataframe thead th {\n",
              "        text-align: right;\n",
              "    }\n",
              "</style>\n",
              "<table border=\"1\" class=\"dataframe\">\n",
              "  <thead>\n",
              "    <tr style=\"text-align: right;\">\n",
              "      <th></th>\n",
              "      <th>Restaurant</th>\n",
              "      <th>Longitude</th>\n",
              "      <th>Address</th>\n",
              "      <th>PlaceID</th>\n",
              "      <th>URL</th>\n",
              "      <th>AverageExposure</th>\n",
              "      <th>Stars</th>\n",
              "      <th>ZIP</th>\n",
              "      <th>Count</th>\n",
              "      <th>White</th>\n",
              "      <th>...</th>\n",
              "      <th>HED</th>\n",
              "      <th>Unemployment</th>\n",
              "      <th>HUne</th>\n",
              "      <th>Wealth</th>\n",
              "      <th>HWe</th>\n",
              "      <th>Attraction</th>\n",
              "      <th>Hotspot</th>\n",
              "      <th>Reviews</th>\n",
              "      <th>Amenities</th>\n",
              "      <th>Amenity_Count</th>\n",
              "    </tr>\n",
              "    <tr>\n",
              "      <th>Latitude</th>\n",
              "      <th></th>\n",
              "      <th></th>\n",
              "      <th></th>\n",
              "      <th></th>\n",
              "      <th></th>\n",
              "      <th></th>\n",
              "      <th></th>\n",
              "      <th></th>\n",
              "      <th></th>\n",
              "      <th></th>\n",
              "      <th></th>\n",
              "      <th></th>\n",
              "      <th></th>\n",
              "      <th></th>\n",
              "      <th></th>\n",
              "      <th></th>\n",
              "      <th></th>\n",
              "      <th></th>\n",
              "      <th></th>\n",
              "      <th></th>\n",
              "      <th></th>\n",
              "    </tr>\n",
              "  </thead>\n",
              "  <tbody>\n",
              "    <tr>\n",
              "      <th>61.144031</th>\n",
              "      <td>Yakishabu Sushi House</td>\n",
              "      <td>-149.892769</td>\n",
              "      <td>720 W Dimond Blvd, Anchorage, AK 99515, United...</td>\n",
              "      <td>ChIJMdQzoAOZyFYR1rEIFO_2Wyo</td>\n",
              "      <td>/biz/yakishabu-sushi-house-anchorage-4?osq=Res...</td>\n",
              "      <td>0.184925</td>\n",
              "      <td>3.9</td>\n",
              "      <td>99515</td>\n",
              "      <td>39</td>\n",
              "      <td>15252</td>\n",
              "      <td>...</td>\n",
              "      <td>1</td>\n",
              "      <td>4.0</td>\n",
              "      <td>1</td>\n",
              "      <td>106755</td>\n",
              "      <td>1</td>\n",
              "      <td>0</td>\n",
              "      <td>0</td>\n",
              "      <td>32</td>\n",
              "      <td>Offers Delivery\\nOffers Takeout\\nCasual, Trend...</td>\n",
              "      <td>9</td>\n",
              "    </tr>\n",
              "    <tr>\n",
              "      <th>61.216698</th>\n",
              "      <td>Yamaya Seafood Restaurant</td>\n",
              "      <td>-149.898625</td>\n",
              "      <td>825 W 6th Ave, Anchorage, AK 99501, United States</td>\n",
              "      <td>ChIJVVN224C9yFYRmmjSJ1vPVj4</td>\n",
              "      <td>/biz/yamaya-seafood-restaurant-anchorage?osq=R...</td>\n",
              "      <td>0.123558</td>\n",
              "      <td>3.7</td>\n",
              "      <td>99501</td>\n",
              "      <td>58</td>\n",
              "      <td>9223</td>\n",
              "      <td>...</td>\n",
              "      <td>0</td>\n",
              "      <td>7.2</td>\n",
              "      <td>1</td>\n",
              "      <td>61509</td>\n",
              "      <td>0</td>\n",
              "      <td>1</td>\n",
              "      <td>1</td>\n",
              "      <td>124</td>\n",
              "      <td>Takes Reservations\\nOffers Takeout\\nNo Deliver...</td>\n",
              "      <td>15</td>\n",
              "    </tr>\n",
              "    <tr>\n",
              "      <th>61.184160</th>\n",
              "      <td>Yogo Delight</td>\n",
              "      <td>-149.867577</td>\n",
              "      <td>4007 Old Seward Hwy # 200, Anchorage, AK 99503...</td>\n",
              "      <td>ChIJT0w0d7yXyFYRcCATvyPkT6Y</td>\n",
              "      <td>/biz/yogo-delight-anchorage?osq=Restaurants</td>\n",
              "      <td>0.099800</td>\n",
              "      <td>4.4</td>\n",
              "      <td>99508</td>\n",
              "      <td>9</td>\n",
              "      <td>15722</td>\n",
              "      <td>...</td>\n",
              "      <td>0</td>\n",
              "      <td>6.5</td>\n",
              "      <td>1</td>\n",
              "      <td>65430</td>\n",
              "      <td>0</td>\n",
              "      <td>1</td>\n",
              "      <td>0</td>\n",
              "      <td>116</td>\n",
              "      <td>Offers Takeout\\nNo Reservations\\nNo Delivery\\n...</td>\n",
              "      <td>18</td>\n",
              "    </tr>\n",
              "    <tr>\n",
              "      <th>61.195857</th>\n",
              "      <td>Zorba's Gyros</td>\n",
              "      <td>-149.890254</td>\n",
              "      <td>2700 Blueberry Rd, Anchorage, AK 99503, United...</td>\n",
              "      <td>ChIJI7cNe8WXyFYRuJw8-CPA5f4</td>\n",
              "      <td>/biz/zorbas-gyros-anchorage?osq=Restaurants</td>\n",
              "      <td>0.116808</td>\n",
              "      <td>4.4</td>\n",
              "      <td>99518</td>\n",
              "      <td>21</td>\n",
              "      <td>6234</td>\n",
              "      <td>...</td>\n",
              "      <td>0</td>\n",
              "      <td>3.0</td>\n",
              "      <td>0</td>\n",
              "      <td>84045</td>\n",
              "      <td>0</td>\n",
              "      <td>1</td>\n",
              "      <td>1</td>\n",
              "      <td>80</td>\n",
              "      <td>Offers Takeout\\nNo Reservations\\nAccepts Credi...</td>\n",
              "      <td>11</td>\n",
              "    </tr>\n",
              "    <tr>\n",
              "      <th>61.195468</th>\n",
              "      <td>Serrano's Mexican Grill</td>\n",
              "      <td>-149.880141</td>\n",
              "      <td>201 E Northern Lights Blvd, Anchorage, AK 9950...</td>\n",
              "      <td>ChIJH0A8uciXyFYRQvUedUNWEEU</td>\n",
              "      <td>/biz/serranos-mexican-grill-anchorage?osq=Rest...</td>\n",
              "      <td>0.141745</td>\n",
              "      <td>3.9</td>\n",
              "      <td>99577</td>\n",
              "      <td>13</td>\n",
              "      <td>22970</td>\n",
              "      <td>...</td>\n",
              "      <td>1</td>\n",
              "      <td>3.5</td>\n",
              "      <td>1</td>\n",
              "      <td>111388</td>\n",
              "      <td>1</td>\n",
              "      <td>1</td>\n",
              "      <td>0</td>\n",
              "      <td>270</td>\n",
              "      <td>Offers Delivery\\nOffers Takeout\\nNo Reservatio...</td>\n",
              "      <td>20</td>\n",
              "    </tr>\n",
              "  </tbody>\n",
              "</table>\n",
              "<p>5 rows × 37 columns</p>\n",
              "</div>"
            ],
            "text/plain": [
              "                          Restaurant   Longitude  \\\n",
              "Latitude                                           \n",
              "61.144031      Yakishabu Sushi House -149.892769   \n",
              "61.216698  Yamaya Seafood Restaurant -149.898625   \n",
              "61.184160               Yogo Delight -149.867577   \n",
              "61.195857              Zorba's Gyros -149.890254   \n",
              "61.195468    Serrano's Mexican Grill -149.880141   \n",
              "\n",
              "                                                     Address  \\\n",
              "Latitude                                                       \n",
              "61.144031  720 W Dimond Blvd, Anchorage, AK 99515, United...   \n",
              "61.216698  825 W 6th Ave, Anchorage, AK 99501, United States   \n",
              "61.184160  4007 Old Seward Hwy # 200, Anchorage, AK 99503...   \n",
              "61.195857  2700 Blueberry Rd, Anchorage, AK 99503, United...   \n",
              "61.195468  201 E Northern Lights Blvd, Anchorage, AK 9950...   \n",
              "\n",
              "                               PlaceID  \\\n",
              "Latitude                                 \n",
              "61.144031  ChIJMdQzoAOZyFYR1rEIFO_2Wyo   \n",
              "61.216698  ChIJVVN224C9yFYRmmjSJ1vPVj4   \n",
              "61.184160  ChIJT0w0d7yXyFYRcCATvyPkT6Y   \n",
              "61.195857  ChIJI7cNe8WXyFYRuJw8-CPA5f4   \n",
              "61.195468  ChIJH0A8uciXyFYRQvUedUNWEEU   \n",
              "\n",
              "                                                         URL  AverageExposure  \\\n",
              "Latitude                                                                        \n",
              "61.144031  /biz/yakishabu-sushi-house-anchorage-4?osq=Res...         0.184925   \n",
              "61.216698  /biz/yamaya-seafood-restaurant-anchorage?osq=R...         0.123558   \n",
              "61.184160        /biz/yogo-delight-anchorage?osq=Restaurants         0.099800   \n",
              "61.195857        /biz/zorbas-gyros-anchorage?osq=Restaurants         0.116808   \n",
              "61.195468  /biz/serranos-mexican-grill-anchorage?osq=Rest...         0.141745   \n",
              "\n",
              "           Stars    ZIP  Count  White  ...  HED  Unemployment  HUne  Wealth  \\\n",
              "Latitude                               ...                                    \n",
              "61.144031    3.9  99515     39  15252  ...    1           4.0     1  106755   \n",
              "61.216698    3.7  99501     58   9223  ...    0           7.2     1   61509   \n",
              "61.184160    4.4  99508      9  15722  ...    0           6.5     1   65430   \n",
              "61.195857    4.4  99518     21   6234  ...    0           3.0     0   84045   \n",
              "61.195468    3.9  99577     13  22970  ...    1           3.5     1  111388   \n",
              "\n",
              "           HWe  Attraction  Hotspot  Reviews  \\\n",
              "Latitude                                       \n",
              "61.144031    1           0        0       32   \n",
              "61.216698    0           1        1      124   \n",
              "61.184160    0           1        0      116   \n",
              "61.195857    0           1        1       80   \n",
              "61.195468    1           1        0      270   \n",
              "\n",
              "                                                   Amenities  Amenity_Count  \n",
              "Latitude                                                                     \n",
              "61.144031  Offers Delivery\\nOffers Takeout\\nCasual, Trend...              9  \n",
              "61.216698  Takes Reservations\\nOffers Takeout\\nNo Deliver...             15  \n",
              "61.184160  Offers Takeout\\nNo Reservations\\nNo Delivery\\n...             18  \n",
              "61.195857  Offers Takeout\\nNo Reservations\\nAccepts Credi...             11  \n",
              "61.195468  Offers Delivery\\nOffers Takeout\\nNo Reservatio...             20  \n",
              "\n",
              "[5 rows x 37 columns]"
            ]
          },
          "execution_count": 9,
          "metadata": {},
          "output_type": "execute_result"
        }
      ],
      "source": [
        "# or the last few (tail)\n",
        "gtky.tail()"
      ]
    },
    {
      "cell_type": "code",
      "execution_count": null,
      "metadata": {
        "id": "UA-GScatqpvT",
        "outputId": "ab2edfc1-f620-4cd9-8edb-70614ba7bf04"
      },
      "outputs": [
        {
          "data": {
            "text/html": [
              "<div>\n",
              "<style scoped>\n",
              "    .dataframe tbody tr th:only-of-type {\n",
              "        vertical-align: middle;\n",
              "    }\n",
              "\n",
              "    .dataframe tbody tr th {\n",
              "        vertical-align: top;\n",
              "    }\n",
              "\n",
              "    .dataframe thead tr th {\n",
              "        text-align: left;\n",
              "    }\n",
              "\n",
              "    .dataframe thead tr:last-of-type th {\n",
              "        text-align: right;\n",
              "    }\n",
              "</style>\n",
              "<table border=\"1\" class=\"dataframe\">\n",
              "  <thead>\n",
              "    <tr>\n",
              "      <th></th>\n",
              "      <th colspan=\"8\" halign=\"left\">Longitude</th>\n",
              "      <th colspan=\"2\" halign=\"left\">AverageExposure</th>\n",
              "      <th>...</th>\n",
              "      <th colspan=\"2\" halign=\"left\">Reviews</th>\n",
              "      <th colspan=\"8\" halign=\"left\">Amenity_Count</th>\n",
              "    </tr>\n",
              "    <tr>\n",
              "      <th></th>\n",
              "      <th>count</th>\n",
              "      <th>mean</th>\n",
              "      <th>std</th>\n",
              "      <th>min</th>\n",
              "      <th>25%</th>\n",
              "      <th>50%</th>\n",
              "      <th>75%</th>\n",
              "      <th>max</th>\n",
              "      <th>count</th>\n",
              "      <th>mean</th>\n",
              "      <th>...</th>\n",
              "      <th>75%</th>\n",
              "      <th>max</th>\n",
              "      <th>count</th>\n",
              "      <th>mean</th>\n",
              "      <th>std</th>\n",
              "      <th>min</th>\n",
              "      <th>25%</th>\n",
              "      <th>50%</th>\n",
              "      <th>75%</th>\n",
              "      <th>max</th>\n",
              "    </tr>\n",
              "    <tr>\n",
              "      <th>ZIP</th>\n",
              "      <th></th>\n",
              "      <th></th>\n",
              "      <th></th>\n",
              "      <th></th>\n",
              "      <th></th>\n",
              "      <th></th>\n",
              "      <th></th>\n",
              "      <th></th>\n",
              "      <th></th>\n",
              "      <th></th>\n",
              "      <th></th>\n",
              "      <th></th>\n",
              "      <th></th>\n",
              "      <th></th>\n",
              "      <th></th>\n",
              "      <th></th>\n",
              "      <th></th>\n",
              "      <th></th>\n",
              "      <th></th>\n",
              "      <th></th>\n",
              "      <th></th>\n",
              "    </tr>\n",
              "  </thead>\n",
              "  <tbody>\n",
              "    <tr>\n",
              "      <th>99501</th>\n",
              "      <td>56.0</td>\n",
              "      <td>-148.742000</td>\n",
              "      <td>8.439060</td>\n",
              "      <td>-149.982134</td>\n",
              "      <td>-149.896281</td>\n",
              "      <td>-149.888814</td>\n",
              "      <td>-149.872529</td>\n",
              "      <td>-86.719709</td>\n",
              "      <td>56.0</td>\n",
              "      <td>0.153591</td>\n",
              "      <td>...</td>\n",
              "      <td>230.25</td>\n",
              "      <td>2480.0</td>\n",
              "      <td>56.0</td>\n",
              "      <td>8.285714</td>\n",
              "      <td>7.300596</td>\n",
              "      <td>2.0</td>\n",
              "      <td>3.00</td>\n",
              "      <td>4.0</td>\n",
              "      <td>14.25</td>\n",
              "      <td>27.0</td>\n",
              "    </tr>\n",
              "    <tr>\n",
              "      <th>99502</th>\n",
              "      <td>6.0</td>\n",
              "      <td>-149.916733</td>\n",
              "      <td>0.045542</td>\n",
              "      <td>-149.983585</td>\n",
              "      <td>-149.943912</td>\n",
              "      <td>-149.912612</td>\n",
              "      <td>-149.882729</td>\n",
              "      <td>-149.864476</td>\n",
              "      <td>6.0</td>\n",
              "      <td>0.115208</td>\n",
              "      <td>...</td>\n",
              "      <td>70.00</td>\n",
              "      <td>155.0</td>\n",
              "      <td>6.0</td>\n",
              "      <td>14.333333</td>\n",
              "      <td>3.983298</td>\n",
              "      <td>11.0</td>\n",
              "      <td>11.25</td>\n",
              "      <td>13.0</td>\n",
              "      <td>16.25</td>\n",
              "      <td>21.0</td>\n",
              "    </tr>\n",
              "    <tr>\n",
              "      <th>99503</th>\n",
              "      <td>94.0</td>\n",
              "      <td>-149.874413</td>\n",
              "      <td>0.058371</td>\n",
              "      <td>-149.952618</td>\n",
              "      <td>-149.904025</td>\n",
              "      <td>-149.885408</td>\n",
              "      <td>-149.868873</td>\n",
              "      <td>-149.563550</td>\n",
              "      <td>94.0</td>\n",
              "      <td>0.133839</td>\n",
              "      <td>...</td>\n",
              "      <td>162.75</td>\n",
              "      <td>2967.0</td>\n",
              "      <td>94.0</td>\n",
              "      <td>13.361702</td>\n",
              "      <td>7.029662</td>\n",
              "      <td>0.0</td>\n",
              "      <td>9.00</td>\n",
              "      <td>14.0</td>\n",
              "      <td>17.00</td>\n",
              "      <td>31.0</td>\n",
              "    </tr>\n",
              "    <tr>\n",
              "      <th>99504</th>\n",
              "      <td>10.0</td>\n",
              "      <td>-149.618327</td>\n",
              "      <td>0.699157</td>\n",
              "      <td>-149.915430</td>\n",
              "      <td>-149.890578</td>\n",
              "      <td>-149.836955</td>\n",
              "      <td>-149.766768</td>\n",
              "      <td>-147.636225</td>\n",
              "      <td>10.0</td>\n",
              "      <td>0.122940</td>\n",
              "      <td>...</td>\n",
              "      <td>126.50</td>\n",
              "      <td>414.0</td>\n",
              "      <td>10.0</td>\n",
              "      <td>12.900000</td>\n",
              "      <td>7.125073</td>\n",
              "      <td>2.0</td>\n",
              "      <td>7.25</td>\n",
              "      <td>13.5</td>\n",
              "      <td>16.75</td>\n",
              "      <td>25.0</td>\n",
              "    </tr>\n",
              "    <tr>\n",
              "      <th>99507</th>\n",
              "      <td>23.0</td>\n",
              "      <td>-149.867175</td>\n",
              "      <td>0.043462</td>\n",
              "      <td>-149.913815</td>\n",
              "      <td>-149.893826</td>\n",
              "      <td>-149.885075</td>\n",
              "      <td>-149.857953</td>\n",
              "      <td>-149.741059</td>\n",
              "      <td>23.0</td>\n",
              "      <td>0.105630</td>\n",
              "      <td>...</td>\n",
              "      <td>198.00</td>\n",
              "      <td>426.0</td>\n",
              "      <td>23.0</td>\n",
              "      <td>6.434783</td>\n",
              "      <td>7.011848</td>\n",
              "      <td>0.0</td>\n",
              "      <td>2.00</td>\n",
              "      <td>4.0</td>\n",
              "      <td>8.50</td>\n",
              "      <td>23.0</td>\n",
              "    </tr>\n",
              "    <tr>\n",
              "      <th>99508</th>\n",
              "      <td>9.0</td>\n",
              "      <td>-149.851966</td>\n",
              "      <td>0.054903</td>\n",
              "      <td>-149.907983</td>\n",
              "      <td>-149.890611</td>\n",
              "      <td>-149.867577</td>\n",
              "      <td>-149.839750</td>\n",
              "      <td>-149.734193</td>\n",
              "      <td>9.0</td>\n",
              "      <td>0.118777</td>\n",
              "      <td>...</td>\n",
              "      <td>167.00</td>\n",
              "      <td>226.0</td>\n",
              "      <td>9.0</td>\n",
              "      <td>17.444444</td>\n",
              "      <td>6.710274</td>\n",
              "      <td>3.0</td>\n",
              "      <td>17.00</td>\n",
              "      <td>18.0</td>\n",
              "      <td>19.00</td>\n",
              "      <td>29.0</td>\n",
              "    </tr>\n",
              "    <tr>\n",
              "      <th>99515</th>\n",
              "      <td>39.0</td>\n",
              "      <td>-149.843831</td>\n",
              "      <td>0.090286</td>\n",
              "      <td>-149.915729</td>\n",
              "      <td>-149.893782</td>\n",
              "      <td>-149.874919</td>\n",
              "      <td>-149.836392</td>\n",
              "      <td>-149.568249</td>\n",
              "      <td>39.0</td>\n",
              "      <td>0.110079</td>\n",
              "      <td>...</td>\n",
              "      <td>135.50</td>\n",
              "      <td>607.0</td>\n",
              "      <td>39.0</td>\n",
              "      <td>12.435897</td>\n",
              "      <td>6.443254</td>\n",
              "      <td>0.0</td>\n",
              "      <td>8.00</td>\n",
              "      <td>14.0</td>\n",
              "      <td>16.00</td>\n",
              "      <td>32.0</td>\n",
              "    </tr>\n",
              "    <tr>\n",
              "      <th>99517</th>\n",
              "      <td>15.0</td>\n",
              "      <td>-149.865809</td>\n",
              "      <td>0.090081</td>\n",
              "      <td>-149.937970</td>\n",
              "      <td>-149.915144</td>\n",
              "      <td>-149.892066</td>\n",
              "      <td>-149.861268</td>\n",
              "      <td>-149.570695</td>\n",
              "      <td>15.0</td>\n",
              "      <td>0.128230</td>\n",
              "      <td>...</td>\n",
              "      <td>160.00</td>\n",
              "      <td>486.0</td>\n",
              "      <td>15.0</td>\n",
              "      <td>13.466667</td>\n",
              "      <td>5.755329</td>\n",
              "      <td>3.0</td>\n",
              "      <td>10.00</td>\n",
              "      <td>14.0</td>\n",
              "      <td>17.50</td>\n",
              "      <td>24.0</td>\n",
              "    </tr>\n",
              "    <tr>\n",
              "      <th>99518</th>\n",
              "      <td>21.0</td>\n",
              "      <td>-149.876652</td>\n",
              "      <td>0.074823</td>\n",
              "      <td>-149.942590</td>\n",
              "      <td>-149.897319</td>\n",
              "      <td>-149.890254</td>\n",
              "      <td>-149.867133</td>\n",
              "      <td>-149.569488</td>\n",
              "      <td>21.0</td>\n",
              "      <td>0.121858</td>\n",
              "      <td>...</td>\n",
              "      <td>141.00</td>\n",
              "      <td>358.0</td>\n",
              "      <td>21.0</td>\n",
              "      <td>15.380952</td>\n",
              "      <td>5.074211</td>\n",
              "      <td>5.0</td>\n",
              "      <td>12.00</td>\n",
              "      <td>16.0</td>\n",
              "      <td>19.00</td>\n",
              "      <td>27.0</td>\n",
              "    </tr>\n",
              "    <tr>\n",
              "      <th>99540</th>\n",
              "      <td>4.0</td>\n",
              "      <td>-149.694135</td>\n",
              "      <td>0.216026</td>\n",
              "      <td>-149.893939</td>\n",
              "      <td>-149.874339</td>\n",
              "      <td>-149.692308</td>\n",
              "      <td>-149.512104</td>\n",
              "      <td>-149.497986</td>\n",
              "      <td>4.0</td>\n",
              "      <td>0.203595</td>\n",
              "      <td>...</td>\n",
              "      <td>84.75</td>\n",
              "      <td>102.0</td>\n",
              "      <td>4.0</td>\n",
              "      <td>16.000000</td>\n",
              "      <td>4.320494</td>\n",
              "      <td>10.0</td>\n",
              "      <td>14.50</td>\n",
              "      <td>17.0</td>\n",
              "      <td>18.50</td>\n",
              "      <td>20.0</td>\n",
              "    </tr>\n",
              "    <tr>\n",
              "      <th>99577</th>\n",
              "      <td>14.0</td>\n",
              "      <td>-147.550504</td>\n",
              "      <td>8.720974</td>\n",
              "      <td>-149.982857</td>\n",
              "      <td>-149.892293</td>\n",
              "      <td>-149.873930</td>\n",
              "      <td>-149.843747</td>\n",
              "      <td>-117.250918</td>\n",
              "      <td>14.0</td>\n",
              "      <td>0.103617</td>\n",
              "      <td>...</td>\n",
              "      <td>190.00</td>\n",
              "      <td>270.0</td>\n",
              "      <td>14.0</td>\n",
              "      <td>14.500000</td>\n",
              "      <td>6.560371</td>\n",
              "      <td>2.0</td>\n",
              "      <td>11.50</td>\n",
              "      <td>15.5</td>\n",
              "      <td>18.75</td>\n",
              "      <td>25.0</td>\n",
              "    </tr>\n",
              "  </tbody>\n",
              "</table>\n",
              "<p>11 rows × 248 columns</p>\n",
              "</div>"
            ],
            "text/plain": [
              "      Longitude                                                            \\\n",
              "          count        mean       std         min         25%         50%   \n",
              "ZIP                                                                         \n",
              "99501      56.0 -148.742000  8.439060 -149.982134 -149.896281 -149.888814   \n",
              "99502       6.0 -149.916733  0.045542 -149.983585 -149.943912 -149.912612   \n",
              "99503      94.0 -149.874413  0.058371 -149.952618 -149.904025 -149.885408   \n",
              "99504      10.0 -149.618327  0.699157 -149.915430 -149.890578 -149.836955   \n",
              "99507      23.0 -149.867175  0.043462 -149.913815 -149.893826 -149.885075   \n",
              "99508       9.0 -149.851966  0.054903 -149.907983 -149.890611 -149.867577   \n",
              "99515      39.0 -149.843831  0.090286 -149.915729 -149.893782 -149.874919   \n",
              "99517      15.0 -149.865809  0.090081 -149.937970 -149.915144 -149.892066   \n",
              "99518      21.0 -149.876652  0.074823 -149.942590 -149.897319 -149.890254   \n",
              "99540       4.0 -149.694135  0.216026 -149.893939 -149.874339 -149.692308   \n",
              "99577      14.0 -147.550504  8.720974 -149.982857 -149.892293 -149.873930   \n",
              "\n",
              "                              AverageExposure            ... Reviews          \\\n",
              "              75%         max           count      mean  ...     75%     max   \n",
              "ZIP                                                      ...                   \n",
              "99501 -149.872529  -86.719709            56.0  0.153591  ...  230.25  2480.0   \n",
              "99502 -149.882729 -149.864476             6.0  0.115208  ...   70.00   155.0   \n",
              "99503 -149.868873 -149.563550            94.0  0.133839  ...  162.75  2967.0   \n",
              "99504 -149.766768 -147.636225            10.0  0.122940  ...  126.50   414.0   \n",
              "99507 -149.857953 -149.741059            23.0  0.105630  ...  198.00   426.0   \n",
              "99508 -149.839750 -149.734193             9.0  0.118777  ...  167.00   226.0   \n",
              "99515 -149.836392 -149.568249            39.0  0.110079  ...  135.50   607.0   \n",
              "99517 -149.861268 -149.570695            15.0  0.128230  ...  160.00   486.0   \n",
              "99518 -149.867133 -149.569488            21.0  0.121858  ...  141.00   358.0   \n",
              "99540 -149.512104 -149.497986             4.0  0.203595  ...   84.75   102.0   \n",
              "99577 -149.843747 -117.250918            14.0  0.103617  ...  190.00   270.0   \n",
              "\n",
              "      Amenity_Count                                                       \n",
              "              count       mean       std   min    25%   50%    75%   max  \n",
              "ZIP                                                                       \n",
              "99501          56.0   8.285714  7.300596   2.0   3.00   4.0  14.25  27.0  \n",
              "99502           6.0  14.333333  3.983298  11.0  11.25  13.0  16.25  21.0  \n",
              "99503          94.0  13.361702  7.029662   0.0   9.00  14.0  17.00  31.0  \n",
              "99504          10.0  12.900000  7.125073   2.0   7.25  13.5  16.75  25.0  \n",
              "99507          23.0   6.434783  7.011848   0.0   2.00   4.0   8.50  23.0  \n",
              "99508           9.0  17.444444  6.710274   3.0  17.00  18.0  19.00  29.0  \n",
              "99515          39.0  12.435897  6.443254   0.0   8.00  14.0  16.00  32.0  \n",
              "99517          15.0  13.466667  5.755329   3.0  10.00  14.0  17.50  24.0  \n",
              "99518          21.0  15.380952  5.074211   5.0  12.00  16.0  19.00  27.0  \n",
              "99540           4.0  16.000000  4.320494  10.0  14.50  17.0  18.50  20.0  \n",
              "99577          14.0  14.500000  6.560371   2.0  11.50  15.5  18.75  25.0  \n",
              "\n",
              "[11 rows x 248 columns]"
            ]
          },
          "execution_count": 10,
          "metadata": {},
          "output_type": "execute_result"
        }
      ],
      "source": [
        "# look at stats for the different classes\n",
        "class_gtky = gtky.groupby(\"ZIP\")\n",
        "class_gtky.describe()"
      ]
    },
    {
      "cell_type": "markdown",
      "metadata": {
        "id": "aLgm1u80qpvT"
      },
      "source": [
        "## Saving a DataFrame as a csv\n",
        "- .to_csv()\n",
        "- index=False\n",
        "- header=False\n",
        "- appending to csv (mode='a', header=None)"
      ]
    },
    {
      "cell_type": "code",
      "execution_count": null,
      "metadata": {
        "id": "qjLr5VjfqpvT"
      },
      "outputs": [],
      "source": [
        "# doesn't save index into first column of csv\n",
        "gtky.to_csv('gtky_copy.csv', index=False)"
      ]
    },
    {
      "cell_type": "code",
      "execution_count": null,
      "metadata": {
        "id": "99avapBqqpvT"
      },
      "outputs": [],
      "source": [
        "# doesn't save header into first row of csv\n",
        "gtky.to_csv('gtky_copy_no_head.csv', header=False)"
      ]
    },
    {
      "cell_type": "code",
      "execution_count": null,
      "metadata": {
        "id": "ffRQUoOsqpvT"
      },
      "outputs": [],
      "source": [
        "# why would you want to not save the header?\n",
        "# you could append to an existing csv with mode = 'a'\n",
        "\n",
        "gtky.to_csv('gtky_copy2.csv', index=False)\n",
        "for _ in range(10):\n",
        "    gtky.to_csv('gtky_copy2.csv', header=False, mode='a')"
      ]
    },
    {
      "cell_type": "markdown",
      "metadata": {
        "id": "Z6eKZ0dRZapi"
      },
      "source": [
        "# Basic tools in preparation for APIs\n",
        "\n",
        "The `requests` module comes into play soon. While you may have installed it in the terminal earlier, it is actually a [magic](https://ipython.readthedocs.io/en/stable/interactive/magics.html#magic-pip) command, which means it can be installed directly from jupyter (should you ever need to install it again, or if you had difficulty installing it earlier)."
      ]
    },
    {
      "cell_type": "code",
      "execution_count": null,
      "metadata": {
        "id": "_oFcMMbkZapi",
        "outputId": "048b6bc6-4dad-493a-b4bb-b862c11816a6"
      },
      "outputs": [
        {
          "name": "stdout",
          "output_type": "stream",
          "text": [
            "Requirement already satisfied: requests in /opt/homebrew/lib/python3.13/site-packages (2.32.3)\n",
            "Requirement already satisfied: charset-normalizer<4,>=2 in /opt/homebrew/lib/python3.13/site-packages (from requests) (3.4.0)\n",
            "Requirement already satisfied: idna<4,>=2.5 in /opt/homebrew/lib/python3.13/site-packages (from requests) (3.10)\n",
            "Requirement already satisfied: urllib3<3,>=1.21.1 in /opt/homebrew/lib/python3.13/site-packages (from requests) (2.2.3)\n",
            "Requirement already satisfied: certifi>=2017.4.17 in /opt/homebrew/lib/python3.13/site-packages (from requests) (2024.8.30)\n",
            "\n",
            "\u001b[1m[\u001b[0m\u001b[34;49mnotice\u001b[0m\u001b[1;39;49m]\u001b[0m\u001b[39;49m A new release of pip is available: \u001b[0m\u001b[31;49m24.2\u001b[0m\u001b[39;49m -> \u001b[0m\u001b[32;49m24.3.1\u001b[0m\n",
            "\u001b[1m[\u001b[0m\u001b[34;49mnotice\u001b[0m\u001b[1;39;49m]\u001b[0m\u001b[39;49m To update, run: \u001b[0m\u001b[32;49mpython3.13 -m pip install --upgrade pip\u001b[0m\n"
          ]
        }
      ],
      "source": [
        "!pip3 install requests --break-system-packages\n",
        "\n",
        "#or\n",
        "\n",
        "#pip3 install requests\n",
        "\n",
        "#or\n",
        "\n",
        "#pip install requests"
      ]
    },
    {
      "cell_type": "markdown",
      "metadata": {
        "id": "zHsUgwUkZapi"
      },
      "source": [
        "## Building a DataFrame row by row\n",
        "\n",
        "We often get data in chunks (web scraping / API calls).  We'll need to store our data incrementally:\n"
      ]
    },
    {
      "cell_type": "code",
      "execution_count": null,
      "metadata": {
        "id": "NTe9UrZFZapi",
        "outputId": "2f9c3d5a-9f88-420d-870b-9b34dd6baaca"
      },
      "outputs": [
        {
          "name": "stdout",
          "output_type": "stream",
          "text": [
            "Empty DataFrame\n",
            "Columns: []\n",
            "Index: []\n"
          ]
        },
        {
          "data": {
            "text/html": [
              "<div>\n",
              "<style scoped>\n",
              "    .dataframe tbody tr th:only-of-type {\n",
              "        vertical-align: middle;\n",
              "    }\n",
              "\n",
              "    .dataframe tbody tr th {\n",
              "        vertical-align: top;\n",
              "    }\n",
              "\n",
              "    .dataframe thead th {\n",
              "        text-align: right;\n",
              "    }\n",
              "</style>\n",
              "<table border=\"1\" class=\"dataframe\">\n",
              "  <thead>\n",
              "    <tr style=\"text-align: right;\">\n",
              "      <th></th>\n",
              "      <th>a</th>\n",
              "      <th>b</th>\n",
              "      <th>c</th>\n",
              "    </tr>\n",
              "  </thead>\n",
              "  <tbody>\n",
              "    <tr>\n",
              "      <th>0</th>\n",
              "      <td>1</td>\n",
              "      <td>2</td>\n",
              "      <td>3</td>\n",
              "    </tr>\n",
              "    <tr>\n",
              "      <th>0</th>\n",
              "      <td>4</td>\n",
              "      <td>3874</td>\n",
              "      <td>398</td>\n",
              "    </tr>\n",
              "  </tbody>\n",
              "</table>\n",
              "</div>"
            ],
            "text/plain": [
              "   a     b    c\n",
              "0  1     2    3\n",
              "0  4  3874  398"
            ]
          },
          "execution_count": 100,
          "metadata": {},
          "output_type": "execute_result"
        }
      ],
      "source": [
        "import pandas as pd\n",
        "\n",
        "dict_list = [{'a': 1, 'b': 2, 'c': 3},\n",
        "             {'a': 4, 'b': 3874, 'c': 398}]\n",
        "\n",
        "df = pd.DataFrame()\n",
        "print(df)\n",
        "for d in dict_list:\n",
        "    df = pd.concat([df, pd.Series(d).to_frame().T])\n",
        "\n",
        "df"
      ]
    },
    {
      "cell_type": "code",
      "execution_count": null,
      "metadata": {
        "id": "hW7ngS8LZapi",
        "outputId": "7d980c2f-ebb9-4dde-a48e-737968e4fe2a"
      },
      "outputs": [
        {
          "name": "stdout",
          "output_type": "stream",
          "text": [
            "Empty DataFrame\n",
            "Columns: []\n",
            "Index: []\n"
          ]
        },
        {
          "data": {
            "text/html": [
              "<div>\n",
              "<style scoped>\n",
              "    .dataframe tbody tr th:only-of-type {\n",
              "        vertical-align: middle;\n",
              "    }\n",
              "\n",
              "    .dataframe tbody tr th {\n",
              "        vertical-align: top;\n",
              "    }\n",
              "\n",
              "    .dataframe thead th {\n",
              "        text-align: right;\n",
              "    }\n",
              "</style>\n",
              "<table border=\"1\" class=\"dataframe\">\n",
              "  <thead>\n",
              "    <tr style=\"text-align: right;\">\n",
              "      <th></th>\n",
              "      <th>a</th>\n",
              "      <th>b</th>\n",
              "      <th>c</th>\n",
              "    </tr>\n",
              "  </thead>\n",
              "  <tbody>\n",
              "    <tr>\n",
              "      <th>first</th>\n",
              "      <td>1</td>\n",
              "      <td>2</td>\n",
              "      <td>3</td>\n",
              "    </tr>\n",
              "    <tr>\n",
              "      <th>second</th>\n",
              "      <td>4</td>\n",
              "      <td>3874</td>\n",
              "      <td>398</td>\n",
              "    </tr>\n",
              "  </tbody>\n",
              "</table>\n",
              "</div>"
            ],
            "text/plain": [
              "        a     b    c\n",
              "first   1     2    3\n",
              "second  4  3874  398"
            ]
          },
          "execution_count": 103,
          "metadata": {},
          "output_type": "execute_result"
        }
      ],
      "source": [
        "# to include index names\n",
        "list_dict = [{'a': 1, 'b': 2, 'c': 3},\n",
        "            {'a': 4, 'b': 3874, 'c': 398}]\n",
        "\n",
        "name_list = ['first', 'second']\n",
        "\n",
        "df = pd.DataFrame()\n",
        "print(df)\n",
        "for idx in range(2):\n",
        "    # extract dictionary & name\n",
        "    d = list_dict[idx]\n",
        "    name = name_list[idx]\n",
        "\n",
        "    # build series and name it\n",
        "    series = pd.Series(d, name=name)\n",
        "\n",
        "    df = pd.concat([df, series.to_frame().T])\n",
        "\n",
        "df"
      ]
    },
    {
      "cell_type": "markdown",
      "metadata": {
        "id": "5Waruc4qZapi"
      },
      "source": [
        "# Timestamps\n",
        "\n",
        "Many datasets include a timestamp, or include a date/time as a feature in the dataset. Understanding how to deal with these can be important! It is important to understand how to handle such timestamp and what are the functions that can help us. We'll look a few time highlights which will come in handy on Homework 2.\n",
        "\n",
        "## Unix Time\n",
        "\n",
        "- [UTC](https://en.wikipedia.org/wiki/Coordinated_Universal_Time) Coordinated Universal Time\n",
        "    - time zone at 0 deg longitude\n",
        "        - how is 0 deg longitude defined?  \n",
        "            - A succesfully warring empire (United Kingdom) chose it\n",
        "                - (It would be convenient if a metric system loving empire had been more successful at war ...)\n",
        "- [Unix Time](https://en.wikipedia.org/wiki/Unix_time) is The number of seconds which have passed since 00:00:00 UTC on 1 Jan 1970 (ignoring leap seconds)\n",
        "![unix](https://i.redd.it/o1li4ktbyf871.png)\n",
        "- UTC is time zone agnostic\n",
        "    - (more on this next lesson...)\n",
        "\n",
        "## Python's `datetime`, `timedelta`, and pytz\n",
        "- helpful for all those pesky unit conversions"
      ]
    },
    {
      "cell_type": "code",
      "execution_count": 1,
      "metadata": {
        "colab": {
          "base_uri": "https://localhost:8080/"
        },
        "id": "bMLe2Y8hZapi",
        "outputId": "bbb8e8f2-ebee-41de-dae3-80678d0dda6f"
      },
      "outputs": [
        {
          "output_type": "execute_result",
          "data": {
            "text/plain": [
              "datetime.datetime(1969, 12, 31, 23, 59, 59)"
            ]
          },
          "metadata": {},
          "execution_count": 1
        }
      ],
      "source": [
        "from datetime import datetime, timedelta\n",
        "\n",
        "# would you believe that the below is exactly 2 am on Valentine's Day 2021?\n",
        "utc_example = 1726256326\n",
        "utc_example1=1726256325\n",
        "utc_example1=utc_example1-utc_example\n",
        "\n",
        "# assumes the time zone of the machine its running on!\n",
        "dt0 = datetime.fromtimestamp(utc_example1)\n",
        "dt0"
      ]
    },
    {
      "cell_type": "code",
      "execution_count": null,
      "metadata": {
        "id": "s0etDv8LZapi",
        "outputId": "ba6fb9ef-6526-4c24-96b9-c6da3636365a"
      },
      "outputs": [
        {
          "data": {
            "text/plain": [
              "datetime.datetime(1900, 4, 25, 0, 0)"
            ]
          },
          "execution_count": 108,
          "metadata": {},
          "output_type": "execute_result"
        }
      ],
      "source": [
        "date1 + timedelta(days = 90)"
      ]
    },
    {
      "cell_type": "code",
      "execution_count": null,
      "metadata": {
        "id": "92gf0jN-Zapi",
        "outputId": "cf3e3a4f-0b45-4026-b424-93210879545c"
      },
      "outputs": [
        {
          "name": "stderr",
          "output_type": "stream",
          "text": [
            "/var/folders/rf/b4q1n_7s0bl3g8s3ww6qx_mr0000gn/T/ipykernel_1470/203930150.py:3: DeprecationWarning: Parsing dates involving a day of month without a year specified is ambiguious\n",
            "and fails to parse leap day. The default behavior will change in Python 3.15\n",
            "to either always raise an exception or to use a different default year (TBD).\n",
            "To avoid trouble, add a specific year to the input & format.\n",
            "See https://github.com/python/cpython/issues/70647.\n",
            "  newdate = datetime.strptime(str1 + ' ' + str2, '%B %d %H %p')\n"
          ]
        },
        {
          "data": {
            "text/plain": [
              "datetime.datetime(1900, 9, 25, 10, 0)"
            ]
          },
          "execution_count": 109,
          "metadata": {},
          "output_type": "execute_result"
        }
      ],
      "source": [
        "str1 = \"September 25\"\n",
        "str2 = \"10 am\"\n",
        "newdate = datetime.strptime(str1 + ' ' + str2, '%B %d %H %p')\n",
        "newdate"
      ]
    },
    {
      "cell_type": "code",
      "execution_count": null,
      "metadata": {
        "id": "FdHsQRMFZapi",
        "outputId": "210a3cd1-49bf-4e0a-ab43-670fa84e2fd9"
      },
      "outputs": [
        {
          "data": {
            "text/plain": [
              "datetime.datetime(2023, 9, 25, 10, 0)"
            ]
          },
          "execution_count": 110,
          "metadata": {},
          "output_type": "execute_result"
        }
      ],
      "source": [
        "newnewdate = datetime(year = 2023, month = newdate.month, day = newdate.day, hour = newdate.hour)\n",
        "newnewdate"
      ]
    },
    {
      "cell_type": "code",
      "execution_count": null,
      "metadata": {
        "id": "8tbyAzHSZapi"
      },
      "outputs": [],
      "source": [
        "import pytz\n",
        "tz_mali = pytz.timezone(\"Africa/Timbuktu\")\n",
        "inmali = tz_mali.localize(newnewdate)"
      ]
    },
    {
      "cell_type": "code",
      "execution_count": null,
      "metadata": {
        "id": "zgav1egWZapi",
        "outputId": "55626233-3949-402c-9936-087e56c9998a"
      },
      "outputs": [
        {
          "data": {
            "text/plain": [
              "datetime.datetime(2023, 9, 25, 5, 0, tzinfo=<DstTzInfo 'EST' EST-1 day, 19:00:00 STD>)"
            ]
          },
          "execution_count": 112,
          "metadata": {},
          "output_type": "execute_result"
        }
      ],
      "source": [
        "tz_est = pytz.timezone(\"EST\")\n",
        "inmali.astimezone(tz_est)"
      ]
    },
    {
      "cell_type": "code",
      "execution_count": null,
      "metadata": {
        "id": "bGQM_lKTZapi",
        "outputId": "8e7991c5-114c-410e-a995-22c5e010c074"
      },
      "outputs": [
        {
          "data": {
            "text/plain": [
              "datetime.datetime(2025, 1, 12, 12, 41, 8, 169325)"
            ]
          },
          "execution_count": 113,
          "metadata": {},
          "output_type": "execute_result"
        }
      ],
      "source": [
        "# what about right.... now?\n",
        "dt1 = datetime.now()\n",
        "dt1"
      ]
    },
    {
      "cell_type": "code",
      "execution_count": null,
      "metadata": {
        "id": "9cqVCBE4Zapi",
        "outputId": "555379d1-80eb-447a-8aaf-573c010d7428"
      },
      "outputs": [
        {
          "data": {
            "text/plain": [
              "datetime.datetime(2031, 4, 15, 9, 26, 53)"
            ]
          },
          "execution_count": 114,
          "metadata": {},
          "output_type": "execute_result"
        }
      ],
      "source": [
        "# we can set future dates as well\n",
        "dt2 = datetime(year=2031, month=4, day=15, hour=9, minute=26, second=53)\n",
        "dt2"
      ]
    },
    {
      "cell_type": "code",
      "execution_count": null,
      "metadata": {
        "id": "Lu4gw4FlZapi",
        "outputId": "a750b37e-5c81-429d-a85e-a3ba3aca6f46"
      },
      "outputs": [
        {
          "data": {
            "text/plain": [
              "(4, 15)"
            ]
          },
          "execution_count": 115,
          "metadata": {},
          "output_type": "execute_result"
        }
      ],
      "source": [
        "# we can access meaningful date attributes of a datetime object\n",
        "# year, month, day, hour, minute, second\n",
        "dt2.month, dt2.day"
      ]
    },
    {
      "cell_type": "code",
      "execution_count": null,
      "metadata": {
        "id": "HsCTZQYMZapi",
        "outputId": "bba36850-6c7e-4c75-dc5f-6bde8fccd275"
      },
      "outputs": [
        {
          "name": "stdout",
          "output_type": "stream",
          "text": [
            "2031-04-15 09:26:53\n",
            "2031-04-20 11:56:32\n"
          ]
        }
      ],
      "source": [
        "# we can add / subtract timedelta objects\n",
        "offset = timedelta(days=5, seconds=8979)\n",
        "\n",
        "print(dt2)\n",
        "print(dt2 + offset)"
      ]
    },
    {
      "cell_type": "code",
      "execution_count": 11,
      "metadata": {
        "colab": {
          "base_uri": "https://localhost:8080/",
          "height": 35
        },
        "id": "NWXHor4yZapi",
        "outputId": "488b2475-dc0a-450b-e7c8-02067a3144bd"
      },
      "outputs": [
        {
          "output_type": "execute_result",
          "data": {
            "text/plain": [
              "'the time is now: January-13-2025 16:16 PM'"
            ],
            "application/vnd.google.colaboratory.intrinsic+json": {
              "type": "string"
            }
          },
          "metadata": {},
          "execution_count": 11
        }
      ],
      "source": [
        "# use strftime to cast a time to a string that contains other words\n",
        "# https://docs.python.org/3/library/datetime.html#strftime-and-strptime-format-codes\n",
        "s = datetime.now().strftime('the time is now: %B-%d-%Y %H:%M %p')\n",
        "s"
      ]
    },
    {
      "cell_type": "markdown",
      "source": [
        "%B: The full month name (e.g., \"September\").\n",
        "\n",
        "%d: The day of the month as a zero-padded decimal number (e.g., \"30\").\n",
        "\n",
        "%Y: The year with century as a decimal number (e.g., \"2024\").\n",
        "\n",
        "%H: The hour (00-23) as a zero-padded decimal number (e.g., \"21\" for 9 PM in 24-hour format).\n",
        "\n",
        "or\n",
        "\n",
        "%I if you want it in military time\n",
        "\n",
        "%M: The minute as a zero-padded decimal number (e.g., \"20\").\n",
        "\n",
        "%p: AM or PM (e.g., \"PM\").\n",
        "\n",
        "\n",
        "Python processes the string according to the format specifiers and stores it in an internal datetime object. Internally, the datetime object doesn't store the data in the order it was originally written (i.e., month, day, year), but rather in the canonical order of year, month, day."
      ],
      "metadata": {
        "id": "Xgz3nuaZcJBa"
      }
    },
    {
      "cell_type": "code",
      "execution_count": 13,
      "metadata": {
        "colab": {
          "base_uri": "https://localhost:8080/"
        },
        "id": "nLk4FghaZapi",
        "outputId": "92ee5930-f0ac-4574-88ba-0f244668e8ba"
      },
      "outputs": [
        {
          "output_type": "execute_result",
          "data": {
            "text/plain": [
              "datetime.datetime(2024, 9, 30, 9, 20)"
            ]
          },
          "metadata": {},
          "execution_count": 13
        }
      ],
      "source": [
        "# use strptime to take the time from strings contain other words\n",
        "datetime.strptime('the time is now: September-30-2024 9:20 PM', 'the time is now: %B-%d-%Y %H:%M %p')"
      ]
    },
    {
      "cell_type": "code",
      "execution_count": null,
      "metadata": {
        "id": "vsQsUMcnZapi",
        "outputId": "46adce9e-1100-4529-9ffd-cecc10136b70"
      },
      "outputs": [
        {
          "data": {
            "text/plain": [
              "{'hour': 12, 'minute': 42}"
            ]
          },
          "execution_count": 119,
          "metadata": {},
          "output_type": "execute_result"
        }
      ],
      "source": [
        "# you can save useful time info in a dictionary (which could then become a series -> data frame)\n",
        "dt = datetime.now()\n",
        "{'hour': dt.hour,\n",
        "'minute': dt.minute}"
      ]
    },
    {
      "cell_type": "code",
      "execution_count": null,
      "metadata": {
        "id": "ZkvF3rTIZapi",
        "outputId": "53a91f96-ecbf-4d5c-cfea-1ce87c8b92a8"
      },
      "outputs": [
        {
          "name": "stdout",
          "output_type": "stream",
          "text": [
            "944275391.717549\n"
          ]
        },
        {
          "data": {
            "text/plain": [
              "0.9442753917175489"
            ]
          },
          "execution_count": 121,
          "metadata": {},
          "output_type": "execute_result"
        }
      ],
      "source": [
        "# you can figure out how old you are in seconds\n",
        "mohit_age = (datetime.now() - datetime(year=1995, month=2, day=10, hour=10, minute=00)).total_seconds()\n",
        "print(mohit_age)\n",
        "# put it in billions (it wasn't too long ago that I turned 1 billion!)\n",
        "mohit_age/ 1e09"
      ]
    },
    {
      "cell_type": "markdown",
      "metadata": {
        "id": "FppCGpm3Zapi"
      },
      "source": [
        "# API\n",
        "###  Definitions\n",
        "**API** Application Program Interface\n",
        " - a server which gives out data (often over the internet)\n",
        " - note: 'API', in general, refers to the barrier between two pieces of software:\n",
        "     - in this case, the server which hosts data & our own software which requests it\n",
        "\n",
        "![apii](https://substackcdn.com/image/fetch/f_auto,q_auto:good,fl_progressive:steep/https%3A%2F%2Fsubstack-post-media.s3.amazonaws.com%2Fpublic%2Fimages%2F65472b4e-8deb-474d-82e7-6ca5632b3556_505x529.png)\n",
        "\n",
        "\n",
        " **JSON** JavaScript Object Notation\n",
        "  - a method of storing objects as text\n",
        "  - much like the nested dictionaries ... JSON and similar formats are often trees\n",
        "\n",
        "![json](https://project-static-assets.s3.amazonaws.com/APISpreadsheets/APIMemes/WhoIsJason.jpeg)\n",
        "\n",
        "\n",
        "## OpenWeather API\n",
        "What information does this offer?\n",
        "\n",
        "[https://openweathermap.org/api](https://openweathermap.org/api)\n",
        "\n",
        "How do I get ready to use it?\n",
        "- sign up for an account\n",
        "    - [https://home.openweathermap.org/users/sign_up](https://home.openweathermap.org/users/sign_up)\n",
        "- get an api key (my key was emailed to me with my confirmation of account)\n",
        "    - [https://home.openweathermap.org/api_keys](https://home.openweathermap.org/api_keys)\n",
        "\n",
        "![ap](https://www.memecreator.org/static/images/memes/4593014.jpg)\n",
        "        \n",
        "Think of APIs as a hybrid of a website and a function.  Its a website where your query is stored in the address:\n",
        "    \n",
        "    https://api.openweathermap.org/data/3.0/onecall?lat=42.3601&lon=-71.0589&appid=YOUR-API-KEY-HERE-THIS-WONT-WORK&units=imperial\n",
        "    \n",
        "The result is a JSON object, which we can quickly convert to our dictionary of dictionary tree format."
      ]
    },
    {
      "cell_type": "code",
      "execution_count": null,
      "metadata": {
        "id": "REt-71J9Zapj",
        "outputId": "03d96ac9-4a5b-4923-e19b-24f2d9ac9fef"
      },
      "outputs": [
        {
          "name": "stdout",
          "output_type": "stream",
          "text": [
            "https://api.openweathermap.org/data/3.0/onecall?lat=42.3601&lon=-71.0589&appid=cf758020c3c57082bbfd8b62d88ca683&units=imperial\n"
          ]
        }
      ],
      "source": [
        "api_key = 'cf758020c3c57082bbfd8b62d88ca683'\n",
        "\n",
        "# north = positive, south = negative\n",
        "lat = 42.3601\n",
        "# west = positive, east = negative\n",
        "lon = -71.0589\n",
        "\n",
        "units = 'imperial'\n",
        "url = f'https://api.openweathermap.org/data/3.0/onecall?lat={lat}&lon={lon}&appid={api_key}&units={units}'\n",
        "\n",
        "print(url)"
      ]
    },
    {
      "cell_type": "code",
      "execution_count": null,
      "metadata": {
        "id": "y0itvvhEZapj",
        "outputId": "38e01a0f-8c51-44a4-8891-3c3b3a03b897"
      },
      "outputs": [
        {
          "data": {
            "text/plain": [
              "'{\"lat\":42.3601,\"lon\":-71.0589,\"timezone\":\"America/New_York\",\"timezone_offset\":-18000,\"current\":{\"dt\":1736703957,\"sunrise\":1736683910,\"sunset\":1736717581,\"temp\":34.29,\"feels_like\":27.59,\"pressure\":1014,\"humidity\":58,\"dew_point\":22.3,\"uvi\":1.24,\"clouds\":20,\"visibility\":10000,\"wind_speed\":8.05,\"wind_deg\":320,\"weather\":[{\"id\":500,\"main\":\"Rain\",\"description\":\"light rain\",\"icon\":\"10d\"}],\"rain\":{\"1h\":0.59}},\"minutely\":[{\"dt\":1736703960,\"precipitation\":0},{\"dt\":1736704020,\"precipitation\":0},{\"dt\":1736704080,\"precipitation\":0},{\"dt\":1736704140,\"precipitation\":0},{\"dt\":1736704200,\"precipitation\":0},{\"dt\":1736704260,\"precipitation\":0},{\"dt\":1736704320,\"precipitation\":0},{\"dt\":1736704380,\"precipitation\":0},{\"dt\":1736704440,\"precipitation\":0},{\"dt\":1736704500,\"precipitation\":0},{\"dt\":1736704560,\"precipitation\":0},{\"dt\":1736704620,\"precipitation\":0},{\"dt\":1736704680,\"precipitation\":0},{\"dt\":1736704740,\"precipitation\":0},{\"dt\":1736704800,\"precipitation\":0},{\"dt\":1736704860,\"precipitation\":0},{\"dt\":1736704920,\"precipitation\":0},{\"dt\":1736704980,\"precipitation\":0},{\"dt\":1736705040,\"precipitation\":0},{\"dt\":1736705100,\"precipitation\":0},{\"dt\":1736705160,\"precipitation\":0},{\"dt\":1736705220,\"precipitation\":0},{\"dt\":1736705280,\"precipitation\":0},{\"dt\":1736705340,\"precipitation\":0},{\"dt\":1736705400,\"precipitation\":0},{\"dt\":1736705460,\"precipitation\":0},{\"dt\":1736705520,\"precipitation\":0},{\"dt\":1736705580,\"precipitation\":0},{\"dt\":1736705640,\"precipitation\":0},{\"dt\":1736705700,\"precipitation\":0},{\"dt\":1736705760,\"precipitation\":0},{\"dt\":1736705820,\"precipitation\":0},{\"dt\":1736705880,\"precipitation\":0},{\"dt\":1736705940,\"precipitation\":0},{\"dt\":1736706000,\"precipitation\":0},{\"dt\":1736706060,\"precipitation\":0},{\"dt\":1736706120,\"precipitation\":0},{\"dt\":1736706180,\"precipitation\":0},{\"dt\":1736706240,\"precipitation\":0},{\"dt\":1736706300,\"precipitation\":0},{\"dt\":1736706360,\"precipitation\":0},{\"dt\":1736706420,\"precipitation\":0},{\"dt\":1736706480,\"precipitation\":0},{\"dt\":1736706540,\"precipitation\":0},{\"dt\":1736706600,\"precipitation\":0},{\"dt\":1736706660,\"precipitation\":0},{\"dt\":1736706720,\"precipitation\":0},{\"dt\":1736706780,\"precipitation\":0},{\"dt\":1736706840,\"precipitation\":0},{\"dt\":1736706900,\"precipitation\":0},{\"dt\":1736706960,\"precipitation\":0},{\"dt\":1736707020,\"precipitation\":0},{\"dt\":1736707080,\"precipitation\":0},{\"dt\":1736707140,\"precipitation\":0},{\"dt\":1736707200,\"precipitation\":0},{\"dt\":1736707260,\"precipitation\":0},{\"dt\":1736707320,\"precipitation\":0},{\"dt\":1736707380,\"precipitation\":0},{\"dt\":1736707440,\"precipitation\":0},{\"dt\":1736707500,\"precipitation\":0}],\"hourly\":[{\"dt\":1736701200,\"temp\":33.85,\"feels_like\":29.53,\"pressure\":1014,\"humidity\":59,\"dew_point\":22.3,\"uvi\":1.55,\"clouds\":17,\"visibility\":10000,\"wind_speed\":4.7,\"wind_deg\":318,\"wind_gust\":7.27,\"weather\":[{\"id\":801,\"main\":\"Clouds\",\"description\":\"few clouds\",\"icon\":\"02d\"}],\"pop\":0},{\"dt\":1736704800,\"temp\":34.29,\"feels_like\":31.1,\"pressure\":1014,\"humidity\":58,\"dew_point\":22.3,\"uvi\":1.24,\"clouds\":20,\"visibility\":10000,\"wind_speed\":3.65,\"wind_deg\":310,\"wind_gust\":6.73,\"weather\":[{\"id\":801,\"main\":\"Clouds\",\"description\":\"few clouds\",\"icon\":\"02d\"}],\"pop\":0},{\"dt\":1736708400,\"temp\":34.23,\"feels_like\":31.59,\"pressure\":1014,\"humidity\":59,\"dew_point\":22.62,\"uvi\":0.77,\"clouds\":17,\"visibility\":10000,\"wind_speed\":3.2,\"wind_deg\":302,\"wind_gust\":7.67,\"weather\":[{\"id\":801,\"main\":\"Clouds\",\"description\":\"few clouds\",\"icon\":\"02d\"}],\"pop\":0},{\"dt\":1736712000,\"temp\":34.11,\"feels_like\":34.11,\"pressure\":1014,\"humidity\":62,\"dew_point\":23.56,\"uvi\":0.34,\"clouds\":14,\"visibility\":10000,\"wind_speed\":1.1,\"wind_deg\":270,\"wind_gust\":3.29,\"weather\":[{\"id\":801,\"main\":\"Clouds\",\"description\":\"few clouds\",\"icon\":\"02d\"}],\"pop\":0},{\"dt\":1736715600,\"temp\":32.56,\"feels_like\":32.56,\"pressure\":1014,\"humidity\":70,\"dew_point\":24.8,\"uvi\":0,\"clouds\":11,\"visibility\":10000,\"wind_speed\":1.05,\"wind_deg\":185,\"wind_gust\":1.12,\"weather\":[{\"id\":801,\"main\":\"Clouds\",\"description\":\"few clouds\",\"icon\":\"02d\"}],\"pop\":0},{\"dt\":1736719200,\"temp\":30.36,\"feels_like\":30.36,\"pressure\":1015,\"humidity\":78,\"dew_point\":25.03,\"uvi\":0,\"clouds\":9,\"visibility\":10000,\"wind_speed\":2.24,\"wind_deg\":218,\"wind_gust\":2.21,\"weather\":[{\"id\":800,\"main\":\"Clear\",\"description\":\"clear sky\",\"icon\":\"01n\"}],\"pop\":0},{\"dt\":1736722800,\"temp\":28.99,\"feels_like\":28.99,\"pressure\":1016,\"humidity\":85,\"dew_point\":24.67,\"uvi\":0,\"clouds\":8,\"visibility\":10000,\"wind_speed\":2.86,\"wind_deg\":242,\"wind_gust\":3.31,\"weather\":[{\"id\":800,\"main\":\"Clear\",\"description\":\"clear sky\",\"icon\":\"01n\"}],\"pop\":0},{\"dt\":1736726400,\"temp\":28.76,\"feels_like\":28.76,\"pressure\":1016,\"humidity\":85,\"dew_point\":24.64,\"uvi\":0,\"clouds\":9,\"visibility\":10000,\"wind_speed\":2.84,\"wind_deg\":255,\"wind_gust\":4.38,\"weather\":[{\"id\":800,\"main\":\"Clear\",\"description\":\"clear sky\",\"icon\":\"01n\"}],\"pop\":0},{\"dt\":1736730000,\"temp\":28.29,\"feels_like\":28.29,\"pressure\":1017,\"humidity\":87,\"dew_point\":24.53,\"uvi\":0,\"clouds\":5,\"visibility\":10000,\"wind_speed\":2.48,\"wind_deg\":269,\"wind_gust\":2.84,\"weather\":[{\"id\":800,\"main\":\"Clear\",\"description\":\"clear sky\",\"icon\":\"01n\"}],\"pop\":0},{\"dt\":1736733600,\"temp\":28.04,\"feels_like\":28.04,\"pressure\":1016,\"humidity\":87,\"dew_point\":24.39,\"uvi\":0,\"clouds\":7,\"visibility\":10000,\"wind_speed\":2.62,\"wind_deg\":272,\"wind_gust\":2.53,\"weather\":[{\"id\":800,\"main\":\"Clear\",\"description\":\"clear sky\",\"icon\":\"01n\"}],\"pop\":0},{\"dt\":1736737200,\"temp\":27.75,\"feels_like\":24.19,\"pressure\":1016,\"humidity\":86,\"dew_point\":23.92,\"uvi\":0,\"clouds\":9,\"visibility\":10000,\"wind_speed\":3.22,\"wind_deg\":260,\"wind_gust\":4.7,\"weather\":[{\"id\":800,\"main\":\"Clear\",\"description\":\"clear sky\",\"icon\":\"01n\"}],\"pop\":0},{\"dt\":1736740800,\"temp\":27.88,\"feels_like\":24.39,\"pressure\":1016,\"humidity\":85,\"dew_point\":23.5,\"uvi\":0,\"clouds\":34,\"visibility\":10000,\"wind_speed\":3.18,\"wind_deg\":234,\"wind_gust\":4.76,\"weather\":[{\"id\":802,\"main\":\"Clouds\",\"description\":\"scattered clouds\",\"icon\":\"03n\"}],\"pop\":0},{\"dt\":1736744400,\"temp\":28.58,\"feels_like\":28.58,\"pressure\":1016,\"humidity\":83,\"dew_point\":23.85,\"uvi\":0,\"clouds\":47,\"visibility\":10000,\"wind_speed\":2.84,\"wind_deg\":244,\"wind_gust\":6.26,\"weather\":[{\"id\":802,\"main\":\"Clouds\",\"description\":\"scattered clouds\",\"icon\":\"03n\"}],\"pop\":0},{\"dt\":1736748000,\"temp\":28.13,\"feels_like\":24.04,\"pressure\":1016,\"humidity\":85,\"dew_point\":23.95,\"uvi\":0,\"clouds\":55,\"visibility\":10000,\"wind_speed\":3.65,\"wind_deg\":248,\"wind_gust\":6.89,\"weather\":[{\"id\":803,\"main\":\"Clouds\",\"description\":\"broken clouds\",\"icon\":\"04n\"}],\"pop\":0},{\"dt\":1736751600,\"temp\":28.11,\"feels_like\":24.04,\"pressure\":1016,\"humidity\":85,\"dew_point\":24.04,\"uvi\":0,\"clouds\":100,\"visibility\":10000,\"wind_speed\":3.62,\"wind_deg\":245,\"wind_gust\":7.83,\"weather\":[{\"id\":804,\"main\":\"Clouds\",\"description\":\"overcast clouds\",\"icon\":\"04n\"}],\"pop\":0},{\"dt\":1736755200,\"temp\":28.04,\"feels_like\":23.63,\"pressure\":1016,\"humidity\":86,\"dew_point\":23.97,\"uvi\":0,\"clouds\":98,\"visibility\":10000,\"wind_speed\":3.89,\"wind_deg\":251,\"wind_gust\":9.98,\"weather\":[{\"id\":804,\"main\":\"Clouds\",\"description\":\"overcast clouds\",\"icon\":\"04n\"}],\"pop\":0},{\"dt\":1736758800,\"temp\":28.26,\"feels_like\":24.76,\"pressure\":1015,\"humidity\":85,\"dew_point\":24.12,\"uvi\":0,\"clouds\":100,\"visibility\":10000,\"wind_speed\":3.22,\"wind_deg\":243,\"wind_gust\":7.58,\"weather\":[{\"id\":804,\"main\":\"Clouds\",\"description\":\"overcast clouds\",\"icon\":\"04n\"}],\"pop\":0},{\"dt\":1736762400,\"temp\":28.33,\"feels_like\":23.86,\"pressure\":1015,\"humidity\":85,\"dew_point\":24.08,\"uvi\":0,\"clouds\":100,\"visibility\":10000,\"wind_speed\":3.98,\"wind_deg\":240,\"wind_gust\":9.98,\"weather\":[{\"id\":804,\"main\":\"Clouds\",\"description\":\"overcast clouds\",\"icon\":\"04n\"}],\"pop\":0},{\"dt\":1736766000,\"temp\":28.45,\"feels_like\":23.36,\"pressure\":1015,\"humidity\":84,\"dew_point\":24.08,\"uvi\":0,\"clouds\":100,\"visibility\":10000,\"wind_speed\":4.56,\"wind_deg\":236,\"wind_gust\":13.65,\"weather\":[{\"id\":804,\"main\":\"Clouds\",\"description\":\"overcast clouds\",\"icon\":\"04n\"}],\"pop\":0},{\"dt\":1736769600,\"temp\":27.03,\"feels_like\":21.27,\"pressure\":1015,\"humidity\":88,\"dew_point\":23.7,\"uvi\":0,\"clouds\":91,\"visibility\":10000,\"wind_speed\":4.97,\"wind_deg\":238,\"wind_gust\":14.07,\"weather\":[{\"id\":804,\"main\":\"Clouds\",\"description\":\"overcast clouds\",\"icon\":\"04n\"}],\"pop\":0},{\"dt\":1736773200,\"temp\":28.04,\"feels_like\":22.5,\"pressure\":1015,\"humidity\":85,\"dew_point\":23.95,\"uvi\":0.18,\"clouds\":94,\"visibility\":10000,\"wind_speed\":4.92,\"wind_deg\":244,\"wind_gust\":15.46,\"weather\":[{\"id\":804,\"main\":\"Clouds\",\"description\":\"overcast clouds\",\"icon\":\"04d\"}],\"pop\":0},{\"dt\":1736776800,\"temp\":30.2,\"feels_like\":25.43,\"pressure\":1015,\"humidity\":81,\"dew_point\":24.8,\"uvi\":0.52,\"clouds\":85,\"visibility\":10000,\"wind_speed\":4.52,\"wind_deg\":243,\"wind_gust\":12.95,\"weather\":[{\"id\":804,\"main\":\"Clouds\",\"description\":\"overcast clouds\",\"icon\":\"04d\"}],\"pop\":0},{\"dt\":1736780400,\"temp\":32.72,\"feels_like\":27.77,\"pressure\":1015,\"humidity\":74,\"dew_point\":25.34,\"uvi\":1.03,\"clouds\":79,\"visibility\":10000,\"wind_speed\":5.17,\"wind_deg\":238,\"wind_gust\":11.34,\"weather\":[{\"id\":803,\"main\":\"Clouds\",\"description\":\"broken clouds\",\"icon\":\"04d\"}],\"pop\":0},{\"dt\":1736784000,\"temp\":35.08,\"feels_like\":30.2,\"pressure\":1014,\"humidity\":69,\"dew_point\":25.65,\"uvi\":1.41,\"clouds\":69,\"visibility\":10000,\"wind_speed\":5.59,\"wind_deg\":236,\"wind_gust\":12.12,\"weather\":[{\"id\":803,\"main\":\"Clouds\",\"description\":\"broken clouds\",\"icon\":\"04d\"}],\"pop\":0},{\"dt\":1736787600,\"temp\":37.06,\"feels_like\":32.81,\"pressure\":1013,\"humidity\":64,\"dew_point\":25.88,\"uvi\":1.52,\"clouds\":60,\"visibility\":10000,\"wind_speed\":5.26,\"wind_deg\":237,\"wind_gust\":12.5,\"weather\":[{\"id\":803,\"main\":\"Clouds\",\"description\":\"broken clouds\",\"icon\":\"04d\"}],\"pop\":0},{\"dt\":1736791200,\"temp\":38.39,\"feels_like\":34.75,\"pressure\":1012,\"humidity\":62,\"dew_point\":26.42,\"uvi\":1.27,\"clouds\":51,\"visibility\":10000,\"wind_speed\":4.79,\"wind_deg\":228,\"wind_gust\":12.33,\"weather\":[{\"id\":803,\"main\":\"Clouds\",\"description\":\"broken clouds\",\"icon\":\"04d\"}],\"pop\":0},{\"dt\":1736794800,\"temp\":38.64,\"feels_like\":34.9,\"pressure\":1011,\"humidity\":63,\"dew_point\":27.16,\"uvi\":0.79,\"clouds\":13,\"visibility\":10000,\"wind_speed\":4.97,\"wind_deg\":224,\"wind_gust\":11.86,\"weather\":[{\"id\":801,\"main\":\"Clouds\",\"description\":\"few clouds\",\"icon\":\"02d\"}],\"pop\":0},{\"dt\":1736798400,\"temp\":37.38,\"feels_like\":33.3,\"pressure\":1011,\"humidity\":68,\"dew_point\":27.72,\"uvi\":0.34,\"clouds\":11,\"visibility\":10000,\"wind_speed\":5.12,\"wind_deg\":238,\"wind_gust\":11.48,\"weather\":[{\"id\":801,\"main\":\"Clouds\",\"description\":\"few clouds\",\"icon\":\"02d\"}],\"pop\":0},{\"dt\":1736802000,\"temp\":34.88,\"feels_like\":31.14,\"pressure\":1011,\"humidity\":75,\"dew_point\":27.66,\"uvi\":0,\"clouds\":21,\"visibility\":10000,\"wind_speed\":4.27,\"wind_deg\":258,\"wind_gust\":4.88,\"weather\":[{\"id\":801,\"main\":\"Clouds\",\"description\":\"few clouds\",\"icon\":\"02d\"}],\"pop\":0},{\"dt\":1736805600,\"temp\":33.39,\"feels_like\":29.75,\"pressure\":1011,\"humidity\":79,\"dew_point\":27.43,\"uvi\":0,\"clouds\":35,\"visibility\":10000,\"wind_speed\":3.94,\"wind_deg\":246,\"wind_gust\":1.99,\"weather\":[{\"id\":802,\"main\":\"Clouds\",\"description\":\"scattered clouds\",\"icon\":\"03n\"}],\"pop\":0},{\"dt\":1736809200,\"temp\":33.85,\"feels_like\":29.46,\"pressure\":1011,\"humidity\":81,\"dew_point\":28.35,\"uvi\":0,\"clouds\":47,\"visibility\":10000,\"wind_speed\":4.76,\"wind_deg\":234,\"wind_gust\":13.2,\"weather\":[{\"id\":802,\"main\":\"Clouds\",\"description\":\"scattered clouds\",\"icon\":\"03n\"}],\"pop\":0},{\"dt\":1736812800,\"temp\":33.33,\"feels_like\":27.97,\"pressure\":1011,\"humidity\":83,\"dew_point\":28.47,\"uvi\":0,\"clouds\":53,\"visibility\":10000,\"wind_speed\":5.79,\"wind_deg\":251,\"wind_gust\":19.69,\"weather\":[{\"id\":803,\"main\":\"Clouds\",\"description\":\"broken clouds\",\"icon\":\"04n\"}],\"pop\":0},{\"dt\":1736816400,\"temp\":32.25,\"feels_like\":25.92,\"pressure\":1012,\"humidity\":82,\"dew_point\":27.21,\"uvi\":0,\"clouds\":5,\"visibility\":10000,\"wind_speed\":6.82,\"wind_deg\":258,\"wind_gust\":23.98,\"weather\":[{\"id\":800,\"main\":\"Clear\",\"description\":\"clear sky\",\"icon\":\"01n\"}],\"pop\":0},{\"dt\":1736820000,\"temp\":31.89,\"feels_like\":25.14,\"pressure\":1011,\"humidity\":81,\"dew_point\":26.42,\"uvi\":0,\"clouds\":6,\"visibility\":10000,\"wind_speed\":7.34,\"wind_deg\":267,\"wind_gust\":25.17,\"weather\":[{\"id\":800,\"main\":\"Clear\",\"description\":\"clear sky\",\"icon\":\"01n\"}],\"pop\":0},{\"dt\":1736823600,\"temp\":31.44,\"feels_like\":24.37,\"pressure\":1011,\"humidity\":81,\"dew_point\":26.19,\"uvi\":0,\"clouds\":6,\"visibility\":10000,\"wind_speed\":7.7,\"wind_deg\":271,\"wind_gust\":24.56,\"weather\":[{\"id\":800,\"main\":\"Clear\",\"description\":\"clear sky\",\"icon\":\"01n\"}],\"pop\":0},{\"dt\":1736827200,\"temp\":31.15,\"feels_like\":23.67,\"pressure\":1011,\"humidity\":80,\"dew_point\":25.63,\"uvi\":0,\"clouds\":7,\"visibility\":10000,\"wind_speed\":8.25,\"wind_deg\":278,\"wind_gust\":24.02,\"weather\":[{\"id\":800,\"main\":\"Clear\",\"description\":\"clear sky\",\"icon\":\"01n\"}],\"pop\":0},{\"dt\":1736830800,\"temp\":31.01,\"feels_like\":22.93,\"pressure\":1011,\"humidity\":72,\"dew_point\":22.6,\"uvi\":0,\"clouds\":8,\"visibility\":10000,\"wind_speed\":9.19,\"wind_deg\":281,\"wind_gust\":25.43,\"weather\":[{\"id\":800,\"main\":\"Clear\",\"description\":\"clear sky\",\"icon\":\"01n\"}],\"pop\":0},{\"dt\":1736834400,\"temp\":30.33,\"feels_like\":21.74,\"pressure\":1011,\"humidity\":64,\"dew_point\":19.54,\"uvi\":0,\"clouds\":7,\"visibility\":10000,\"wind_speed\":9.84,\"wind_deg\":276,\"wind_gust\":25.08,\"weather\":[{\"id\":800,\"main\":\"Clear\",\"description\":\"clear sky\",\"icon\":\"01n\"}],\"pop\":0},{\"dt\":1736838000,\"temp\":29.5,\"feels_like\":20.64,\"pressure\":1012,\"humidity\":64,\"dew_point\":18.68,\"uvi\":0,\"clouds\":0,\"visibility\":10000,\"wind_speed\":9.98,\"wind_deg\":274,\"wind_gust\":23.38,\"weather\":[{\"id\":800,\"main\":\"Clear\",\"description\":\"clear sky\",\"icon\":\"01n\"}],\"pop\":0},{\"dt\":1736841600,\"temp\":28.83,\"feels_like\":19.72,\"pressure\":1012,\"humidity\":66,\"dew_point\":18.52,\"uvi\":0,\"clouds\":1,\"visibility\":10000,\"wind_speed\":10.16,\"wind_deg\":272,\"wind_gust\":23.47,\"weather\":[{\"id\":800,\"main\":\"Clear\",\"description\":\"clear sky\",\"icon\":\"01n\"}],\"pop\":0},{\"dt\":1736845200,\"temp\":28.24,\"feels_like\":18.77,\"pressure\":1012,\"humidity\":66,\"dew_point\":18,\"uvi\":0,\"clouds\":2,\"visibility\":10000,\"wind_speed\":10.56,\"wind_deg\":272,\"wind_gust\":24.25,\"weather\":[{\"id\":800,\"main\":\"Clear\",\"description\":\"clear sky\",\"icon\":\"01n\"}],\"pop\":0},{\"dt\":1736848800,\"temp\":27.72,\"feels_like\":17.71,\"pressure\":1012,\"humidity\":64,\"dew_point\":16.88,\"uvi\":0,\"clouds\":3,\"visibility\":10000,\"wind_speed\":11.34,\"wind_deg\":276,\"wind_gust\":25.95,\"weather\":[{\"id\":800,\"main\":\"Clear\",\"description\":\"clear sky\",\"icon\":\"01n\"}],\"pop\":0},{\"dt\":1736852400,\"temp\":27.27,\"feels_like\":17.13,\"pressure\":1012,\"humidity\":63,\"dew_point\":16,\"uvi\":0,\"clouds\":3,\"visibility\":10000,\"wind_speed\":11.36,\"wind_deg\":278,\"wind_gust\":25.7,\"weather\":[{\"id\":800,\"main\":\"Clear\",\"description\":\"clear sky\",\"icon\":\"01n\"}],\"pop\":0},{\"dt\":1736856000,\"temp\":26.76,\"feels_like\":16.48,\"pressure\":1012,\"humidity\":62,\"dew_point\":15.3,\"uvi\":0,\"clouds\":4,\"visibility\":10000,\"wind_speed\":11.43,\"wind_deg\":277,\"wind_gust\":25.77,\"weather\":[{\"id\":800,\"main\":\"Clear\",\"description\":\"clear sky\",\"icon\":\"01n\"}],\"pop\":0},{\"dt\":1736859600,\"temp\":26.56,\"feels_like\":16.12,\"pressure\":1012,\"humidity\":61,\"dew_point\":14.47,\"uvi\":0.17,\"clouds\":4,\"visibility\":10000,\"wind_speed\":11.63,\"wind_deg\":277,\"wind_gust\":25.75,\"weather\":[{\"id\":800,\"main\":\"Clear\",\"description\":\"clear sky\",\"icon\":\"01d\"}],\"pop\":0},{\"dt\":1736863200,\"temp\":27.36,\"feels_like\":16.97,\"pressure\":1012,\"humidity\":57,\"dew_point\":13.91,\"uvi\":0.5,\"clouds\":2,\"visibility\":10000,\"wind_speed\":11.92,\"wind_deg\":275,\"wind_gust\":24.2,\"weather\":[{\"id\":800,\"main\":\"Clear\",\"description\":\"clear sky\",\"icon\":\"01d\"}],\"pop\":0},{\"dt\":1736866800,\"temp\":28.65,\"feels_like\":18.43,\"pressure\":1012,\"humidity\":53,\"dew_point\":13.23,\"uvi\":0.93,\"clouds\":2,\"visibility\":10000,\"wind_speed\":12.33,\"wind_deg\":278,\"wind_gust\":21.72,\"weather\":[{\"id\":800,\"main\":\"Clear\",\"description\":\"clear sky\",\"icon\":\"01d\"}],\"pop\":0},{\"dt\":1736870400,\"temp\":29.95,\"feels_like\":19.78,\"pressure\":1012,\"humidity\":48,\"dew_point\":12.38,\"uvi\":1.26,\"clouds\":2,\"visibility\":10000,\"wind_speed\":12.97,\"wind_deg\":280,\"wind_gust\":21.79,\"weather\":[{\"id\":800,\"main\":\"Clear\",\"description\":\"clear sky\",\"icon\":\"01d\"}],\"pop\":0}],\"daily\":[{\"dt\":1736697600,\"sunrise\":1736683910,\"sunset\":1736717581,\"moonrise\":1736711940,\"moonset\":1736681460,\"moon_phase\":0.46,\"summary\":\"Expect a day of partly cloudy with clear spells\",\"temp\":{\"day\":32.9,\"min\":25.07,\"max\":34.29,\"night\":27.88,\"eve\":30.36,\"morn\":25.25},\"feels_like\":{\"day\":27.5,\"night\":24.39,\"eve\":30.36,\"morn\":16.39},\"pressure\":1014,\"humidity\":61,\"dew_point\":22.19,\"wind_speed\":10.27,\"wind_deg\":312,\"wind_gust\":23.13,\"weather\":[{\"id\":801,\"main\":\"Clouds\",\"description\":\"few clouds\",\"icon\":\"02d\"}],\"clouds\":14,\"pop\":0,\"uvi\":1.55},{\"dt\":1736784000,\"sunrise\":1736770287,\"sunset\":1736804049,\"moonrise\":1736802540,\"moonset\":1736770980,\"moon_phase\":0.5,\"summary\":\"You can expect partly cloudy in the morning, with clearing in the afternoon\",\"temp\":{\"day\":35.08,\"min\":27.03,\"max\":38.64,\"night\":31.15,\"eve\":33.39,\"morn\":28.33},\"feels_like\":{\"day\":30.2,\"night\":23.67,\"eve\":29.75,\"morn\":23.86},\"pressure\":1014,\"humidity\":69,\"dew_point\":25.65,\"wind_speed\":8.25,\"wind_deg\":278,\"wind_gust\":25.17,\"weather\":[{\"id\":803,\"main\":\"Clouds\",\"description\":\"broken clouds\",\"icon\":\"04d\"}],\"clouds\":69,\"pop\":0,\"uvi\":1.52},{\"dt\":1736870400,\"sunrise\":1736856663,\"sunset\":1736890518,\"moonrise\":1736893320,\"moonset\":1736859780,\"moon_phase\":0.53,\"summary\":\"There will be clear sky today\",\"temp\":{\"day\":29.95,\"min\":23.29,\"max\":31.01,\"night\":23.29,\"eve\":27.28,\"morn\":27.72},\"feels_like\":{\"day\":19.78,\"night\":11.34,\"eve\":16.66,\"morn\":17.71},\"pressure\":1012,\"humidity\":48,\"dew_point\":12.38,\"wind_speed\":13.69,\"wind_deg\":287,\"wind_gust\":25.95,\"weather\":[{\"id\":800,\"main\":\"Clear\",\"description\":\"clear sky\",\"icon\":\"01d\"}],\"clouds\":2,\"pop\":0,\"uvi\":1.34},{\"dt\":1736956800,\"sunrise\":1736943036,\"sunset\":1736976988,\"moonrise\":1736983980,\"moonset\":1736948040,\"moon_phase\":0.56,\"summary\":\"You can expect partly cloudy in the morning, with clearing in the afternoon\",\"temp\":{\"day\":28.17,\"min\":22.96,\"max\":30.02,\"night\":24.44,\"eve\":29.12,\"morn\":23.49},\"feels_like\":{\"day\":17.1,\"night\":13.98,\"eve\":19.35,\"morn\":11.46},\"pressure\":1014,\"humidity\":42,\"dew_point\":7.81,\"wind_speed\":13.98,\"wind_deg\":307,\"wind_gust\":29.73,\"weather\":[{\"id\":801,\"main\":\"Clouds\",\"description\":\"few clouds\",\"icon\":\"02d\"}],\"clouds\":22,\"pop\":0,\"uvi\":1.36},{\"dt\":1737043200,\"sunrise\":1737029406,\"sunset\":1737063458,\"moonrise\":1737074460,\"moonset\":1737035940,\"moon_phase\":0.59,\"summary\":\"You can expect clear sky in the morning, with partly cloudy in the afternoon\",\"temp\":{\"day\":24.28,\"min\":20.73,\"max\":30.45,\"night\":28.87,\"eve\":30.45,\"morn\":21.65},\"feels_like\":{\"day\":17.37,\"night\":21.72,\"eve\":24.98,\"morn\":13.44},\"pressure\":1017,\"humidity\":46,\"dew_point\":6.21,\"wind_speed\":8.75,\"wind_deg\":308,\"wind_gust\":18.77,\"weather\":[{\"id\":800,\"main\":\"Clear\",\"description\":\"clear sky\",\"icon\":\"01d\"}],\"clouds\":0,\"pop\":0,\"uvi\":2},{\"dt\":1737129600,\"sunrise\":1737115775,\"sunset\":1737149930,\"moonrise\":1737164700,\"moonset\":1737123600,\"moon_phase\":0.62,\"summary\":\"Expect a day of partly cloudy with clear spells\",\"temp\":{\"day\":30.63,\"min\":26.15,\"max\":35.49,\"night\":31.08,\"eve\":34.2,\"morn\":27.25},\"feels_like\":{\"day\":25.11,\"night\":26.49,\"eve\":34.2,\"morn\":22.37},\"pressure\":1016,\"humidity\":57,\"dew_point\":16.95,\"wind_speed\":5.53,\"wind_deg\":241,\"wind_gust\":13.2,\"weather\":[{\"id\":800,\"main\":\"Clear\",\"description\":\"clear sky\",\"icon\":\"01d\"}],\"clouds\":3,\"pop\":0,\"uvi\":2},{\"dt\":1737216000,\"sunrise\":1737202141,\"sunset\":1737236403,\"moonrise\":1737254880,\"moonset\":1737211140,\"moon_phase\":0.66,\"summary\":\"There will be partly cloudy today\",\"temp\":{\"day\":39.92,\"min\":31.95,\"max\":42.71,\"night\":40.1,\"eve\":42.71,\"morn\":32.97},\"feels_like\":{\"day\":32.79,\"night\":34.65,\"eve\":36.91,\"morn\":25.66},\"pressure\":1015,\"humidity\":78,\"dew_point\":33.31,\"wind_speed\":12.48,\"wind_deg\":198,\"wind_gust\":33.11,\"weather\":[{\"id\":804,\"main\":\"Clouds\",\"description\":\"overcast clouds\",\"icon\":\"04d\"}],\"clouds\":100,\"pop\":0,\"uvi\":2},{\"dt\":1737302400,\"sunrise\":1737288505,\"sunset\":1737322876,\"moonrise\":1737344940,\"moonset\":1737298560,\"moon_phase\":0.69,\"summary\":\"You can expect partly cloudy in the morning, with snow in the afternoon\",\"temp\":{\"day\":35.42,\"min\":25.18,\"max\":36.84,\"night\":25.18,\"eve\":31.69,\"morn\":34.7},\"feels_like\":{\"day\":28.65,\"night\":15.75,\"eve\":23.81,\"morn\":29.44},\"pressure\":1008,\"humidity\":45,\"dew_point\":16.34,\"wind_speed\":10.63,\"wind_deg\":15,\"wind_gust\":19.8,\"weather\":[{\"id\":601,\"main\":\"Snow\",\"description\":\"snow\",\"icon\":\"13d\"}],\"clouds\":35,\"pop\":1,\"snow\":13.8,\"uvi\":2}]}'"
            ]
          },
          "execution_count": 123,
          "metadata": {},
          "output_type": "execute_result"
        }
      ],
      "source": [
        "import requests\n",
        "\n",
        "# get url as a string\n",
        "url_text = requests.get(url).text\n",
        "url_text"
      ]
    },
    {
      "cell_type": "code",
      "execution_count": null,
      "metadata": {
        "id": "Xs3PPLAlZapj",
        "outputId": "bff8cd06-3baf-41dd-ea50-f89a73c7973f"
      },
      "outputs": [
        {
          "name": "stdout",
          "output_type": "stream",
          "text": [
            "17\n",
            "20\n",
            "17\n",
            "14\n",
            "11\n",
            "9\n",
            "8\n",
            "9\n",
            "5\n",
            "7\n"
          ]
        }
      ],
      "source": [
        "# should not have to install the below\n",
        "import json\n",
        "\n",
        "# convert json to a nested dict\n",
        "weather_dict = json.loads(url_text)\n",
        "\n",
        "weather_dict.keys()\n",
        "weather_dict['hourly']\n",
        "\n",
        "weather_dict['hourly'][4]['clouds']\n",
        "for i in range(10):\n",
        "    print(weather_dict['hourly'][i]['clouds'])\n",
        ""
      ]
    },
    {
      "cell_type": "code",
      "execution_count": null,
      "metadata": {
        "id": "lmW_9QpQZapj",
        "outputId": "161dea26-0929-4fc9-bb13-422e1f854d1d"
      },
      "outputs": [
        {
          "data": {
            "text/plain": [
              "{'dt': 1736708400,\n",
              " 'temp': 34.23,\n",
              " 'feels_like': 31.59,\n",
              " 'pressure': 1014,\n",
              " 'humidity': 59,\n",
              " 'dew_point': 22.62,\n",
              " 'uvi': 0.77,\n",
              " 'clouds': 17,\n",
              " 'visibility': 10000,\n",
              " 'wind_speed': 3.2,\n",
              " 'wind_deg': 302,\n",
              " 'wind_gust': 7.67,\n",
              " 'weather': [{'id': 801,\n",
              "   'main': 'Clouds',\n",
              "   'description': 'few clouds',\n",
              "   'icon': '02d'}],\n",
              " 'pop': 0}"
            ]
          },
          "execution_count": 134,
          "metadata": {},
          "output_type": "execute_result"
        }
      ],
      "source": [
        "#what does one hour of weather look like\n",
        "weather_dict['hourly'][2]"
      ]
    },
    {
      "cell_type": "markdown",
      "metadata": {
        "id": "oH53n7HbZapj"
      },
      "source": [
        "## Cleaning up data from one hour"
      ]
    },
    {
      "cell_type": "code",
      "execution_count": null,
      "metadata": {
        "id": "y1n9-GxNZapj",
        "outputId": "7d60769c-8f89-4d2a-d5b5-751b5d3b2ca6"
      },
      "outputs": [
        {
          "name": "stdout",
          "output_type": "stream",
          "text": [
            "{'dt': 1736701200, 'temp': 33.85, 'feels_like': 29.53, 'pressure': 1014, 'humidity': 59, 'dew_point': 22.3, 'uvi': 1.55, 'clouds': 17, 'visibility': 10000, 'wind_speed': 4.7, 'wind_deg': 318, 'wind_gust': 7.27, 'weather': [{'id': 801, 'main': 'Clouds', 'description': 'few clouds', 'icon': '02d'}], 'pop': 0, 'datetime': datetime.datetime(2025, 1, 12, 12, 0)}\n"
          ]
        },
        {
          "data": {
            "text/plain": [
              "dt                                                   1736701200\n",
              "temp                                                      33.85\n",
              "feels_like                                                29.53\n",
              "pressure                                                   1014\n",
              "humidity                                                     59\n",
              "dew_point                                                  22.3\n",
              "uvi                                                        1.55\n",
              "clouds                                                       17\n",
              "visibility                                                10000\n",
              "wind_speed                                                  4.7\n",
              "wind_deg                                                    318\n",
              "wind_gust                                                  7.27\n",
              "weather       [{'id': 801, 'main': 'Clouds', 'description': ...\n",
              "pop                                                           0\n",
              "datetime                                    2025-01-12 12:00:00\n",
              "dtype: object"
            ]
          },
          "execution_count": 136,
          "metadata": {},
          "output_type": "execute_result"
        }
      ],
      "source": [
        "from datetime import datetime\n",
        "import pandas as pd\n",
        "\n",
        "hour_dict = weather_dict['hourly'][0]\n",
        "print(hour_dict)\n",
        "\n",
        "# lets convert from unix time to a datetime (easier to use)\n",
        "hour_dict['datetime'] = datetime.fromtimestamp(hour_dict['dt'])\n",
        "\n",
        "pd.Series(hour_dict)"
      ]
    },
    {
      "cell_type": "code",
      "execution_count": null,
      "metadata": {
        "id": "VfKZ_D-EZapj",
        "outputId": "d1bb2a37-f024-423f-b2b2-039e85c75015"
      },
      "outputs": [
        {
          "data": {
            "text/html": [
              "<div>\n",
              "<style scoped>\n",
              "    .dataframe tbody tr th:only-of-type {\n",
              "        vertical-align: middle;\n",
              "    }\n",
              "\n",
              "    .dataframe tbody tr th {\n",
              "        vertical-align: top;\n",
              "    }\n",
              "\n",
              "    .dataframe thead th {\n",
              "        text-align: right;\n",
              "    }\n",
              "</style>\n",
              "<table border=\"1\" class=\"dataframe\">\n",
              "  <thead>\n",
              "    <tr style=\"text-align: right;\">\n",
              "      <th></th>\n",
              "      <th>dt</th>\n",
              "      <th>temp</th>\n",
              "      <th>feels_like</th>\n",
              "      <th>pressure</th>\n",
              "      <th>humidity</th>\n",
              "      <th>dew_point</th>\n",
              "      <th>uvi</th>\n",
              "      <th>clouds</th>\n",
              "      <th>visibility</th>\n",
              "      <th>wind_speed</th>\n",
              "      <th>wind_deg</th>\n",
              "      <th>wind_gust</th>\n",
              "      <th>weather</th>\n",
              "      <th>pop</th>\n",
              "      <th>datetime</th>\n",
              "    </tr>\n",
              "  </thead>\n",
              "  <tbody>\n",
              "    <tr>\n",
              "      <th>0</th>\n",
              "      <td>1736701200</td>\n",
              "      <td>33.85</td>\n",
              "      <td>29.53</td>\n",
              "      <td>1014</td>\n",
              "      <td>59</td>\n",
              "      <td>22.3</td>\n",
              "      <td>1.55</td>\n",
              "      <td>17</td>\n",
              "      <td>10000</td>\n",
              "      <td>4.7</td>\n",
              "      <td>318</td>\n",
              "      <td>7.27</td>\n",
              "      <td>[{'id': 801, 'main': 'Clouds', 'description': ...</td>\n",
              "      <td>0</td>\n",
              "      <td>2025-01-12 12:00:00</td>\n",
              "    </tr>\n",
              "    <tr>\n",
              "      <th>1</th>\n",
              "      <td>1736704800</td>\n",
              "      <td>34.29</td>\n",
              "      <td>31.1</td>\n",
              "      <td>1014</td>\n",
              "      <td>58</td>\n",
              "      <td>22.3</td>\n",
              "      <td>1.24</td>\n",
              "      <td>20</td>\n",
              "      <td>10000</td>\n",
              "      <td>3.65</td>\n",
              "      <td>310</td>\n",
              "      <td>6.73</td>\n",
              "      <td>[{'id': 801, 'main': 'Clouds', 'description': ...</td>\n",
              "      <td>0</td>\n",
              "      <td>2025-01-12 13:00:00</td>\n",
              "    </tr>\n",
              "    <tr>\n",
              "      <th>2</th>\n",
              "      <td>1736708400</td>\n",
              "      <td>34.23</td>\n",
              "      <td>31.59</td>\n",
              "      <td>1014</td>\n",
              "      <td>59</td>\n",
              "      <td>22.62</td>\n",
              "      <td>0.77</td>\n",
              "      <td>17</td>\n",
              "      <td>10000</td>\n",
              "      <td>3.2</td>\n",
              "      <td>302</td>\n",
              "      <td>7.67</td>\n",
              "      <td>[{'id': 801, 'main': 'Clouds', 'description': ...</td>\n",
              "      <td>0</td>\n",
              "      <td>2025-01-12 14:00:00</td>\n",
              "    </tr>\n",
              "    <tr>\n",
              "      <th>3</th>\n",
              "      <td>1736712000</td>\n",
              "      <td>34.11</td>\n",
              "      <td>34.11</td>\n",
              "      <td>1014</td>\n",
              "      <td>62</td>\n",
              "      <td>23.56</td>\n",
              "      <td>0.34</td>\n",
              "      <td>14</td>\n",
              "      <td>10000</td>\n",
              "      <td>1.1</td>\n",
              "      <td>270</td>\n",
              "      <td>3.29</td>\n",
              "      <td>[{'id': 801, 'main': 'Clouds', 'description': ...</td>\n",
              "      <td>0</td>\n",
              "      <td>2025-01-12 15:00:00</td>\n",
              "    </tr>\n",
              "    <tr>\n",
              "      <th>4</th>\n",
              "      <td>1736715600</td>\n",
              "      <td>32.56</td>\n",
              "      <td>32.56</td>\n",
              "      <td>1014</td>\n",
              "      <td>70</td>\n",
              "      <td>24.8</td>\n",
              "      <td>0</td>\n",
              "      <td>11</td>\n",
              "      <td>10000</td>\n",
              "      <td>1.05</td>\n",
              "      <td>185</td>\n",
              "      <td>1.12</td>\n",
              "      <td>[{'id': 801, 'main': 'Clouds', 'description': ...</td>\n",
              "      <td>0</td>\n",
              "      <td>2025-01-12 16:00:00</td>\n",
              "    </tr>\n",
              "  </tbody>\n",
              "</table>\n",
              "</div>"
            ],
            "text/plain": [
              "           dt   temp feels_like pressure humidity dew_point   uvi clouds  \\\n",
              "0  1736701200  33.85      29.53     1014       59      22.3  1.55     17   \n",
              "1  1736704800  34.29       31.1     1014       58      22.3  1.24     20   \n",
              "2  1736708400  34.23      31.59     1014       59     22.62  0.77     17   \n",
              "3  1736712000  34.11      34.11     1014       62     23.56  0.34     14   \n",
              "4  1736715600  32.56      32.56     1014       70      24.8     0     11   \n",
              "\n",
              "  visibility wind_speed wind_deg wind_gust  \\\n",
              "0      10000        4.7      318      7.27   \n",
              "1      10000       3.65      310      6.73   \n",
              "2      10000        3.2      302      7.67   \n",
              "3      10000        1.1      270      3.29   \n",
              "4      10000       1.05      185      1.12   \n",
              "\n",
              "                                             weather pop             datetime  \n",
              "0  [{'id': 801, 'main': 'Clouds', 'description': ...   0  2025-01-12 12:00:00  \n",
              "1  [{'id': 801, 'main': 'Clouds', 'description': ...   0  2025-01-12 13:00:00  \n",
              "2  [{'id': 801, 'main': 'Clouds', 'description': ...   0  2025-01-12 14:00:00  \n",
              "3  [{'id': 801, 'main': 'Clouds', 'description': ...   0  2025-01-12 15:00:00  \n",
              "4  [{'id': 801, 'main': 'Clouds', 'description': ...   0  2025-01-12 16:00:00  "
            ]
          },
          "execution_count": 137,
          "metadata": {},
          "output_type": "execute_result"
        }
      ],
      "source": [
        "df_hourly = pd.DataFrame()\n",
        "for hour_dict in weather_dict['hourly']:\n",
        "\n",
        "    # lets convert from unix time to a datetime (easier to use)\n",
        "    hour_dict['datetime'] = datetime.fromtimestamp(hour_dict['dt'])\n",
        "\n",
        "    s_hour = pd.Series(hour_dict)\n",
        "\n",
        "    df_hourly = pd.concat([df_hourly, s_hour.to_frame().T], ignore_index=True)\n",
        "\n",
        "df_hourly.head()"
      ]
    },
    {
      "cell_type": "markdown",
      "metadata": {
        "id": "_bameZ1nZapj"
      },
      "source": [
        "## Lecture Break/Practice 3\n",
        "\n",
        "La Chaux-de-Fonds, Switzerland is located at:\n",
        "\n",
        "    47.101333° N, 6.825° E\n",
        "    \n",
        "1. Create a dataframe of the next 48 hours of their weather as was done above\n",
        "2. (++) Make a function `get_forecast` which accepts:\n",
        "    - `lat`\n",
        "    - `lon`\n",
        "    - `api_key`\n",
        "    - `units` (default = 'imperial')\n",
        "    \n",
        "    and returns a dataframe of the next 48 hours of the location's weather. Test it on a location of your choice."
      ]
    },
    {
      "cell_type": "markdown",
      "metadata": {
        "id": "t_jDbJFxZapj"
      },
      "source": [
        "## Looking Ahead; Spotify (for use on Homework 2)\n",
        "\n",
        "![spot](https://static1.srcdn.com/wordpress/wp-content/uploads/2021/12/Spotify-Wrapped-Memes-Featured.jpeg)\n",
        "\n",
        "The Spotify API is quite powerful and gives us access to any song/artist in its libraries, plus even more information that you might not have thought of. There is also a module that has been created to access the API within python. Open up a terminal (or do it in jupyter notebook; this is a magic module) and run:\n",
        "\n",
        "`pip install spotipy`\n",
        "\n",
        "[SPOTIPY LINK](https://spotipy.readthedocs.io/en/2.25.0/)"
      ]
    },
    {
      "cell_type": "code",
      "execution_count": null,
      "metadata": {
        "id": "7Tj5PPfFZapj",
        "outputId": "84f3ad56-724a-4522-b6ed-14023848bbaa"
      },
      "outputs": [
        {
          "name": "stdout",
          "output_type": "stream",
          "text": [
            "Collecting spotipy\n",
            "  Downloading spotipy-2.25.0-py3-none-any.whl.metadata (4.7 kB)\n",
            "Collecting redis>=3.5.3 (from spotipy)\n",
            "  Downloading redis-5.2.1-py3-none-any.whl.metadata (9.1 kB)\n",
            "Requirement already satisfied: requests>=2.25.0 in /opt/homebrew/lib/python3.13/site-packages (from spotipy) (2.32.3)\n",
            "Requirement already satisfied: urllib3>=1.26.0 in /opt/homebrew/lib/python3.13/site-packages (from spotipy) (2.2.3)\n",
            "Requirement already satisfied: charset-normalizer<4,>=2 in /opt/homebrew/lib/python3.13/site-packages (from requests>=2.25.0->spotipy) (3.4.0)\n",
            "Requirement already satisfied: idna<4,>=2.5 in /opt/homebrew/lib/python3.13/site-packages (from requests>=2.25.0->spotipy) (3.10)\n",
            "Requirement already satisfied: certifi>=2017.4.17 in /opt/homebrew/lib/python3.13/site-packages (from requests>=2.25.0->spotipy) (2024.8.30)\n",
            "Downloading spotipy-2.25.0-py3-none-any.whl (30 kB)\n",
            "Downloading redis-5.2.1-py3-none-any.whl (261 kB)\n",
            "Installing collected packages: redis, spotipy\n",
            "Successfully installed redis-5.2.1 spotipy-2.25.0\n",
            "\n",
            "\u001b[1m[\u001b[0m\u001b[34;49mnotice\u001b[0m\u001b[1;39;49m]\u001b[0m\u001b[39;49m A new release of pip is available: \u001b[0m\u001b[31;49m24.2\u001b[0m\u001b[39;49m -> \u001b[0m\u001b[32;49m24.3.1\u001b[0m\n",
            "\u001b[1m[\u001b[0m\u001b[34;49mnotice\u001b[0m\u001b[1;39;49m]\u001b[0m\u001b[39;49m To update, run: \u001b[0m\u001b[32;49mpython3.13 -m pip install --upgrade pip\u001b[0m\n"
          ]
        }
      ],
      "source": [
        "!pip3 install spotipy --break-system-packages"
      ]
    },
    {
      "cell_type": "code",
      "execution_count": null,
      "metadata": {
        "id": "PUE0LPnNZapj"
      },
      "outputs": [],
      "source": [
        "import spotipy\n",
        "from spotipy.oauth2 import SpotifyClientCredentials"
      ]
    },
    {
      "cell_type": "markdown",
      "metadata": {
        "id": "dTfudJmlZapj"
      },
      "source": [
        "Just like with OpenWeather, we need to make an account [here](https://developer.spotify.com/) (this is essentially the same as making a regular Spotify account) and then get an API key (Spotify requires two things, actually, a Client ID and a secret key). At the above website, go to:\n",
        "\n",
        "- Dashboard\n",
        "- Log into your Spotify account (make one if you don't have one)\n",
        "- Accept the terms of using the API\n",
        "- Create an app (you can call it anything, I called mine `DS3000_Spotify`)\n",
        "- Get a client ID (mine is `952bb78187fd483b9a9e1edc7ab78100`, though it is usually good practice to **not** share this) and a client secret (**never share this with anyone**)"
      ]
    },
    {
      "cell_type": "code",
      "execution_count": null,
      "metadata": {
        "id": "RFDX9JNzZapj"
      },
      "outputs": [],
      "source": [
        "# Authentication\n",
        "cid = '952bb78187fd483b9a9e1edc7ab78100'\n",
        "cid_secret='[YOUR CLIENT SECRET]'\n",
        "client_credentials_manager = SpotifyClientCredentials(client_id=cid, client_secret=cid_secret)\n",
        "sp = spotipy.Spotify(client_credentials_manager = client_credentials_manager)"
      ]
    },
    {
      "cell_type": "markdown",
      "metadata": {
        "id": "mLmZphnHZapj"
      },
      "source": [
        "You will learn more about how to use Spotipy, including the tricky bits that are unique to its usage, on Homework 2. **START THIS EARLY ONCE IT IS RELEASED THIS WEEK!!**"
      ]
    }
  ],
  "metadata": {
    "celltoolbar": "Slideshow",
    "colab": {
      "provenance": []
    },
    "kernelspec": {
      "display_name": "Python 3 (ipykernel)",
      "language": "python",
      "name": "python3"
    },
    "language_info": {
      "codemirror_mode": {
        "name": "ipython",
        "version": 3
      },
      "file_extension": ".py",
      "mimetype": "text/x-python",
      "name": "python",
      "nbconvert_exporter": "python",
      "pygments_lexer": "ipython3",
      "version": "3.13.0"
    }
  },
  "nbformat": 4,
  "nbformat_minor": 0
}