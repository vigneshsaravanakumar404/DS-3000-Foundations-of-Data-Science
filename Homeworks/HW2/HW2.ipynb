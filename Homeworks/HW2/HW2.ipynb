{
 "cells": [
  {
   "cell_type": "markdown",
   "metadata": {},
   "source": [
    "# DS 3000 HW 2\n",
    "\n",
    "## Due: Friday October 3rd @ 11:59 PM EST\n",
    "\n",
    "**Extra Credit Deadline: Wednesday Oct. 1 @ 11:59 PM EST**\n",
    "\n",
    "Earliest Possible Submission: Tuesday Sep. 23\n",
    "\n",
    "Your Name:\n",
    "\n",
    "### Submission Instructions\n",
    "Submit this `ipynb` file to Gradescope (this can also be done via the assignment on Canvas).  To ensure that your submitted `ipynb` file represents your latest code, make sure to give a fresh **`Kernel > Restart & Run All`** just before uploading the `ipynb` file to gradescope.\n",
    "\n",
    "### Tips for success\n",
    "- Start early\n",
    "- Make use of Piazza (also accessible through Canvas)\n",
    "- Make use of Office Hours\n",
    "- Remember to use cells and headings to make the notebook easy to read (if a grader cannot find the answer to a problem, you will receive no points for it)\n",
    "- Under no circumstances may one student view or share their ungraded homework or quiz with another student [(see also)](http://www.northeastern.edu/osccr/academic-integrity), though you are welcome to **talk about** (*not* show each other your answers to) the problems.\n",
    "\n",
    "### Special Note about this HW!\n",
    "\n",
    "- Since you would be working with APIs, i would recommend if you have fully finished Part 1, save your notebook and then work on Part 2 and save your progress! Before you submit you would not have to do **`Kernel > Restart & Run All`**! We do not want you to hit the API call celing. You might have to wait for 24 hours to do the part!\n",
    "\n",
    "### Finally:\n",
    "\n",
    "I designed this homework to provide **less** guidance in each subsequent part; this is on purpose, so that you slowly get used to thinking more critically about how to approach the various tasks. If you are confused as you are working, especially with the later parts, please don't hesitate to reach out for help."
   ]
  },
  {
   "cell_type": "markdown",
   "metadata": {},
   "source": [
    "# Part 1: Sunrise-Sunset API\n",
    "\n",
    "This first part of the homework asks you to complete the pipeline which, given the lattitude / longitude and timezone of some cities:\n",
    "\n",
    "``` python\n",
    "loc_dict = {'Boston': (42.3601, -71.0589, 'US/Eastern'),\n",
    "            'Lusaka': (-15.3875, 28.3228, 'Africa/Lusaka'),\n",
    "            'Sydney': (-33.8688, 151.2093, 'Australia/Sydney')}\n",
    "```\n",
    "\n",
    "the keys are the `name` of the city and the values are tuples of `lat, lon, timezone_name\n",
    "\n",
    "is able to:\n",
    "- query a sunrise / sunset API\n",
    "- clean and process data (timezone management & building `datetime` objects)\n",
    "- For extra credit: produce the a graph of daylight through the year like this:\n",
    "\n",
    "<img src=\"https://i.ibb.co/CBhWtCY/newdaylight.png\" alt=\"newdaylight\" style=\"width: 500px;\"/>"
   ]
  },
  {
   "cell_type": "markdown",
   "metadata": {},
   "source": [
    "## Part 1.1: Getting Sunrise Sunset via API (5 points)\n",
    "Write the `get_sunrise_sunset()` function below so that it uses [this sunrise sunset API](https://sunrise-sunset.org/api) to produce the output (the dictionary) shown in the test case below so that it passes the case.\n",
    "\n",
    "It may be helpful to know that this particular API...\n",
    "- requires no api key\n",
    "- returns about 2.5 queries per second\n",
    "- did not block me when I tried to make 100 consecutive calls as quickly as possible"
   ]
  },
  {
   "cell_type": "code",
   "execution_count": 1,
   "metadata": {},
   "outputs": [],
   "source": [
    "# make sure you have these modules installed\n",
    "import requests\n",
    "import json"
   ]
  },
  {
   "cell_type": "code",
   "execution_count": 2,
   "metadata": {},
   "outputs": [],
   "source": [
    "def get_sunrise_sunset(lat, lng, date):\n",
    "    \"\"\" Given a latitude, longitude, and date, return the sunrise and sunset times for that location on that date.\n",
    "        Use the API at https://sunrise-sunset.org/api\n",
    "\n",
    "        Parameters:\n",
    "            lat (float): Latitude of the location\n",
    "            lng (float): Longitude of the location\n",
    "            date (str): Date in the format 'YYYY-MM-DD'\n",
    "        Returns:\n",
    "            dict: A dictionary with 'sunrise' and 'sunset' times in UTC\n",
    "    \"\"\"\n",
    "    url = f\"https://api.sunrise-sunset.org/json?lat={lat}&lng={lng}&date={date}&formatted=1\"\n",
    "    response = requests.get(url)\n",
    "    data = response.json()\n",
    "\n",
    "    data[\"lat-lng\"] = (lat, lng)\n",
    "    data[\"date\"] = date\n",
    "\n",
    "    return data"
   ]
  },
  {
   "cell_type": "code",
   "execution_count": 3,
   "metadata": {},
   "outputs": [
    {
     "name": "stdout",
     "output_type": "stream",
     "text": [
      "{'results': {'sunrise': '11:38:48 AM', 'sunset': '10:17:50 PM', 'solar_noon': '4:58:19 PM', 'day_length': '10:39:02', 'civil_twilight_begin': '11:11:30 AM', 'civil_twilight_end': '10:45:08 PM', 'nautical_twilight_begin': '10:38:37 AM', 'nautical_twilight_end': '11:18:00 PM', 'astronomical_twilight_begin': '10:06:05 AM', 'astronomical_twilight_end': '11:50:33 PM'}, 'status': 'OK', 'tzid': 'UTC', 'lat-lng': (42.3601, -71.0589), 'date': '2022-02-15'}\n"
     ]
    }
   ],
   "source": [
    "sun_dict = get_sunrise_sunset(lat=42.3601, lng=-71.0589, date='2022-02-15')\n",
    "sun_dict_expected = \\\n",
    "{'results': {'sunrise': '11:38:48 AM',\n",
    "            'sunset': '10:17:50 PM',\n",
    "            'solar_noon': '4:58:19 PM',\n",
    "            'day_length': '10:39:02',\n",
    "            'civil_twilight_begin': '11:11:30 AM',\n",
    "            'civil_twilight_end': '10:45:08 PM',\n",
    "            'nautical_twilight_begin': '10:38:37 AM',\n",
    "            'nautical_twilight_end': '11:18:00 PM',\n",
    "            'astronomical_twilight_begin': '10:06:05 AM',\n",
    "            'astronomical_twilight_end': '11:50:33 PM'},\n",
    " 'status': 'OK',\n",
    " 'tzid': 'UTC',\n",
    " 'lat-lng': (42.3601, -71.0589),\n",
    " 'date': '2022-02-15'}\n",
    "\n",
    "print(sun_dict)\n",
    "\n",
    "\n",
    "\n",
    "assert sun_dict == sun_dict_expected, 'get_sunrise_sunset() error'"
   ]
  },
  {
   "cell_type": "markdown",
   "metadata": {},
   "source": [
    "## Part 1.2 Timezone Considerations: (5 points)\n",
    "\n",
    "It may appear the test case above works, but a look at the API's documentation reminds us: \n",
    "\n",
    "    \"NOTE: All times are in UTC and summer time adjustments are not included in the returned data.\"\n",
    "    \n",
    "Meaning that we would need to change the timezone ourself if comparing different locations. \n",
    "\n",
    "Complete the `change_tz()` below so that it passes the given test case. \n",
    "\n",
    "## Note: If you do not get any response from the `assert` that means everything is correct! If you get a response, then the assert has not passed."
   ]
  },
  {
   "cell_type": "code",
   "execution_count": 4,
   "metadata": {},
   "outputs": [],
   "source": [
    "# you will need these\n",
    "import pytz\n",
    "from datetime import datetime"
   ]
  },
  {
   "cell_type": "code",
   "execution_count": 5,
   "metadata": {},
   "outputs": [],
   "source": [
    "# I have started the function for you\n",
    "def change_tz(dt, timezone_from, timezone_to):\n",
    "    \"\"\" converts timezone of a timezone naive datetime object\n",
    "    \n",
    "    Args:\n",
    "        dt (datetime): datetime (or time) object without timezone\n",
    "        timezone_from (str): timezone of input\n",
    "        timezone_to (str): timezone of output datetime\n",
    "        \n",
    "    Returns:\n",
    "        dt (datetime): datetime object corresponding to \n",
    "            unix_time\n",
    "    \"\"\"\n",
    "    \n",
    "    dt_from = pytz.timezone(timezone_from).localize(dt)\n",
    "    dt_to = dt_from.astimezone(pytz.timezone(timezone_to))\n",
    "    return dt_to"
   ]
  },
  {
   "cell_type": "code",
   "execution_count": 6,
   "metadata": {},
   "outputs": [],
   "source": [
    "# build test case input / output\n",
    "dt_no_tz = datetime(2021, 2, 13, 9, 54, 4, 270088)\n",
    "dt_expect = datetime(2021, 2, 13, 14, 54, 4, 270088, tzinfo=pytz.timezone('GMT'))\n",
    "\n",
    "# compute actual output\n",
    "dt = change_tz(dt_no_tz, timezone_from='US/Eastern', timezone_to='GMT')\n",
    "\n",
    "assert dt == dt_expect, 'change_tz() error'"
   ]
  },
  {
   "cell_type": "code",
   "execution_count": 7,
   "metadata": {},
   "outputs": [],
   "source": [
    "# build test case input / output\n",
    "dt_no_tz = datetime(2021, 2, 13, 9, 54, 4, 270088)\n",
    "dt_expect = datetime(2021, 2, 13, 9, 54, 4, 270088, tzinfo=pytz.timezone('GMT'))\n",
    "\n",
    "# compute actual output\n",
    "dt = change_tz(dt_no_tz, timezone_from='GMT', timezone_to='GMT')\n",
    "\n",
    "assert dt == dt_expect, 'change_tz() error'"
   ]
  },
  {
   "cell_type": "markdown",
   "metadata": {},
   "source": [
    "## Part 1.3: Turning the dictionary into a Series (5 points)\n",
    "Build `clean_sun_dict()` to pass each of the two test cases below.  Note that:\n",
    "- sunrise and sunset are `time` objects which account for daylight's saving:\n",
    "    - include the date when building these objects\n",
    "    - use `change_tz()` above to cast them to the proper timezone\n",
    "    - build `time` objects by calling `datetime.time()` to discard the date of a `datetime`\n",
    "    - importing `pandas as pd` and using `pd.to_datetime` may also be helpful\n",
    "- `sunrise_hr` and `sunset_hr` are the hours since the day began in local timezone (more easily graphed)\n",
    "    - you may use `.strftime()` and `int()` to cast time objects to strings and then integers (which may be helpful) \n",
    "    \n",
    "**NOTE:** There may be more than one way to accomplish writing this function; as long as the function passes both `assert` test cases, you may continue. Just do be sure to comment and present your code as cleanly as possible. \n",
    "## Important:\n",
    "**NOTE ALSO** that because of the way *I* made the solution, the `sunrise_hr` and `sunset_hr` values are rounded strangely. If you are getting something *close*, you **may** change the test case to match your so that the `assert` works."
   ]
  },
  {
   "cell_type": "code",
   "execution_count": 8,
   "metadata": {},
   "outputs": [],
   "source": [
    "from datetime import datetime, time\n",
    "import pandas as pd"
   ]
  },
  {
   "cell_type": "code",
   "execution_count": 9,
   "metadata": {},
   "outputs": [],
   "source": [
    "def clean_sun_dict(sun_dict, timezone_to):\n",
    "    \"\"\" builds pandas series and cleans output of API\n",
    "    \n",
    "    Args:\n",
    "        sun_dict (dict): dict of json (see ex below)\n",
    "        timezone_to (str): timezone of outputs (API returns\n",
    "            UTC times)\n",
    "            \n",
    "    Returns:\n",
    "        sun_series (pd.Series): all times converted to\n",
    "            time objects\n",
    "    \n",
    "    example sun_series:\n",
    "    \n",
    "    date            2021-02-13 00:00:00\n",
    "    lat-lng        (36.72016, -4.42034)\n",
    "    sunrise                    02:11:06\n",
    "    sunrise_hr                    2.185\n",
    "    sunset                     13:00:34\n",
    "    sunset_hr                   13.0094\n",
    "    dtype: object\n",
    "    \"\"\"\n",
    "\n",
    "    output = pd.Series(dtype=object)\n",
    "    output['date'] = datetime.fromisoformat(sun_dict['date'])\n",
    "    output['lat-lng'] = sun_dict['lat-lng']\n",
    "\n",
    "    # Combine date and time for correct timezone conversion\n",
    "    sunrise_dt_utc = datetime.strptime(sun_dict['date'] + ' ' + sun_dict['results']['sunrise'], '%Y-%m-%d %I:%M:%S %p')\n",
    "    sunset_dt_utc = datetime.strptime(sun_dict['date'] + ' ' + sun_dict['results']['sunset'], '%Y-%m-%d %I:%M:%S %p')\n",
    "\n",
    "    output['sunrise'] = change_tz(sunrise_dt_utc, 'UTC', timezone_to).time()\n",
    "    output['sunrise_hr'] = output['sunrise'].hour + output['sunrise'].minute / 60 + output['sunrise'].second / 3600\n",
    "    output['sunset'] = change_tz(sunset_dt_utc, 'UTC', timezone_to).time()\n",
    "    output['sunset_hr'] = output['sunset'].hour + output['sunset'].minute / 60 + output['sunset'].second / 3600\n",
    "\n",
    "\n",
    "    return output\n"
   ]
  },
  {
   "cell_type": "code",
   "execution_count": 10,
   "metadata": {},
   "outputs": [],
   "source": [
    "sun_dict = {'results': {'sunrise': '11:38:48 AM',\n",
    "                        'sunset': '10:17:50 PM',\n",
    "                        'solar_noon': '4:58:19 PM',\n",
    "                        'day_length': '10:39:02',\n",
    "                        'civil_twilight_begin': '11:11:30 AM',\n",
    "                        'civil_twilight_end': '10:45:08 PM',\n",
    "                        'nautical_twilight_begin': '10:38:37 AM',\n",
    "                        'nautical_twilight_end': '11:18:00 PM',\n",
    "                        'astronomical_twilight_begin': '10:06:05 AM',\n",
    "                        'astronomical_twilight_end': '11:50:33 PM'},\n",
    "             'status': 'OK',\n",
    "             'lat-lng': (42.3601, -71.0589),\n",
    "             'date': '2022-02-15'}\n",
    "\n",
    "# test without timezone conversion\n",
    "sun_series = clean_sun_dict(sun_dict, timezone_to='GMT')\n",
    "\n",
    "\n",
    "sun_series_exp = pd.Series(\n",
    "{'date': datetime(year=2022, month=2, day=15),\n",
    "'lat-lng': (42.3601, -71.0589),\n",
    "'sunrise': time(hour=11, minute=38, second=48),\n",
    "'sunrise_hr': 11.646666666666667,\n",
    "'sunset': time(hour=22, minute=17, second=50),\n",
    "'sunset_hr': 22.297222222222224})\n",
    "\n",
    "\n",
    "assert sun_series.eq(sun_series_exp).all(), 'clean_sun_dict() error (GMT)'"
   ]
  },
  {
   "cell_type": "code",
   "execution_count": 11,
   "metadata": {},
   "outputs": [],
   "source": [
    "# test with timezone conversion\n",
    "sun_series = clean_sun_dict(sun_dict, timezone_to='US/Eastern',)\n",
    "\n",
    "sun_series_exp = pd.Series(\n",
    "{'date': datetime(year=2022, month=2, day=15),\n",
    "'lat-lng': (42.3601, -71.0589),\n",
    "'sunrise': time(hour=6, minute=38, second=48),\n",
    "'sunrise_hr': 6.6466666666666665,\n",
    "'sunset': time(hour=17, minute=17, second=50),\n",
    "'sunset_hr': 17.297222222222224})\n",
    "\n",
    "\n",
    "assert sun_series.eq(sun_series_exp).all(), 'clean_sun_dict() error (EST)'"
   ]
  },
  {
   "cell_type": "markdown",
   "metadata": {},
   "source": [
    "## Part 1.4: Getting our Data Frame (5 points)\n",
    "\n",
    "Write the `get_annual_sun_data()` function so that it produces the outputs shown below.  This function should make use of:\n",
    " - `get_sunrise_sunset()`\n",
    " - `clean_sun_dict()`\n",
    "   \n",
    "as built above. I will start the function for you to help!"
   ]
  },
  {
   "cell_type": "markdown",
   "metadata": {},
   "source": [
    "The following snippet:\n",
    "\n",
    "```python\n",
    "loc_dict = {'Boston': (42.3601, -71.0589, 'US/Eastern'),\n",
    "            'Lusaka': (-15.3875, 28.3228, 'Africa/Lusaka'),\n",
    "            'Sydney': (-33.8688, 151.2093, 'Australia/Sydney')}\n",
    "df_annual_sun = get_annual_sun_data(loc_dict, year=2021, period_day=30)\n",
    "df_annual_sun.head(6)\n",
    "```\n",
    "\n",
    "should generate:\n",
    "\n",
    "|    |   city |       date |              lat-lng |  sunrise | sunrise_hr |   sunset | sunset_hr |\n",
    "|---:|-------:|-----------:|---------------------:|---------:|-----------:|---------:|----------:|\n",
    "|  0 | Boston | 2021-01-01 |  (42.3601, -71.0589) | 07:11:49 |   7.196944 | 16:24:12 | 16.403333 |\n",
    "|  1 | Lusaka | 2021-01-01 |  (-15.3875, 28.3228) | 05:38:33 |   5.642500 | 18:42:09 | 18.702500 |\n",
    "|  2 | Sydney | 2021-01-01 | (-33.8688, 151.2093) | 05:46:24 |   5.773333 | 20:10:53 | 20.181389 |\n",
    "|  3 | Boston | 2021-01-31 |  (42.3601, -71.0589) | 06:56:43 |   6.945278 | 16:58:42 | 16.978333 |\n",
    "|  4 | Lusaka | 2021-01-31 |  (-15.3875, 28.3228) | 05:55:43 |   5.928611 | 18:44:35 | 18.743056 |\n",
    "|  5 | Sydney | 2021-01-31 | (-33.8688, 151.2093) | 06:14:24 |   6.240000 | 20:02:42 | 20.045000 |"
   ]
  },
  {
   "cell_type": "code",
   "execution_count": 12,
   "metadata": {},
   "outputs": [],
   "source": [
    "# could be useful\n",
    "from datetime import timedelta"
   ]
  },
  {
   "cell_type": "code",
   "execution_count": 13,
   "metadata": {},
   "outputs": [],
   "source": [
    "def get_annual_sun_data(loc_dict, year=2021, period_day=30): \n",
    "    \"\"\" pulls evenly spaced sunrise / sunsets from API over year per city\n",
    "    \n",
    "    Args:\n",
    "        loc_dict (dict): keys are cities, values are tuples of \n",
    "            (lat, lon, tz_str) where tz_str is a timezone\n",
    "            string included in pytz.all_timezones\n",
    "        year (int): year to query\n",
    "        period_day (int): how many days between data queries\n",
    "            (i.e. period_day=1 will get every day for the year)\n",
    "            \n",
    "    Returns:\n",
    "        df_annual_sun (DataFrame): each row represents a \n",
    "            sunrise / sunset datapoint, see get_sunrise_sunset()\n",
    "    \"\"\"\n",
    "\n",
    "    cycle_day = pd.to_datetime(f'{year}-01-01')\n",
    "    cycle_city = loc_dict.keys()\n",
    "    df_annual_sun = pd.DataFrame()\n",
    "    \n",
    "    while cycle_day.year == year:\n",
    "        for city in cycle_city:\n",
    "            city_series = pd.Series({'city': city})\n",
    "\n",
    "            #continue the for loop, using the two functions you've already written\n",
    "            lat, lng, tz_str = loc_dict[city]\n",
    "            sun_dict = get_sunrise_sunset(lat, lng, cycle_day.strftime('%Y-%m-%d'))\n",
    "            sun_series = clean_sun_dict(sun_dict, timezone_to=tz_str)\n",
    "            city_series = pd.concat([city_series, sun_series])\n",
    "            df_annual_sun = pd.concat([df_annual_sun, city_series.to_frame().T], ignore_index=True)\n",
    "\n",
    "        cycle_day += timedelta(days=period_day)\n",
    "    return df_annual_sun\n",
    "\n"
   ]
  },
  {
   "cell_type": "code",
   "execution_count": 14,
   "metadata": {},
   "outputs": [],
   "source": [
    "loc_dict = {'Boston': (42.3601, -71.0589, 'US/Eastern'),\n",
    "            'Lusaka': (-15.3875, 28.3228, 'Africa/Lusaka'),\n",
    "            'Sydney': (-33.8688, 151.2093, 'Australia/Sydney')}\n",
    "\n",
    "# you may find that setting period_day to a larger value is quicker for debug\n",
    "# period_day=5 takes about a minute or so given the API does 2-3 requests / sec\n",
    "df_annual_sun = get_annual_sun_data(loc_dict, year=2021, period_day=30)"
   ]
  },
  {
   "cell_type": "code",
   "execution_count": 15,
   "metadata": {},
   "outputs": [
    {
     "data": {
      "text/html": [
       "<div>\n",
       "<style scoped>\n",
       "    .dataframe tbody tr th:only-of-type {\n",
       "        vertical-align: middle;\n",
       "    }\n",
       "\n",
       "    .dataframe tbody tr th {\n",
       "        vertical-align: top;\n",
       "    }\n",
       "\n",
       "    .dataframe thead th {\n",
       "        text-align: right;\n",
       "    }\n",
       "</style>\n",
       "<table border=\"1\" class=\"dataframe\">\n",
       "  <thead>\n",
       "    <tr style=\"text-align: right;\">\n",
       "      <th></th>\n",
       "      <th>city</th>\n",
       "      <th>date</th>\n",
       "      <th>lat-lng</th>\n",
       "      <th>sunrise</th>\n",
       "      <th>sunrise_hr</th>\n",
       "      <th>sunset</th>\n",
       "      <th>sunset_hr</th>\n",
       "    </tr>\n",
       "  </thead>\n",
       "  <tbody>\n",
       "    <tr>\n",
       "      <th>0</th>\n",
       "      <td>Boston</td>\n",
       "      <td>2021-01-01 00:00:00</td>\n",
       "      <td>(42.3601, -71.0589)</td>\n",
       "      <td>07:11:49</td>\n",
       "      <td>7.196944</td>\n",
       "      <td>16:24:12</td>\n",
       "      <td>16.403333</td>\n",
       "    </tr>\n",
       "    <tr>\n",
       "      <th>1</th>\n",
       "      <td>Lusaka</td>\n",
       "      <td>2021-01-01 00:00:00</td>\n",
       "      <td>(-15.3875, 28.3228)</td>\n",
       "      <td>05:38:33</td>\n",
       "      <td>5.6425</td>\n",
       "      <td>18:42:09</td>\n",
       "      <td>18.7025</td>\n",
       "    </tr>\n",
       "    <tr>\n",
       "      <th>2</th>\n",
       "      <td>Sydney</td>\n",
       "      <td>2021-01-01 00:00:00</td>\n",
       "      <td>(-33.8688, 151.2093)</td>\n",
       "      <td>05:46:24</td>\n",
       "      <td>5.773333</td>\n",
       "      <td>20:10:53</td>\n",
       "      <td>20.181389</td>\n",
       "    </tr>\n",
       "    <tr>\n",
       "      <th>3</th>\n",
       "      <td>Boston</td>\n",
       "      <td>2021-01-31 00:00:00</td>\n",
       "      <td>(42.3601, -71.0589)</td>\n",
       "      <td>06:56:43</td>\n",
       "      <td>6.945278</td>\n",
       "      <td>16:58:42</td>\n",
       "      <td>16.978333</td>\n",
       "    </tr>\n",
       "    <tr>\n",
       "      <th>4</th>\n",
       "      <td>Lusaka</td>\n",
       "      <td>2021-01-31 00:00:00</td>\n",
       "      <td>(-15.3875, 28.3228)</td>\n",
       "      <td>05:55:43</td>\n",
       "      <td>5.928611</td>\n",
       "      <td>18:44:35</td>\n",
       "      <td>18.743056</td>\n",
       "    </tr>\n",
       "    <tr>\n",
       "      <th>5</th>\n",
       "      <td>Sydney</td>\n",
       "      <td>2021-01-31 00:00:00</td>\n",
       "      <td>(-33.8688, 151.2093)</td>\n",
       "      <td>06:14:24</td>\n",
       "      <td>6.24</td>\n",
       "      <td>20:02:42</td>\n",
       "      <td>20.045</td>\n",
       "    </tr>\n",
       "  </tbody>\n",
       "</table>\n",
       "</div>"
      ],
      "text/plain": [
       "     city                 date               lat-lng   sunrise sunrise_hr  \\\n",
       "0  Boston  2021-01-01 00:00:00   (42.3601, -71.0589)  07:11:49   7.196944   \n",
       "1  Lusaka  2021-01-01 00:00:00   (-15.3875, 28.3228)  05:38:33     5.6425   \n",
       "2  Sydney  2021-01-01 00:00:00  (-33.8688, 151.2093)  05:46:24   5.773333   \n",
       "3  Boston  2021-01-31 00:00:00   (42.3601, -71.0589)  06:56:43   6.945278   \n",
       "4  Lusaka  2021-01-31 00:00:00   (-15.3875, 28.3228)  05:55:43   5.928611   \n",
       "5  Sydney  2021-01-31 00:00:00  (-33.8688, 151.2093)  06:14:24       6.24   \n",
       "\n",
       "     sunset  sunset_hr  \n",
       "0  16:24:12  16.403333  \n",
       "1  18:42:09    18.7025  \n",
       "2  20:10:53  20.181389  \n",
       "3  16:58:42  16.978333  \n",
       "4  18:44:35  18.743056  \n",
       "5  20:02:42     20.045  "
      ]
     },
     "execution_count": 15,
     "metadata": {},
     "output_type": "execute_result"
    }
   ],
   "source": [
    "df_annual_sun.head(6)"
   ]
  },
  {
   "cell_type": "markdown",
   "metadata": {},
   "source": [
    "## Part 1.5: Plotting the data (5 points)\n",
    "\n",
    "Using [plt.fillbetween()](https://matplotlib.org/3.1.1/api/_as_gen/matplotlib.pyplot.fill_between.html), like [this example](https://colab.research.google.com/drive/1eYuuwGwQKEa6x84fqpdVlf46sXLDmhCZ?usp=sharing), write the `plot_daylight()` function so that:\n",
    "\n",
    "``` python\n",
    "plot_daylight(df_annual_sun)\n",
    "```\n",
    "\n",
    "produces a similar graph to:\n",
    "\n",
    "<img src=\"https://i.ibb.co/CBhWtCY/newdaylight.png\" alt=\"newdaylight\" style=\"width: 500px;\"/>\n",
    "\n",
    "Be sure that your graph displays in Jupyter notebook (no need to save it in another form)."
   ]
  },
  {
   "cell_type": "code",
   "execution_count": 16,
   "metadata": {},
   "outputs": [],
   "source": [
    "# modules you might use\n",
    "import seaborn as sns\n",
    "import matplotlib.pyplot as plt"
   ]
  },
  {
   "cell_type": "code",
   "execution_count": 17,
   "metadata": {},
   "outputs": [],
   "source": [
    "sns.set(font_scale=1.2)\n",
    "\n",
    "def plot_daylight(df_annual_sun):\n",
    "    \"\"\" produces a plot of daylight seen across cities\n",
    "    \n",
    "    Args:\n",
    "        df_annual_sun (DataFrame): each row represents a \n",
    "            sunrise / sunset datapoint, see get_sunrise_sunset()\n",
    "    \"\"\"\n",
    "    # Convert date column to datetime if it's not already\n",
    "    df_plot = df_annual_sun.copy()\n",
    "    df_plot['date'] = pd.to_datetime(df_plot['date'])\n",
    "    df_plot['sunrise_hr'] = pd.to_numeric(df_plot['sunrise_hr'])\n",
    "    df_plot['sunset_hr'] = pd.to_numeric(df_plot['sunset_hr'])\n",
    "    \n",
    "    plt.figure(figsize=(12, 6))\n",
    "    \n",
    "    # Plot each city separately with fill_between\n",
    "    for city in df_plot['city'].unique():\n",
    "        city_data = df_plot[df_plot['city'] == city].sort_values('date')\n",
    "        plt.fill_between(city_data['date'], \n",
    "                        city_data['sunrise_hr'], \n",
    "                        city_data['sunset_hr'], \n",
    "                        alpha=0.3, \n",
    "                        label=city)\n",
    "    \n",
    "    plt.title('Daylight Hours Throughout the Year')\n",
    "    plt.xlabel('Date')\n",
    "    plt.ylabel('Time of Day (Hours)')\n",
    "    plt.yticks(range(0, 25), [f'{h}:00' for h in range(0, 25)])\n",
    "    plt.legend(title='City')\n",
    "    plt.grid(True, alpha=0.3)\n",
    "    plt.tight_layout()\n",
    "    plt.show()"
   ]
  },
  {
   "cell_type": "code",
   "execution_count": 18,
   "metadata": {},
   "outputs": [
    {
     "data": {
      "text/html": [
       "<div>\n",
       "<style scoped>\n",
       "    .dataframe tbody tr th:only-of-type {\n",
       "        vertical-align: middle;\n",
       "    }\n",
       "\n",
       "    .dataframe tbody tr th {\n",
       "        vertical-align: top;\n",
       "    }\n",
       "\n",
       "    .dataframe thead th {\n",
       "        text-align: right;\n",
       "    }\n",
       "</style>\n",
       "<table border=\"1\" class=\"dataframe\">\n",
       "  <thead>\n",
       "    <tr style=\"text-align: right;\">\n",
       "      <th></th>\n",
       "      <th>city</th>\n",
       "      <th>date</th>\n",
       "      <th>lat-lng</th>\n",
       "      <th>sunrise</th>\n",
       "      <th>sunrise_hr</th>\n",
       "      <th>sunset</th>\n",
       "      <th>sunset_hr</th>\n",
       "    </tr>\n",
       "  </thead>\n",
       "  <tbody>\n",
       "    <tr>\n",
       "      <th>0</th>\n",
       "      <td>Boston</td>\n",
       "      <td>2021-01-01 00:00:00</td>\n",
       "      <td>(42.3601, -71.0589)</td>\n",
       "      <td>07:11:49</td>\n",
       "      <td>7.196944</td>\n",
       "      <td>16:24:12</td>\n",
       "      <td>16.403333</td>\n",
       "    </tr>\n",
       "    <tr>\n",
       "      <th>1</th>\n",
       "      <td>Lusaka</td>\n",
       "      <td>2021-01-01 00:00:00</td>\n",
       "      <td>(-15.3875, 28.3228)</td>\n",
       "      <td>05:38:33</td>\n",
       "      <td>5.6425</td>\n",
       "      <td>18:42:09</td>\n",
       "      <td>18.7025</td>\n",
       "    </tr>\n",
       "    <tr>\n",
       "      <th>2</th>\n",
       "      <td>Sydney</td>\n",
       "      <td>2021-01-01 00:00:00</td>\n",
       "      <td>(-33.8688, 151.2093)</td>\n",
       "      <td>05:46:24</td>\n",
       "      <td>5.773333</td>\n",
       "      <td>20:10:53</td>\n",
       "      <td>20.181389</td>\n",
       "    </tr>\n",
       "    <tr>\n",
       "      <th>3</th>\n",
       "      <td>Boston</td>\n",
       "      <td>2021-01-08 00:00:00</td>\n",
       "      <td>(42.3601, -71.0589)</td>\n",
       "      <td>07:11:19</td>\n",
       "      <td>7.188611</td>\n",
       "      <td>16:30:55</td>\n",
       "      <td>16.515278</td>\n",
       "    </tr>\n",
       "    <tr>\n",
       "      <th>4</th>\n",
       "      <td>Lusaka</td>\n",
       "      <td>2021-01-08 00:00:00</td>\n",
       "      <td>(-15.3875, 28.3228)</td>\n",
       "      <td>05:42:43</td>\n",
       "      <td>5.711944</td>\n",
       "      <td>18:44:13</td>\n",
       "      <td>18.736944</td>\n",
       "    </tr>\n",
       "    <tr>\n",
       "      <th>...</th>\n",
       "      <td>...</td>\n",
       "      <td>...</td>\n",
       "      <td>...</td>\n",
       "      <td>...</td>\n",
       "      <td>...</td>\n",
       "      <td>...</td>\n",
       "      <td>...</td>\n",
       "    </tr>\n",
       "    <tr>\n",
       "      <th>154</th>\n",
       "      <td>Lusaka</td>\n",
       "      <td>2021-12-24 00:00:00</td>\n",
       "      <td>(-15.3875, 28.3228)</td>\n",
       "      <td>05:33:56</td>\n",
       "      <td>5.565556</td>\n",
       "      <td>18:38:44</td>\n",
       "      <td>18.645556</td>\n",
       "    </tr>\n",
       "    <tr>\n",
       "      <th>155</th>\n",
       "      <td>Sydney</td>\n",
       "      <td>2021-12-24 00:00:00</td>\n",
       "      <td>(-33.8688, 151.2093)</td>\n",
       "      <td>05:40:57</td>\n",
       "      <td>5.6825</td>\n",
       "      <td>20:08:17</td>\n",
       "      <td>20.138056</td>\n",
       "    </tr>\n",
       "    <tr>\n",
       "      <th>156</th>\n",
       "      <td>Boston</td>\n",
       "      <td>2021-12-31 00:00:00</td>\n",
       "      <td>(42.3601, -71.0589)</td>\n",
       "      <td>07:11:41</td>\n",
       "      <td>7.194722</td>\n",
       "      <td>16:23:08</td>\n",
       "      <td>16.385556</td>\n",
       "    </tr>\n",
       "    <tr>\n",
       "      <th>157</th>\n",
       "      <td>Lusaka</td>\n",
       "      <td>2021-12-31 00:00:00</td>\n",
       "      <td>(-15.3875, 28.3228)</td>\n",
       "      <td>05:37:49</td>\n",
       "      <td>5.630278</td>\n",
       "      <td>18:41:42</td>\n",
       "      <td>18.695</td>\n",
       "    </tr>\n",
       "    <tr>\n",
       "      <th>158</th>\n",
       "      <td>Sydney</td>\n",
       "      <td>2021-12-31 00:00:00</td>\n",
       "      <td>(-33.8688, 151.2093)</td>\n",
       "      <td>05:45:29</td>\n",
       "      <td>5.758056</td>\n",
       "      <td>20:10:37</td>\n",
       "      <td>20.176944</td>\n",
       "    </tr>\n",
       "  </tbody>\n",
       "</table>\n",
       "<p>159 rows × 7 columns</p>\n",
       "</div>"
      ],
      "text/plain": [
       "       city                 date               lat-lng   sunrise sunrise_hr  \\\n",
       "0    Boston  2021-01-01 00:00:00   (42.3601, -71.0589)  07:11:49   7.196944   \n",
       "1    Lusaka  2021-01-01 00:00:00   (-15.3875, 28.3228)  05:38:33     5.6425   \n",
       "2    Sydney  2021-01-01 00:00:00  (-33.8688, 151.2093)  05:46:24   5.773333   \n",
       "3    Boston  2021-01-08 00:00:00   (42.3601, -71.0589)  07:11:19   7.188611   \n",
       "4    Lusaka  2021-01-08 00:00:00   (-15.3875, 28.3228)  05:42:43   5.711944   \n",
       "..      ...                  ...                   ...       ...        ...   \n",
       "154  Lusaka  2021-12-24 00:00:00   (-15.3875, 28.3228)  05:33:56   5.565556   \n",
       "155  Sydney  2021-12-24 00:00:00  (-33.8688, 151.2093)  05:40:57     5.6825   \n",
       "156  Boston  2021-12-31 00:00:00   (42.3601, -71.0589)  07:11:41   7.194722   \n",
       "157  Lusaka  2021-12-31 00:00:00   (-15.3875, 28.3228)  05:37:49   5.630278   \n",
       "158  Sydney  2021-12-31 00:00:00  (-33.8688, 151.2093)  05:45:29   5.758056   \n",
       "\n",
       "       sunset  sunset_hr  \n",
       "0    16:24:12  16.403333  \n",
       "1    18:42:09    18.7025  \n",
       "2    20:10:53  20.181389  \n",
       "3    16:30:55  16.515278  \n",
       "4    18:44:13  18.736944  \n",
       "..        ...        ...  \n",
       "154  18:38:44  18.645556  \n",
       "155  20:08:17  20.138056  \n",
       "156  16:23:08  16.385556  \n",
       "157  18:41:42     18.695  \n",
       "158  20:10:37  20.176944  \n",
       "\n",
       "[159 rows x 7 columns]"
      ]
     },
     "execution_count": 18,
     "metadata": {},
     "output_type": "execute_result"
    }
   ],
   "source": [
    "# takes about a minute to run with period_day=7, worth the wait to characterize\n",
    "# the sudden jumps due to daylight savings times\n",
    "df_annual_sun = get_annual_sun_data(loc_dict, year=2021, period_day=7)\n",
    "df_annual_sun"
   ]
  },
  {
   "cell_type": "code",
   "execution_count": 19,
   "metadata": {},
   "outputs": [
    {
     "data": {
      "image/png": "[encoded data removed]",
      "text/plain": [
       "<Figure size 1200x600 with 1 Axes>"
      ]
     },
     "metadata": {},
     "output_type": "display_data"
    }
   ],
   "source": [
    "plot_daylight(df_annual_sun)"
   ]
  },
  {
   "cell_type": "markdown",
   "metadata": {},
   "source": [
    "# Part 2: NASA API\n",
    "\n",
    "![NASA](https://www.nasa.gov/wp-content/uploads/2025/06/54614323748-5967d5c0c5-o.jpg)\n",
    "\n",
    "In this part, you would be using the NASA Power API (https://power.larc.nasa.gov/). "
   ]
  },
  {
   "cell_type": "markdown",
   "metadata": {},
   "source": [
    "Just like with OpenWeather, we need to obtain the API key from [here](https://api.nasa.gov/). This is much simpler than other APIs. The API key will be emailed to you. Make sure you use that api key"
   ]
  },
  {
   "cell_type": "markdown",
   "metadata": {},
   "source": [
    "## Part 2.1: Obtaining data from the NASA Power API (5 points)\n",
    "\n",
    "In this task, you need to collect 1 month of daily environmental data from the NASA POWER API for your **Favorite Place**. For example Prof. Singhal's favorite place is Tokyo. You need to find the latitudes and longitudes of your favorite place and obtain the data. \n",
    "\n",
    "Additionally, you need to provide the API with the start and end dates. For the end date, you need to use `datetime.now().strftime('%Y%m%d')` and the start date would be 30 days before this date. "
   ]
  },
  {
   "cell_type": "code",
   "execution_count": 20,
   "metadata": {},
   "outputs": [],
   "source": [
    "import requests\n",
    "import pandas as pd\n",
    "import numpy as np\n",
    "import matplotlib.pyplot as plt\n",
    "import seaborn as sns\n",
    "from datetime import datetime, timedelta\n",
    "\n",
    "def get_nasa_data(start_date, end_date, api_key='qVq3HhW6HQjk5RNq7SFMTLB2HeF51kUNyOBO73pd'):\n",
    "    \"\"\"Takes the start and end date and fetches the Power data.\n",
    "    \n",
    "    Args:\n",
    "        start_date (str): the start date of data collection\n",
    "        end_date (str): the end date of data collection\n",
    "        api_key (str): API key of the student\n",
    "\n",
    "    Returns:\n",
    "        json of the power data\n",
    "    \"\"\"\n",
    "    \n",
    "    # Fill this with your own (Make sure you change the Lat and Long) \n",
    "    \n",
    "    lat = 40.7128\n",
    "    \n",
    "    long = 74.0060\n",
    "    \n",
    "    base_url = \"https://power.larc.nasa.gov/api/temporal/daily/point\"\n",
    "    \n",
    "    params = {\n",
    "    \"start\": start_date,\n",
    "    \"end\": end_date,\n",
    "    \"latitude\": lat,\n",
    "    \"longitude\": long,\n",
    "    \"community\": \"RE\",\n",
    "    \"parameters\": \"T2M_MAX,PRECTOTCORR,ALLSKY_SFC_SW_DWN\",\n",
    "    \"format\": \"JSON\",\n",
    "    \"api_key\": api_key\n",
    "    } \n",
    "\n",
    "\n",
    "    response = requests.get(base_url, params=params)\n",
    "    data = response.json()\n",
    "    \n",
    "\n",
    "    return data['properties']['parameter']\n",
    "\n"
   ]
  },
  {
   "cell_type": "code",
   "execution_count": 21,
   "metadata": {},
   "outputs": [
    {
     "name": "stdout",
     "output_type": "stream",
     "text": [
      "{'T2M_MAX': {'20250530': 9.34, '20250531': 11.3, '20250601': 12.33, '20250602': 12.71, '20250603': 13.44, '20250604': 19.36, '20250605': 21.52, '20250606': 24.86, '20250607': 15.91, '20250608': 19.88, '20250609': 24.4, '20250610': 16.87, '20250611': 18.41, '20250612': 19.03, '20250613': 18.47, '20250614': 17.01, '20250615': 19.42, '20250616': 18.97, '20250617': 23.63, '20250618': 24.91, '20250619': 26.74, '20250620': 22.64, '20250621': 26.45, '20250622': 22.5, '20250623': 22.83, '20250624': 25.36, '20250625': 27.56, '20250626': 23.17, '20250627': 21.8, '20250628': 23.52, '20250629': 23.63, '20250630': 23.48, '20250701': 24.44, '20250702': 25.6, '20250703': 27.72, '20250704': 29.67, '20250705': 31.48, '20250706': 28.55, '20250707': 28.06, '20250708': 26.34, '20250709': 19.28, '20250710': 16.62, '20250711': 18.92, '20250712': 24.1, '20250713': 26.76, '20250714': 21.24, '20250715': 23.29, '20250716': 23.25, '20250717': 25.96, '20250718': 29.42, '20250719': 25.14, '20250720': 28.52, '20250721': 27.35, '20250722': 30.58, '20250723': 30.81, '20250724': 28.12, '20250725': 27.05, '20250726': 27.53, '20250727': 26.57, '20250728': 24.39, '20250729': 25.59, '20250730': 23.93, '20250731': 22.93, '20250801': 24.07, '20250802': 21.94, '20250803': 22.82, '20250804': 23.86, '20250805': 20.51, '20250806': 24.39, '20250807': 25.16, '20250808': 24.06, '20250809': 26.56, '20250810': 26.24, '20250811': 26.99, '20250812': 26.52, '20250813': 26.65, '20250814': 21.13, '20250815': 20.71, '20250816': 23.66, '20250817': 21.61, '20250818': 17.19, '20250819': 23.41, '20250820': 22.9, '20250821': 23.02, '20250822': 23.77, '20250823': 22.07, '20250824': 17.9, '20250825': 25.0, '20250826': 26.63, '20250827': 28.2, '20250828': 27.72, '20250829': 27.37, '20250830': 25.31, '20250831': 20.98, '20250901': 22.83, '20250902': 21.97, '20250903': 21.59, '20250904': 26.27, '20250905': 24.97, '20250906': 22.51, '20250907': 22.63, '20250908': 21.76, '20250909': 20.87, '20250910': 21.08, '20250911': 20.97, '20250912': 24.9, '20250913': 24.08, '20250914': 20.86, '20250915': 19.89, '20250916': 13.69, '20250917': 17.76, '20250918': 13.62, '20250919': 10.49, '20250920': 16.91, '20250921': 20.76, '20250922': 21.12, '20250923': 10.99, '20250924': 18.7, '20250925': 20.06, '20250926': 12.7, '20250927': 17.28}, 'PRECTOTCORR': {'20250530': 3.15, '20250531': 0.45, '20250601': 1.57, '20250602': 0.42, '20250603': 0.01, '20250604': 0.02, '20250605': 0.0, '20250606': 0.0, '20250607': 0.64, '20250608': 0.0, '20250609': 0.72, '20250610': 0.01, '20250611': 1.35, '20250612': 0.16, '20250613': 0.0, '20250614': 0.04, '20250615': 0.0, '20250616': 0.0, '20250617': 0.03, '20250618': 0.0, '20250619': 0.0, '20250620': 0.03, '20250621': 0.0, '20250622': 0.2, '20250623': 0.0, '20250624': 0.0, '20250625': 0.0, '20250626': 0.14, '20250627': 0.06, '20250628': 0.16, '20250629': 0.0, '20250630': 0.0, '20250701': 0.0, '20250702': 0.04, '20250703': 0.0, '20250704': 0.0, '20250705': 0.0, '20250706': 0.0, '20250707': 0.0, '20250708': 0.05, '20250709': 0.48, '20250710': 4.68, '20250711': 0.07, '20250712': 0.0, '20250713': 0.0, '20250714': 0.0, '20250715': 0.0, '20250716': 0.0, '20250717': 0.0, '20250718': 0.0, '20250719': 0.0, '20250720': 0.0, '20250721': 0.0, '20250722': 0.0, '20250723': 0.0, '20250724': 0.0, '20250725': 0.0, '20250726': 0.0, '20250727': 0.0, '20250728': 0.1, '20250729': 0.45, '20250730': 0.11, '20250731': 0.59, '20250801': 0.02, '20250802': 0.1, '20250803': 0.12, '20250804': 0.04, '20250805': 0.04, '20250806': 0.0, '20250807': 0.0, '20250808': 0.0, '20250809': 0.0, '20250810': 0.0, '20250811': 0.0, '20250812': 0.0, '20250813': 0.0, '20250814': 0.0, '20250815': 0.0, '20250816': 0.0, '20250817': 0.01, '20250818': 1.27, '20250819': 0.0, '20250820': 0.0, '20250821': 0.0, '20250822': 0.0, '20250823': 0.29, '20250824': 1.75, '20250825': 0.0, '20250826': 0.0, '20250827': 0.0, '20250828': 0.0, '20250829': 0.0, '20250830': 0.0, '20250831': 0.0, '20250901': 0.0, '20250902': 0.0, '20250903': 0.0, '20250904': 0.0, '20250905': 0.0, '20250906': 0.0, '20250907': 0.0, '20250908': 0.0, '20250909': 0.0, '20250910': 0.0, '20250911': 0.0, '20250912': 0.0, '20250913': 0.0, '20250914': 0.0, '20250915': 0.1, '20250916': 1.02, '20250917': 0.07, '20250918': 7.95, '20250919': 6.94, '20250920': 0.0, '20250921': 0.0, '20250922': 0.0, '20250923': 0.54, '20250924': 0.0, '20250925': 0.0, '20250926': 4.99, '20250927': 0.1}, 'ALLSKY_SFC_SW_DWN': {'20250530': 1.4551, '20250531': 1.7018, '20250601': 2.159, '20250602': 2.9695, '20250603': 2.7862, '20250604': 4.1669, '20250605': 7.8041, '20250606': 7.5331, '20250607': 4.9968, '20250608': 3.9598, '20250609': 7.9394, '20250610': 2.5865, '20250611': 4.1626, '20250612': 6.6204, '20250613': 4.051, '20250614': 2.0386, '20250615': 4.0795, '20250616': 6.4721, '20250617': 8.7355, '20250618': 8.6112, '20250619': 8.8553, '20250620': 4.2098, '20250621': 7.9099, '20250622': 4.7503, '20250623': 8.155, '20250624': 8.8435, '20250625': 7.8437, '20250626': 5.9513, '20250627': 7.8242, '20250628': 8.4684, '20250629': 8.1408, '20250630': 7.2036, '20250701': 6.1466, '20250702': 6.5213, '20250703': 8.5202, '20250704': 8.5061, '20250705': 7.9428, '20250706': 8.155, '20250707': 6.8945, '20250708': 3.379, '20250709': 3.641, '20250710': 3.1114, '20250711': 7.5031, '20250712': 8.3818, '20250713': 7.9214, '20250714': 2.2313, '20250715': 4.2545, '20250716': 2.6981, '20250717': 7.195, '20250718': 7.9082, '20250719': 4.3042, '20250720': 3.7114, '20250721': 5.3335, '20250722': 8.0321, '20250723': 5.478, '20250724': 7.0438, '20250725': 7.1962, '20250726': 5.6722, '20250727': 4.837, '20250728': 6.0922, '20250729': 7.6464, '20250730': 7.2528, '20250731': 6.4572, '20250801': 5.6486, '20250802': 7.4566, '20250803': 6.8378, '20250804': 6.5172, '20250805': 5.4557, '20250806': 7.457, '20250807': 5.9491, '20250808': 6.0192, '20250809': 7.6894, '20250810': 7.1357, '20250811': 7.4232, '20250812': 6.5112, '20250813': 4.2718, '20250814': 4.0013, '20250815': 6.8138, '20250816': 6.9005, '20250817': 6.2155, '20250818': 3.402, '20250819': 7.2257, '20250820': 5.7773, '20250821': 6.343, '20250822': 7.1333, '20250823': 3.2988, '20250824': 5.6659, '20250825': 7.1342, '20250826': 7.087, '20250827': 6.9895, '20250828': 6.5359, '20250829': 6.9077, '20250830': 6.8398, '20250831': 6.8743, '20250901': 6.8784, '20250902': 6.7613, '20250903': 6.822, '20250904': 6.755, '20250905': 6.3982, '20250906': 6.0557, '20250907': 6.0341, '20250908': 6.2081, '20250909': 5.7041, '20250910': 6.0218, '20250911': 6.3619, '20250912': 6.3396, '20250913': 6.1776, '20250914': 5.9851, '20250915': 5.7384, '20250916': 2.9594, '20250917': 5.3489, '20250918': 3.0612, '20250919': 3.5285, '20250920': 5.6736, '20250921': 5.8594, '20250922': 5.6026, '20250923': 3.1853, '20250924': 5.6189, '20250925': 5.4552, '20250926': 2.1919, '20250927': 5.4209}}\n"
     ]
    }
   ],
   "source": [
    "# Here compute the start and end date:\n",
    "\n",
    "end_date = (datetime.now() - timedelta(days=6)).strftime('%Y%m%d')\n",
    "start_date = (datetime.now() - timedelta(days=6 + (30 * 4))).strftime('%Y%m%d')\n",
    "\n",
    "raw_data = get_nasa_data(start_date, end_date)\n",
    "\n",
    "# uncomment to see if the code works\n",
    "print(raw_data)"
   ]
  },
  {
   "cell_type": "markdown",
   "metadata": {},
   "source": [
    "## Part 2.2: Build a dictionary from the output (5 points)\n",
    "\n",
    "In this part, you need to create a dictionary where each key is a date, and the value is another dictionary with variables like temperature, solar radiation, and preciptation. These are the three things you already passed as parameters in the last part. \n",
    "\n",
    "Save the daily values of `T2M_MAX` as the key name: `max_temp_C`, `PRECTOTCORR` as `precip_mm`, and `ALLSKY_SFC_SW_DWN` as `solar_rad_kWh`. \n"
   ]
  },
  {
   "cell_type": "code",
   "execution_count": 22,
   "metadata": {},
   "outputs": [],
   "source": [
    "dict_data = {\n",
    "    'T2M_MAX': raw_data['T2M_MAX'],\n",
    "    'PRECTOTCORR': raw_data['PRECTOTCORR'],\n",
    "    'ALLSKY_SFC_SW_DWN': raw_data['ALLSKY_SFC_SW_DWN']\n",
    "}"
   ]
  },
  {
   "cell_type": "markdown",
   "metadata": {},
   "source": [
    "## Part 2.3: Convert the dictionary to a pandas dataframe (5 points)\n",
    "\n",
    "Now convert the dictionary that you created in Part 2.2 into a pandas dataframe and print the first 20 rows.\n",
    "\n",
    "Make sure that each row name is the date and the dates are in the following format '%Y-%m-%d'"
   ]
  },
  {
   "cell_type": "code",
   "execution_count": 23,
   "metadata": {},
   "outputs": [
    {
     "data": {
      "text/html": [
       "<div>\n",
       "<style scoped>\n",
       "    .dataframe tbody tr th:only-of-type {\n",
       "        vertical-align: middle;\n",
       "    }\n",
       "\n",
       "    .dataframe tbody tr th {\n",
       "        vertical-align: top;\n",
       "    }\n",
       "\n",
       "    .dataframe thead th {\n",
       "        text-align: right;\n",
       "    }\n",
       "</style>\n",
       "<table border=\"1\" class=\"dataframe\">\n",
       "  <thead>\n",
       "    <tr style=\"text-align: right;\">\n",
       "      <th></th>\n",
       "      <th>T2M_MAX</th>\n",
       "      <th>PRECTOTCORR</th>\n",
       "      <th>ALLSKY_SFC_SW_DWN</th>\n",
       "    </tr>\n",
       "  </thead>\n",
       "  <tbody>\n",
       "    <tr>\n",
       "      <th>2025-05-30</th>\n",
       "      <td>9.34</td>\n",
       "      <td>3.15</td>\n",
       "      <td>1.4551</td>\n",
       "    </tr>\n",
       "    <tr>\n",
       "      <th>2025-05-31</th>\n",
       "      <td>11.30</td>\n",
       "      <td>0.45</td>\n",
       "      <td>1.7018</td>\n",
       "    </tr>\n",
       "    <tr>\n",
       "      <th>2025-06-01</th>\n",
       "      <td>12.33</td>\n",
       "      <td>1.57</td>\n",
       "      <td>2.1590</td>\n",
       "    </tr>\n",
       "    <tr>\n",
       "      <th>2025-06-02</th>\n",
       "      <td>12.71</td>\n",
       "      <td>0.42</td>\n",
       "      <td>2.9695</td>\n",
       "    </tr>\n",
       "    <tr>\n",
       "      <th>2025-06-03</th>\n",
       "      <td>13.44</td>\n",
       "      <td>0.01</td>\n",
       "      <td>2.7862</td>\n",
       "    </tr>\n",
       "  </tbody>\n",
       "</table>\n",
       "</div>"
      ],
      "text/plain": [
       "            T2M_MAX  PRECTOTCORR  ALLSKY_SFC_SW_DWN\n",
       "2025-05-30     9.34         3.15             1.4551\n",
       "2025-05-31    11.30         0.45             1.7018\n",
       "2025-06-01    12.33         1.57             2.1590\n",
       "2025-06-02    12.71         0.42             2.9695\n",
       "2025-06-03    13.44         0.01             2.7862"
      ]
     },
     "execution_count": 23,
     "metadata": {},
     "output_type": "execute_result"
    }
   ],
   "source": [
    "df_nasa = pd.DataFrame(dict_data)\n",
    "df_nasa.index = pd.to_datetime(df_nasa.index)\n",
    "df_nasa.head()"
   ]
  },
  {
   "cell_type": "markdown",
   "metadata": {},
   "source": [
    "## Part 2.4: Cleaning/manipulating (5 points)\n",
    "\n",
    "Convert the values of temperature from Celsius to Fahrenheit. Additionally, normalize the values that are in `solar_rad_kWh` and save the values of the normalized values as a new column and chnage the index coloumn as date.\n",
    "\n",
    "Print the final dataframe"
   ]
  },
  {
   "cell_type": "markdown",
   "metadata": {},
   "source": [
    "hello?"
   ]
  },
  {
   "cell_type": "code",
   "execution_count": 24,
   "metadata": {},
   "outputs": [
    {
     "data": {
      "text/html": [
       "<div>\n",
       "<style scoped>\n",
       "    .dataframe tbody tr th:only-of-type {\n",
       "        vertical-align: middle;\n",
       "    }\n",
       "\n",
       "    .dataframe tbody tr th {\n",
       "        vertical-align: top;\n",
       "    }\n",
       "\n",
       "    .dataframe thead th {\n",
       "        text-align: right;\n",
       "    }\n",
       "</style>\n",
       "<table border=\"1\" class=\"dataframe\">\n",
       "  <thead>\n",
       "    <tr style=\"text-align: right;\">\n",
       "      <th></th>\n",
       "      <th>T2M_MAX</th>\n",
       "      <th>PRECTOTCORR</th>\n",
       "      <th>ALLSKY_SFC_SW_DWN</th>\n",
       "      <th>T2M_MAX_F</th>\n",
       "      <th>solar_rad_kWh_norm</th>\n",
       "    </tr>\n",
       "    <tr>\n",
       "      <th>date</th>\n",
       "      <th></th>\n",
       "      <th></th>\n",
       "      <th></th>\n",
       "      <th></th>\n",
       "      <th></th>\n",
       "    </tr>\n",
       "  </thead>\n",
       "  <tbody>\n",
       "    <tr>\n",
       "      <th>2025-05-30</th>\n",
       "      <td>9.34</td>\n",
       "      <td>3.15</td>\n",
       "      <td>1.4551</td>\n",
       "      <td>48.812</td>\n",
       "      <td>0.000000</td>\n",
       "    </tr>\n",
       "    <tr>\n",
       "      <th>2025-05-31</th>\n",
       "      <td>11.30</td>\n",
       "      <td>0.45</td>\n",
       "      <td>1.7018</td>\n",
       "      <td>52.340</td>\n",
       "      <td>0.033337</td>\n",
       "    </tr>\n",
       "    <tr>\n",
       "      <th>2025-06-01</th>\n",
       "      <td>12.33</td>\n",
       "      <td>1.57</td>\n",
       "      <td>2.1590</td>\n",
       "      <td>54.194</td>\n",
       "      <td>0.095119</td>\n",
       "    </tr>\n",
       "    <tr>\n",
       "      <th>2025-06-02</th>\n",
       "      <td>12.71</td>\n",
       "      <td>0.42</td>\n",
       "      <td>2.9695</td>\n",
       "      <td>54.878</td>\n",
       "      <td>0.204643</td>\n",
       "    </tr>\n",
       "    <tr>\n",
       "      <th>2025-06-03</th>\n",
       "      <td>13.44</td>\n",
       "      <td>0.01</td>\n",
       "      <td>2.7862</td>\n",
       "      <td>56.192</td>\n",
       "      <td>0.179874</td>\n",
       "    </tr>\n",
       "    <tr>\n",
       "      <th>...</th>\n",
       "      <td>...</td>\n",
       "      <td>...</td>\n",
       "      <td>...</td>\n",
       "      <td>...</td>\n",
       "      <td>...</td>\n",
       "    </tr>\n",
       "    <tr>\n",
       "      <th>2025-09-23</th>\n",
       "      <td>10.99</td>\n",
       "      <td>0.54</td>\n",
       "      <td>3.1853</td>\n",
       "      <td>51.782</td>\n",
       "      <td>0.233804</td>\n",
       "    </tr>\n",
       "    <tr>\n",
       "      <th>2025-09-24</th>\n",
       "      <td>18.70</td>\n",
       "      <td>0.00</td>\n",
       "      <td>5.6189</td>\n",
       "      <td>65.660</td>\n",
       "      <td>0.562660</td>\n",
       "    </tr>\n",
       "    <tr>\n",
       "      <th>2025-09-25</th>\n",
       "      <td>20.06</td>\n",
       "      <td>0.00</td>\n",
       "      <td>5.4552</td>\n",
       "      <td>68.108</td>\n",
       "      <td>0.540539</td>\n",
       "    </tr>\n",
       "    <tr>\n",
       "      <th>2025-09-26</th>\n",
       "      <td>12.70</td>\n",
       "      <td>4.99</td>\n",
       "      <td>2.1919</td>\n",
       "      <td>54.860</td>\n",
       "      <td>0.099565</td>\n",
       "    </tr>\n",
       "    <tr>\n",
       "      <th>2025-09-27</th>\n",
       "      <td>17.28</td>\n",
       "      <td>0.10</td>\n",
       "      <td>5.4209</td>\n",
       "      <td>63.104</td>\n",
       "      <td>0.535904</td>\n",
       "    </tr>\n",
       "  </tbody>\n",
       "</table>\n",
       "<p>121 rows × 5 columns</p>\n",
       "</div>"
      ],
      "text/plain": [
       "            T2M_MAX  PRECTOTCORR  ALLSKY_SFC_SW_DWN  T2M_MAX_F  \\\n",
       "date                                                             \n",
       "2025-05-30     9.34         3.15             1.4551     48.812   \n",
       "2025-05-31    11.30         0.45             1.7018     52.340   \n",
       "2025-06-01    12.33         1.57             2.1590     54.194   \n",
       "2025-06-02    12.71         0.42             2.9695     54.878   \n",
       "2025-06-03    13.44         0.01             2.7862     56.192   \n",
       "...             ...          ...                ...        ...   \n",
       "2025-09-23    10.99         0.54             3.1853     51.782   \n",
       "2025-09-24    18.70         0.00             5.6189     65.660   \n",
       "2025-09-25    20.06         0.00             5.4552     68.108   \n",
       "2025-09-26    12.70         4.99             2.1919     54.860   \n",
       "2025-09-27    17.28         0.10             5.4209     63.104   \n",
       "\n",
       "            solar_rad_kWh_norm  \n",
       "date                            \n",
       "2025-05-30            0.000000  \n",
       "2025-05-31            0.033337  \n",
       "2025-06-01            0.095119  \n",
       "2025-06-02            0.204643  \n",
       "2025-06-03            0.179874  \n",
       "...                        ...  \n",
       "2025-09-23            0.233804  \n",
       "2025-09-24            0.562660  \n",
       "2025-09-25            0.540539  \n",
       "2025-09-26            0.099565  \n",
       "2025-09-27            0.535904  \n",
       "\n",
       "[121 rows x 5 columns]"
      ]
     },
     "execution_count": 24,
     "metadata": {},
     "output_type": "execute_result"
    }
   ],
   "source": [
    "df_nasa['T2M_MAX_F'] = df_nasa['T2M_MAX'] * 9/5 + 32\n",
    "df_nasa['solar_rad_kWh_norm'] = (df_nasa['ALLSKY_SFC_SW_DWN'] - df_nasa['ALLSKY_SFC_SW_DWN'].min()) / (df_nasa['ALLSKY_SFC_SW_DWN'].max() - df_nasa['ALLSKY_SFC_SW_DWN'].min())\n",
    "df_nasa.index.name = 'date'\n",
    "df_nasa"
   ]
  },
  {
   "cell_type": "markdown",
   "metadata": {},
   "source": [
    "## Part 2.5: Plotting (5 points)\n",
    "\n",
    "Using plotly, make the following plots as line plots:\n",
    "- of date (x-axis) versus max_temp_F (y-axis) that has the solar_rad_kWh as hover data.\n",
    "- of date (x-axis) versus precip_mm (y-axis) that has the solar_rad_kWh as hover data.\n",
    "- of date (x-axis) versus solar_rad_norm (y-axis) that has the solar_rad_kWh as hover data."
   ]
  },
  {
   "cell_type": "code",
   "execution_count": 25,
   "metadata": {},
   "outputs": [
    {
     "data": {
      "application/vnd.plotly.v1+json": {
       "config": {
        "plotlyServerURL": "https://plot.ly"
       },
       "data": [
        {
         "customdata": {
          "bdata": "AAAAAAAAAAABB/P6iRGhP161kdy4Wbg/qzEN5b4xyj+z1VFsGAbHPzizCdboc9c/YUyZG1N06z/G8JATVEjqPxAsIKZNod4/U0cjLWSp1T/ljvvxGQrsPyUEIXzTkcM/9C3Xq2Nq1z87NKvf+FXmP4p7+b1Oc9Y/TGd3ZnYvtD/bazwLaLLWPys0LPPNseU/GXgiumF77z9GwokxyPHuPwAAAAAAAPA/n/xgzuPS1z9QfjDncenrP8KhBcKNf9w/dlTQGcX47D8sxq777/LvP99G1WYpoOs/NOkmyEdx4z+NKqpFk4rrP4+I7+uzU+4/NhPo8Qzp7D82QAeoktvoP1HlSBh6SeQ/W0zEzETo5T91k8CWC43uP9dHqcVvfe4/vy68ed0N7D92VNAZxfjsP8JOAWtmhec/NT6Z44Cj0D+9Pb3okefSP2eNE8YTpsw/+hOxVh4n6j8EkhA91vPtPzfXDucs9us/g7K/XQLauj8o0Rr82jXYP/lo3Ff9f8U/8rrUfQ3S6D9iLlAjkOfrP/WZdBPko9g/mEYEZm+D0z/c3F6pYMXgP6MNpVC4cOw/gGbZslZl4T8/56m7rCroP6g+oI9h0+g/jNQASFE84j8femXNgT/dP7bnPpxBDeQ/5xlgTsDF6j9mWJ+BCRLpP2o7jWtPoeU/4WBePzEi4j8k5CKlpPPpP14/MSKiRuc/AvVM5brj5T8xbNMSp0zhP7a6ZgAW9Ok/EM0xUthu4z+RcGIMcrzjP0C0XCFa9eo/2bjLY2iQ6D99Z4Jgq87pP3JiU4wW3eU/g9GGUihc2D+7sp+mRQXWPyH1Sr4QLOc/UeH6wwqM5z8bBa7Av5XkP9WhEuNs1tA/Pk9rmgn06D/7TuGzqbDiP39vZSPkIuU/bbE0QMCN6D/DRqzc4ePPPw5hlOpXNeI/NVSNTb+O6D/gbEg8f1roP0jfcJaQ7uc/L2TwT2745T+X978uA5TnPzlwhOrYSOc/8Hof6glv5z9K0pbRk3PnP70yw7Py8eY/1aM5jSQ15z9Av1ZW+ermPz8a91X/X+U/I6xQ1Nnk4z9TaQGU8MzjP40DR6iOjeQ/juxidqFf4j9HY5vdUr/jP/bJqjvQN+U/pc+kmyAf5T+KWlI5y2vkP2w8C2iyluM//AtcyJmF4j8JiknjBQXKP9WhEuNs1uA/8MoMz8rHyz/CRS7gfu7RP4tDbgfePeI/mhcFIIwL4z9B/eQ/Re/hPxf15zpO7c0/AmXxhlAB4j/5n75gGUzhP9k473AVfbk/i4DFDiEm4T8=",
          "dtype": "f8",
          "shape": "121, 1"
         },
         "hovertemplate": "Date=%{x}<br>Max Temperature (°F)=%{y}<br>solar_rad_kWh_norm=%{customdata[0]}<extra></extra>",
         "legendgroup": "",
         "line": {
          "color": "#636efa",
          "dash": "solid"
         },
         "marker": {
          "symbol": "circle"
         },
         "mode": "lines",
         "name": "",
         "orientation": "v",
         "showlegend": false,
         "type": "scatter",
         "x": [
          "2025-05-30T00:00:00.000000000",
          "2025-05-31T00:00:00.000000000",
          "2025-06-01T00:00:00.000000000",
          "2025-06-02T00:00:00.000000000",
          "2025-06-03T00:00:00.000000000",
          "2025-06-04T00:00:00.000000000",
          "2025-06-05T00:00:00.000000000",
          "2025-06-06T00:00:00.000000000",
          "2025-06-07T00:00:00.000000000",
          "2025-06-08T00:00:00.000000000",
          "2025-06-09T00:00:00.000000000",
          "2025-06-10T00:00:00.000000000",
          "2025-06-11T00:00:00.000000000",
          "2025-06-12T00:00:00.000000000",
          "2025-06-13T00:00:00.000000000",
          "2025-06-14T00:00:00.000000000",
          "2025-06-15T00:00:00.000000000",
          "2025-06-16T00:00:00.000000000",
          "2025-06-17T00:00:00.000000000",
          "2025-06-18T00:00:00.000000000",
          "2025-06-19T00:00:00.000000000",
          "2025-06-20T00:00:00.000000000",
          "2025-06-21T00:00:00.000000000",
          "2025-06-22T00:00:00.000000000",
          "2025-06-23T00:00:00.000000000",
          "2025-06-24T00:00:00.000000000",
          "2025-06-25T00:00:00.000000000",
          "2025-06-26T00:00:00.000000000",
          "2025-06-27T00:00:00.000000000",
          "2025-06-28T00:00:00.000000000",
          "2025-06-29T00:00:00.000000000",
          "2025-06-30T00:00:00.000000000",
          "2025-07-01T00:00:00.000000000",
          "2025-07-02T00:00:00.000000000",
          "2025-07-03T00:00:00.000000000",
          "2025-07-04T00:00:00.000000000",
          "2025-07-05T00:00:00.000000000",
          "2025-07-06T00:00:00.000000000",
          "2025-07-07T00:00:00.000000000",
          "2025-07-08T00:00:00.000000000",
          "2025-07-09T00:00:00.000000000",
          "2025-07-10T00:00:00.000000000",
          "2025-07-11T00:00:00.000000000",
          "2025-07-12T00:00:00.000000000",
          "2025-07-13T00:00:00.000000000",
          "2025-07-14T00:00:00.000000000",
          "2025-07-15T00:00:00.000000000",
          "2025-07-16T00:00:00.000000000",
          "2025-07-17T00:00:00.000000000",
          "2025-07-18T00:00:00.000000000",
          "2025-07-19T00:00:00.000000000",
          "2025-07-20T00:00:00.000000000",
          "2025-07-21T00:00:00.000000000",
          "2025-07-22T00:00:00.000000000",
          "2025-07-23T00:00:00.000000000",
          "2025-07-24T00:00:00.000000000",
          "2025-07-25T00:00:00.000000000",
          "2025-07-26T00:00:00.000000000",
          "2025-07-27T00:00:00.000000000",
          "2025-07-28T00:00:00.000000000",
          "2025-07-29T00:00:00.000000000",
          "2025-07-30T00:00:00.000000000",
          "2025-07-31T00:00:00.000000000",
          "2025-08-01T00:00:00.000000000",
          "2025-08-02T00:00:00.000000000",
          "2025-08-03T00:00:00.000000000",
          "2025-08-04T00:00:00.000000000",
          "2025-08-05T00:00:00.000000000",
          "2025-08-06T00:00:00.000000000",
          "2025-08-07T00:00:00.000000000",
          "2025-08-08T00:00:00.000000000",
          "2025-08-09T00:00:00.000000000",
          "2025-08-10T00:00:00.000000000",
          "2025-08-11T00:00:00.000000000",
          "2025-08-12T00:00:00.000000000",
          "2025-08-13T00:00:00.000000000",
          "2025-08-14T00:00:00.000000000",
          "2025-08-15T00:00:00.000000000",
          "2025-08-16T00:00:00.000000000",
          "2025-08-17T00:00:00.000000000",
          "2025-08-18T00:00:00.000000000",
          "2025-08-19T00:00:00.000000000",
          "2025-08-20T00:00:00.000000000",
          "2025-08-21T00:00:00.000000000",
          "2025-08-22T00:00:00.000000000",
          "2025-08-23T00:00:00.000000000",
          "2025-08-24T00:00:00.000000000",
          "2025-08-25T00:00:00.000000000",
          "2025-08-26T00:00:00.000000000",
          "2025-08-27T00:00:00.000000000",
          "2025-08-28T00:00:00.000000000",
          "2025-08-29T00:00:00.000000000",
          "2025-08-30T00:00:00.000000000",
          "2025-08-31T00:00:00.000000000",
          "2025-09-01T00:00:00.000000000",
          "2025-09-02T00:00:00.000000000",
          "2025-09-03T00:00:00.000000000",
          "2025-09-04T00:00:00.000000000",
          "2025-09-05T00:00:00.000000000",
          "2025-09-06T00:00:00.000000000",
          "2025-09-07T00:00:00.000000000",
          "2025-09-08T00:00:00.000000000",
          "2025-09-09T00:00:00.000000000",
          "2025-09-10T00:00:00.000000000",
          "2025-09-11T00:00:00.000000000",
          "2025-09-12T00:00:00.000000000",
          "2025-09-13T00:00:00.000000000",
          "2025-09-14T00:00:00.000000000",
          "2025-09-15T00:00:00.000000000",
          "2025-09-16T00:00:00.000000000",
          "2025-09-17T00:00:00.000000000",
          "2025-09-18T00:00:00.000000000",
          "2025-09-19T00:00:00.000000000",
          "2025-09-20T00:00:00.000000000",
          "2025-09-21T00:00:00.000000000",
          "2025-09-22T00:00:00.000000000",
          "2025-09-23T00:00:00.000000000",
          "2025-09-24T00:00:00.000000000",
          "2025-09-25T00:00:00.000000000",
          "2025-09-26T00:00:00.000000000",
          "2025-09-27T00:00:00.000000000"
         ],
         "xaxis": "x",
         "y": {
          "bdata": "Di2yne9nSEDsUbgehStKQEa28/3UGEtAqvHSTWJwS0B/arx0kxhMQIPAyqFFtlBAyXa+nxqvUUAdWmQ73y9TQIts5/upUU5AGARWDi3yUEB7FK5H4fpSQAIrhxbZLk9ARrbz/dRIUEDHSzeJQZBQQDm0yHa+T1BAyXa+nxpPT0B3vp8aL71QQNNNYhBYiVBAGARWDi2iUkASg8DKoTVTQJzEILByCFRA46WbxCAwUkDXo3A9CudTQAAAAAAAIFJAvHSTGARGUkC28/3UeGlTQPT91HjpZlRAd76fGi9tUkCQwvUoXM9RQC/dJAaBlVJAGARWDi2iUkA3iUFg5ZBSQHNoke18/1JAhetRuB6FU0DTTWIQWHlUQESLbOf7WVVA0SLb+X4qVkApXI/C9dhUQI2XbhKDoFRA7nw/NV7aU0CUGARWDq1QQGmR7Xw/9U5A3iQGgZWDUEC4HoXrUdhSQJhuEoPAClRAAiuHFtmOUUBeukkMAntSQGZmZmZmdlJAPN9PjZeuU0B3vp8aLz1VQOOlm8QgUFNAL90kBoHVVEAfhetRuE5UQIlBYOXQwlVAWmQ730/dVUCBlUOLbKdUQFyPwvUoLFRA+n5qvHRjVEC+nxov3fRTQH0/NV66+VJAhxbZzveDU0Db+X5qvMRSQKjGSzeJUVJAvp8aL93UUkBzaJHtfN9RQL6fGi/dRFJA6iYxCKy8UkCYbhKDwDpRQH0/NV66+VJA30+Nl25SU0DAyqFFttNSQMDKoUW281NAAiuHFtnOU0Boke18PyVUQMl2vp8a71NArkfhehT+U0AYBFYOLYJRQG8Sg8DKUVFAEoPAyqGlUkC28/3UeLlRQH9qvHSTeE9ARrbz/dSIUkCuR+F6FE5SQJZDi2znW1JA/Knx0k2yUkBYObTIdu5RQK5H4XoUDlBAAAAAAABAU0Cyne+nxvtTQHA9CtejsFRA001iEFh5VEAbL90kBlFUQMDKoUW2Y1NAN4lBYOVwUUC8dJMYBEZSQGzn+6nx4lFAukkMAiu3UUD8qfHSTdJTQAaBlUOLPFNA/tR46SYhUkDl0CLb+S5SQJhuEoPAylFATmIQWDlkUUAi2/l+anxRQDm0yHa+b1FAFK5H4Xo0U0C8dJMYBNZSQFCNl24SY1FAFtnO91PzUEAYBFYOLVJMQJZDi2zn+09ANV66SQxCTEA3iUFg5XBJQPLSTWIQOE9AZDvfT41XUUAbL90kBoFRQGq8dJMY5ElACtejcD1qUED0/dR46QZRQK5H4XoUbktAWmQ730+NT0A=",
          "dtype": "f8"
         },
         "yaxis": "y"
        }
       ],
       "layout": {
        "legend": {
         "tracegroupgap": 0
        },
        "template": {
         "data": {
          "bar": [
           {
            "error_x": {
             "color": "#2a3f5f"
            },
            "error_y": {
             "color": "#2a3f5f"
            },
            "marker": {
             "line": {
              "color": "#E5ECF6",
              "width": 0.5
             },
             "pattern": {
              "fillmode": "overlay",
              "size": 10,
              "solidity": 0.2
             }
            },
            "type": "bar"
           }
          ],
          "barpolar": [
           {
            "marker": {
             "line": {
              "color": "#E5ECF6",
              "width": 0.5
             },
             "pattern": {
              "fillmode": "overlay",
              "size": 10,
              "solidity": 0.2
             }
            },
            "type": "barpolar"
           }
          ],
          "carpet": [
           {
            "aaxis": {
             "endlinecolor": "#2a3f5f",
             "gridcolor": "white",
             "linecolor": "white",
             "minorgridcolor": "white",
             "startlinecolor": "#2a3f5f"
            },
            "baxis": {
             "endlinecolor": "#2a3f5f",
             "gridcolor": "white",
             "linecolor": "white",
             "minorgridcolor": "white",
             "startlinecolor": "#2a3f5f"
            },
            "type": "carpet"
           }
          ],
          "choropleth": [
           {
            "colorbar": {
             "outlinewidth": 0,
             "ticks": ""
            },
            "type": "choropleth"
           }
          ],
          "contour": [
           {
            "colorbar": {
             "outlinewidth": 0,
             "ticks": ""
            },
            "colorscale": [
             [
              0,
              "#0d0887"
             ],
             [
              0.1111111111111111,
              "#46039f"
             ],
             [
              0.2222222222222222,
              "#7201a8"
             ],
             [
              0.3333333333333333,
              "#9c179e"
             ],
             [
              0.4444444444444444,
              "#bd3786"
             ],
             [
              0.5555555555555556,
              "#d8576b"
             ],
             [
              0.6666666666666666,
              "#ed7953"
             ],
             [
              0.7777777777777778,
              "#fb9f3a"
             ],
             [
              0.8888888888888888,
              "#fdca26"
             ],
             [
              1,
              "#f0f921"
             ]
            ],
            "type": "contour"
           }
          ],
          "contourcarpet": [
           {
            "colorbar": {
             "outlinewidth": 0,
             "ticks": ""
            },
            "type": "contourcarpet"
           }
          ],
          "heatmap": [
           {
            "colorbar": {
             "outlinewidth": 0,
             "ticks": ""
            },
            "colorscale": [
             [
              0,
              "#0d0887"
             ],
             [
              0.1111111111111111,
              "#46039f"
             ],
             [
              0.2222222222222222,
              "#7201a8"
             ],
             [
              0.3333333333333333,
              "#9c179e"
             ],
             [
              0.4444444444444444,
              "#bd3786"
             ],
             [
              0.5555555555555556,
              "#d8576b"
             ],
             [
              0.6666666666666666,
              "#ed7953"
             ],
             [
              0.7777777777777778,
              "#fb9f3a"
             ],
             [
              0.8888888888888888,
              "#fdca26"
             ],
             [
              1,
              "#f0f921"
             ]
            ],
            "type": "heatmap"
           }
          ],
          "histogram": [
           {
            "marker": {
             "pattern": {
              "fillmode": "overlay",
              "size": 10,
              "solidity": 0.2
             }
            },
            "type": "histogram"
           }
          ],
          "histogram2d": [
           {
            "colorbar": {
             "outlinewidth": 0,
             "ticks": ""
            },
            "colorscale": [
             [
              0,
              "#0d0887"
             ],
             [
              0.1111111111111111,
              "#46039f"
             ],
             [
              0.2222222222222222,
              "#7201a8"
             ],
             [
              0.3333333333333333,
              "#9c179e"
             ],
             [
              0.4444444444444444,
              "#bd3786"
             ],
             [
              0.5555555555555556,
              "#d8576b"
             ],
             [
              0.6666666666666666,
              "#ed7953"
             ],
             [
              0.7777777777777778,
              "#fb9f3a"
             ],
             [
              0.8888888888888888,
              "#fdca26"
             ],
             [
              1,
              "#f0f921"
             ]
            ],
            "type": "histogram2d"
           }
          ],
          "histogram2dcontour": [
           {
            "colorbar": {
             "outlinewidth": 0,
             "ticks": ""
            },
            "colorscale": [
             [
              0,
              "#0d0887"
             ],
             [
              0.1111111111111111,
              "#46039f"
             ],
             [
              0.2222222222222222,
              "#7201a8"
             ],
             [
              0.3333333333333333,
              "#9c179e"
             ],
             [
              0.4444444444444444,
              "#bd3786"
             ],
             [
              0.5555555555555556,
              "#d8576b"
             ],
             [
              0.6666666666666666,
              "#ed7953"
             ],
             [
              0.7777777777777778,
              "#fb9f3a"
             ],
             [
              0.8888888888888888,
              "#fdca26"
             ],
             [
              1,
              "#f0f921"
             ]
            ],
            "type": "histogram2dcontour"
           }
          ],
          "mesh3d": [
           {
            "colorbar": {
             "outlinewidth": 0,
             "ticks": ""
            },
            "type": "mesh3d"
           }
          ],
          "parcoords": [
           {
            "line": {
             "colorbar": {
              "outlinewidth": 0,
              "ticks": ""
             }
            },
            "type": "parcoords"
           }
          ],
          "pie": [
           {
            "automargin": true,
            "type": "pie"
           }
          ],
          "scatter": [
           {
            "fillpattern": {
             "fillmode": "overlay",
             "size": 10,
             "solidity": 0.2
            },
            "type": "scatter"
           }
          ],
          "scatter3d": [
           {
            "line": {
             "colorbar": {
              "outlinewidth": 0,
              "ticks": ""
             }
            },
            "marker": {
             "colorbar": {
              "outlinewidth": 0,
              "ticks": ""
             }
            },
            "type": "scatter3d"
           }
          ],
          "scattercarpet": [
           {
            "marker": {
             "colorbar": {
              "outlinewidth": 0,
              "ticks": ""
             }
            },
            "type": "scattercarpet"
           }
          ],
          "scattergeo": [
           {
            "marker": {
             "colorbar": {
              "outlinewidth": 0,
              "ticks": ""
             }
            },
            "type": "scattergeo"
           }
          ],
          "scattergl": [
           {
            "marker": {
             "colorbar": {
              "outlinewidth": 0,
              "ticks": ""
             }
            },
            "type": "scattergl"
           }
          ],
          "scattermap": [
           {
            "marker": {
             "colorbar": {
              "outlinewidth": 0,
              "ticks": ""
             }
            },
            "type": "scattermap"
           }
          ],
          "scattermapbox": [
           {
            "marker": {
             "colorbar": {
              "outlinewidth": 0,
              "ticks": ""
             }
            },
            "type": "scattermapbox"
           }
          ],
          "scatterpolar": [
           {
            "marker": {
             "colorbar": {
              "outlinewidth": 0,
              "ticks": ""
             }
            },
            "type": "scatterpolar"
           }
          ],
          "scatterpolargl": [
           {
            "marker": {
             "colorbar": {
              "outlinewidth": 0,
              "ticks": ""
             }
            },
            "type": "scatterpolargl"
           }
          ],
          "scatterternary": [
           {
            "marker": {
             "colorbar": {
              "outlinewidth": 0,
              "ticks": ""
             }
            },
            "type": "scatterternary"
           }
          ],
          "surface": [
           {
            "colorbar": {
             "outlinewidth": 0,
             "ticks": ""
            },
            "colorscale": [
             [
              0,
              "#0d0887"
             ],
             [
              0.1111111111111111,
              "#46039f"
             ],
             [
              0.2222222222222222,
              "#7201a8"
             ],
             [
              0.3333333333333333,
              "#9c179e"
             ],
             [
              0.4444444444444444,
              "#bd3786"
             ],
             [
              0.5555555555555556,
              "#d8576b"
             ],
             [
              0.6666666666666666,
              "#ed7953"
             ],
             [
              0.7777777777777778,
              "#fb9f3a"
             ],
             [
              0.8888888888888888,
              "#fdca26"
             ],
             [
              1,
              "#f0f921"
             ]
            ],
            "type": "surface"
           }
          ],
          "table": [
           {
            "cells": {
             "fill": {
              "color": "#EBF0F8"
             },
             "line": {
              "color": "white"
             }
            },
            "header": {
             "fill": {
              "color": "#C8D4E3"
             },
             "line": {
              "color": "white"
             }
            },
            "type": "table"
           }
          ]
         },
         "layout": {
          "annotationdefaults": {
           "arrowcolor": "#2a3f5f",
           "arrowhead": 0,
           "arrowwidth": 1
          },
          "autotypenumbers": "strict",
          "coloraxis": {
           "colorbar": {
            "outlinewidth": 0,
            "ticks": ""
           }
          },
          "colorscale": {
           "diverging": [
            [
             0,
             "#8e0152"
            ],
            [
             0.1,
             "#c51b7d"
            ],
            [
             0.2,
             "#de77ae"
            ],
            [
             0.3,
             "#f1b6da"
            ],
            [
             0.4,
             "#fde0ef"
            ],
            [
             0.5,
             "#f7f7f7"
            ],
            [
             0.6,
             "#e6f5d0"
            ],
            [
             0.7,
             "#b8e186"
            ],
            [
             0.8,
             "#7fbc41"
            ],
            [
             0.9,
             "#4d9221"
            ],
            [
             1,
             "#276419"
            ]
           ],
           "sequential": [
            [
             0,
             "#0d0887"
            ],
            [
             0.1111111111111111,
             "#46039f"
            ],
            [
             0.2222222222222222,
             "#7201a8"
            ],
            [
             0.3333333333333333,
             "#9c179e"
            ],
            [
             0.4444444444444444,
             "#bd3786"
            ],
            [
             0.5555555555555556,
             "#d8576b"
            ],
            [
             0.6666666666666666,
             "#ed7953"
            ],
            [
             0.7777777777777778,
             "#fb9f3a"
            ],
            [
             0.8888888888888888,
             "#fdca26"
            ],
            [
             1,
             "#f0f921"
            ]
           ],
           "sequentialminus": [
            [
             0,
             "#0d0887"
            ],
            [
             0.1111111111111111,
             "#46039f"
            ],
            [
             0.2222222222222222,
             "#7201a8"
            ],
            [
             0.3333333333333333,
             "#9c179e"
            ],
            [
             0.4444444444444444,
             "#bd3786"
            ],
            [
             0.5555555555555556,
             "#d8576b"
            ],
            [
             0.6666666666666666,
             "#ed7953"
            ],
            [
             0.7777777777777778,
             "#fb9f3a"
            ],
            [
             0.8888888888888888,
             "#fdca26"
            ],
            [
             1,
             "#f0f921"
            ]
           ]
          },
          "colorway": [
           "#636efa",
           "#EF553B",
           "#00cc96",
           "#ab63fa",
           "#FFA15A",
           "#19d3f3",
           "#FF6692",
           "#B6E880",
           "#FF97FF",
           "#FECB52"
          ],
          "font": {
           "color": "#2a3f5f"
          },
          "geo": {
           "bgcolor": "white",
           "lakecolor": "white",
           "landcolor": "#E5ECF6",
           "showlakes": true,
           "showland": true,
           "subunitcolor": "white"
          },
          "hoverlabel": {
           "align": "left"
          },
          "hovermode": "closest",
          "mapbox": {
           "style": "light"
          },
          "paper_bgcolor": "white",
          "plot_bgcolor": "#E5ECF6",
          "polar": {
           "angularaxis": {
            "gridcolor": "white",
            "linecolor": "white",
            "ticks": ""
           },
           "bgcolor": "#E5ECF6",
           "radialaxis": {
            "gridcolor": "white",
            "linecolor": "white",
            "ticks": ""
           }
          },
          "scene": {
           "xaxis": {
            "backgroundcolor": "#E5ECF6",
            "gridcolor": "white",
            "gridwidth": 2,
            "linecolor": "white",
            "showbackground": true,
            "ticks": "",
            "zerolinecolor": "white"
           },
           "yaxis": {
            "backgroundcolor": "#E5ECF6",
            "gridcolor": "white",
            "gridwidth": 2,
            "linecolor": "white",
            "showbackground": true,
            "ticks": "",
            "zerolinecolor": "white"
           },
           "zaxis": {
            "backgroundcolor": "#E5ECF6",
            "gridcolor": "white",
            "gridwidth": 2,
            "linecolor": "white",
            "showbackground": true,
            "ticks": "",
            "zerolinecolor": "white"
           }
          },
          "shapedefaults": {
           "line": {
            "color": "#2a3f5f"
           }
          },
          "ternary": {
           "aaxis": {
            "gridcolor": "white",
            "linecolor": "white",
            "ticks": ""
           },
           "baxis": {
            "gridcolor": "white",
            "linecolor": "white",
            "ticks": ""
           },
           "bgcolor": "#E5ECF6",
           "caxis": {
            "gridcolor": "white",
            "linecolor": "white",
            "ticks": ""
           }
          },
          "title": {
           "x": 0.05
          },
          "xaxis": {
           "automargin": true,
           "gridcolor": "white",
           "linecolor": "white",
           "ticks": "",
           "title": {
            "standoff": 15
           },
           "zerolinecolor": "white",
           "zerolinewidth": 2
          },
          "yaxis": {
           "automargin": true,
           "gridcolor": "white",
           "linecolor": "white",
           "ticks": "",
           "title": {
            "standoff": 15
           },
           "zerolinecolor": "white",
           "zerolinewidth": 2
          }
         }
        },
        "title": {
         "text": "Daily Max Temperature in Fahrenheit"
        },
        "xaxis": {
         "anchor": "y",
         "domain": [
          0,
          1
         ],
         "title": {
          "text": "Date"
         }
        },
        "yaxis": {
         "anchor": "x",
         "domain": [
          0,
          1
         ],
         "title": {
          "text": "Max Temperature (°F)"
         }
        }
       }
      }
     },
     "metadata": {},
     "output_type": "display_data"
    }
   ],
   "source": [
    "import plotly.express as px\n",
    "\n",
    "fig = px.line(df_nasa, x=df_nasa.index, y='T2M_MAX_F', title='Daily Max Temperature in Fahrenheit', labels={'T2M_MAX_F': 'Max Temperature (°F)', 'date': 'Date'}, hover_data=['solar_rad_kWh_norm'])\n",
    "fig.show()"
   ]
  },
  {
   "cell_type": "code",
   "execution_count": 26,
   "metadata": {},
   "outputs": [
    {
     "data": {
      "application/vnd.plotly.v1+json": {
       "config": {
        "plotlyServerURL": "https://plot.ly"
       },
       "data": [
        {
         "customdata": {
          "bdata": "AAAAAAAAAAABB/P6iRGhP161kdy4Wbg/qzEN5b4xyj+z1VFsGAbHPzizCdboc9c/YUyZG1N06z/G8JATVEjqPxAsIKZNod4/U0cjLWSp1T/ljvvxGQrsPyUEIXzTkcM/9C3Xq2Nq1z87NKvf+FXmP4p7+b1Oc9Y/TGd3ZnYvtD/bazwLaLLWPys0LPPNseU/GXgiumF77z9GwokxyPHuPwAAAAAAAPA/n/xgzuPS1z9QfjDncenrP8KhBcKNf9w/dlTQGcX47D8sxq777/LvP99G1WYpoOs/NOkmyEdx4z+NKqpFk4rrP4+I7+uzU+4/NhPo8Qzp7D82QAeoktvoP1HlSBh6SeQ/W0zEzETo5T91k8CWC43uP9dHqcVvfe4/vy68ed0N7D92VNAZxfjsP8JOAWtmhec/NT6Z44Cj0D+9Pb3okefSP2eNE8YTpsw/+hOxVh4n6j8EkhA91vPtPzfXDucs9us/g7K/XQLauj8o0Rr82jXYP/lo3Ff9f8U/8rrUfQ3S6D9iLlAjkOfrP/WZdBPko9g/mEYEZm+D0z/c3F6pYMXgP6MNpVC4cOw/gGbZslZl4T8/56m7rCroP6g+oI9h0+g/jNQASFE84j8femXNgT/dP7bnPpxBDeQ/5xlgTsDF6j9mWJ+BCRLpP2o7jWtPoeU/4WBePzEi4j8k5CKlpPPpP14/MSKiRuc/AvVM5brj5T8xbNMSp0zhP7a6ZgAW9Ok/EM0xUthu4z+RcGIMcrzjP0C0XCFa9eo/2bjLY2iQ6D99Z4Jgq87pP3JiU4wW3eU/g9GGUihc2D+7sp+mRQXWPyH1Sr4QLOc/UeH6wwqM5z8bBa7Av5XkP9WhEuNs1tA/Pk9rmgn06D/7TuGzqbDiP39vZSPkIuU/bbE0QMCN6D/DRqzc4ePPPw5hlOpXNeI/NVSNTb+O6D/gbEg8f1roP0jfcJaQ7uc/L2TwT2745T+X978uA5TnPzlwhOrYSOc/8Hof6glv5z9K0pbRk3PnP70yw7Py8eY/1aM5jSQ15z9Av1ZW+ermPz8a91X/X+U/I6xQ1Nnk4z9TaQGU8MzjP40DR6iOjeQ/juxidqFf4j9HY5vdUr/jP/bJqjvQN+U/pc+kmyAf5T+KWlI5y2vkP2w8C2iyluM//AtcyJmF4j8JiknjBQXKP9WhEuNs1uA/8MoMz8rHyz/CRS7gfu7RP4tDbgfePeI/mhcFIIwL4z9B/eQ/Re/hPxf15zpO7c0/AmXxhlAB4j/5n75gGUzhP9k473AVfbk/i4DFDiEm4T8=",
          "dtype": "f8",
          "shape": "121, 1"
         },
         "hovertemplate": "Date=%{x}<br>Precipitation (mm)=%{y}<br>solar_rad_kWh_norm=%{customdata[0]}<extra></extra>",
         "legendgroup": "",
         "line": {
          "color": "#636efa",
          "dash": "solid"
         },
         "marker": {
          "symbol": "circle"
         },
         "mode": "lines",
         "name": "",
         "orientation": "v",
         "showlegend": false,
         "type": "scatter",
         "x": [
          "2025-05-30T00:00:00.000000000",
          "2025-05-31T00:00:00.000000000",
          "2025-06-01T00:00:00.000000000",
          "2025-06-02T00:00:00.000000000",
          "2025-06-03T00:00:00.000000000",
          "2025-06-04T00:00:00.000000000",
          "2025-06-05T00:00:00.000000000",
          "2025-06-06T00:00:00.000000000",
          "2025-06-07T00:00:00.000000000",
          "2025-06-08T00:00:00.000000000",
          "2025-06-09T00:00:00.000000000",
          "2025-06-10T00:00:00.000000000",
          "2025-06-11T00:00:00.000000000",
          "2025-06-12T00:00:00.000000000",
          "2025-06-13T00:00:00.000000000",
          "2025-06-14T00:00:00.000000000",
          "2025-06-15T00:00:00.000000000",
          "2025-06-16T00:00:00.000000000",
          "2025-06-17T00:00:00.000000000",
          "2025-06-18T00:00:00.000000000",
          "2025-06-19T00:00:00.000000000",
          "2025-06-20T00:00:00.000000000",
          "2025-06-21T00:00:00.000000000",
          "2025-06-22T00:00:00.000000000",
          "2025-06-23T00:00:00.000000000",
          "2025-06-24T00:00:00.000000000",
          "2025-06-25T00:00:00.000000000",
          "2025-06-26T00:00:00.000000000",
          "2025-06-27T00:00:00.000000000",
          "2025-06-28T00:00:00.000000000",
          "2025-06-29T00:00:00.000000000",
          "2025-06-30T00:00:00.000000000",
          "2025-07-01T00:00:00.000000000",
          "2025-07-02T00:00:00.000000000",
          "2025-07-03T00:00:00.000000000",
          "2025-07-04T00:00:00.000000000",
          "2025-07-05T00:00:00.000000000",
          "2025-07-06T00:00:00.000000000",
          "2025-07-07T00:00:00.000000000",
          "2025-07-08T00:00:00.000000000",
          "2025-07-09T00:00:00.000000000",
          "2025-07-10T00:00:00.000000000",
          "2025-07-11T00:00:00.000000000",
          "2025-07-12T00:00:00.000000000",
          "2025-07-13T00:00:00.000000000",
          "2025-07-14T00:00:00.000000000",
          "2025-07-15T00:00:00.000000000",
          "2025-07-16T00:00:00.000000000",
          "2025-07-17T00:00:00.000000000",
          "2025-07-18T00:00:00.000000000",
          "2025-07-19T00:00:00.000000000",
          "2025-07-20T00:00:00.000000000",
          "2025-07-21T00:00:00.000000000",
          "2025-07-22T00:00:00.000000000",
          "2025-07-23T00:00:00.000000000",
          "2025-07-24T00:00:00.000000000",
          "2025-07-25T00:00:00.000000000",
          "2025-07-26T00:00:00.000000000",
          "2025-07-27T00:00:00.000000000",
          "2025-07-28T00:00:00.000000000",
          "2025-07-29T00:00:00.000000000",
          "2025-07-30T00:00:00.000000000",
          "2025-07-31T00:00:00.000000000",
          "2025-08-01T00:00:00.000000000",
          "2025-08-02T00:00:00.000000000",
          "2025-08-03T00:00:00.000000000",
          "2025-08-04T00:00:00.000000000",
          "2025-08-05T00:00:00.000000000",
          "2025-08-06T00:00:00.000000000",
          "2025-08-07T00:00:00.000000000",
          "2025-08-08T00:00:00.000000000",
          "2025-08-09T00:00:00.000000000",
          "2025-08-10T00:00:00.000000000",
          "2025-08-11T00:00:00.000000000",
          "2025-08-12T00:00:00.000000000",
          "2025-08-13T00:00:00.000000000",
          "2025-08-14T00:00:00.000000000",
          "2025-08-15T00:00:00.000000000",
          "2025-08-16T00:00:00.000000000",
          "2025-08-17T00:00:00.000000000",
          "2025-08-18T00:00:00.000000000",
          "2025-08-19T00:00:00.000000000",
          "2025-08-20T00:00:00.000000000",
          "2025-08-21T00:00:00.000000000",
          "2025-08-22T00:00:00.000000000",
          "2025-08-23T00:00:00.000000000",
          "2025-08-24T00:00:00.000000000",
          "2025-08-25T00:00:00.000000000",
          "2025-08-26T00:00:00.000000000",
          "2025-08-27T00:00:00.000000000",
          "2025-08-28T00:00:00.000000000",
          "2025-08-29T00:00:00.000000000",
          "2025-08-30T00:00:00.000000000",
          "2025-08-31T00:00:00.000000000",
          "2025-09-01T00:00:00.000000000",
          "2025-09-02T00:00:00.000000000",
          "2025-09-03T00:00:00.000000000",
          "2025-09-04T00:00:00.000000000",
          "2025-09-05T00:00:00.000000000",
          "2025-09-06T00:00:00.000000000",
          "2025-09-07T00:00:00.000000000",
          "2025-09-08T00:00:00.000000000",
          "2025-09-09T00:00:00.000000000",
          "2025-09-10T00:00:00.000000000",
          "2025-09-11T00:00:00.000000000",
          "2025-09-12T00:00:00.000000000",
          "2025-09-13T00:00:00.000000000",
          "2025-09-14T00:00:00.000000000",
          "2025-09-15T00:00:00.000000000",
          "2025-09-16T00:00:00.000000000",
          "2025-09-17T00:00:00.000000000",
          "2025-09-18T00:00:00.000000000",
          "2025-09-19T00:00:00.000000000",
          "2025-09-20T00:00:00.000000000",
          "2025-09-21T00:00:00.000000000",
          "2025-09-22T00:00:00.000000000",
          "2025-09-23T00:00:00.000000000",
          "2025-09-24T00:00:00.000000000",
          "2025-09-25T00:00:00.000000000",
          "2025-09-26T00:00:00.000000000",
          "2025-09-27T00:00:00.000000000"
         ],
         "xaxis": "x",
         "y": {
          "bdata": "MzMzMzMzCUDNzMzMzMzcPx+F61G4Hvk/4XoUrkfh2j97FK5H4XqEP3sUrkfhepQ/AAAAAAAAAAAAAAAAAAAAAHsUrkfheuQ/AAAAAAAAAAAK16NwPQrnP3sUrkfheoQ/mpmZmZmZ9T97FK5H4XrEPwAAAAAAAAAAexSuR+F6pD8AAAAAAAAAAAAAAAAAAAAAuB6F61G4nj8AAAAAAAAAAAAAAAAAAAAAuB6F61G4nj8AAAAAAAAAAJqZmZmZmck/AAAAAAAAAAAAAAAAAAAAAAAAAAAAAAAA7FG4HoXrwT+4HoXrUbiuP3sUrkfhesQ/AAAAAAAAAAAAAAAAAAAAAAAAAAAAAAAAexSuR+F6pD8AAAAAAAAAAAAAAAAAAAAAAAAAAAAAAAAAAAAAAAAAAAAAAAAAAAAAmpmZmZmZqT+4HoXrUbjeP7gehetRuBJA7FG4HoXrsT8AAAAAAAAAAAAAAAAAAAAAAAAAAAAAAAAAAAAAAAAAAAAAAAAAAAAAAAAAAAAAAAAAAAAAAAAAAAAAAAAAAAAAAAAAAAAAAAAAAAAAAAAAAAAAAAAAAAAAAAAAAAAAAAAAAAAAAAAAAAAAAAAAAAAAAAAAAAAAAAAAAAAAAAAAAJqZmZmZmbk/zczMzMzM3D8pXI/C9Si8P+F6FK5H4eI/exSuR+F6lD+amZmZmZm5P7gehetRuL4/exSuR+F6pD97FK5H4XqkPwAAAAAAAAAAAAAAAAAAAAAAAAAAAAAAAAAAAAAAAAAAAAAAAAAAAAAAAAAAAAAAAAAAAAAAAAAAAAAAAAAAAAAAAAAAAAAAAAAAAAAAAAAAAAAAAAAAAAB7FK5H4XqEP1K4HoXrUfQ/AAAAAAAAAAAAAAAAAAAAAAAAAAAAAAAAAAAAAAAAAACPwvUoXI/SPwAAAAAAAPw/AAAAAAAAAAAAAAAAAAAAAAAAAAAAAAAAAAAAAAAAAAAAAAAAAAAAAAAAAAAAAAAAAAAAAAAAAAAAAAAAAAAAAAAAAAAAAAAAAAAAAAAAAAAAAAAAAAAAAAAAAAAAAAAAAAAAAAAAAAAAAAAAAAAAAAAAAAAAAAAAAAAAAAAAAAAAAAAAAAAAAAAAAAAAAAAAAAAAAAAAAAAAAAAAAAAAAAAAAAAAAAAAmpmZmZmZuT9SuB6F61HwP+xRuB6F67E/zczMzMzMH0DD9Shcj8IbQAAAAAAAAAAAAAAAAAAAAAAAAAAAAAAAAEjhehSuR+E/AAAAAAAAAAAAAAAAAAAAAPYoXI/C9RNAmpmZmZmZuT8=",
          "dtype": "f8"
         },
         "yaxis": "y"
        }
       ],
       "layout": {
        "legend": {
         "tracegroupgap": 0
        },
        "template": {
         "data": {
          "bar": [
           {
            "error_x": {
             "color": "#2a3f5f"
            },
            "error_y": {
             "color": "#2a3f5f"
            },
            "marker": {
             "line": {
              "color": "#E5ECF6",
              "width": 0.5
             },
             "pattern": {
              "fillmode": "overlay",
              "size": 10,
              "solidity": 0.2
             }
            },
            "type": "bar"
           }
          ],
          "barpolar": [
           {
            "marker": {
             "line": {
              "color": "#E5ECF6",
              "width": 0.5
             },
             "pattern": {
              "fillmode": "overlay",
              "size": 10,
              "solidity": 0.2
             }
            },
            "type": "barpolar"
           }
          ],
          "carpet": [
           {
            "aaxis": {
             "endlinecolor": "#2a3f5f",
             "gridcolor": "white",
             "linecolor": "white",
             "minorgridcolor": "white",
             "startlinecolor": "#2a3f5f"
            },
            "baxis": {
             "endlinecolor": "#2a3f5f",
             "gridcolor": "white",
             "linecolor": "white",
             "minorgridcolor": "white",
             "startlinecolor": "#2a3f5f"
            },
            "type": "carpet"
           }
          ],
          "choropleth": [
           {
            "colorbar": {
             "outlinewidth": 0,
             "ticks": ""
            },
            "type": "choropleth"
           }
          ],
          "contour": [
           {
            "colorbar": {
             "outlinewidth": 0,
             "ticks": ""
            },
            "colorscale": [
             [
              0,
              "#0d0887"
             ],
             [
              0.1111111111111111,
              "#46039f"
             ],
             [
              0.2222222222222222,
              "#7201a8"
             ],
             [
              0.3333333333333333,
              "#9c179e"
             ],
             [
              0.4444444444444444,
              "#bd3786"
             ],
             [
              0.5555555555555556,
              "#d8576b"
             ],
             [
              0.6666666666666666,
              "#ed7953"
             ],
             [
              0.7777777777777778,
              "#fb9f3a"
             ],
             [
              0.8888888888888888,
              "#fdca26"
             ],
             [
              1,
              "#f0f921"
             ]
            ],
            "type": "contour"
           }
          ],
          "contourcarpet": [
           {
            "colorbar": {
             "outlinewidth": 0,
             "ticks": ""
            },
            "type": "contourcarpet"
           }
          ],
          "heatmap": [
           {
            "colorbar": {
             "outlinewidth": 0,
             "ticks": ""
            },
            "colorscale": [
             [
              0,
              "#0d0887"
             ],
             [
              0.1111111111111111,
              "#46039f"
             ],
             [
              0.2222222222222222,
              "#7201a8"
             ],
             [
              0.3333333333333333,
              "#9c179e"
             ],
             [
              0.4444444444444444,
              "#bd3786"
             ],
             [
              0.5555555555555556,
              "#d8576b"
             ],
             [
              0.6666666666666666,
              "#ed7953"
             ],
             [
              0.7777777777777778,
              "#fb9f3a"
             ],
             [
              0.8888888888888888,
              "#fdca26"
             ],
             [
              1,
              "#f0f921"
             ]
            ],
            "type": "heatmap"
           }
          ],
          "histogram": [
           {
            "marker": {
             "pattern": {
              "fillmode": "overlay",
              "size": 10,
              "solidity": 0.2
             }
            },
            "type": "histogram"
           }
          ],
          "histogram2d": [
           {
            "colorbar": {
             "outlinewidth": 0,
             "ticks": ""
            },
            "colorscale": [
             [
              0,
              "#0d0887"
             ],
             [
              0.1111111111111111,
              "#46039f"
             ],
             [
              0.2222222222222222,
              "#7201a8"
             ],
             [
              0.3333333333333333,
              "#9c179e"
             ],
             [
              0.4444444444444444,
              "#bd3786"
             ],
             [
              0.5555555555555556,
              "#d8576b"
             ],
             [
              0.6666666666666666,
              "#ed7953"
             ],
             [
              0.7777777777777778,
              "#fb9f3a"
             ],
             [
              0.8888888888888888,
              "#fdca26"
             ],
             [
              1,
              "#f0f921"
             ]
            ],
            "type": "histogram2d"
           }
          ],
          "histogram2dcontour": [
           {
            "colorbar": {
             "outlinewidth": 0,
             "ticks": ""
            },
            "colorscale": [
             [
              0,
              "#0d0887"
             ],
             [
              0.1111111111111111,
              "#46039f"
             ],
             [
              0.2222222222222222,
              "#7201a8"
             ],
             [
              0.3333333333333333,
              "#9c179e"
             ],
             [
              0.4444444444444444,
              "#bd3786"
             ],
             [
              0.5555555555555556,
              "#d8576b"
             ],
             [
              0.6666666666666666,
              "#ed7953"
             ],
             [
              0.7777777777777778,
              "#fb9f3a"
             ],
             [
              0.8888888888888888,
              "#fdca26"
             ],
             [
              1,
              "#f0f921"
             ]
            ],
            "type": "histogram2dcontour"
           }
          ],
          "mesh3d": [
           {
            "colorbar": {
             "outlinewidth": 0,
             "ticks": ""
            },
            "type": "mesh3d"
           }
          ],
          "parcoords": [
           {
            "line": {
             "colorbar": {
              "outlinewidth": 0,
              "ticks": ""
             }
            },
            "type": "parcoords"
           }
          ],
          "pie": [
           {
            "automargin": true,
            "type": "pie"
           }
          ],
          "scatter": [
           {
            "fillpattern": {
             "fillmode": "overlay",
             "size": 10,
             "solidity": 0.2
            },
            "type": "scatter"
           }
          ],
          "scatter3d": [
           {
            "line": {
             "colorbar": {
              "outlinewidth": 0,
              "ticks": ""
             }
            },
            "marker": {
             "colorbar": {
              "outlinewidth": 0,
              "ticks": ""
             }
            },
            "type": "scatter3d"
           }
          ],
          "scattercarpet": [
           {
            "marker": {
             "colorbar": {
              "outlinewidth": 0,
              "ticks": ""
             }
            },
            "type": "scattercarpet"
           }
          ],
          "scattergeo": [
           {
            "marker": {
             "colorbar": {
              "outlinewidth": 0,
              "ticks": ""
             }
            },
            "type": "scattergeo"
           }
          ],
          "scattergl": [
           {
            "marker": {
             "colorbar": {
              "outlinewidth": 0,
              "ticks": ""
             }
            },
            "type": "scattergl"
           }
          ],
          "scattermap": [
           {
            "marker": {
             "colorbar": {
              "outlinewidth": 0,
              "ticks": ""
             }
            },
            "type": "scattermap"
           }
          ],
          "scattermapbox": [
           {
            "marker": {
             "colorbar": {
              "outlinewidth": 0,
              "ticks": ""
             }
            },
            "type": "scattermapbox"
           }
          ],
          "scatterpolar": [
           {
            "marker": {
             "colorbar": {
              "outlinewidth": 0,
              "ticks": ""
             }
            },
            "type": "scatterpolar"
           }
          ],
          "scatterpolargl": [
           {
            "marker": {
             "colorbar": {
              "outlinewidth": 0,
              "ticks": ""
             }
            },
            "type": "scatterpolargl"
           }
          ],
          "scatterternary": [
           {
            "marker": {
             "colorbar": {
              "outlinewidth": 0,
              "ticks": ""
             }
            },
            "type": "scatterternary"
           }
          ],
          "surface": [
           {
            "colorbar": {
             "outlinewidth": 0,
             "ticks": ""
            },
            "colorscale": [
             [
              0,
              "#0d0887"
             ],
             [
              0.1111111111111111,
              "#46039f"
             ],
             [
              0.2222222222222222,
              "#7201a8"
             ],
             [
              0.3333333333333333,
              "#9c179e"
             ],
             [
              0.4444444444444444,
              "#bd3786"
             ],
             [
              0.5555555555555556,
              "#d8576b"
             ],
             [
              0.6666666666666666,
              "#ed7953"
             ],
             [
              0.7777777777777778,
              "#fb9f3a"
             ],
             [
              0.8888888888888888,
              "#fdca26"
             ],
             [
              1,
              "#f0f921"
             ]
            ],
            "type": "surface"
           }
          ],
          "table": [
           {
            "cells": {
             "fill": {
              "color": "#EBF0F8"
             },
             "line": {
              "color": "white"
             }
            },
            "header": {
             "fill": {
              "color": "#C8D4E3"
             },
             "line": {
              "color": "white"
             }
            },
            "type": "table"
           }
          ]
         },
         "layout": {
          "annotationdefaults": {
           "arrowcolor": "#2a3f5f",
           "arrowhead": 0,
           "arrowwidth": 1
          },
          "autotypenumbers": "strict",
          "coloraxis": {
           "colorbar": {
            "outlinewidth": 0,
            "ticks": ""
           }
          },
          "colorscale": {
           "diverging": [
            [
             0,
             "#8e0152"
            ],
            [
             0.1,
             "#c51b7d"
            ],
            [
             0.2,
             "#de77ae"
            ],
            [
             0.3,
             "#f1b6da"
            ],
            [
             0.4,
             "#fde0ef"
            ],
            [
             0.5,
             "#f7f7f7"
            ],
            [
             0.6,
             "#e6f5d0"
            ],
            [
             0.7,
             "#b8e186"
            ],
            [
             0.8,
             "#7fbc41"
            ],
            [
             0.9,
             "#4d9221"
            ],
            [
             1,
             "#276419"
            ]
           ],
           "sequential": [
            [
             0,
             "#0d0887"
            ],
            [
             0.1111111111111111,
             "#46039f"
            ],
            [
             0.2222222222222222,
             "#7201a8"
            ],
            [
             0.3333333333333333,
             "#9c179e"
            ],
            [
             0.4444444444444444,
             "#bd3786"
            ],
            [
             0.5555555555555556,
             "#d8576b"
            ],
            [
             0.6666666666666666,
             "#ed7953"
            ],
            [
             0.7777777777777778,
             "#fb9f3a"
            ],
            [
             0.8888888888888888,
             "#fdca26"
            ],
            [
             1,
             "#f0f921"
            ]
           ],
           "sequentialminus": [
            [
             0,
             "#0d0887"
            ],
            [
             0.1111111111111111,
             "#46039f"
            ],
            [
             0.2222222222222222,
             "#7201a8"
            ],
            [
             0.3333333333333333,
             "#9c179e"
            ],
            [
             0.4444444444444444,
             "#bd3786"
            ],
            [
             0.5555555555555556,
             "#d8576b"
            ],
            [
             0.6666666666666666,
             "#ed7953"
            ],
            [
             0.7777777777777778,
             "#fb9f3a"
            ],
            [
             0.8888888888888888,
             "#fdca26"
            ],
            [
             1,
             "#f0f921"
            ]
           ]
          },
          "colorway": [
           "#636efa",
           "#EF553B",
           "#00cc96",
           "#ab63fa",
           "#FFA15A",
           "#19d3f3",
           "#FF6692",
           "#B6E880",
           "#FF97FF",
           "#FECB52"
          ],
          "font": {
           "color": "#2a3f5f"
          },
          "geo": {
           "bgcolor": "white",
           "lakecolor": "white",
           "landcolor": "#E5ECF6",
           "showlakes": true,
           "showland": true,
           "subunitcolor": "white"
          },
          "hoverlabel": {
           "align": "left"
          },
          "hovermode": "closest",
          "mapbox": {
           "style": "light"
          },
          "paper_bgcolor": "white",
          "plot_bgcolor": "#E5ECF6",
          "polar": {
           "angularaxis": {
            "gridcolor": "white",
            "linecolor": "white",
            "ticks": ""
           },
           "bgcolor": "#E5ECF6",
           "radialaxis": {
            "gridcolor": "white",
            "linecolor": "white",
            "ticks": ""
           }
          },
          "scene": {
           "xaxis": {
            "backgroundcolor": "#E5ECF6",
            "gridcolor": "white",
            "gridwidth": 2,
            "linecolor": "white",
            "showbackground": true,
            "ticks": "",
            "zerolinecolor": "white"
           },
           "yaxis": {
            "backgroundcolor": "#E5ECF6",
            "gridcolor": "white",
            "gridwidth": 2,
            "linecolor": "white",
            "showbackground": true,
            "ticks": "",
            "zerolinecolor": "white"
           },
           "zaxis": {
            "backgroundcolor": "#E5ECF6",
            "gridcolor": "white",
            "gridwidth": 2,
            "linecolor": "white",
            "showbackground": true,
            "ticks": "",
            "zerolinecolor": "white"
           }
          },
          "shapedefaults": {
           "line": {
            "color": "#2a3f5f"
           }
          },
          "ternary": {
           "aaxis": {
            "gridcolor": "white",
            "linecolor": "white",
            "ticks": ""
           },
           "baxis": {
            "gridcolor": "white",
            "linecolor": "white",
            "ticks": ""
           },
           "bgcolor": "#E5ECF6",
           "caxis": {
            "gridcolor": "white",
            "linecolor": "white",
            "ticks": ""
           }
          },
          "title": {
           "x": 0.05
          },
          "xaxis": {
           "automargin": true,
           "gridcolor": "white",
           "linecolor": "white",
           "ticks": "",
           "title": {
            "standoff": 15
           },
           "zerolinecolor": "white",
           "zerolinewidth": 2
          },
          "yaxis": {
           "automargin": true,
           "gridcolor": "white",
           "linecolor": "white",
           "ticks": "",
           "title": {
            "standoff": 15
           },
           "zerolinecolor": "white",
           "zerolinewidth": 2
          }
         }
        },
        "title": {
         "text": "Daily Precipitation in mm"
        },
        "xaxis": {
         "anchor": "y",
         "domain": [
          0,
          1
         ],
         "title": {
          "text": "Date"
         }
        },
        "yaxis": {
         "anchor": "x",
         "domain": [
          0,
          1
         ],
         "title": {
          "text": "Precipitation (mm)"
         }
        }
       }
      }
     },
     "metadata": {},
     "output_type": "display_data"
    }
   ],
   "source": [
    "fig = px.line(df_nasa, x=df_nasa.index, y='PRECTOTCORR', title='Daily Precipitation in mm', labels={'PRECTOTCORR': 'Precipitation (mm)', 'date': 'Date'}, hover_data=['solar_rad_kWh_norm'])\n",
    "fig.show()"
   ]
  },
  {
   "cell_type": "code",
   "execution_count": 27,
   "metadata": {},
   "outputs": [
    {
     "data": {
      "application/vnd.plotly.v1+json": {
       "config": {
        "plotlyServerURL": "https://plot.ly"
       },
       "data": [
        {
         "customdata": {
          "bdata": "Di2yne9nSEDsUbgehStKQEa28/3UGEtAqvHSTWJwS0B/arx0kxhMQIPAyqFFtlBAyXa+nxqvUUAdWmQ73y9TQIts5/upUU5AGARWDi3yUEB7FK5H4fpSQAIrhxbZLk9ARrbz/dRIUEDHSzeJQZBQQDm0yHa+T1BAyXa+nxpPT0B3vp8aL71QQNNNYhBYiVBAGARWDi2iUkASg8DKoTVTQJzEILByCFRA46WbxCAwUkDXo3A9CudTQAAAAAAAIFJAvHSTGARGUkC28/3UeGlTQPT91HjpZlRAd76fGi9tUkCQwvUoXM9RQC/dJAaBlVJAGARWDi2iUkA3iUFg5ZBSQHNoke18/1JAhetRuB6FU0DTTWIQWHlUQESLbOf7WVVA0SLb+X4qVkApXI/C9dhUQI2XbhKDoFRA7nw/NV7aU0CUGARWDq1QQGmR7Xw/9U5A3iQGgZWDUEC4HoXrUdhSQJhuEoPAClRAAiuHFtmOUUBeukkMAntSQGZmZmZmdlJAPN9PjZeuU0B3vp8aLz1VQOOlm8QgUFNAL90kBoHVVEAfhetRuE5UQIlBYOXQwlVAWmQ730/dVUCBlUOLbKdUQFyPwvUoLFRA+n5qvHRjVEC+nxov3fRTQH0/NV66+VJAhxbZzveDU0Db+X5qvMRSQKjGSzeJUVJAvp8aL93UUkBzaJHtfN9RQL6fGi/dRFJA6iYxCKy8UkCYbhKDwDpRQH0/NV66+VJA30+Nl25SU0DAyqFFttNSQMDKoUW281NAAiuHFtnOU0Boke18PyVUQMl2vp8a71NArkfhehT+U0AYBFYOLYJRQG8Sg8DKUVFAEoPAyqGlUkC28/3UeLlRQH9qvHSTeE9ARrbz/dSIUkCuR+F6FE5SQJZDi2znW1JA/Knx0k2yUkBYObTIdu5RQK5H4XoUDlBAAAAAAABAU0Cyne+nxvtTQHA9CtejsFRA001iEFh5VEAbL90kBlFUQMDKoUW2Y1NAN4lBYOVwUUC8dJMYBEZSQGzn+6nx4lFAukkMAiu3UUD8qfHSTdJTQAaBlUOLPFNA/tR46SYhUkDl0CLb+S5SQJhuEoPAylFATmIQWDlkUUAi2/l+anxRQDm0yHa+b1FAFK5H4Xo0U0C8dJMYBNZSQFCNl24SY1FAFtnO91PzUEAYBFYOLVJMQJZDi2zn+09ANV66SQxCTEA3iUFg5XBJQPLSTWIQOE9AZDvfT41XUUAbL90kBoFRQGq8dJMY5ElACtejcD1qUED0/dR46QZRQK5H4XoUbktAWmQ730+NT0A=",
          "dtype": "f8",
          "shape": "121, 1"
         },
         "hovertemplate": "Date=%{x}<br>Normalized Solar Radiation=%{y}<br>T2M_MAX_F=%{customdata[0]}<extra></extra>",
         "legendgroup": "",
         "line": {
          "color": "#636efa",
          "dash": "solid"
         },
         "marker": {
          "symbol": "circle"
         },
         "mode": "lines",
         "name": "",
         "orientation": "v",
         "showlegend": false,
         "type": "scatter",
         "x": [
          "2025-05-30T00:00:00.000000000",
          "2025-05-31T00:00:00.000000000",
          "2025-06-01T00:00:00.000000000",
          "2025-06-02T00:00:00.000000000",
          "2025-06-03T00:00:00.000000000",
          "2025-06-04T00:00:00.000000000",
          "2025-06-05T00:00:00.000000000",
          "2025-06-06T00:00:00.000000000",
          "2025-06-07T00:00:00.000000000",
          "2025-06-08T00:00:00.000000000",
          "2025-06-09T00:00:00.000000000",
          "2025-06-10T00:00:00.000000000",
          "2025-06-11T00:00:00.000000000",
          "2025-06-12T00:00:00.000000000",
          "2025-06-13T00:00:00.000000000",
          "2025-06-14T00:00:00.000000000",
          "2025-06-15T00:00:00.000000000",
          "2025-06-16T00:00:00.000000000",
          "2025-06-17T00:00:00.000000000",
          "2025-06-18T00:00:00.000000000",
          "2025-06-19T00:00:00.000000000",
          "2025-06-20T00:00:00.000000000",
          "2025-06-21T00:00:00.000000000",
          "2025-06-22T00:00:00.000000000",
          "2025-06-23T00:00:00.000000000",
          "2025-06-24T00:00:00.000000000",
          "2025-06-25T00:00:00.000000000",
          "2025-06-26T00:00:00.000000000",
          "2025-06-27T00:00:00.000000000",
          "2025-06-28T00:00:00.000000000",
          "2025-06-29T00:00:00.000000000",
          "2025-06-30T00:00:00.000000000",
          "2025-07-01T00:00:00.000000000",
          "2025-07-02T00:00:00.000000000",
          "2025-07-03T00:00:00.000000000",
          "2025-07-04T00:00:00.000000000",
          "2025-07-05T00:00:00.000000000",
          "2025-07-06T00:00:00.000000000",
          "2025-07-07T00:00:00.000000000",
          "2025-07-08T00:00:00.000000000",
          "2025-07-09T00:00:00.000000000",
          "2025-07-10T00:00:00.000000000",
          "2025-07-11T00:00:00.000000000",
          "2025-07-12T00:00:00.000000000",
          "2025-07-13T00:00:00.000000000",
          "2025-07-14T00:00:00.000000000",
          "2025-07-15T00:00:00.000000000",
          "2025-07-16T00:00:00.000000000",
          "2025-07-17T00:00:00.000000000",
          "2025-07-18T00:00:00.000000000",
          "2025-07-19T00:00:00.000000000",
          "2025-07-20T00:00:00.000000000",
          "2025-07-21T00:00:00.000000000",
          "2025-07-22T00:00:00.000000000",
          "2025-07-23T00:00:00.000000000",
          "2025-07-24T00:00:00.000000000",
          "2025-07-25T00:00:00.000000000",
          "2025-07-26T00:00:00.000000000",
          "2025-07-27T00:00:00.000000000",
          "2025-07-28T00:00:00.000000000",
          "2025-07-29T00:00:00.000000000",
          "2025-07-30T00:00:00.000000000",
          "2025-07-31T00:00:00.000000000",
          "2025-08-01T00:00:00.000000000",
          "2025-08-02T00:00:00.000000000",
          "2025-08-03T00:00:00.000000000",
          "2025-08-04T00:00:00.000000000",
          "2025-08-05T00:00:00.000000000",
          "2025-08-06T00:00:00.000000000",
          "2025-08-07T00:00:00.000000000",
          "2025-08-08T00:00:00.000000000",
          "2025-08-09T00:00:00.000000000",
          "2025-08-10T00:00:00.000000000",
          "2025-08-11T00:00:00.000000000",
          "2025-08-12T00:00:00.000000000",
          "2025-08-13T00:00:00.000000000",
          "2025-08-14T00:00:00.000000000",
          "2025-08-15T00:00:00.000000000",
          "2025-08-16T00:00:00.000000000",
          "2025-08-17T00:00:00.000000000",
          "2025-08-18T00:00:00.000000000",
          "2025-08-19T00:00:00.000000000",
          "2025-08-20T00:00:00.000000000",
          "2025-08-21T00:00:00.000000000",
          "2025-08-22T00:00:00.000000000",
          "2025-08-23T00:00:00.000000000",
          "2025-08-24T00:00:00.000000000",
          "2025-08-25T00:00:00.000000000",
          "2025-08-26T00:00:00.000000000",
          "2025-08-27T00:00:00.000000000",
          "2025-08-28T00:00:00.000000000",
          "2025-08-29T00:00:00.000000000",
          "2025-08-30T00:00:00.000000000",
          "2025-08-31T00:00:00.000000000",
          "2025-09-01T00:00:00.000000000",
          "2025-09-02T00:00:00.000000000",
          "2025-09-03T00:00:00.000000000",
          "2025-09-04T00:00:00.000000000",
          "2025-09-05T00:00:00.000000000",
          "2025-09-06T00:00:00.000000000",
          "2025-09-07T00:00:00.000000000",
          "2025-09-08T00:00:00.000000000",
          "2025-09-09T00:00:00.000000000",
          "2025-09-10T00:00:00.000000000",
          "2025-09-11T00:00:00.000000000",
          "2025-09-12T00:00:00.000000000",
          "2025-09-13T00:00:00.000000000",
          "2025-09-14T00:00:00.000000000",
          "2025-09-15T00:00:00.000000000",
          "2025-09-16T00:00:00.000000000",
          "2025-09-17T00:00:00.000000000",
          "2025-09-18T00:00:00.000000000",
          "2025-09-19T00:00:00.000000000",
          "2025-09-20T00:00:00.000000000",
          "2025-09-21T00:00:00.000000000",
          "2025-09-22T00:00:00.000000000",
          "2025-09-23T00:00:00.000000000",
          "2025-09-24T00:00:00.000000000",
          "2025-09-25T00:00:00.000000000",
          "2025-09-26T00:00:00.000000000",
          "2025-09-27T00:00:00.000000000"
         ],
         "xaxis": "x",
         "y": {
          "bdata": "AAAAAAAAAAABB/P6iRGhP161kdy4Wbg/qzEN5b4xyj+z1VFsGAbHPzizCdboc9c/YUyZG1N06z/G8JATVEjqPxAsIKZNod4/U0cjLWSp1T/ljvvxGQrsPyUEIXzTkcM/9C3Xq2Nq1z87NKvf+FXmP4p7+b1Oc9Y/TGd3ZnYvtD/bazwLaLLWPys0LPPNseU/GXgiumF77z9GwokxyPHuPwAAAAAAAPA/n/xgzuPS1z9QfjDncenrP8KhBcKNf9w/dlTQGcX47D8sxq777/LvP99G1WYpoOs/NOkmyEdx4z+NKqpFk4rrP4+I7+uzU+4/NhPo8Qzp7D82QAeoktvoP1HlSBh6SeQ/W0zEzETo5T91k8CWC43uP9dHqcVvfe4/vy68ed0N7D92VNAZxfjsP8JOAWtmhec/NT6Z44Cj0D+9Pb3okefSP2eNE8YTpsw/+hOxVh4n6j8EkhA91vPtPzfXDucs9us/g7K/XQLauj8o0Rr82jXYP/lo3Ff9f8U/8rrUfQ3S6D9iLlAjkOfrP/WZdBPko9g/mEYEZm+D0z/c3F6pYMXgP6MNpVC4cOw/gGbZslZl4T8/56m7rCroP6g+oI9h0+g/jNQASFE84j8femXNgT/dP7bnPpxBDeQ/5xlgTsDF6j9mWJ+BCRLpP2o7jWtPoeU/4WBePzEi4j8k5CKlpPPpP14/MSKiRuc/AvVM5brj5T8xbNMSp0zhP7a6ZgAW9Ok/EM0xUthu4z+RcGIMcrzjP0C0XCFa9eo/2bjLY2iQ6D99Z4Jgq87pP3JiU4wW3eU/g9GGUihc2D+7sp+mRQXWPyH1Sr4QLOc/UeH6wwqM5z8bBa7Av5XkP9WhEuNs1tA/Pk9rmgn06D/7TuGzqbDiP39vZSPkIuU/bbE0QMCN6D/DRqzc4ePPPw5hlOpXNeI/NVSNTb+O6D/gbEg8f1roP0jfcJaQ7uc/L2TwT2745T+X978uA5TnPzlwhOrYSOc/8Hof6glv5z9K0pbRk3PnP70yw7Py8eY/1aM5jSQ15z9Av1ZW+ermPz8a91X/X+U/I6xQ1Nnk4z9TaQGU8MzjP40DR6iOjeQ/juxidqFf4j9HY5vdUr/jP/bJqjvQN+U/pc+kmyAf5T+KWlI5y2vkP2w8C2iyluM//AtcyJmF4j8JiknjBQXKP9WhEuNs1uA/8MoMz8rHyz/CRS7gfu7RP4tDbgfePeI/mhcFIIwL4z9B/eQ/Re/hPxf15zpO7c0/AmXxhlAB4j/5n75gGUzhP9k473AVfbk/i4DFDiEm4T8=",
          "dtype": "f8"
         },
         "yaxis": "y"
        }
       ],
       "layout": {
        "legend": {
         "tracegroupgap": 0
        },
        "template": {
         "data": {
          "bar": [
           {
            "error_x": {
             "color": "#2a3f5f"
            },
            "error_y": {
             "color": "#2a3f5f"
            },
            "marker": {
             "line": {
              "color": "#E5ECF6",
              "width": 0.5
             },
             "pattern": {
              "fillmode": "overlay",
              "size": 10,
              "solidity": 0.2
             }
            },
            "type": "bar"
           }
          ],
          "barpolar": [
           {
            "marker": {
             "line": {
              "color": "#E5ECF6",
              "width": 0.5
             },
             "pattern": {
              "fillmode": "overlay",
              "size": 10,
              "solidity": 0.2
             }
            },
            "type": "barpolar"
           }
          ],
          "carpet": [
           {
            "aaxis": {
             "endlinecolor": "#2a3f5f",
             "gridcolor": "white",
             "linecolor": "white",
             "minorgridcolor": "white",
             "startlinecolor": "#2a3f5f"
            },
            "baxis": {
             "endlinecolor": "#2a3f5f",
             "gridcolor": "white",
             "linecolor": "white",
             "minorgridcolor": "white",
             "startlinecolor": "#2a3f5f"
            },
            "type": "carpet"
           }
          ],
          "choropleth": [
           {
            "colorbar": {
             "outlinewidth": 0,
             "ticks": ""
            },
            "type": "choropleth"
           }
          ],
          "contour": [
           {
            "colorbar": {
             "outlinewidth": 0,
             "ticks": ""
            },
            "colorscale": [
             [
              0,
              "#0d0887"
             ],
             [
              0.1111111111111111,
              "#46039f"
             ],
             [
              0.2222222222222222,
              "#7201a8"
             ],
             [
              0.3333333333333333,
              "#9c179e"
             ],
             [
              0.4444444444444444,
              "#bd3786"
             ],
             [
              0.5555555555555556,
              "#d8576b"
             ],
             [
              0.6666666666666666,
              "#ed7953"
             ],
             [
              0.7777777777777778,
              "#fb9f3a"
             ],
             [
              0.8888888888888888,
              "#fdca26"
             ],
             [
              1,
              "#f0f921"
             ]
            ],
            "type": "contour"
           }
          ],
          "contourcarpet": [
           {
            "colorbar": {
             "outlinewidth": 0,
             "ticks": ""
            },
            "type": "contourcarpet"
           }
          ],
          "heatmap": [
           {
            "colorbar": {
             "outlinewidth": 0,
             "ticks": ""
            },
            "colorscale": [
             [
              0,
              "#0d0887"
             ],
             [
              0.1111111111111111,
              "#46039f"
             ],
             [
              0.2222222222222222,
              "#7201a8"
             ],
             [
              0.3333333333333333,
              "#9c179e"
             ],
             [
              0.4444444444444444,
              "#bd3786"
             ],
             [
              0.5555555555555556,
              "#d8576b"
             ],
             [
              0.6666666666666666,
              "#ed7953"
             ],
             [
              0.7777777777777778,
              "#fb9f3a"
             ],
             [
              0.8888888888888888,
              "#fdca26"
             ],
             [
              1,
              "#f0f921"
             ]
            ],
            "type": "heatmap"
           }
          ],
          "histogram": [
           {
            "marker": {
             "pattern": {
              "fillmode": "overlay",
              "size": 10,
              "solidity": 0.2
             }
            },
            "type": "histogram"
           }
          ],
          "histogram2d": [
           {
            "colorbar": {
             "outlinewidth": 0,
             "ticks": ""
            },
            "colorscale": [
             [
              0,
              "#0d0887"
             ],
             [
              0.1111111111111111,
              "#46039f"
             ],
             [
              0.2222222222222222,
              "#7201a8"
             ],
             [
              0.3333333333333333,
              "#9c179e"
             ],
             [
              0.4444444444444444,
              "#bd3786"
             ],
             [
              0.5555555555555556,
              "#d8576b"
             ],
             [
              0.6666666666666666,
              "#ed7953"
             ],
             [
              0.7777777777777778,
              "#fb9f3a"
             ],
             [
              0.8888888888888888,
              "#fdca26"
             ],
             [
              1,
              "#f0f921"
             ]
            ],
            "type": "histogram2d"
           }
          ],
          "histogram2dcontour": [
           {
            "colorbar": {
             "outlinewidth": 0,
             "ticks": ""
            },
            "colorscale": [
             [
              0,
              "#0d0887"
             ],
             [
              0.1111111111111111,
              "#46039f"
             ],
             [
              0.2222222222222222,
              "#7201a8"
             ],
             [
              0.3333333333333333,
              "#9c179e"
             ],
             [
              0.4444444444444444,
              "#bd3786"
             ],
             [
              0.5555555555555556,
              "#d8576b"
             ],
             [
              0.6666666666666666,
              "#ed7953"
             ],
             [
              0.7777777777777778,
              "#fb9f3a"
             ],
             [
              0.8888888888888888,
              "#fdca26"
             ],
             [
              1,
              "#f0f921"
             ]
            ],
            "type": "histogram2dcontour"
           }
          ],
          "mesh3d": [
           {
            "colorbar": {
             "outlinewidth": 0,
             "ticks": ""
            },
            "type": "mesh3d"
           }
          ],
          "parcoords": [
           {
            "line": {
             "colorbar": {
              "outlinewidth": 0,
              "ticks": ""
             }
            },
            "type": "parcoords"
           }
          ],
          "pie": [
           {
            "automargin": true,
            "type": "pie"
           }
          ],
          "scatter": [
           {
            "fillpattern": {
             "fillmode": "overlay",
             "size": 10,
             "solidity": 0.2
            },
            "type": "scatter"
           }
          ],
          "scatter3d": [
           {
            "line": {
             "colorbar": {
              "outlinewidth": 0,
              "ticks": ""
             }
            },
            "marker": {
             "colorbar": {
              "outlinewidth": 0,
              "ticks": ""
             }
            },
            "type": "scatter3d"
           }
          ],
          "scattercarpet": [
           {
            "marker": {
             "colorbar": {
              "outlinewidth": 0,
              "ticks": ""
             }
            },
            "type": "scattercarpet"
           }
          ],
          "scattergeo": [
           {
            "marker": {
             "colorbar": {
              "outlinewidth": 0,
              "ticks": ""
             }
            },
            "type": "scattergeo"
           }
          ],
          "scattergl": [
           {
            "marker": {
             "colorbar": {
              "outlinewidth": 0,
              "ticks": ""
             }
            },
            "type": "scattergl"
           }
          ],
          "scattermap": [
           {
            "marker": {
             "colorbar": {
              "outlinewidth": 0,
              "ticks": ""
             }
            },
            "type": "scattermap"
           }
          ],
          "scattermapbox": [
           {
            "marker": {
             "colorbar": {
              "outlinewidth": 0,
              "ticks": ""
             }
            },
            "type": "scattermapbox"
           }
          ],
          "scatterpolar": [
           {
            "marker": {
             "colorbar": {
              "outlinewidth": 0,
              "ticks": ""
             }
            },
            "type": "scatterpolar"
           }
          ],
          "scatterpolargl": [
           {
            "marker": {
             "colorbar": {
              "outlinewidth": 0,
              "ticks": ""
             }
            },
            "type": "scatterpolargl"
           }
          ],
          "scatterternary": [
           {
            "marker": {
             "colorbar": {
              "outlinewidth": 0,
              "ticks": ""
             }
            },
            "type": "scatterternary"
           }
          ],
          "surface": [
           {
            "colorbar": {
             "outlinewidth": 0,
             "ticks": ""
            },
            "colorscale": [
             [
              0,
              "#0d0887"
             ],
             [
              0.1111111111111111,
              "#46039f"
             ],
             [
              0.2222222222222222,
              "#7201a8"
             ],
             [
              0.3333333333333333,
              "#9c179e"
             ],
             [
              0.4444444444444444,
              "#bd3786"
             ],
             [
              0.5555555555555556,
              "#d8576b"
             ],
             [
              0.6666666666666666,
              "#ed7953"
             ],
             [
              0.7777777777777778,
              "#fb9f3a"
             ],
             [
              0.8888888888888888,
              "#fdca26"
             ],
             [
              1,
              "#f0f921"
             ]
            ],
            "type": "surface"
           }
          ],
          "table": [
           {
            "cells": {
             "fill": {
              "color": "#EBF0F8"
             },
             "line": {
              "color": "white"
             }
            },
            "header": {
             "fill": {
              "color": "#C8D4E3"
             },
             "line": {
              "color": "white"
             }
            },
            "type": "table"
           }
          ]
         },
         "layout": {
          "annotationdefaults": {
           "arrowcolor": "#2a3f5f",
           "arrowhead": 0,
           "arrowwidth": 1
          },
          "autotypenumbers": "strict",
          "coloraxis": {
           "colorbar": {
            "outlinewidth": 0,
            "ticks": ""
           }
          },
          "colorscale": {
           "diverging": [
            [
             0,
             "#8e0152"
            ],
            [
             0.1,
             "#c51b7d"
            ],
            [
             0.2,
             "#de77ae"
            ],
            [
             0.3,
             "#f1b6da"
            ],
            [
             0.4,
             "#fde0ef"
            ],
            [
             0.5,
             "#f7f7f7"
            ],
            [
             0.6,
             "#e6f5d0"
            ],
            [
             0.7,
             "#b8e186"
            ],
            [
             0.8,
             "#7fbc41"
            ],
            [
             0.9,
             "#4d9221"
            ],
            [
             1,
             "#276419"
            ]
           ],
           "sequential": [
            [
             0,
             "#0d0887"
            ],
            [
             0.1111111111111111,
             "#46039f"
            ],
            [
             0.2222222222222222,
             "#7201a8"
            ],
            [
             0.3333333333333333,
             "#9c179e"
            ],
            [
             0.4444444444444444,
             "#bd3786"
            ],
            [
             0.5555555555555556,
             "#d8576b"
            ],
            [
             0.6666666666666666,
             "#ed7953"
            ],
            [
             0.7777777777777778,
             "#fb9f3a"
            ],
            [
             0.8888888888888888,
             "#fdca26"
            ],
            [
             1,
             "#f0f921"
            ]
           ],
           "sequentialminus": [
            [
             0,
             "#0d0887"
            ],
            [
             0.1111111111111111,
             "#46039f"
            ],
            [
             0.2222222222222222,
             "#7201a8"
            ],
            [
             0.3333333333333333,
             "#9c179e"
            ],
            [
             0.4444444444444444,
             "#bd3786"
            ],
            [
             0.5555555555555556,
             "#d8576b"
            ],
            [
             0.6666666666666666,
             "#ed7953"
            ],
            [
             0.7777777777777778,
             "#fb9f3a"
            ],
            [
             0.8888888888888888,
             "#fdca26"
            ],
            [
             1,
             "#f0f921"
            ]
           ]
          },
          "colorway": [
           "#636efa",
           "#EF553B",
           "#00cc96",
           "#ab63fa",
           "#FFA15A",
           "#19d3f3",
           "#FF6692",
           "#B6E880",
           "#FF97FF",
           "#FECB52"
          ],
          "font": {
           "color": "#2a3f5f"
          },
          "geo": {
           "bgcolor": "white",
           "lakecolor": "white",
           "landcolor": "#E5ECF6",
           "showlakes": true,
           "showland": true,
           "subunitcolor": "white"
          },
          "hoverlabel": {
           "align": "left"
          },
          "hovermode": "closest",
          "mapbox": {
           "style": "light"
          },
          "paper_bgcolor": "white",
          "plot_bgcolor": "#E5ECF6",
          "polar": {
           "angularaxis": {
            "gridcolor": "white",
            "linecolor": "white",
            "ticks": ""
           },
           "bgcolor": "#E5ECF6",
           "radialaxis": {
            "gridcolor": "white",
            "linecolor": "white",
            "ticks": ""
           }
          },
          "scene": {
           "xaxis": {
            "backgroundcolor": "#E5ECF6",
            "gridcolor": "white",
            "gridwidth": 2,
            "linecolor": "white",
            "showbackground": true,
            "ticks": "",
            "zerolinecolor": "white"
           },
           "yaxis": {
            "backgroundcolor": "#E5ECF6",
            "gridcolor": "white",
            "gridwidth": 2,
            "linecolor": "white",
            "showbackground": true,
            "ticks": "",
            "zerolinecolor": "white"
           },
           "zaxis": {
            "backgroundcolor": "#E5ECF6",
            "gridcolor": "white",
            "gridwidth": 2,
            "linecolor": "white",
            "showbackground": true,
            "ticks": "",
            "zerolinecolor": "white"
           }
          },
          "shapedefaults": {
           "line": {
            "color": "#2a3f5f"
           }
          },
          "ternary": {
           "aaxis": {
            "gridcolor": "white",
            "linecolor": "white",
            "ticks": ""
           },
           "baxis": {
            "gridcolor": "white",
            "linecolor": "white",
            "ticks": ""
           },
           "bgcolor": "#E5ECF6",
           "caxis": {
            "gridcolor": "white",
            "linecolor": "white",
            "ticks": ""
           }
          },
          "title": {
           "x": 0.05
          },
          "xaxis": {
           "automargin": true,
           "gridcolor": "white",
           "linecolor": "white",
           "ticks": "",
           "title": {
            "standoff": 15
           },
           "zerolinecolor": "white",
           "zerolinewidth": 2
          },
          "yaxis": {
           "automargin": true,
           "gridcolor": "white",
           "linecolor": "white",
           "ticks": "",
           "title": {
            "standoff": 15
           },
           "zerolinecolor": "white",
           "zerolinewidth": 2
          }
         }
        },
        "title": {
         "text": "Daily Normalized Solar Radiation"
        },
        "xaxis": {
         "anchor": "y",
         "domain": [
          0,
          1
         ],
         "title": {
          "text": "Date"
         }
        },
        "yaxis": {
         "anchor": "x",
         "domain": [
          0,
          1
         ],
         "title": {
          "text": "Normalized Solar Radiation"
         }
        }
       }
      }
     },
     "metadata": {},
     "output_type": "display_data"
    }
   ],
   "source": [
    "fig = px.line(df_nasa, x=df_nasa.index, y='solar_rad_kWh_norm', title='Daily Normalized Solar Radiation', labels={'solar_rad_kWh_norm': 'Normalized Solar Radiation', 'date': 'Date'}, hover_data=['T2M_MAX_F'])\n",
    "fig.show()"
   ]
  },
  {
   "cell_type": "markdown",
   "metadata": {},
   "source": [
    "Cool?"
   ]
  },
  {
   "cell_type": "markdown",
   "metadata": {},
   "source": [
    "# Part 3: Web Scraping EuroMillions Results Continued...\n",
    "\n",
    "For this problem, we continue with creating a small data set scraped from [Euro-Millions](https://www.euro-millions.com/) which is a lottery that is played across nine European countries. Draws take place on Tuesday and Friday evenings with a minimum guaranteed jackpot of €17 million. **The beginning of this problem was on Lab 1; you will need to use the functions you built for Part 2 to complete this assignment**."
   ]
  },
  {
   "cell_type": "code",
   "execution_count": 28,
   "metadata": {},
   "outputs": [],
   "source": [
    "from bs4 import BeautifulSoup"
   ]
  },
  {
   "cell_type": "code",
   "execution_count": 29,
   "metadata": {},
   "outputs": [],
   "source": [
    "# replace the below with the corresponding function from Lab 1, Part 2.1\n",
    "\n",
    "def get_lottery_html(code):\n",
    "    \"\"\"\n",
    "    Takes a EuroMillions date code (string) and returns the HTML of the results page\n",
    "    \n",
    "    Args:\n",
    "        code (str): the EuroMillions date code (e.g., '06-10-2023')\n",
    "    \n",
    "    Returns:\n",
    "        soup (BeautifulSoup): the HTML of the results page\"\"\"\n",
    "\n",
    "    # Get\n",
    "    url = f\"https://www.euro-millions.com/results/{code}\"\n",
    "    response = requests.get(url)\n",
    "\n",
    "    if response.status_code != 200:\n",
    "        raise Exception(f\"Failed to load page {url}\")\n",
    "\n",
    "    return response.text\n",
    "\n",
    "url_text = get_lottery_html('13-09-2024')"
   ]
  },
  {
   "cell_type": "code",
   "execution_count": 30,
   "metadata": {},
   "outputs": [],
   "source": [
    "# replace the below with the corresponding function from Lab 1, Part 2.2\n",
    "\n",
    "def get_country_soup(html, country='BE'):\n",
    "    \"\"\"Extracts the BeautifulSoup object for a specific country's lottery results\n",
    "    \n",
    "    Args:\n",
    "        html (str): HTML content from get_lottery_html()\n",
    "        country (str): Country code ('BE' for Belgium)\n",
    "        \n",
    "    Returns:\n",
    "        BeautifulSoup object: Parsed HTML section for the specified country's prizes\n",
    "    \"\"\"\n",
    "\n",
    "    soup = BeautifulSoup(html, 'html.parser')\n",
    "    country_section = soup.find(id=f'Prize{country}')\n",
    "    return country_section\n",
    "\n",
    "country_choice = 'BE'\n",
    "my_country_soup = get_country_soup(url_text, country_choice)"
   ]
  },
  {
   "cell_type": "markdown",
   "metadata": {},
   "source": [
    "## Part 3.1: Cleaning a Country (10 points)\n",
    "\n",
    "Below is the function `clean_country_df()`, which takes the soup object from the previous function and creates a data frame with the following columns:\n",
    "\n",
    "    - `balls`: the number of balls matched\n",
    "    - `stars`: the number of stars matched\n",
    "    - `ppw`: the prize per winner\n",
    "    - `country_winners`: how many winners of the prize in the given country\n",
    "    - `total_winners`: the total number of winners\n",
    "    - `country`: the country name\n",
    "    - `currency`: the currency of the lottery\n",
    "\n",
    "I have written the function and (*given your function from lab works*) it should work. **DO NOT CHANGE ANYTHING IN THE BODY OF THE FUNCTION.**\n",
    "\n",
    "**In a markdown cell** create a bullet point list where you explain each what each chunk of code does. Your bullet point list should have **THREE** sections, with **NINE** total bullet points/explanations corresponding to the chunks below the `# EXPLAIN THIS (number)` comments. You must accurately summarize the content of each code chunk."
   ]
  },
  {
   "cell_type": "code",
   "execution_count": 31,
   "metadata": {},
   "outputs": [
    {
     "data": {
      "text/html": [
       "<div>\n",
       "<style scoped>\n",
       "    .dataframe tbody tr th:only-of-type {\n",
       "        vertical-align: middle;\n",
       "    }\n",
       "\n",
       "    .dataframe tbody tr th {\n",
       "        vertical-align: top;\n",
       "    }\n",
       "\n",
       "    .dataframe thead th {\n",
       "        text-align: right;\n",
       "    }\n",
       "</style>\n",
       "<table border=\"1\" class=\"dataframe\">\n",
       "  <thead>\n",
       "    <tr style=\"text-align: right;\">\n",
       "      <th></th>\n",
       "      <th>balls</th>\n",
       "      <th>stars</th>\n",
       "      <th>ppw</th>\n",
       "      <th>country_winners</th>\n",
       "      <th>total_winners</th>\n",
       "      <th>country</th>\n",
       "      <th>currency</th>\n",
       "    </tr>\n",
       "  </thead>\n",
       "  <tbody>\n",
       "    <tr>\n",
       "      <th>0</th>\n",
       "      <td>5</td>\n",
       "      <td>2</td>\n",
       "      <td>31511704.35</td>\n",
       "      <td>0</td>\n",
       "      <td>NaN</td>\n",
       "      <td>BE</td>\n",
       "      <td>€</td>\n",
       "    </tr>\n",
       "    <tr>\n",
       "      <th>1</th>\n",
       "      <td>5</td>\n",
       "      <td>1</td>\n",
       "      <td>252503.60</td>\n",
       "      <td>1</td>\n",
       "      <td>3.0</td>\n",
       "      <td>BE</td>\n",
       "      <td>€</td>\n",
       "    </tr>\n",
       "    <tr>\n",
       "      <th>2</th>\n",
       "      <td>5</td>\n",
       "      <td>0</td>\n",
       "      <td>35408.50</td>\n",
       "      <td>1</td>\n",
       "      <td>5.0</td>\n",
       "      <td>BE</td>\n",
       "      <td>€</td>\n",
       "    </tr>\n",
       "    <tr>\n",
       "      <th>3</th>\n",
       "      <td>4</td>\n",
       "      <td>2</td>\n",
       "      <td>2397.50</td>\n",
       "      <td>3</td>\n",
       "      <td>23.0</td>\n",
       "      <td>BE</td>\n",
       "      <td>€</td>\n",
       "    </tr>\n",
       "    <tr>\n",
       "      <th>4</th>\n",
       "      <td>4</td>\n",
       "      <td>1</td>\n",
       "      <td>135.60</td>\n",
       "      <td>46</td>\n",
       "      <td>749.0</td>\n",
       "      <td>BE</td>\n",
       "      <td>€</td>\n",
       "    </tr>\n",
       "    <tr>\n",
       "      <th>5</th>\n",
       "      <td>3</td>\n",
       "      <td>2</td>\n",
       "      <td>70.80</td>\n",
       "      <td>98</td>\n",
       "      <td>1516.0</td>\n",
       "      <td>BE</td>\n",
       "      <td>€</td>\n",
       "    </tr>\n",
       "    <tr>\n",
       "      <th>6</th>\n",
       "      <td>4</td>\n",
       "      <td>0</td>\n",
       "      <td>35.10</td>\n",
       "      <td>142</td>\n",
       "      <td>2144.0</td>\n",
       "      <td>BE</td>\n",
       "      <td>€</td>\n",
       "    </tr>\n",
       "    <tr>\n",
       "      <th>7</th>\n",
       "      <td>2</td>\n",
       "      <td>2</td>\n",
       "      <td>17.70</td>\n",
       "      <td>1708</td>\n",
       "      <td>21197.0</td>\n",
       "      <td>BE</td>\n",
       "      <td>€</td>\n",
       "    </tr>\n",
       "    <tr>\n",
       "      <th>8</th>\n",
       "      <td>3</td>\n",
       "      <td>1</td>\n",
       "      <td>11.80</td>\n",
       "      <td>2489</td>\n",
       "      <td>35525.0</td>\n",
       "      <td>BE</td>\n",
       "      <td>€</td>\n",
       "    </tr>\n",
       "    <tr>\n",
       "      <th>9</th>\n",
       "      <td>3</td>\n",
       "      <td>0</td>\n",
       "      <td>8.30</td>\n",
       "      <td>6390</td>\n",
       "      <td>94256.0</td>\n",
       "      <td>BE</td>\n",
       "      <td>€</td>\n",
       "    </tr>\n",
       "    <tr>\n",
       "      <th>10</th>\n",
       "      <td>1</td>\n",
       "      <td>2</td>\n",
       "      <td>8.50</td>\n",
       "      <td>8893</td>\n",
       "      <td>111292.0</td>\n",
       "      <td>BE</td>\n",
       "      <td>€</td>\n",
       "    </tr>\n",
       "    <tr>\n",
       "      <th>11</th>\n",
       "      <td>2</td>\n",
       "      <td>1</td>\n",
       "      <td>5.80</td>\n",
       "      <td>36207</td>\n",
       "      <td>509083.0</td>\n",
       "      <td>BE</td>\n",
       "      <td>€</td>\n",
       "    </tr>\n",
       "    <tr>\n",
       "      <th>12</th>\n",
       "      <td>2</td>\n",
       "      <td>0</td>\n",
       "      <td>3.60</td>\n",
       "      <td>91051</td>\n",
       "      <td>1330865.0</td>\n",
       "      <td>BE</td>\n",
       "      <td>€</td>\n",
       "    </tr>\n",
       "  </tbody>\n",
       "</table>\n",
       "</div>"
      ],
      "text/plain": [
       "    balls  stars          ppw  country_winners  total_winners country currency\n",
       "0       5      2  31511704.35                0            NaN      BE        €\n",
       "1       5      1    252503.60                1            3.0      BE        €\n",
       "2       5      0     35408.50                1            5.0      BE        €\n",
       "3       4      2      2397.50                3           23.0      BE        €\n",
       "4       4      1       135.60               46          749.0      BE        €\n",
       "5       3      2        70.80               98         1516.0      BE        €\n",
       "6       4      0        35.10              142         2144.0      BE        €\n",
       "7       2      2        17.70             1708        21197.0      BE        €\n",
       "8       3      1        11.80             2489        35525.0      BE        €\n",
       "9       3      0         8.30             6390        94256.0      BE        €\n",
       "10      1      2         8.50             8893       111292.0      BE        €\n",
       "11      2      1         5.80            36207       509083.0      BE        €\n",
       "12      2      0         3.60            91051      1330865.0      BE        €"
      ]
     },
     "execution_count": 31,
     "metadata": {},
     "output_type": "execute_result"
    }
   ],
   "source": [
    "from itertools import zip_longest\n",
    "import re\n",
    "\n",
    "def clean_country_df(soup, country_name = \"BE\"):\n",
    "    \"\"\"Takes the soup of a country and cleans it, creating a data frame.\n",
    "    \n",
    "    Args:\n",
    "        soup (soup): the soup from get_country_soup\n",
    "        country_name (str): name of the country (make sure this matches with the code used in the previous part)\n",
    "\n",
    "    Returns:\n",
    "        clean_country_df (DataFrame): a DataFrame with seven columns corresponding to\n",
    "            balls matched\n",
    "            stars matched\n",
    "            prize per winner\n",
    "            country winners\n",
    "            total winners\n",
    "            country\n",
    "            currency\n",
    "    \"\"\"\n",
    "    # EXPLAIN THIS (1.1)\n",
    "    table = soup.find('table')\n",
    "\n",
    "    # EXPLAIN THIS (1.2)\n",
    "    headers = [th.get_text(strip=True) for th in table.find('thead').find_all('th')]\n",
    "\n",
    "    # EXPLAIN THIS (1.3)\n",
    "    country_winner_index = next((i for i, header in enumerate(headers) if 'Winners' in header and 'Total' not in header), None)\n",
    "\n",
    "    # EXPLAIN THIS (1.4)\n",
    "    balls_matched = []\n",
    "    stars_matched = []\n",
    "    prize_per_winner = []\n",
    "    country_winners = []\n",
    "    total_winners = []\n",
    "    currencies = []\n",
    "    \n",
    "    # Process each row in the table body, excluding the last totals row\n",
    "    for row in table.find('tbody').find_all('tr')[:-1]:\n",
    "        columns = row.find_all('td')\n",
    "        \n",
    "        # EXPLAIN THIS (2.1)\n",
    "        numbers_matched = columns[0].get_text(strip=True)\n",
    "        prize = columns[1].get_text(strip=True)\n",
    "        country_winner = columns[country_winner_index].get_text(strip=True) if country_winner_index is not None else 'N/A'\n",
    "        total_winner = columns[-1].get_text(strip=True)\n",
    "        \n",
    "        # EXPLAIN THIS (2.2)\n",
    "        currency_match = re.match(r'^\\D*', prize)\n",
    "        currency = currency_match.group(0) if currency_match else 'N/A'\n",
    "        currencies.append(currency)\n",
    "        \n",
    "        # EXPLAIN THIS (2.3)\n",
    "        numeric_prize = pd.to_numeric(prize.replace(currency, '').replace(',', ''), errors='coerce')\n",
    "        \n",
    "        # EXPLAIN THIS (2.4)\n",
    "        numbers_split = numbers_matched.split('+')\n",
    "        balls = pd.to_numeric(numbers_split[0].strip().replace(',', ''), errors='coerce')\n",
    "        stars = pd.to_numeric(numbers_split[1].strip().replace(',', ''), errors='coerce') if len(numbers_split) > 1 else 0\n",
    "\n",
    "        balls_matched.append(balls)\n",
    "        stars_matched.append(stars)\n",
    "        prize_per_winner.append(numeric_prize)\n",
    "        country_winners.append(pd.to_numeric(country_winner.replace(',', ''), errors='coerce'))\n",
    "        total_winners.append(pd.to_numeric(total_winner.replace(',', ''), errors='coerce'))\n",
    "    \n",
    "    # EXPLAIN THIS (3)\n",
    "    data = {\n",
    "        'balls': balls_matched,\n",
    "        'stars': stars_matched,\n",
    "        'ppw': prize_per_winner,\n",
    "        'country_winners': country_winners,\n",
    "        'total_winners': total_winners,\n",
    "        'country': [country_name] * len(balls_matched),\n",
    "        'currency': currencies\n",
    "    }\n",
    "    \n",
    "    clean_country_df = pd.DataFrame(data)\n",
    "    \n",
    "    return clean_country_df\n",
    "\n",
    "# Example usage\n",
    "clean_df = clean_country_df(my_country_soup, 'BE')\n",
    "clean_df"
   ]
  },
  {
   "cell_type": "markdown",
   "metadata": {},
   "source": [
    "Your answer in this cell:\n",
    "- Explain Code Chunks 1:\n",
    "  \n",
    "    -\n",
    "    -\n",
    "    -\n",
    "    -\n",
    "- Explain Code Chunks 2:\n",
    "  \n",
    "    -\n",
    "    -\n",
    "    -\n",
    "    -\n",
    "- Explain Code Chunk 3:\n",
    "\n",
    "    -"
   ]
  },
  {
   "cell_type": "markdown",
   "metadata": {},
   "source": [
    "## Part 3.2: Stacking the Countries (5 points)\n",
    "\n",
    "Complete the function `stack_countries_df()` below (including docstring) which takes as an argument a list of country codes (strings) and a list of dates (strings), and uses the functions from the previous three parts to create a single data frame with results across those countries and dates. There may be multiple ways to do this, but one way could be to first loop through the dates, use the `get_lottery_html()` function, then loop through the countries and apply the other two functions. You will also want to add a column with the date information to the final data frame.\n",
    "\n",
    "**Make sure to remove the `pass` statement when you are finished.** Then, also make sure to run the code to ensure your function works."
   ]
  },
  {
   "cell_type": "code",
   "execution_count": 32,
   "metadata": {},
   "outputs": [],
   "source": [
    "def stack_countries_df(country_list, date_list):\n",
    "    \n",
    "    pass\n"
   ]
  },
  {
   "cell_type": "code",
   "execution_count": 33,
   "metadata": {},
   "outputs": [],
   "source": [
    "country_codes = ['BE', 'GB', 'CH']\n",
    "dates = ['26-04-2024', '30-04-2024']\n",
    "combined_df = stack_countries_df(country_codes, dates)\n",
    "combined_df"
   ]
  },
  {
   "cell_type": "markdown",
   "metadata": {},
   "source": [
    "## Part 3.3: EDA and Data Viz (10 points)\n",
    "\n",
    "The first code cell below runs your function from part 4 to get the lottery results for Belgium and France over the month of April 2024. Use this data frame to:\n",
    "\n",
    "- Create a subset which contains only the 5 ball, 0 star winners\n",
    "- Plot a line plot that compares the number of 5 ball, 0 star winners for in Belgium and France over April\n",
    "\n",
    "**Then, in a markdown cell** discuss briefly what this plot tells you."
   ]
  },
  {
   "cell_type": "code",
   "execution_count": 34,
   "metadata": {},
   "outputs": [],
   "source": [
    "country_codes = ['BE', 'FR']\n",
    "dates = ['02-04-2024', '05-04-2024', '09-04-2024', \n",
    "         '12-04-2024', '16-04-2024', '19-04-2024', \n",
    "         '23-04-2024', '26-04-2024', '30-04-2024']\n",
    "combined_df = stack_countries_df(country_codes, dates)"
   ]
  },
  {
   "cell_type": "code",
   "execution_count": 35,
   "metadata": {},
   "outputs": [
    {
     "ename": "AttributeError",
     "evalue": "'NoneType' object has no attribute 'tail'",
     "output_type": "error",
     "traceback": [
      "\u001b[31m---------------------------------------------------------------------------\u001b[39m",
      "\u001b[31mAttributeError\u001b[39m                            Traceback (most recent call last)",
      "\u001b[36mCell\u001b[39m\u001b[36m \u001b[39m\u001b[32mIn[35]\u001b[39m\u001b[32m, line 1\u001b[39m\n\u001b[32m----> \u001b[39m\u001b[32m1\u001b[39m \u001b[43mcombined_df\u001b[49m\u001b[43m.\u001b[49m\u001b[43mtail\u001b[49m()\n",
      "\u001b[31mAttributeError\u001b[39m: 'NoneType' object has no attribute 'tail'"
     ]
    }
   ],
   "source": [
    "combined_df.tail()"
   ]
  },
  {
   "cell_type": "code",
   "execution_count": null,
   "metadata": {},
   "outputs": [],
   "source": [
    "# Create the subset here"
   ]
  },
  {
   "cell_type": "code",
   "execution_count": null,
   "metadata": {},
   "outputs": [],
   "source": [
    "# Create the line plot here (you may use matplotlib or plotly)"
   ]
  },
  {
   "cell_type": "markdown",
   "metadata": {},
   "source": []
  },
  {
   "cell_type": "markdown",
   "metadata": {},
   "source": [
    "# Part 4: Summarizing and Visualizing Data\n",
    "\n",
    "For this part, you will use the `players_fifa23.csv` from Canvas to investigate the ratings for soccer players in the FIFA 23 video game. Make sure the `.csv` is in the same directory as this notebook file.\n",
    "\n",
    "**Note**: You do not need to know anything about soccer or video games to complete this problem, only perhaps that a higher `Overall` rating is considered a good thing."
   ]
  },
  {
   "cell_type": "markdown",
   "metadata": {},
   "source": [
    "## Part 4.1: Plotting Data (15 points)\n",
    "\n",
    "Create a plotly scatter plot which shows the mean `Overall` rating for soccer players (rows) of a given `Nationality` for a particular `Age`. Focuse on three countries (`England`, `Germany`, `Spain`). In other words, your plot's x-axis should be `Age`, the y-axis should be `Overall`, and there should be three different colored points at each `Age`, one for each `Nationality`.\n",
    "\n",
    "Export your graph as an html file `age_ratings_nationality.html`. You do not have to submit it with this homework, but the code should show that you did this.\n",
    "\n",
    "Hints:\n",
    "- There may be multiple ways/approaches to accomplish this task.\n",
    "- One approach: you may use `groupby()` and boolean indexing to build these values in a loop which runs per each `Nationality`.\n",
    "- `px.scatter()` will only graph data from columns (not the index).  Some approaches may need to graph data from the index.  You can use [df.reset_index()](https://pandas.pydata.org/pandas-docs/stable/reference/api/pandas.DataFrame.reset_index.html) to make your index a new column as shown [in this example](https://colab.research.google.com/drive/1d9JDphmpSTg9NtFMyfFnMQ6RmIx6zChK?usp=sharing)\n",
    "- In some approaches you may need to pass multiple rows to [df.append()](https://pandas.pydata.org/pandas-docs/stable/reference/api/pandas.DataFrame.append.html) if need be as shown [in this example](https://colab.research.google.com/drive/1XbBHMcYq_2Q225nkKs3j06iigCQGmM4H?usp=sharing)\n",
    "- In some approaches you may need to go from \"wide\" data to \"long\" data by using [df.melt()](https://pandas.pydata.org/pandas-docs/stable/reference/api/pandas.DataFrame.melt.html) as discussed [here](https://towardsdatascience.com/reshaping-a-pandas-dataframe-long-to-wide-and-vice-versa-517c7f0995ad)\n",
    "- The first few code cells below get you started with looking at the data set."
   ]
  },
  {
   "cell_type": "code",
   "execution_count": null,
   "metadata": {},
   "outputs": [],
   "source": [
    "# use pandas to read in the data\n",
    "import pandas as pd\n",
    "\n",
    "df_fifa = pd.read_csv('players_fifa23.csv', index_col = 'ID')\n",
    "df_fifa.head()"
   ]
  },
  {
   "cell_type": "code",
   "execution_count": null,
   "metadata": {},
   "outputs": [],
   "source": [
    "df_fifa.Nationality.value_counts()"
   ]
  },
  {
   "cell_type": "code",
   "execution_count": null,
   "metadata": {},
   "outputs": [],
   "source": [
    "df_fifa.shape"
   ]
  },
  {
   "cell_type": "code",
   "execution_count": null,
   "metadata": {},
   "outputs": [],
   "source": [
    "df_fifa['Age'].unique()"
   ]
  },
  {
   "cell_type": "code",
   "execution_count": null,
   "metadata": {},
   "outputs": [],
   "source": []
  },
  {
   "cell_type": "code",
   "execution_count": null,
   "metadata": {},
   "outputs": [],
   "source": []
  },
  {
   "cell_type": "code",
   "execution_count": null,
   "metadata": {},
   "outputs": [],
   "source": [
    "# making the plot\n",
    "import plotly\n",
    "import plotly.express as px"
   ]
  },
  {
   "cell_type": "code",
   "execution_count": null,
   "metadata": {},
   "outputs": [],
   "source": []
  },
  {
   "cell_type": "markdown",
   "metadata": {},
   "source": [
    "## Part 4.2: Numerical Summaries (10 points)\n",
    "\n",
    "1. Calculate the sample mean and median of `Overall` for the entire data set. In a markdown cell, discuss what their relative values imply about the distribution of `Overall`, and then use the plot from 1.1 and these values to discuss whether you think English, German, and Spanish players are generally better rated than other country's players, and at what age do they become average players?\n",
    "2. Calculate the `.group_by()` function to calculate the means and standard deviations of `Overall` for the three Nationalities in Part 1.1 (you will want to use the original data frame or a slightly modified version of it (the `.isin` function from pandas may help), **NOT** the data frame you used for the plot). What do these values tell you about the differences between English, German, and Spanish players?\n",
    "3. Create a subset of the original data frame that includes only `Age`, `Height`, `Weight`, and `Overall`. Calculate the correlation matrix for these four features and discuss what the relationships seem to be and whether those relationships make sense to you."
   ]
  }
 ],
 "metadata": {
  "kernelspec": {
   "display_name": ".venv",
   "language": "python",
   "name": "python3"
  },
  "language_info": {
   "codemirror_mode": {
    "name": "ipython",
    "version": 3
   },
   "file_extension": ".py",
   "mimetype": "text/x-python",
   "name": "python",
   "nbconvert_exporter": "python",
   "pygments_lexer": "ipython3",
   "version": "3.13.7"
  }
 },
 "nbformat": 4,
 "nbformat_minor": 4
}
