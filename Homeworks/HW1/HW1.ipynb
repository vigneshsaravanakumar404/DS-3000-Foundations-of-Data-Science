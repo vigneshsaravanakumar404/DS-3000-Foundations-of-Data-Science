{
 "cells": [
  {
   "cell_type": "markdown",
   "metadata": {
    "id": "djFS9mzk34OS"
   },
   "source": [
    "# DS 3000 HW 1\n",
    "\n",
    "## Due: Friday Sept. 12 @ 11:59 PM EST\n",
    "\n",
    "**Extra Credit Deadline: Wednesday Sept. 10th @ 11:59 PM**\n",
    "\n",
    "Name: \n",
    "\n",
    "### Submission Instructions\n",
    "Submit this `ipynb` file to Gradescope (this can also be done via the assignment on Canvas).  To ensure that your submitted `ipynb` file represents your latest code, make sure to give a fresh `Kernel > Restart & Run All` just before uploading the `ipynb` file to gradescope.\n",
    "\n",
    "### Tips for success\n",
    "- Start early\n",
    "- Make use of Piazza (also accessible through Canvas)\n",
    "- Make use of Office Hours\n",
    "- Remember to use cells and headings to make the notebook easy to read (if a grader cannot find the answer to a problem, you will receive no points for it)\n",
    "- Under no circumstances may one student view or share their ungraded homework or quiz with another student [(see also)](http://www.northeastern.edu/osccr/academic-integrity), though you are welcome to **talk about** (*not* show each other your answers to) the problems."
   ]
  },
  {
   "cell_type": "markdown",
   "metadata": {
    "id": "LhmW8TLq34OU"
   },
   "source": [
    "# Part 1: Lists and Flow and Functions, Oh my!\n",
    "## Part 1.1: Manual Data Entry (25 points)\n",
    "\n",
    "\n",
    "How would you manually track temperature changes throughout the day without an automated weather station? Go to this website: [this website](https://www.weather.gov/) and look up your local area's current temperature. You are going to write a function that takes manual input of temperature readings (entered by you), stores all readings in a list, stops once you enter 15 values or four consecutive increasing values (whichever comes first), and returns the temperature data.\n",
    "For this problem:\n",
    "\n",
    "- Call your function `temp_tracker`\n",
    "- Make sure that you use the `input()` option within your function to accept entries\n",
    "- Make sure you are saving all entries in a list\n",
    "- Use `if-else` and a `while` loop\n",
    "- When you have written the function, call:\n",
    "\n",
    "`temperature_log = temp_tracker()`\n",
    "\n",
    "`temperature_log`\n",
    "\n",
    "and manually check the weather website to enter the current temperature (refresh the page every few minutes for updates).\n",
    "\n",
    "**Note**: There may be multiple ways to get this function to work, but to receive full points, your function **must** have the five components listed above (there may be more efficient ways to do it, but I want you to show me you know how to use *these methods*)."
   ]
  },
  {
   "cell_type": "code",
   "execution_count": 1,
   "metadata": {
    "id": "Wi7esKnS34OU"
   },
   "outputs": [
    {
     "data": {
      "text/plain": [
       "[1.0, 2.0, 3.0, 4.0]"
      ]
     },
     "execution_count": 1,
     "metadata": {},
     "output_type": "execute_result"
    }
   ],
   "source": [
    "def last_4_are_increasing(temps):\n",
    "    \"\"\"\n",
    "    Check if the last four temperatures in the list are strictly increasing.\n",
    "    \n",
    "    Args:\n",
    "        temps (list of float): List of recorded temperatures.\n",
    "    Returns:\n",
    "        bool: True if the last four temperatures are strictly increasing, False otherwise.\n",
    "    \"\"\"\n",
    "    if len(temps) < 4:\n",
    "        return False\n",
    "    else:\n",
    "        return temps[-1] > temps[-2] > temps[-3] > temps[-4]\n",
    "    \n",
    "def temp_tracker():\n",
    "    \"\"\"\n",
    "    Continuously prompt the user to enter temperatures until either 15 temperatures or last 4 are increaing.\n",
    "    Returns:\n",
    "        list of float: List of recorded temperatures.\n",
    "    \"\"\"\n",
    "    inputs = []\n",
    "    while len(inputs) < 15 and not last_4_are_increasing(inputs):\n",
    "        temp = float(input(\"Enter a temperature: \"))\n",
    "        inputs.append(temp)\n",
    "    \n",
    "    return inputs\n",
    "\n",
    "temperature_log = temp_tracker()\n",
    "temperature_log"
   ]
  },
  {
   "cell_type": "markdown",
   "metadata": {
    "id": "Y-UOLA_S34OU"
   },
   "source": [
    "# Part 2: Numpy\n",
    "## Part 2.1: Creating Arrays (5 points)\n",
    "\n",
    "Create the following two arrays using the NumPy library. Call the first array `array_a` and the second array `array_b` (make sure you keep the `import` statement below):\n",
    "\n",
    "$$\\mathbf{array_a} = \\begin{bmatrix}10 & 2 & -1 & -24\\\\\n",
    "-.1 & 22 & -6 & 3\\\\\n",
    "-4 & 2 & -3 & 3.2\n",
    "\\end{bmatrix}$$\n",
    "\n",
    "$$\\mathbf{array_b} = \\begin{bmatrix}10 & 1 & -4\\\\\n",
    "4 & -6 & -1\\\\\n",
    "1.2 & -4 & -12\\\\\n",
    "3.2 & -2 & -1\\\\\n",
    "3 & -4 & -42\n",
    "\\end{bmatrix}$$\n",
    "\n",
    "Then, uncomment out the code provided to print them and verify they are correct."
   ]
  },
  {
   "cell_type": "code",
   "execution_count": 2,
   "metadata": {
    "id": "L2eSSChf34OU"
   },
   "outputs": [],
   "source": [
    "# make sure to import numpy library\n",
    "import numpy as np"
   ]
  },
  {
   "cell_type": "code",
   "execution_count": 3,
   "metadata": {
    "id": "iscTozLi34OU"
   },
   "outputs": [],
   "source": [
    "array_a = np.array([[10, 2, -1, -24],\n",
    "                    [-0.1, 22, -6, 3],\n",
    "                    [-4, 2, -3, 3.2]])\n",
    "\n",
    "array_b = np.array([[10, 1, -4],\n",
    "                    [4, -6, -1],\n",
    "                    [1.2, -4, -12],\n",
    "                    [3.2, -2, -1],\n",
    "                    [3, -4, -42]])"
   ]
  },
  {
   "cell_type": "code",
   "execution_count": 4,
   "metadata": {
    "id": "tLv-1nhm34OU"
   },
   "outputs": [
    {
     "data": {
      "text/plain": [
       "array([[ 10. ,   2. ,  -1. , -24. ],\n",
       "       [ -0.1,  22. ,  -6. ,   3. ],\n",
       "       [ -4. ,   2. ,  -3. ,   3.2]])"
      ]
     },
     "execution_count": 4,
     "metadata": {},
     "output_type": "execute_result"
    }
   ],
   "source": [
    "# uncomment below to print array_a\n",
    "array_a"
   ]
  },
  {
   "cell_type": "code",
   "execution_count": 5,
   "metadata": {
    "id": "H7AEnrg334OU"
   },
   "outputs": [
    {
     "data": {
      "text/plain": [
       "array([[ 10. ,   1. ,  -4. ],\n",
       "       [  4. ,  -6. ,  -1. ],\n",
       "       [  1.2,  -4. , -12. ],\n",
       "       [  3.2,  -2. ,  -1. ],\n",
       "       [  3. ,  -4. , -42. ]])"
      ]
     },
     "execution_count": 5,
     "metadata": {},
     "output_type": "execute_result"
    }
   ],
   "source": [
    "# uncomment below to print array_b\n",
    "array_b"
   ]
  },
  {
   "cell_type": "markdown",
   "metadata": {
    "id": "DiQNAGWb34OU"
   },
   "source": [
    "## Part 2.2: Exploring Arrays (15 points)\n",
    "\n",
    "1. Give the shape, size, ndim, and nbytes for each of the two arrays.\n",
    "1. Take the transpose of both arrays. Call these `t_array_a` and `t_array_b`.\n",
    "1. Try to add `array_a` and `t_array_b`, explain what happended in a markdown cell. Then remove the last column of `t_array_b` and try to add them again. What is the result? In a markdown cell explain why the addition worked"
   ]
  },
  {
   "cell_type": "code",
   "execution_count": 6,
   "metadata": {
    "id": "Qvu73pXY34OV"
   },
   "outputs": [
    {
     "name": "stdout",
     "output_type": "stream",
     "text": [
      "Shape: (3, 4) Size: 12 nd: 2 nbytes: 96\n",
      "Shape: (5, 3) Size: 15 nd: 2 nbytes: 120\n"
     ]
    },
    {
     "data": {
      "text/plain": [
       "array([[ 20. ,   6. ,   0.2, -20.8],\n",
       "       [  0.9,  16. , -10. ,   1. ],\n",
       "       [ -8. ,   1. , -15. ,   2.2]])"
      ]
     },
     "execution_count": 6,
     "metadata": {},
     "output_type": "execute_result"
    }
   ],
   "source": [
    "# 1\n",
    "print(\"Shape:\", array_a.shape, \"Size:\", array_a.size, \"nd:\", array_a.ndim, \"nbytes:\", array_a.nbytes)\n",
    "print(\"Shape:\", array_b.shape, \"Size:\", array_b.size, \"nd:\", array_b.ndim, \"nbytes:\", array_b.nbytes)\n",
    "\n",
    "# 2\n",
    "t_array_a = array_a.T\n",
    "t_array_b = array_b.T\n",
    "\n",
    "# 3 \n",
    "# print(array_a + t_array_b)\n",
    "\n",
    "\n",
    "t_array_b = t_array_b[:, :-1]\n",
    "array_a + t_array_b\n"
   ]
  },
  {
   "cell_type": "markdown",
   "metadata": {
    "id": "gmkwFTnN34OV"
   },
   "source": [
    "The addition did not work because the shapes of the two arrays were not compatible for addition. Array_a has a shape of (3, 4) and t_array_b has a shape of (3, 5). For two arrays to be added together, they must have the same shape or be broadcastable to a common shape. In this case, the number of columns in array_a (4) does not match the number of columns in t_array_b (5), so the addition operation cannot be performed.\n",
    "\n",
    "The second method works because after removing the last column of t_array_b, its shape becomes (3, 4), which matches the shape of array_a (3, 4). Now that both arrays have the same shape, they can be added together element-wise."
   ]
  },
  {
   "cell_type": "markdown",
   "metadata": {
    "id": "TOc2YRxC34OV"
   },
   "source": [
    "# Part 3: Pandas PokÃ©mon\n",
    "## Part 3.1: Reading in Data (5 points)\n",
    "\n",
    "On Canvas is the `pokedata.csv` file. Read this data set in, using the `Pokedex` as the index column, and print the first few rows of the data. Make sure you keep the `import` statement below!"
   ]
  },
  {
   "cell_type": "code",
   "execution_count": 7,
   "metadata": {
    "id": "yRwEN_iN34OV"
   },
   "outputs": [],
   "source": [
    "# make sure to import pandas library\n",
    "import pandas as pd"
   ]
  },
  {
   "cell_type": "code",
   "execution_count": 8,
   "metadata": {
    "id": "HfMahei034OV"
   },
   "outputs": [
    {
     "data": {
      "text/html": [
       "<div>\n",
       "<style scoped>\n",
       "    .dataframe tbody tr th:only-of-type {\n",
       "        vertical-align: middle;\n",
       "    }\n",
       "\n",
       "    .dataframe tbody tr th {\n",
       "        vertical-align: top;\n",
       "    }\n",
       "\n",
       "    .dataframe thead th {\n",
       "        text-align: right;\n",
       "    }\n",
       "</style>\n",
       "<table border=\"1\" class=\"dataframe\">\n",
       "  <thead>\n",
       "    <tr style=\"text-align: right;\">\n",
       "      <th></th>\n",
       "      <th>Pokemon</th>\n",
       "      <th>MainType</th>\n",
       "      <th>SecondaryType</th>\n",
       "      <th>Height</th>\n",
       "      <th>Weight</th>\n",
       "      <th>Damage</th>\n",
       "      <th>BaseSpeed</th>\n",
       "      <th>Attack</th>\n",
       "      <th>Defense</th>\n",
       "    </tr>\n",
       "    <tr>\n",
       "      <th>Pokedex</th>\n",
       "      <th></th>\n",
       "      <th></th>\n",
       "      <th></th>\n",
       "      <th></th>\n",
       "      <th></th>\n",
       "      <th></th>\n",
       "      <th></th>\n",
       "      <th></th>\n",
       "      <th></th>\n",
       "    </tr>\n",
       "  </thead>\n",
       "  <tbody>\n",
       "    <tr>\n",
       "      <th>1</th>\n",
       "      <td>Bulbasaur</td>\n",
       "      <td>Grass</td>\n",
       "      <td>Poison</td>\n",
       "      <td>24</td>\n",
       "      <td>25.2</td>\n",
       "      <td>45</td>\n",
       "      <td>45</td>\n",
       "      <td>49</td>\n",
       "      <td>49</td>\n",
       "    </tr>\n",
       "    <tr>\n",
       "      <th>2</th>\n",
       "      <td>Ivysaur</td>\n",
       "      <td>Grass</td>\n",
       "      <td>Poison</td>\n",
       "      <td>39</td>\n",
       "      <td>28.7</td>\n",
       "      <td>60</td>\n",
       "      <td>60</td>\n",
       "      <td>62</td>\n",
       "      <td>63</td>\n",
       "    </tr>\n",
       "    <tr>\n",
       "      <th>3</th>\n",
       "      <td>Venusaur</td>\n",
       "      <td>Grass</td>\n",
       "      <td>Poison</td>\n",
       "      <td>79</td>\n",
       "      <td>220.5</td>\n",
       "      <td>80</td>\n",
       "      <td>80</td>\n",
       "      <td>82</td>\n",
       "      <td>83</td>\n",
       "    </tr>\n",
       "    <tr>\n",
       "      <th>4</th>\n",
       "      <td>Charmander</td>\n",
       "      <td>Fire</td>\n",
       "      <td>NaN</td>\n",
       "      <td>24</td>\n",
       "      <td>18.7</td>\n",
       "      <td>39</td>\n",
       "      <td>65</td>\n",
       "      <td>52</td>\n",
       "      <td>43</td>\n",
       "    </tr>\n",
       "    <tr>\n",
       "      <th>5</th>\n",
       "      <td>Charmeleon</td>\n",
       "      <td>Fire</td>\n",
       "      <td>NaN</td>\n",
       "      <td>43</td>\n",
       "      <td>41.9</td>\n",
       "      <td>58</td>\n",
       "      <td>80</td>\n",
       "      <td>64</td>\n",
       "      <td>58</td>\n",
       "    </tr>\n",
       "  </tbody>\n",
       "</table>\n",
       "</div>"
      ],
      "text/plain": [
       "            Pokemon MainType SecondaryType  Height  Weight  Damage  BaseSpeed  \\\n",
       "Pokedex                                                                         \n",
       "1         Bulbasaur    Grass        Poison      24    25.2      45         45   \n",
       "2           Ivysaur    Grass        Poison      39    28.7      60         60   \n",
       "3          Venusaur    Grass        Poison      79   220.5      80         80   \n",
       "4        Charmander     Fire           NaN      24    18.7      39         65   \n",
       "5        Charmeleon     Fire           NaN      43    41.9      58         80   \n",
       "\n",
       "         Attack  Defense  \n",
       "Pokedex                   \n",
       "1            49       49  \n",
       "2            62       63  \n",
       "3            82       83  \n",
       "4            52       43  \n",
       "5            64       58  "
      ]
     },
     "execution_count": 8,
     "metadata": {},
     "output_type": "execute_result"
    }
   ],
   "source": [
    "pokedex = pd.read_csv('pokedata.csv', index_col='Pokedex')\n",
    "pokedex.head()"
   ]
  },
  {
   "cell_type": "markdown",
   "metadata": {
    "id": "qnh-tiPA34OV"
   },
   "source": [
    "## Part 3.2: Manipulating Data (20 points)\n",
    "\n",
    "1. Add a new column to the data set that calculates the BMI of the PokÃ©mon. The formula for BMI using Imperial Units (such as these data contain) is = $703 \\times \\frac{Weight}{Height^2}$. Print the first few rows.\n",
    "    2. Use indexing and the `.idxmax()` and `.idxmin()` functions to find the PokÃ©mon that have (a) the highest BMI and (b) the lowest BMI.\n",
    "1. Create a subset of the PokÃ©mon Data that you created in (1) which (a) includes only PokÃ©mon that have `Defense >= 62` and (b) **excludes** all PokÃ©mon with the Water `MainType`. Make sure to save this subset as a new data frame and print the first few rows of the data.\n",
    "1. Use the `.describe()` function to produce summary statistics for the **full** PokÃ©mon Data from the data from (1). Create a markdown cell and explain:\n",
    "    2. What Series did the `.describe()` function run on? What Series did it not run on? What is the difference, and what does this mean the `.describe()` function is used for?"
   ]
  },
  {
   "cell_type": "code",
   "execution_count": 9,
   "metadata": {
    "id": "PijgqvaK34OV"
   },
   "outputs": [
    {
     "name": "stdout",
     "output_type": "stream",
     "text": [
      "            Pokemon MainType SecondaryType  Height  Weight  Damage  BaseSpeed  \\\n",
      "Pokedex                                                                         \n",
      "1         Bulbasaur    Grass        Poison      24    25.2      45         45   \n",
      "2           Ivysaur    Grass        Poison      39    28.7      60         60   \n",
      "3          Venusaur    Grass        Poison      79   220.5      80         80   \n",
      "4        Charmander     Fire           NaN      24    18.7      39         65   \n",
      "5        Charmeleon     Fire           NaN      43    41.9      58         80   \n",
      "\n",
      "         Attack  Defense        BMI  \n",
      "Pokedex                              \n",
      "1            49       49  30.756250  \n",
      "2            62       63  13.265023  \n",
      "3            82       83  24.837606  \n",
      "4            52       43  22.823090  \n",
      "5            64       58  15.930611  \n",
      "Max: Golem\n",
      "Min: Haunter\n",
      "           Pokemon MainType SecondaryType  Height  Weight  Damage  BaseSpeed  \\\n",
      "Pokedex                                                                        \n",
      "2          Ivysaur    Grass        Poison      39   28.70      60         60   \n",
      "3         Venusaur    Grass        Poison      79  220.50      80         80   \n",
      "6        Charizard     Fire        Flying      67  199.50      78        100   \n",
      "18         Pidgeot   Flying        Normal      59    2.21      83        101   \n",
      "22          Fearow   Flying        Normal      47   83.80      65        100   \n",
      "\n",
      "         Attack  Defense        BMI  \n",
      "Pokedex                              \n",
      "2            62       63  13.265023  \n",
      "3            82       83  24.837606  \n",
      "6            84       78  31.242704  \n",
      "18           80       75   0.446317  \n",
      "22           90       65  26.668809  \n"
     ]
    },
    {
     "data": {
      "text/html": [
       "<div>\n",
       "<style scoped>\n",
       "    .dataframe tbody tr th:only-of-type {\n",
       "        vertical-align: middle;\n",
       "    }\n",
       "\n",
       "    .dataframe tbody tr th {\n",
       "        vertical-align: top;\n",
       "    }\n",
       "\n",
       "    .dataframe thead th {\n",
       "        text-align: right;\n",
       "    }\n",
       "</style>\n",
       "<table border=\"1\" class=\"dataframe\">\n",
       "  <thead>\n",
       "    <tr style=\"text-align: right;\">\n",
       "      <th></th>\n",
       "      <th>Height</th>\n",
       "      <th>Weight</th>\n",
       "      <th>Damage</th>\n",
       "      <th>BaseSpeed</th>\n",
       "      <th>Attack</th>\n",
       "      <th>Defense</th>\n",
       "      <th>BMI</th>\n",
       "    </tr>\n",
       "  </thead>\n",
       "  <tbody>\n",
       "    <tr>\n",
       "      <th>count</th>\n",
       "      <td>151.000000</td>\n",
       "      <td>151.000000</td>\n",
       "      <td>151.000000</td>\n",
       "      <td>151.000000</td>\n",
       "      <td>151.000000</td>\n",
       "      <td>151.000000</td>\n",
       "      <td>151.000000</td>\n",
       "    </tr>\n",
       "    <tr>\n",
       "      <th>mean</th>\n",
       "      <td>46.894040</td>\n",
       "      <td>100.766954</td>\n",
       "      <td>64.218543</td>\n",
       "      <td>68.933775</td>\n",
       "      <td>72.913907</td>\n",
       "      <td>68.225166</td>\n",
       "      <td>32.764506</td>\n",
       "    </tr>\n",
       "    <tr>\n",
       "      <th>std</th>\n",
       "      <td>37.880717</td>\n",
       "      <td>131.299070</td>\n",
       "      <td>28.585519</td>\n",
       "      <td>26.746880</td>\n",
       "      <td>26.755421</td>\n",
       "      <td>26.916704</td>\n",
       "      <td>23.189403</td>\n",
       "    </tr>\n",
       "    <tr>\n",
       "      <th>min</th>\n",
       "      <td>8.000000</td>\n",
       "      <td>0.200000</td>\n",
       "      <td>10.000000</td>\n",
       "      <td>15.000000</td>\n",
       "      <td>5.000000</td>\n",
       "      <td>5.000000</td>\n",
       "      <td>0.035425</td>\n",
       "    </tr>\n",
       "    <tr>\n",
       "      <th>25%</th>\n",
       "      <td>28.000000</td>\n",
       "      <td>21.800000</td>\n",
       "      <td>45.000000</td>\n",
       "      <td>46.500000</td>\n",
       "      <td>51.000000</td>\n",
       "      <td>50.000000</td>\n",
       "      <td>20.856877</td>\n",
       "    </tr>\n",
       "    <tr>\n",
       "      <th>50%</th>\n",
       "      <td>39.000000</td>\n",
       "      <td>66.100000</td>\n",
       "      <td>60.000000</td>\n",
       "      <td>70.000000</td>\n",
       "      <td>70.000000</td>\n",
       "      <td>65.000000</td>\n",
       "      <td>30.042735</td>\n",
       "    </tr>\n",
       "    <tr>\n",
       "      <th>75%</th>\n",
       "      <td>59.000000</td>\n",
       "      <td>124.250000</td>\n",
       "      <td>80.000000</td>\n",
       "      <td>90.000000</td>\n",
       "      <td>92.000000</td>\n",
       "      <td>84.000000</td>\n",
       "      <td>38.245600</td>\n",
       "    </tr>\n",
       "    <tr>\n",
       "      <th>max</th>\n",
       "      <td>346.000000</td>\n",
       "      <td>1014.100000</td>\n",
       "      <td>250.000000</td>\n",
       "      <td>140.000000</td>\n",
       "      <td>134.000000</td>\n",
       "      <td>180.000000</td>\n",
       "      <td>153.707174</td>\n",
       "    </tr>\n",
       "  </tbody>\n",
       "</table>\n",
       "</div>"
      ],
      "text/plain": [
       "           Height       Weight      Damage   BaseSpeed      Attack  \\\n",
       "count  151.000000   151.000000  151.000000  151.000000  151.000000   \n",
       "mean    46.894040   100.766954   64.218543   68.933775   72.913907   \n",
       "std     37.880717   131.299070   28.585519   26.746880   26.755421   \n",
       "min      8.000000     0.200000   10.000000   15.000000    5.000000   \n",
       "25%     28.000000    21.800000   45.000000   46.500000   51.000000   \n",
       "50%     39.000000    66.100000   60.000000   70.000000   70.000000   \n",
       "75%     59.000000   124.250000   80.000000   90.000000   92.000000   \n",
       "max    346.000000  1014.100000  250.000000  140.000000  134.000000   \n",
       "\n",
       "          Defense         BMI  \n",
       "count  151.000000  151.000000  \n",
       "mean    68.225166   32.764506  \n",
       "std     26.916704   23.189403  \n",
       "min      5.000000    0.035425  \n",
       "25%     50.000000   20.856877  \n",
       "50%     65.000000   30.042735  \n",
       "75%     84.000000   38.245600  \n",
       "max    180.000000  153.707174  "
      ]
     },
     "execution_count": 9,
     "metadata": {},
     "output_type": "execute_result"
    }
   ],
   "source": [
    "# 1\n",
    "pokedex['BMI'] = 703 * pokedex['Weight'] / (pokedex['Height'] ** 2)\n",
    "print(pokedex.head())\n",
    "\n",
    "# 2\n",
    "max_bmi = pokedex['BMI'].idxmax()\n",
    "min_bmi = pokedex['BMI'].idxmin()\n",
    "print(\"Max:\", pokedex.loc[max_bmi, \"Pokemon\"])\n",
    "print(\"Min:\", pokedex.loc[min_bmi, \"Pokemon\"])\n",
    "\n",
    "# 3\n",
    "no_water_high_defense = pokedex[(pokedex['Defense'] >= 62) & (pokedex['MainType'] != 'Water')]\n",
    "print(no_water_high_defense.head())\n",
    "\n",
    "# 4\n",
    "pokedex.describe()"
   ]
  },
  {
   "cell_type": "markdown",
   "metadata": {
    "id": "p7roH3gE34OV"
   },
   "source": [
    "The .describe() function ran on the numerical Series in the DataFrame, such as Height, Weight, Attack, Defense, and Speed. It did not run on the categorical Series like Name, MainType, and SubType. The difference is that the .describe() function provides summary statistics (like count, mean, std, min, max, and quartiles) for numerical data, which are meaningful for quantitative analysis. For categorical data, these statistics do not apply."
   ]
  },
  {
   "cell_type": "markdown",
   "metadata": {},
   "source": [
    "# Part 4: Numpy and Pandas Together\n",
    "\n",
    "## Part 4.1: Reading the Data (5 points)\n",
    "\n",
    "For this task, using `seaborn`, you need to import the  `tips` dataset. Print the first few rows of the dataset and describe the dataset using `describe()`"
   ]
  },
  {
   "cell_type": "code",
   "execution_count": 10,
   "metadata": {},
   "outputs": [],
   "source": [
    "import pandas as pd\n",
    "import seaborn as sns"
   ]
  },
  {
   "cell_type": "code",
   "execution_count": 11,
   "metadata": {},
   "outputs": [
    {
     "name": "stdout",
     "output_type": "stream",
     "text": [
      "   total_bill   tip     sex smoker  day    time  size\n",
      "0       16.99  1.01  Female     No  Sun  Dinner     2\n",
      "1       10.34  1.66    Male     No  Sun  Dinner     3\n",
      "2       21.01  3.50    Male     No  Sun  Dinner     3\n",
      "3       23.68  3.31    Male     No  Sun  Dinner     2\n",
      "4       24.59  3.61  Female     No  Sun  Dinner     4\n",
      "       total_bill         tip        size\n",
      "count  244.000000  244.000000  244.000000\n",
      "mean    19.785943    2.998279    2.569672\n",
      "std      8.902412    1.383638    0.951100\n",
      "min      3.070000    1.000000    1.000000\n",
      "25%     13.347500    2.000000    2.000000\n",
      "50%     17.795000    2.900000    2.000000\n",
      "75%     24.127500    3.562500    3.000000\n",
      "max     50.810000   10.000000    6.000000\n"
     ]
    }
   ],
   "source": [
    "tips = sns.load_dataset('tips')\n",
    "\n",
    "print(tips.head())\n",
    "print(tips.describe())"
   ]
  },
  {
   "cell_type": "markdown",
   "metadata": {},
   "source": [
    "# Part 4.2: Manipulating dataset (25 points)\n",
    "\n",
    "1. Extract the `total_bill` column as a NumPy array. Slice the array to get elements from index 10 to 20 (inclusive). Print the sliced array.\n",
    "\n",
    "2. Using `iloc`, select rows 5-15 (inclusive) and columns 1-3 (inclusive), and display the result. Using `loc`, select all rows where `time` is `Dinner` and display only the `total_bill` and `tip` columns.\n",
    "\n",
    "3. Create a new column called `tip_percentage` that calculates the tip as a percentage of the total bill. Display the new columns after calculation\n",
    "\n",
    "4. Create a new DataFrame with a single column called `bill_category` that categorizes each bill as `Low` (< \\$15), `Medium` (\\$15-\n",
    "\\$25), or `High` (> \\$25). Use pd.concat to add this new column to the original dataset. Save the modified dataset to a CSV file named `modified_tips.csv`. Print the head of the `modified_tips.csv`\n"
   ]
  },
  {
   "cell_type": "code",
   "execution_count": null,
   "metadata": {},
   "outputs": [
    {
     "name": "stdout",
     "output_type": "stream",
     "text": [
      "[10.27 35.26 15.42 18.43 14.83 21.58 10.33 16.29 16.97 20.65 17.92]\n",
      "     tip     sex smoker\n",
      "5   4.71    Male     No\n",
      "6   2.00    Male     No\n",
      "7   3.12    Male     No\n",
      "8   1.96    Male     No\n",
      "9   3.23    Male     No\n",
      "10  1.71    Male     No\n",
      "11  5.00  Female     No\n",
      "12  1.57    Male     No\n",
      "13  3.00    Male     No\n",
      "14  3.02  Female     No\n",
      "15  3.92    Male     No\n",
      "     total_bill   tip\n",
      "0         16.99  1.01\n",
      "1         10.34  1.66\n",
      "2         21.01  3.50\n",
      "3         23.68  3.31\n",
      "4         24.59  3.61\n",
      "..          ...   ...\n",
      "239       29.03  5.92\n",
      "240       27.18  2.00\n",
      "241       22.67  2.00\n",
      "242       17.82  1.75\n",
      "243       18.78  3.00\n",
      "\n",
      "[176 rows x 2 columns]\n",
      "tip_percentage column:\n",
      "0     5.94\n",
      "1    16.05\n",
      "2    16.66\n",
      "3    13.98\n",
      "4    14.68\n",
      "Name: tip_percentage, dtype: float64\n"
     ]
    },
    {
     "data": {
      "text/html": [
       "<div>\n",
       "<style scoped>\n",
       "    .dataframe tbody tr th:only-of-type {\n",
       "        vertical-align: middle;\n",
       "    }\n",
       "\n",
       "    .dataframe tbody tr th {\n",
       "        vertical-align: top;\n",
       "    }\n",
       "\n",
       "    .dataframe thead th {\n",
       "        text-align: right;\n",
       "    }\n",
       "</style>\n",
       "<table border=\"1\" class=\"dataframe\">\n",
       "  <thead>\n",
       "    <tr style=\"text-align: right;\">\n",
       "      <th></th>\n",
       "      <th>total_bill</th>\n",
       "      <th>tip</th>\n",
       "      <th>sex</th>\n",
       "      <th>smoker</th>\n",
       "      <th>day</th>\n",
       "      <th>time</th>\n",
       "      <th>size</th>\n",
       "      <th>tip_percentage</th>\n",
       "      <th>bill_category</th>\n",
       "    </tr>\n",
       "  </thead>\n",
       "  <tbody>\n",
       "    <tr>\n",
       "      <th>0</th>\n",
       "      <td>16.99</td>\n",
       "      <td>1.01</td>\n",
       "      <td>Female</td>\n",
       "      <td>No</td>\n",
       "      <td>Sun</td>\n",
       "      <td>Dinner</td>\n",
       "      <td>2</td>\n",
       "      <td>5.94</td>\n",
       "      <td>Medium</td>\n",
       "    </tr>\n",
       "    <tr>\n",
       "      <th>1</th>\n",
       "      <td>10.34</td>\n",
       "      <td>1.66</td>\n",
       "      <td>Male</td>\n",
       "      <td>No</td>\n",
       "      <td>Sun</td>\n",
       "      <td>Dinner</td>\n",
       "      <td>3</td>\n",
       "      <td>16.05</td>\n",
       "      <td>Low</td>\n",
       "    </tr>\n",
       "    <tr>\n",
       "      <th>2</th>\n",
       "      <td>21.01</td>\n",
       "      <td>3.50</td>\n",
       "      <td>Male</td>\n",
       "      <td>No</td>\n",
       "      <td>Sun</td>\n",
       "      <td>Dinner</td>\n",
       "      <td>3</td>\n",
       "      <td>16.66</td>\n",
       "      <td>Medium</td>\n",
       "    </tr>\n",
       "    <tr>\n",
       "      <th>3</th>\n",
       "      <td>23.68</td>\n",
       "      <td>3.31</td>\n",
       "      <td>Male</td>\n",
       "      <td>No</td>\n",
       "      <td>Sun</td>\n",
       "      <td>Dinner</td>\n",
       "      <td>2</td>\n",
       "      <td>13.98</td>\n",
       "      <td>Medium</td>\n",
       "    </tr>\n",
       "    <tr>\n",
       "      <th>4</th>\n",
       "      <td>24.59</td>\n",
       "      <td>3.61</td>\n",
       "      <td>Female</td>\n",
       "      <td>No</td>\n",
       "      <td>Sun</td>\n",
       "      <td>Dinner</td>\n",
       "      <td>4</td>\n",
       "      <td>14.68</td>\n",
       "      <td>Medium</td>\n",
       "    </tr>\n",
       "  </tbody>\n",
       "</table>\n",
       "</div>"
      ],
      "text/plain": [
       "   total_bill   tip     sex smoker  day    time  size  tip_percentage  \\\n",
       "0       16.99  1.01  Female     No  Sun  Dinner     2            5.94   \n",
       "1       10.34  1.66    Male     No  Sun  Dinner     3           16.05   \n",
       "2       21.01  3.50    Male     No  Sun  Dinner     3           16.66   \n",
       "3       23.68  3.31    Male     No  Sun  Dinner     2           13.98   \n",
       "4       24.59  3.61  Female     No  Sun  Dinner     4           14.68   \n",
       "\n",
       "  bill_category  \n",
       "0        Medium  \n",
       "1           Low  \n",
       "2        Medium  \n",
       "3        Medium  \n",
       "4        Medium  "
      ]
     },
     "execution_count": 12,
     "metadata": {},
     "output_type": "execute_result"
    }
   ],
   "source": [
    "# 1\n",
    "total_bill_array = tips['total_bill'].to_numpy()\n",
    "print(total_bill_array[10:21])\n",
    "\n",
    "# 2\n",
    "print(tips.iloc[5:16, 1:4])\n",
    "\n",
    "dinner_tips = tips.loc[tips['time'] == 'Dinner', ['total_bill', 'tip']]\n",
    "print(dinner_tips)\n",
    "\n",
    "# 3\n",
    "tips['tip_percentage'] = round((tips['tip'] / tips['total_bill']) * 100, 2)\n",
    "print(\"tip_percentage column:\")\n",
    "print(tips['tip_percentage'].head())\n",
    "\n",
    "# 4\n",
    "def categorize_bill(bill):\n",
    "    \"\"\"\n",
    "    Categorize the bill amount into 'Low', 'Medium', or 'High'.\n",
    "    Args:\n",
    "        bill (float): The total bill amount.\n",
    "    Returns:\n",
    "        str: 'Low' if bill < 15, 'Medium' if 15 <= bill <= 25, 'High' if bill > 25.\n",
    "    \"\"\"\n",
    "    if bill < 15:\n",
    "        return 'Low'\n",
    "    elif 15 <= bill <= 25:\n",
    "        return 'Medium'\n",
    "    else:\n",
    "        return 'High'\n",
    "\n",
    "# Create bill_category column\n",
    "bill_category_df = pd.DataFrame({'bill_category': tips['total_bill'].apply(categorize_bill)})\n",
    "\n",
    "# Concat and Save\n",
    "tips = pd.concat([tips, bill_category_df], axis=1)\n",
    "tips.to_csv('modified_tips.csv', index=False) \n",
    "\n",
    "# Read and Display\n",
    "modified_tips = pd.read_csv('modified_tips.csv')\n",
    "modified_tips.head()"
   ]
  }
 ],
 "metadata": {
  "colab": {
   "provenance": []
  },
  "kernelspec": {
   "display_name": "Python 3",
   "language": "python",
   "name": "python3"
  },
  "language_info": {
   "codemirror_mode": {
    "name": "ipython",
    "version": 3
   },
   "file_extension": ".py",
   "mimetype": "text/x-python",
   "name": "python",
   "nbconvert_exporter": "python",
   "pygments_lexer": "ipython3",
   "version": "3.12.6"
  }
 },
 "nbformat": 4,
 "nbformat_minor": 4
}
