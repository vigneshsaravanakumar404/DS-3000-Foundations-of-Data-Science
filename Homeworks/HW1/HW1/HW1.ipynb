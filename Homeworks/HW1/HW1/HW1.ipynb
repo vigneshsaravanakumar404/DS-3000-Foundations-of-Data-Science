{
 "cells": [
  {
   "cell_type": "markdown",
   "metadata": {
    "id": "djFS9mzk34OS"
   },
   "source": [
    "# DS 3000 HW 1\n",
    "\n",
    "## Due: Friday Sept. 12 @ 11:59 PM EST\n",
    "\n",
    "**Extra Credit Deadline: Wednesday Sept. 10th @ 11:59 PM**\n",
    "\n",
    "Name: \n",
    "\n",
    "### Submission Instructions\n",
    "Submit this `ipynb` file to Gradescope (this can also be done via the assignment on Canvas).  To ensure that your submitted `ipynb` file represents your latest code, make sure to give a fresh `Kernel > Restart & Run All` just before uploading the `ipynb` file to gradescope.\n",
    "\n",
    "### Tips for success\n",
    "- Start early\n",
    "- Make use of Piazza (also accessible through Canvas)\n",
    "- Make use of Office Hours\n",
    "- Remember to use cells and headings to make the notebook easy to read (if a grader cannot find the answer to a problem, you will receive no points for it)\n",
    "- Under no circumstances may one student view or share their ungraded homework or quiz with another student [(see also)](http://www.northeastern.edu/osccr/academic-integrity), though you are welcome to **talk about** (*not* show each other your answers to) the problems."
   ]
  },
  {
   "cell_type": "markdown",
   "metadata": {
    "id": "LhmW8TLq34OU"
   },
   "source": [
    "# Part 1: Lists and Flow and Functions, Oh my!\n",
    "## Part 1.1: Manual Data Entry (25 points)\n",
    "\n",
    "\n",
    "How would you manually track temperature changes throughout the day without an automated weather station? Go to this website: [this website](https://www.weather.gov/) and look up your local area's current temperature. You are going to write a function that takes manual input of temperature readings (entered by you), stores all readings in a list, stops once you enter 15 values or four consecutive increasing values (whichever comes first), and returns the temperature data.\n",
    "For this problem:\n",
    "\n",
    "- Call your function `temp_tracker`\n",
    "- Make sure that you use the `input()` option within your function to accept entries\n",
    "- Make sure you are saving all entries in a list\n",
    "- Use `if-else` and a `while` loop\n",
    "- When you have written the function, call:\n",
    "\n",
    "`temperature_log = temp_tracker()`\n",
    "\n",
    "`temperature_log`\n",
    "\n",
    "and manually check the weather website to enter the current temperature (refresh the page every few minutes for updates).\n",
    "\n",
    "**Note**: There may be multiple ways to get this function to work, but to receive full points, your function **must** have the five components listed above (there may be more efficient ways to do it, but I want you to show me you know how to use *these methods*)."
   ]
  },
  {
   "cell_type": "code",
   "execution_count": null,
   "metadata": {
    "id": "Wi7esKnS34OU"
   },
   "outputs": [
    {
     "name": "stdout",
     "output_type": "stream",
     "text": [
      "[73.0, 73.0, 73.0, 73.0, 73.0, 73.0, 73.0, 73.0, 73.0, 73.0, 73.0, 73.0, 73.0, 73.0, 73.0]\n"
     ]
    }
   ],
   "source": [
    "def last_4_are_increasing(temps):\n",
    "    \"\"\"\n",
    "    Check if the last four temperatures in the list are strictly increasing.\n",
    "    \n",
    "    Args:\n",
    "        temps (list of float): List of recorded temperatures.\n",
    "    Returns:\n",
    "        bool: True if the last four temperatures are strictly increasing, False otherwise.\n",
    "    \"\"\"\n",
    "    if len(temps) < 4:\n",
    "        return False\n",
    "    else:\n",
    "        return temps[-1] > temps[-2] > temps[-3] > temps[-4]\n",
    "    \n",
    "def temp_tracker():\n",
    "    \"\"\"\n",
    "    Continuously prompt the user to enter temperatures until either 15 temperatures or last 4 are increaing.\n",
    "    Returns:\n",
    "        list of float: List of recorded temperatures.\n",
    "    \"\"\"\n",
    "    inputs = []\n",
    "    while len(inputs) < 15 and not last_4_are_increasing(inputs):\n",
    "        temp = float(input(\"Enter a temperature: \"))\n",
    "        inputs.append(temp)\n",
    "    \n",
    "    return inputs\n",
    "\n",
    "print(temp_tracker())"
   ]
  },
  {
   "cell_type": "markdown",
   "metadata": {
    "id": "Y-UOLA_S34OU"
   },
   "source": [
    "# Part 2: Numpy\n",
    "## Part 2.1: Creating Arrays (5 points)\n",
    "\n",
    "Create the following two arrays using the NumPy library. Call the first array `array_a` and the second array `array_b` (make sure you keep the `import` statement below):\n",
    "\n",
    "$$\\mathbf{array_a} = \\begin{bmatrix}10 & 2 & -1 & -24\\\\\n",
    "-.1 & 22 & -6 & 3\\\\\n",
    "-4 & 2 & -3 & 3.2\n",
    "\\end{bmatrix}$$\n",
    "\n",
    "$$\\mathbf{array_b} = \\begin{bmatrix}10 & 1 & -4\\\\\n",
    "4 & -6 & -1\\\\\n",
    "1.2 & -4 & -12\\\\\n",
    "3.2 & -2 & -1\\\\\n",
    "3 & -4 & -42\n",
    "\\end{bmatrix}$$\n",
    "\n",
    "Then, uncomment out the code provided to print them and verify they are correct."
   ]
  },
  {
   "cell_type": "code",
   "execution_count": 2,
   "metadata": {
    "id": "L2eSSChf34OU"
   },
   "outputs": [],
   "source": [
    "# make sure to import numpy library\n",
    "import numpy as np"
   ]
  },
  {
   "cell_type": "code",
   "execution_count": 3,
   "metadata": {
    "id": "iscTozLi34OU"
   },
   "outputs": [],
   "source": [
    "array_a = np.array([[10, 2, -1, -24],\n",
    "                    [-0.1, 22, -6, 3],\n",
    "                    [-4, 2, -3, 3.2]])\n",
    "\n",
    "array_b = np.array([[10, 1, -4],\n",
    "                    [4, -6, -1],\n",
    "                    [1.2, -4, -12],\n",
    "                    [3.2, -2, -1],\n",
    "                    [3, -4, -42]])"
   ]
  },
  {
   "cell_type": "code",
   "execution_count": 4,
   "metadata": {
    "id": "tLv-1nhm34OU"
   },
   "outputs": [
    {
     "data": {
      "text/plain": [
       "array([[ 10. ,   2. ,  -1. , -24. ],\n",
       "       [ -0.1,  22. ,  -6. ,   3. ],\n",
       "       [ -4. ,   2. ,  -3. ,   3.2]])"
      ]
     },
     "execution_count": 4,
     "metadata": {},
     "output_type": "execute_result"
    }
   ],
   "source": [
    "# uncomment below to print array_a\n",
    "array_a"
   ]
  },
  {
   "cell_type": "code",
   "execution_count": 5,
   "metadata": {
    "id": "H7AEnrg334OU"
   },
   "outputs": [
    {
     "data": {
      "text/plain": [
       "array([[ 10. ,   1. ,  -4. ],\n",
       "       [  4. ,  -6. ,  -1. ],\n",
       "       [  1.2,  -4. , -12. ],\n",
       "       [  3.2,  -2. ,  -1. ],\n",
       "       [  3. ,  -4. , -42. ]])"
      ]
     },
     "execution_count": 5,
     "metadata": {},
     "output_type": "execute_result"
    }
   ],
   "source": [
    "# uncomment below to print array_b\n",
    "array_b"
   ]
  },
  {
   "cell_type": "markdown",
   "metadata": {
    "id": "DiQNAGWb34OU"
   },
   "source": [
    "## Part 2.2: Exploring Arrays (15 points)\n",
    "\n",
    "1. Give the shape, size, ndim, and nbytes for each of the two arrays.\n",
    "1. Take the transpose of both arrays. Call these `t_array_a` and `t_array_b`.\n",
    "1. Try to add `array_a` and `t_array_b`, explain what happended in a markdown cell. Then remove the last column of `t_array_b` and try to add them again. What is the result? In a markdown cell explain why the addition worked"
   ]
  },
  {
   "cell_type": "code",
   "execution_count": null,
   "metadata": {
    "id": "Qvu73pXY34OV"
   },
   "outputs": [
    {
     "name": "stdout",
     "output_type": "stream",
     "text": [
      "Shape: (3, 4) Size: 12 nd: 2 nbytes: 96\n",
      "Shape: (5, 3) Size: 15 nd: 2 nbytes: 120\n"
     ]
    },
    {
     "ename": "ValueError",
     "evalue": "operands could not be broadcast together with shapes (3,4) (3,5) ",
     "output_type": "error",
     "traceback": [
      "\u001b[1;31m---------------------------------------------------------------------------\u001b[0m",
      "\u001b[1;31mValueError\u001b[0m                                Traceback (most recent call last)",
      "Cell \u001b[1;32mIn[10], line 10\u001b[0m\n\u001b[0;32m      7\u001b[0m t_array_b \u001b[38;5;241m=\u001b[39m array_b\u001b[38;5;241m.\u001b[39mT\n\u001b[0;32m      9\u001b[0m \u001b[38;5;66;03m# 3\u001b[39;00m\n\u001b[1;32m---> 10\u001b[0m \u001b[38;5;28mprint\u001b[39m(\u001b[43mnp\u001b[49m\u001b[38;5;241;43m.\u001b[39;49m\u001b[43madd\u001b[49m\u001b[43m(\u001b[49m\u001b[43marray_a\u001b[49m\u001b[43m,\u001b[49m\u001b[43m \u001b[49m\u001b[43mt_array_b\u001b[49m\u001b[43m)\u001b[49m)\n",
      "\u001b[1;31mValueError\u001b[0m: operands could not be broadcast together with shapes (3,4) (3,5) "
     ]
    }
   ],
   "source": [
    "# 1\n",
    "print(\"Shape:\", array_a.shape, \"Size:\", array_a.size, \"nd:\", array_a.ndim, \"nbytes:\", array_a.nbytes)\n",
    "print(\"Shape:\", array_b.shape, \"Size:\", array_b.size, \"nd:\", array_b.ndim, \"nbytes:\", array_b.nbytes)\n",
    "\n",
    "# 2\n",
    "t_array_a = array_a.T\n",
    "t_array_b = array_b.T\n",
    "\n",
    "# 3\n",
    "print(np.add(array_a, t_array_b))\n"
   ]
  },
  {
   "cell_type": "markdown",
   "metadata": {
    "id": "gmkwFTnN34OV"
   },
   "source": [
    "THe addition did not work because the shapes of the two arrays were not compatible for addition. Array_a has a shape of (3, 4) and t_array_b has a shape of (3, 5). For two arrays to be added together, they must have the same shape or be broadcastable to a common shape. In this case, the number of columns in array_a (4) does not match the number of columns in t_array_b (5), so the addition operation cannot be performed."
   ]
  },
  {
   "cell_type": "markdown",
   "metadata": {
    "id": "TOc2YRxC34OV"
   },
   "source": [
    "# Part 3: Pandas PokÃ©mon\n",
    "## Part 3.1: Reading in Data (5 points)\n",
    "\n",
    "On Canvas is the `pokedata.csv` file. Read this data set in, using the `Pokedex` as the index column, and print the first few rows of the data. Make sure you keep the `import` statement below!"
   ]
  },
  {
   "cell_type": "code",
   "execution_count": 4,
   "metadata": {
    "id": "yRwEN_iN34OV"
   },
   "outputs": [],
   "source": [
    "# make sure to import pandas library\n",
    "import pandas as pd"
   ]
  },
  {
   "cell_type": "code",
   "execution_count": null,
   "metadata": {
    "id": "HfMahei034OV"
   },
   "outputs": [],
   "source": []
  },
  {
   "cell_type": "markdown",
   "metadata": {
    "id": "qnh-tiPA34OV"
   },
   "source": [
    "## Part 3.2: Manipulating Data (20 points)\n",
    "\n",
    "1. Add a new column to the data set that calculates the BMI of the PokÃ©mon. The formula for BMI using Imperial Units (such as these data contain) is = $703 \\times \\frac{Weight}{Height^2}$. Print the first few rows.\n",
    "    2. Use indexing and the `.idxmax()` and `.idxmin()` functions to find the PokÃ©mon that have (a) the highest BMI and (b) the lowest BMI.\n",
    "1. Create a subset of the PokÃ©mon Data that you created in (1) which (a) includes only PokÃ©mon that have `Defense >= 62` and (b) **excludes** all PokÃ©mon with the Water `MainType`. Make sure to save this subset as a new data frame and print the first few rows of the data.\n",
    "1. Use the `.describe()` function to produce summary statistics for the **full** PokÃ©mon Data from the data from (1). Create a markdown cell and explain:\n",
    "    2. What Series did the `.describe()` function run on? What Series did it not run on? What is the difference, and what does this mean the `.describe()` function is used for?"
   ]
  },
  {
   "cell_type": "code",
   "execution_count": null,
   "metadata": {
    "id": "PijgqvaK34OV"
   },
   "outputs": [],
   "source": []
  },
  {
   "cell_type": "markdown",
   "metadata": {
    "id": "p7roH3gE34OV"
   },
   "source": []
  },
  {
   "cell_type": "markdown",
   "metadata": {},
   "source": [
    "# Part 4: Numpy and Pandas Together\n",
    "\n",
    "## Part 4.1: Reading the Data (5 points)\n",
    "\n",
    "For this task, using `seaborn`, you need to import the  `tips` dataset. Print the first few rows of the dataset and describe the dataset using `describe()`"
   ]
  },
  {
   "cell_type": "code",
   "execution_count": 5,
   "metadata": {},
   "outputs": [],
   "source": [
    "import pandas as pd\n",
    "import numpy as np\n",
    "import seaborn as sns"
   ]
  },
  {
   "cell_type": "code",
   "execution_count": null,
   "metadata": {},
   "outputs": [],
   "source": []
  },
  {
   "cell_type": "markdown",
   "metadata": {},
   "source": [
    "# Part 4.2: Manipulating dataset (25 points)\n",
    "\n",
    "1. Extract the `total_bill` column as a NumPy array. Slice the array to get elements from index 10 to 20 (inclusive). Print the sliced array.\n",
    "\n",
    "2. Using `iloc`, select rows 5-15 (inclusive) and columns 1-3 (inclusive), and display the result. Using `loc`, select all rows where `time` is `Dinner` and display only the `total_bill` and `tip` columns.\n",
    "\n",
    "3. Create a new column called `tip_percentage` that calculates the tip as a percentage of the total bill. Display the new columns after calculation\n",
    "\n",
    "4. Create a new DataFrame with a single column called `bill_category` that categorizes each bill as `Low` (< \\$15), `Medium` (\\$15-\n",
    "\\$25), or `High` (> \\$25). Use pd.concat to add this new column to the original dataset. Save the modified dataset to a CSV file named `modified_tips.csv`. Print the head of the `modified_tips.csv`\n"
   ]
  },
  {
   "cell_type": "code",
   "execution_count": null,
   "metadata": {},
   "outputs": [],
   "source": []
  }
 ],
 "metadata": {
  "colab": {
   "provenance": []
  },
  "kernelspec": {
   "display_name": "Python 3",
   "language": "python",
   "name": "python3"
  },
  "language_info": {
   "codemirror_mode": {
    "name": "ipython",
    "version": 3
   },
   "file_extension": ".py",
   "mimetype": "text/x-python",
   "name": "python",
   "nbconvert_exporter": "python",
   "pygments_lexer": "ipython3",
   "version": "3.12.6"
  }
 },
 "nbformat": 4,
 "nbformat_minor": 4
}
