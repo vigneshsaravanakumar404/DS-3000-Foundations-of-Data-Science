{
 "cells": [
  {
   "cell_type": "markdown",
   "metadata": {},
   "source": [
    "# DS 3000 HW 3"
   ]
  },
  {
   "cell_type": "markdown",
   "metadata": {},
   "source": [
    "Due: Friday, October 17 @ 11:59 PM EST\n",
    "\n",
    "Extra Credit Deadline: Wednesday October 15 @ 11:59 PM EST\n",
    "\n",
    "### Submission Instructions\n",
    "You need to submit `pdf` of all your work to Gradescope (this can also be done via the assignment on Canvas). You will not do anything in this jupyter notebook!! \n",
    "\n",
    "**In addition:**\n",
    "- Make sure your name is on top of the sheet.\n",
    "- Please circle your answers\n",
    "- If problems are difficult for the TAs/Profs to grade, you will lose points. Make sure your work is legible \n",
    "\n",
    "### Tips for success\n",
    "- Start early\n",
    "- Make use of Piazza (also accessible through Canvas)\n",
    "- Make use of Office Hours\n",
    "- Under no circumstances may one student view or share their ungraded homework or quiz with another student [(see also)](http://www.northeastern.edu/osccr/academic-integrity), though you are welcome to **talk about** (*not* show each other your answers to) the problems."
   ]
  },
  {
   "cell_type": "markdown",
   "metadata": {},
   "source": [
    "# Computation by Hand\n",
    "\n",
    "This whole lab has to be done via hand. You need to solve all these problems on a piece of paper and submit `pdf` of your answers. Make sure you put your name on the sheet and circle your final answer. "
   ]
  },
  {
   "cell_type": "markdown",
   "metadata": {},
   "source": [
    "# Part 1: Vector Geometry Practice (20 points)\n",
    "\n",
    "Use the vectors to below to compute the following quantities. You must show all math work/steps (no matter how trivial) to receive full credit.\n",
    "\n",
    "\n",
    "$a = \\begin{bmatrix} 4 \\\\ -1 \\\\ 2 \\end{bmatrix}$\n",
    "\n",
    "$b = \\begin{bmatrix} -1 \\\\ -5 \\\\ 1 \\end{bmatrix}$\n",
    "\n",
    "$c = \\begin{bmatrix} 3 \\\\ -3 \\\\ -6 \\end{bmatrix}$\n",
    "\n",
    "1. Compute $||b+c||$\n",
    "2. Compute $2a + b$\n",
    "3. Compute $c \\cdot a$\n",
    "4. Compute $||\\frac{a}{2} - c||$\n",
    "5. Compute $b \\cdot (a + c)$"
   ]
  },
  {
   "cell_type": "markdown",
   "metadata": {},
   "source": [
    "## Part 2: Matrix Multiplication (20 points)\n",
    "\n",
    "Using the below matrices, perform the following operations:\n",
    "\n",
    "$$A = \\begin{bmatrix}\n",
    "-3 & 8 \\\\\n",
    "0 & 5\n",
    "\\end{bmatrix}$$\n",
    "\n",
    "$$B = \\begin{bmatrix}\n",
    "2 & -7 \\\\\n",
    "6 & -1 \\\\\n",
    "-9 & 4 \\end{bmatrix}$$\n",
    "\n",
    "$$C = \\begin{bmatrix}\n",
    "-6 & 0 & 5 \\\\\n",
    "1 & 3 & -2 \\\\\n",
    "7 & -5 & -8 \\\\\n",
    "4 & 9 & -10\n",
    "\\end{bmatrix}$$\n",
    "\n",
    "$$D = \\begin{bmatrix}\n",
    "-4 & 0 & 3 \\\\\n",
    "8 & -2 & 5 \\\\\n",
    "6 & -3 & 1\n",
    "\\end{bmatrix}$$\n",
    "\n",
    "$$e = \\begin{bmatrix}\n",
    "7 \\\\\n",
    "-8 \\\\\n",
    "10 \\\\\n",
    "-1\n",
    "\\end{bmatrix}$$\n",
    "\n",
    "1) $AB^T$\n",
    "2) $CD$\n",
    "3) $DB$\n",
    "4) $Ce$\n",
    "5) $e^TC$"
   ]
  },
  {
   "cell_type": "markdown",
   "metadata": {},
   "source": [
    "## Part 3: Spans, Linear In/Dependence, Orthogonality (20 points)\n",
    "\n",
    "Based on the following three vectors, answer the ensuing questions, making sure to write out all supporting work with by hand.\n",
    "\n",
    "$$a = \\begin{bmatrix} 8 \\\\ -2 \\end{bmatrix}$$\n",
    "$$b = \\begin{bmatrix} 1 \\\\ 4 \\end{bmatrix}$$\n",
    "$$c = \\begin{bmatrix} -3 \\\\ .75 \\end{bmatrix}$$\n",
    "\n",
    "1) What is the span of $a$ and $b$?\n",
    "2) What is the span of $a$ and $c$?\n",
    "3) Are the vectors $a$ and $b$ linearly independent or dependent?\n",
    "4) Is the set of all three vectors linearly independent or dependent?\n",
    "5) Which vectors are orthogonal to each other?"
   ]
  },
  {
   "cell_type": "markdown",
   "metadata": {},
   "source": [
    "## Part 4: RREF (10 points)\n",
    "\n",
    "Find the reduced row‐echelon form (RREF) of the following matrix\n",
    "\n",
    "$$\\left[\n",
    "    \\begin{array}{ccc}\n",
    "        1 & 2 & 1\\\\\n",
    "        2 & 3 & 4\\\\\n",
    "        3 & 5 & 5\n",
    "    \\end{array}\n",
    "\\right]$$"
   ]
  },
  {
   "cell_type": "markdown",
   "metadata": {},
   "source": [
    "## Part 5: Projections (5 points)\n",
    "\n",
    "By hand, find the point in the span of $a = \\begin{bmatrix} -1 \\\\ 3 \\end{bmatrix}$ that is closest to $b = \\begin{bmatrix} 0 \\\\ -3 \\end{bmatrix}$. Make sure to show **all** work by hand. **Also, draw a rough sketch** of the operation"
   ]
  },
  {
   "cell_type": "markdown",
   "metadata": {},
   "source": [
    "## Part 6: Gaussian Elimination (5 points)\n",
    "\n",
    "Find the solution to these equations by converting them into a matrix and applying Gaussian Elimination:\n",
    "\n",
    "$3x+y−5z= 27$\n",
    "\n",
    "$−x+4y+z=-15$\n",
    "\n",
    "$x+2z=−5$"
   ]
  },
  {
   "cell_type": "markdown",
   "metadata": {},
   "source": [
    "# Part 7: Eigenvalues and Eigenvectors (20 points)\n",
    "\n",
    "Show all math work/steps (no matter how trivial) to receive full credit. \n",
    "\n",
    "Find the eigenvalues and eigenvectors for the following matrices:\n",
    "\n",
    "$$A = \\begin{bmatrix}\n",
    "    -6 & 3 \\\\ 4 & 5\n",
    "\\end{bmatrix}$$\n",
    "\n",
    "$$B = \\begin{bmatrix}\n",
    "    5 & 6 \\\\ 2 & 1\n",
    "\\end{bmatrix}$$\n"
   ]
  }
 ],
 "metadata": {
  "kernelspec": {
   "display_name": "Python 3 (ipykernel)",
   "language": "python",
   "name": "python3"
  },
  "language_info": {
   "codemirror_mode": {
    "name": "ipython",
    "version": 3
   },
   "file_extension": ".py",
   "mimetype": "text/x-python",
   "name": "python",
   "nbconvert_exporter": "python",
   "pygments_lexer": "ipython3",
   "version": "3.13.0"
  }
 },
 "nbformat": 4,
 "nbformat_minor": 4
}
