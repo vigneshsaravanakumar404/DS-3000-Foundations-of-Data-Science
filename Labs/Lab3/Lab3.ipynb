{
 "cells": [
  {
   "cell_type": "markdown",
   "id": "e52a63c5-8632-42cf-a598-1f9b9fcf118e",
   "metadata": {},
   "source": [
    "# Lab 3 (Due @ by 11:59 pm via Canvas/Gradescope)"
   ]
  },
  {
   "cell_type": "markdown",
   "id": "5a4381c6-9601-4e78-806e-2c06d0aaea20",
   "metadata": {},
   "source": [
    "Your Name:"
   ]
  },
  {
   "cell_type": "markdown",
   "id": "036f3831-9eab-4c04-a0e5-dbe043d32320",
   "metadata": {},
   "source": [
    "Due: Tuesday, Oct. 14 @ 11:59 pm\n",
    "\n",
    "### Submission Instructions\n",
    "Submit this `ipynb` file to Gradescope (this can also be done via the assignment on Canvas).  To ensure that your submitted `ipynb` file represents your latest code, make sure to give a fresh `Kernel > Restart & Run All` just before uploading the `ipynb` file to gradescope. **In addition:**\n",
    "- **Make sure your name is entered above**\n",
    "- Make sure you comment your code effectively\n",
    "- If problems are difficult for the TAs/Profs to grade, you will lose points\n",
    "\n",
    "### Special Note for This Lab\n",
    "There are \"handwritten\" parts of this lab. You must show all math work/steps (no matter how trivial) to receive full credit. You may either use LaTeX typesetting within a Markdown cell, or do it by hand with pen and paper and embed submit a pdf file with your handwritten work. Round all decimals to three places.\n",
    "\n",
    "### Tips for success\n",
    "- Collaborate: bounce ideas off of each other, if you are having trouble you can ask your classmates or Dr. Singhal for help with specific issues, however...\n",
    "- Under no circumstances may one student view or share their ungraded homework or quiz with another student [(see also)](http://www.northeastern.edu/osccr/academic-integrity), i.e. you are welcome to **talk about** (*not* show each other your answers to) the problems."
   ]
  },
  {
   "cell_type": "code",
   "execution_count": 12,
   "id": "128c2500-de83-4732-a3ac-78ccdd6094f2",
   "metadata": {},
   "outputs": [],
   "source": [
    "# you might use the below modules on this lab\n",
    "import warnings\n",
    "warnings.simplefilter(action='ignore', category=FutureWarning)\n",
    "import pandas as pd\n",
    "import numpy as np\n",
    "import plotly.express as px\n",
    "from sympy import *"
   ]
  },
  {
   "cell_type": "markdown",
   "id": "d197c58c-8285-446e-bb07-347de63ce276",
   "metadata": {},
   "source": [
    "## Part 1: Eigenvalues \\& Eigenvectors\n",
    "\n",
    "## Part 1.1: Computation by hand (30 Points)\n",
    "\n",
    "Show all math work/steps (no matter how trivial) to receive full credit. You may either use LaTeX typesetting within a Markdown cell, or do it by hand with pen and paper and embed the image in this .ipynb file, or submit a separate pdf file with your handwritten work. Round all decimals to three places.\n",
    "\n",
    "Find the eigenvalues and eigenvectors for the following matrices by hand:\n",
    "\n",
    "a) $$A = \\begin{bmatrix}\n",
    "    2 & -2 \\\\ -1 & 3\n",
    "\\end{bmatrix}$$\n",
    "\n",
    "b) $$B = \\begin{bmatrix}\n",
    "    7 & 3 \\\\ 3 & -1\n",
    "\\end{bmatrix}$$\n"
   ]
  },
  {
   "cell_type": "markdown",
   "id": "d77c1665-8a94-42ea-b846-86a1d7246426",
   "metadata": {},
   "source": [
    "INCLUDED IN A SEPERATE FILE"
   ]
  },
  {
   "cell_type": "markdown",
   "id": "f6411d47-0169-4164-8a40-ebe7c52fefe3",
   "metadata": {},
   "source": [
    "## Part 1.2: Computation using `numpy` (20 Points)\n",
    "\n",
    "Now for each of the above matrices, using `numpy` find their eigenvalues and eigenvectors:"
   ]
  },
  {
   "cell_type": "code",
   "execution_count": 13,
   "id": "4540abd3-3cb4-448e-87de-6ed9a389cbf7",
   "metadata": {},
   "outputs": [
    {
     "name": "stdout",
     "output_type": "stream",
     "text": [
      "Eigenvalues of A: [1. 4.]\n",
      "Eigenvectors of A:\n",
      " [[-0.89442719  0.70710678]\n",
      " [-0.4472136  -0.70710678]]\n",
      "Eigenvalues of B: [ 8. -2.]\n",
      "Eigenvectors of B:\n",
      " [[ 0.9486833  -0.31622777]\n",
      " [ 0.31622777  0.9486833 ]]\n"
     ]
    }
   ],
   "source": [
    "def compute_eigenvalues_eigenvectors(matrix, name):\n",
    "    eigenvalues, eigenvectors = np.linalg.eig(matrix)\n",
    "    print(f\"Eigenvalues of {name}:\", eigenvalues)\n",
    "    print(f\"Eigenvectors of {name}:\\n\", eigenvectors)\n",
    "    return eigenvalues, eigenvectors\n",
    "\n",
    "A = [[2, -2], [-1, 3]]\n",
    "B = [[7, 3], [3, -1]]\n",
    "\n",
    "eigenvalues_A, eigenvectors_A = compute_eigenvalues_eigenvectors(A, 'A')\n",
    "eigenvalues_B, eigenvectors_B = compute_eigenvalues_eigenvectors(B, 'B')\n"
   ]
  },
  {
   "cell_type": "markdown",
   "id": "6635e0eb-17e5-41c0-a17d-5589994f406b",
   "metadata": {},
   "source": [
    "# Part 2: Projections/Line of Best Fit\n",
    "\n",
    "## Part 2.1: 2-d Projection by hand (25 points)\n",
    "\n",
    "Show all math work/steps (no matter how trivial) to receive full credit. You may either use LaTeX typesetting within a Markdown cell, or do it by hand with pen and paper and embed the image in this .ipynb file, or submit a separate pdf file with your handwritten work. Round all decimals to three places. \n",
    "\n",
    "Find the projection of vector $\\vec{a}$ onto vector $\\vec{b}$:\n",
    "\n",
    "$$\\vec{a} = \\begin{bmatrix}\n",
    "    -4 \\\\ 1\n",
    "\\end{bmatrix}$$\n",
    "\n",
    "$$\\vec{b} = \\begin{bmatrix}\n",
    "    1 \\\\ 2\n",
    "\\end{bmatrix}$$\n"
   ]
  },
  {
   "cell_type": "markdown",
   "id": "4760f731-4cdb-4bdf-9688-87fef46bb493",
   "metadata": {},
   "source": [
    "INCLUDED IN A SEPERATE FILE"
   ]
  },
  {
   "cell_type": "markdown",
   "id": "180c3ae8-c192-401b-a4fe-7bf1ba6327f8",
   "metadata": {},
   "source": [
    "## Part 2.2: Line of Best Fit using `numpy`\n",
    "\n",
    "Now, let's extend this to a real data example. You will find a `big_recipe.csv` in the Labs Module, which contains a recipe data set that we scraped earlier in the semester. For this last part, we will try to answer the question \"How would we mathematically quantify the linear relationship between Cholesterol and Total Fat in these recipes?\"\n",
    "\n",
    "### Part 2.2.1: Exploring Data (5 points)\n",
    "\n",
    "The data are read in for you, and a plot is made below. In a markdown cell, explain why you would or would not think that fitting a straight line to model this relationship makes sense."
   ]
  },
  {
   "cell_type": "code",
   "execution_count": 14,
   "id": "013db860-c48a-4981-88c0-d57ccd28c885",
   "metadata": {},
   "outputs": [
    {
     "data": {
      "application/vnd.plotly.v1+json": {
       "config": {
        "plotlyServerURL": "https://plot.ly"
       },
       "data": [
        {
         "customdata": [
          [
           "Homemade Mac and Cheese"
          ],
          [
           "Lobster Mac and Cheese"
          ],
          [
           "Slow Cooker Mac and Cheese"
          ],
          [
           "Butternut Squash Mac and Cheese"
          ],
          [
           "Mom's Favorite Baked Mac and Cheese"
          ],
          [
           "This Million Dollar Mac and Cheese Recipe Is 'The Best Mac and Cheese' Our Tester Has Ever Had"
          ],
          [
           "Fried Mac and Cheese Balls"
          ],
          [
           "Chef John's Lobster Mac and Cheese"
          ],
          [
           "Easy Mac and Cheese Muffins"
          ],
          [
           "Simple Macaroni and Cheese"
          ],
          [
           "One-Pot Chili Mac and Cheese"
          ],
          [
           "Buffalo Chicken Mac and Cheese"
          ],
          [
           "Mac and Cheese Henwood Style"
          ],
          [
           "Baked Mac and Cheese for One"
          ],
          [
           "Cheddar Bacon Mac and Cheese"
          ],
          [
           "Chuck's Favorite Mac and Cheese"
          ],
          [
           "Elsie's Baked Mac and Cheese"
          ],
          [
           "Great Mac and Cheese"
          ],
          [
           "Smoked Gouda Mac and Cheese"
          ],
          [
           "Tasty Baked Mac and Cheese"
          ],
          [
           "Old School Mac n' Cheese"
          ],
          [
           "Old Fashioned Mac and Cheese"
          ],
          [
           "Mac and Cheese II"
          ]
         ],
         "hovertemplate": "query=mac and cheese<br>Cholesterol=%{x}<br>Total Fat=%{y}<br>name=%{customdata[0]}<extra></extra>",
         "legendgroup": "mac and cheese",
         "marker": {
          "color": "#636efa",
          "symbol": "circle"
         },
         "mode": "markers",
         "name": "mac and cheese",
         "orientation": "v",
         "showlegend": true,
         "type": "scatter",
         "x": {
          "bdata": "jgDaAGMALABkAHAAkwAbASwAZABCAJ0ALgBZAG0AWAByADwAIABiAEwARgBbAA==",
          "dtype": "i2"
         },
         "xaxis": "x",
         "y": {
          "bdata": "MDEZDyEoIDUKIhMqGh4lISQUCh4eFyA=",
          "dtype": "i1"
         },
         "yaxis": "y"
        },
        {
         "customdata": [
          [
           "Mexican Pizza"
          ],
          [
           "Pizza on the Grill"
          ],
          [
           "No-Yeast Pizza Crust"
          ],
          [
           "Brick-Oven Pizza (Brooklyn Style)"
          ],
          [
           "Easy Tortilla Pizza"
          ],
          [
           "Grilled Pizza"
          ],
          [
           "Arugula and Goat Cheese Pizza"
          ],
          [
           "Chicken Avocado Pizza"
          ],
          [
           "Chicken Alfredo Pizza"
          ],
          [
           "Pesto Pizza"
          ],
          [
           "Hot Pizza Dip"
          ],
          [
           "BLT Pizza"
          ],
          [
           "Pizza Without the Red Sauce"
          ],
          [
           "Fruit Pizza"
          ]
         ],
         "hovertemplate": "query=pizza<br>Cholesterol=%{x}<br>Total Fat=%{y}<br>name=%{customdata[0]}<extra></extra>",
         "legendgroup": "pizza",
         "marker": {
          "color": "#EF553B",
          "symbol": "circle"
         },
         "mode": "markers",
         "name": "pizza",
         "orientation": "v",
         "showlegend": true,
         "type": "scatter",
         "x": {
          "bdata": "OAALAAAABwDJAAUAGgBCADoAJAAdADoAHABEAA==",
          "dtype": "i2"
         },
         "xaxis": "x",
         "y": {
          "bdata": "EwsEBSsLECYSFAofDRI=",
          "dtype": "i1"
         },
         "yaxis": "y"
        },
        {
         "customdata": [
          [
           "Perfect Lobster Bisque"
          ],
          [
           "Special Lobster Bisque"
          ],
          [
           "Lobster Bisque"
          ],
          [
           "Annie's Lobster Bisque"
          ],
          [
           "Quick Lobster Bisque"
          ],
          [
           "Lobster Bisque from Scratch"
          ],
          [
           "The Best Easy Shrimp Enchiladas"
          ],
          [
           "Lobster and Chive Bisque"
          ],
          [
           "Easy Imitation Lobster Bisque"
          ],
          [
           "Crabmeat Bisque Made Easy"
          ],
          [
           "Langostino Bisque"
          ]
         ],
         "hovertemplate": "query=lobster bisque<br>Cholesterol=%{x}<br>Total Fat=%{y}<br>name=%{customdata[0]}<extra></extra>",
         "legendgroup": "lobster bisque",
         "marker": {
          "color": "#00cc96",
          "symbol": "circle"
         },
         "mode": "markers",
         "name": "lobster bisque",
         "orientation": "v",
         "showlegend": true,
         "type": "scatter",
         "x": {
          "bdata": "QgBeAGwAKgCUAMEAbwBqAGwAwwCOAA==",
          "dtype": "i2"
         },
         "xaxis": "x",
         "y": {
          "bdata": "DREJCyI3HBsTLxQ=",
          "dtype": "i1"
         },
         "yaxis": "y"
        }
       ],
       "layout": {
        "legend": {
         "title": {
          "text": "query"
         },
         "tracegroupgap": 0
        },
        "margin": {
         "t": 60
        },
        "template": {
         "data": {
          "bar": [
           {
            "error_x": {
             "color": "#2a3f5f"
            },
            "error_y": {
             "color": "#2a3f5f"
            },
            "marker": {
             "line": {
              "color": "#E5ECF6",
              "width": 0.5
             },
             "pattern": {
              "fillmode": "overlay",
              "size": 10,
              "solidity": 0.2
             }
            },
            "type": "bar"
           }
          ],
          "barpolar": [
           {
            "marker": {
             "line": {
              "color": "#E5ECF6",
              "width": 0.5
             },
             "pattern": {
              "fillmode": "overlay",
              "size": 10,
              "solidity": 0.2
             }
            },
            "type": "barpolar"
           }
          ],
          "carpet": [
           {
            "aaxis": {
             "endlinecolor": "#2a3f5f",
             "gridcolor": "white",
             "linecolor": "white",
             "minorgridcolor": "white",
             "startlinecolor": "#2a3f5f"
            },
            "baxis": {
             "endlinecolor": "#2a3f5f",
             "gridcolor": "white",
             "linecolor": "white",
             "minorgridcolor": "white",
             "startlinecolor": "#2a3f5f"
            },
            "type": "carpet"
           }
          ],
          "choropleth": [
           {
            "colorbar": {
             "outlinewidth": 0,
             "ticks": ""
            },
            "type": "choropleth"
           }
          ],
          "contour": [
           {
            "colorbar": {
             "outlinewidth": 0,
             "ticks": ""
            },
            "colorscale": [
             [
              0,
              "#0d0887"
             ],
             [
              0.1111111111111111,
              "#46039f"
             ],
             [
              0.2222222222222222,
              "#7201a8"
             ],
             [
              0.3333333333333333,
              "#9c179e"
             ],
             [
              0.4444444444444444,
              "#bd3786"
             ],
             [
              0.5555555555555556,
              "#d8576b"
             ],
             [
              0.6666666666666666,
              "#ed7953"
             ],
             [
              0.7777777777777778,
              "#fb9f3a"
             ],
             [
              0.8888888888888888,
              "#fdca26"
             ],
             [
              1,
              "#f0f921"
             ]
            ],
            "type": "contour"
           }
          ],
          "contourcarpet": [
           {
            "colorbar": {
             "outlinewidth": 0,
             "ticks": ""
            },
            "type": "contourcarpet"
           }
          ],
          "heatmap": [
           {
            "colorbar": {
             "outlinewidth": 0,
             "ticks": ""
            },
            "colorscale": [
             [
              0,
              "#0d0887"
             ],
             [
              0.1111111111111111,
              "#46039f"
             ],
             [
              0.2222222222222222,
              "#7201a8"
             ],
             [
              0.3333333333333333,
              "#9c179e"
             ],
             [
              0.4444444444444444,
              "#bd3786"
             ],
             [
              0.5555555555555556,
              "#d8576b"
             ],
             [
              0.6666666666666666,
              "#ed7953"
             ],
             [
              0.7777777777777778,
              "#fb9f3a"
             ],
             [
              0.8888888888888888,
              "#fdca26"
             ],
             [
              1,
              "#f0f921"
             ]
            ],
            "type": "heatmap"
           }
          ],
          "histogram": [
           {
            "marker": {
             "pattern": {
              "fillmode": "overlay",
              "size": 10,
              "solidity": 0.2
             }
            },
            "type": "histogram"
           }
          ],
          "histogram2d": [
           {
            "colorbar": {
             "outlinewidth": 0,
             "ticks": ""
            },
            "colorscale": [
             [
              0,
              "#0d0887"
             ],
             [
              0.1111111111111111,
              "#46039f"
             ],
             [
              0.2222222222222222,
              "#7201a8"
             ],
             [
              0.3333333333333333,
              "#9c179e"
             ],
             [
              0.4444444444444444,
              "#bd3786"
             ],
             [
              0.5555555555555556,
              "#d8576b"
             ],
             [
              0.6666666666666666,
              "#ed7953"
             ],
             [
              0.7777777777777778,
              "#fb9f3a"
             ],
             [
              0.8888888888888888,
              "#fdca26"
             ],
             [
              1,
              "#f0f921"
             ]
            ],
            "type": "histogram2d"
           }
          ],
          "histogram2dcontour": [
           {
            "colorbar": {
             "outlinewidth": 0,
             "ticks": ""
            },
            "colorscale": [
             [
              0,
              "#0d0887"
             ],
             [
              0.1111111111111111,
              "#46039f"
             ],
             [
              0.2222222222222222,
              "#7201a8"
             ],
             [
              0.3333333333333333,
              "#9c179e"
             ],
             [
              0.4444444444444444,
              "#bd3786"
             ],
             [
              0.5555555555555556,
              "#d8576b"
             ],
             [
              0.6666666666666666,
              "#ed7953"
             ],
             [
              0.7777777777777778,
              "#fb9f3a"
             ],
             [
              0.8888888888888888,
              "#fdca26"
             ],
             [
              1,
              "#f0f921"
             ]
            ],
            "type": "histogram2dcontour"
           }
          ],
          "mesh3d": [
           {
            "colorbar": {
             "outlinewidth": 0,
             "ticks": ""
            },
            "type": "mesh3d"
           }
          ],
          "parcoords": [
           {
            "line": {
             "colorbar": {
              "outlinewidth": 0,
              "ticks": ""
             }
            },
            "type": "parcoords"
           }
          ],
          "pie": [
           {
            "automargin": true,
            "type": "pie"
           }
          ],
          "scatter": [
           {
            "fillpattern": {
             "fillmode": "overlay",
             "size": 10,
             "solidity": 0.2
            },
            "type": "scatter"
           }
          ],
          "scatter3d": [
           {
            "line": {
             "colorbar": {
              "outlinewidth": 0,
              "ticks": ""
             }
            },
            "marker": {
             "colorbar": {
              "outlinewidth": 0,
              "ticks": ""
             }
            },
            "type": "scatter3d"
           }
          ],
          "scattercarpet": [
           {
            "marker": {
             "colorbar": {
              "outlinewidth": 0,
              "ticks": ""
             }
            },
            "type": "scattercarpet"
           }
          ],
          "scattergeo": [
           {
            "marker": {
             "colorbar": {
              "outlinewidth": 0,
              "ticks": ""
             }
            },
            "type": "scattergeo"
           }
          ],
          "scattergl": [
           {
            "marker": {
             "colorbar": {
              "outlinewidth": 0,
              "ticks": ""
             }
            },
            "type": "scattergl"
           }
          ],
          "scattermap": [
           {
            "marker": {
             "colorbar": {
              "outlinewidth": 0,
              "ticks": ""
             }
            },
            "type": "scattermap"
           }
          ],
          "scattermapbox": [
           {
            "marker": {
             "colorbar": {
              "outlinewidth": 0,
              "ticks": ""
             }
            },
            "type": "scattermapbox"
           }
          ],
          "scatterpolar": [
           {
            "marker": {
             "colorbar": {
              "outlinewidth": 0,
              "ticks": ""
             }
            },
            "type": "scatterpolar"
           }
          ],
          "scatterpolargl": [
           {
            "marker": {
             "colorbar": {
              "outlinewidth": 0,
              "ticks": ""
             }
            },
            "type": "scatterpolargl"
           }
          ],
          "scatterternary": [
           {
            "marker": {
             "colorbar": {
              "outlinewidth": 0,
              "ticks": ""
             }
            },
            "type": "scatterternary"
           }
          ],
          "surface": [
           {
            "colorbar": {
             "outlinewidth": 0,
             "ticks": ""
            },
            "colorscale": [
             [
              0,
              "#0d0887"
             ],
             [
              0.1111111111111111,
              "#46039f"
             ],
             [
              0.2222222222222222,
              "#7201a8"
             ],
             [
              0.3333333333333333,
              "#9c179e"
             ],
             [
              0.4444444444444444,
              "#bd3786"
             ],
             [
              0.5555555555555556,
              "#d8576b"
             ],
             [
              0.6666666666666666,
              "#ed7953"
             ],
             [
              0.7777777777777778,
              "#fb9f3a"
             ],
             [
              0.8888888888888888,
              "#fdca26"
             ],
             [
              1,
              "#f0f921"
             ]
            ],
            "type": "surface"
           }
          ],
          "table": [
           {
            "cells": {
             "fill": {
              "color": "#EBF0F8"
             },
             "line": {
              "color": "white"
             }
            },
            "header": {
             "fill": {
              "color": "#C8D4E3"
             },
             "line": {
              "color": "white"
             }
            },
            "type": "table"
           }
          ]
         },
         "layout": {
          "annotationdefaults": {
           "arrowcolor": "#2a3f5f",
           "arrowhead": 0,
           "arrowwidth": 1
          },
          "autotypenumbers": "strict",
          "coloraxis": {
           "colorbar": {
            "outlinewidth": 0,
            "ticks": ""
           }
          },
          "colorscale": {
           "diverging": [
            [
             0,
             "#8e0152"
            ],
            [
             0.1,
             "#c51b7d"
            ],
            [
             0.2,
             "#de77ae"
            ],
            [
             0.3,
             "#f1b6da"
            ],
            [
             0.4,
             "#fde0ef"
            ],
            [
             0.5,
             "#f7f7f7"
            ],
            [
             0.6,
             "#e6f5d0"
            ],
            [
             0.7,
             "#b8e186"
            ],
            [
             0.8,
             "#7fbc41"
            ],
            [
             0.9,
             "#4d9221"
            ],
            [
             1,
             "#276419"
            ]
           ],
           "sequential": [
            [
             0,
             "#0d0887"
            ],
            [
             0.1111111111111111,
             "#46039f"
            ],
            [
             0.2222222222222222,
             "#7201a8"
            ],
            [
             0.3333333333333333,
             "#9c179e"
            ],
            [
             0.4444444444444444,
             "#bd3786"
            ],
            [
             0.5555555555555556,
             "#d8576b"
            ],
            [
             0.6666666666666666,
             "#ed7953"
            ],
            [
             0.7777777777777778,
             "#fb9f3a"
            ],
            [
             0.8888888888888888,
             "#fdca26"
            ],
            [
             1,
             "#f0f921"
            ]
           ],
           "sequentialminus": [
            [
             0,
             "#0d0887"
            ],
            [
             0.1111111111111111,
             "#46039f"
            ],
            [
             0.2222222222222222,
             "#7201a8"
            ],
            [
             0.3333333333333333,
             "#9c179e"
            ],
            [
             0.4444444444444444,
             "#bd3786"
            ],
            [
             0.5555555555555556,
             "#d8576b"
            ],
            [
             0.6666666666666666,
             "#ed7953"
            ],
            [
             0.7777777777777778,
             "#fb9f3a"
            ],
            [
             0.8888888888888888,
             "#fdca26"
            ],
            [
             1,
             "#f0f921"
            ]
           ]
          },
          "colorway": [
           "#636efa",
           "#EF553B",
           "#00cc96",
           "#ab63fa",
           "#FFA15A",
           "#19d3f3",
           "#FF6692",
           "#B6E880",
           "#FF97FF",
           "#FECB52"
          ],
          "font": {
           "color": "#2a3f5f"
          },
          "geo": {
           "bgcolor": "white",
           "lakecolor": "white",
           "landcolor": "#E5ECF6",
           "showlakes": true,
           "showland": true,
           "subunitcolor": "white"
          },
          "hoverlabel": {
           "align": "left"
          },
          "hovermode": "closest",
          "mapbox": {
           "style": "light"
          },
          "paper_bgcolor": "white",
          "plot_bgcolor": "#E5ECF6",
          "polar": {
           "angularaxis": {
            "gridcolor": "white",
            "linecolor": "white",
            "ticks": ""
           },
           "bgcolor": "#E5ECF6",
           "radialaxis": {
            "gridcolor": "white",
            "linecolor": "white",
            "ticks": ""
           }
          },
          "scene": {
           "xaxis": {
            "backgroundcolor": "#E5ECF6",
            "gridcolor": "white",
            "gridwidth": 2,
            "linecolor": "white",
            "showbackground": true,
            "ticks": "",
            "zerolinecolor": "white"
           },
           "yaxis": {
            "backgroundcolor": "#E5ECF6",
            "gridcolor": "white",
            "gridwidth": 2,
            "linecolor": "white",
            "showbackground": true,
            "ticks": "",
            "zerolinecolor": "white"
           },
           "zaxis": {
            "backgroundcolor": "#E5ECF6",
            "gridcolor": "white",
            "gridwidth": 2,
            "linecolor": "white",
            "showbackground": true,
            "ticks": "",
            "zerolinecolor": "white"
           }
          },
          "shapedefaults": {
           "line": {
            "color": "#2a3f5f"
           }
          },
          "ternary": {
           "aaxis": {
            "gridcolor": "white",
            "linecolor": "white",
            "ticks": ""
           },
           "baxis": {
            "gridcolor": "white",
            "linecolor": "white",
            "ticks": ""
           },
           "bgcolor": "#E5ECF6",
           "caxis": {
            "gridcolor": "white",
            "linecolor": "white",
            "ticks": ""
           }
          },
          "title": {
           "x": 0.05
          },
          "xaxis": {
           "automargin": true,
           "gridcolor": "white",
           "linecolor": "white",
           "ticks": "",
           "title": {
            "standoff": 15
           },
           "zerolinecolor": "white",
           "zerolinewidth": 2
          },
          "yaxis": {
           "automargin": true,
           "gridcolor": "white",
           "linecolor": "white",
           "ticks": "",
           "title": {
            "standoff": 15
           },
           "zerolinecolor": "white",
           "zerolinewidth": 2
          }
         }
        },
        "xaxis": {
         "anchor": "y",
         "domain": [
          0,
          1
         ],
         "title": {
          "text": "Cholesterol"
         }
        },
        "yaxis": {
         "anchor": "x",
         "domain": [
          0,
          1
         ],
         "title": {
          "text": "Total Fat"
         }
        }
       }
      }
     },
     "metadata": {},
     "output_type": "display_data"
    }
   ],
   "source": [
    "recipe_df = pd.read_csv('big_recipe.csv')\n",
    "\n",
    "px.scatter(data_frame=recipe_df, x='Cholesterol', y='Total Fat', color='query', hover_data=['name'])"
   ]
  },
  {
   "cell_type": "markdown",
   "id": "22633583-31ee-4645-9256-7c4013941bbf",
   "metadata": {},
   "source": [
    "Visually the data appears to follow a roughtly positive linear correlation, so fitting a straight line to model this relationship makes sense. There are some outliers that may affect the fit, but overall the trend is linear evident visually."
   ]
  },
  {
   "cell_type": "markdown",
   "id": "1cb72f55-0380-4a94-9e52-7677ee40efd7",
   "metadata": {},
   "source": [
    "### Part 2.2.2: Preparing Data (5 points)\n",
    "\n",
    "In order to fit the line of best fit through these points using NumPy, we need to store the data as vectors/matrices (arrays) in NumPy. The code below does that. Explain in a markdown cell why we are storing Cholesterol in a matrix called $X$ with an additional column of 1s."
   ]
  },
  {
   "cell_type": "code",
   "execution_count": 15,
   "id": "51f6a108-99c4-4742-9e31-3e60d048c685",
   "metadata": {},
   "outputs": [
    {
     "data": {
      "text/plain": [
       "array([[142.,   1.],\n",
       "       [218.,   1.],\n",
       "       [ 99.,   1.],\n",
       "       [ 44.,   1.],\n",
       "       [100.,   1.],\n",
       "       [112.,   1.]])"
      ]
     },
     "execution_count": 15,
     "metadata": {},
     "output_type": "execute_result"
    }
   ],
   "source": [
    "y = recipe_df['Total Fat'].to_numpy() # creates the vector y\n",
    "X = np.vstack([recipe_df.Cholesterol.to_numpy(), np.ones(len(recipe_df.Cholesterol))]).T # creates the matrix X\n",
    "X[:6,:] # prints the first six rows of the matrix X"
   ]
  },
  {
   "cell_type": "markdown",
   "id": "13f5d6b4-f82a-4951-af7a-e748a0ef9397",
   "metadata": {},
   "source": [
    "We are storing Cholesterol in a matrix called X with an additional column of 1s to account for the y-intercept in the linear regression model. The additional column of 1s allows us to include the intercept term in our calculations, enabling us to fit a line that does not necessarily pass through the origin. This is important because it provides more flexibility in modeling the relationship between Cholesterol and Total Fat, allowing for a better fit to the data."
   ]
  },
  {
   "cell_type": "markdown",
   "id": "481f42cc-fa4b-48ec-8963-c0ba32151775",
   "metadata": {},
   "source": [
    "### Part 2.2.3: Fitting the Line of best fit (15 points)\n",
    "\n",
    "Use NumPy and linear algebra to find the slope and intercept of the line of best fit. Print out the final vector. Then, in a markdown cell, address **in detail** the following:\n",
    "\n",
    "1. What is the interpretation of the slope and intercept in the context of this problem?\n",
    "2. Explain in a few sentences why this operation is the same thing as \"projecting $y$ onto the span of $X$\"."
   ]
  },
  {
   "cell_type": "code",
   "execution_count": 16,
   "id": "47a95648-1129-44d1-b0c9-cbe440950c22",
   "metadata": {},
   "outputs": [
    {
     "name": "stdout",
     "output_type": "stream",
     "text": [
      "Slope and y-intercept of the best fit line:\n",
      "Slope: 0.184\n",
      "Y-intercept: 9.219\n"
     ]
    }
   ],
   "source": [
    "# Step 1: Compute X^T @ X\n",
    "XTX = X.T @ X\n",
    "\n",
    "# Step 2: Compute the inverse of X^T @ X\n",
    "XTX_inv = np.linalg.inv(XTX)\n",
    "\n",
    "# Step 3: Compute X^T @ y\n",
    "XTy = X.T @ y\n",
    "\n",
    "# Step 4: Compute the final result\n",
    "w = XTX_inv @ XTy\n",
    "print(\"Slope and y-intercept of the best fit line:\")\n",
    "print(f\"Slope: {w[0]:.3f}\")\n",
    "print(f\"Y-intercept: {w[1]:.3f}\")"
   ]
  },
  {
   "cell_type": "markdown",
   "id": "2df06481-9caf-4254-8e4d-fd80d8c632fd",
   "metadata": {},
   "source": [
    "# Explain in a few sentences why this operation is the same thing as \"projecting $y$ onto the span of $X$\".\n",
    "The operation of finding the line of best fit using the formula $\\beta = (X^TX)^{-1}X^Ty$ is equivalent to projecting $y$ onto the span of $X$ because it minimizes the sum of squared differences between the observed values in $y$ and the values predicted by the linear model represented by $X\\beta$. And minimizing these squared differences is exactly what the line of best fit is"
   ]
  }
 ],
 "metadata": {
  "kernelspec": {
   "display_name": "Python 3",
   "language": "python",
   "name": "python3"
  },
  "language_info": {
   "codemirror_mode": {
    "name": "ipython",
    "version": 3
   },
   "file_extension": ".py",
   "mimetype": "text/x-python",
   "name": "python",
   "nbconvert_exporter": "python",
   "pygments_lexer": "ipython3",
   "version": "3.12.6"
  }
 },
 "nbformat": 4,
 "nbformat_minor": 5
}
