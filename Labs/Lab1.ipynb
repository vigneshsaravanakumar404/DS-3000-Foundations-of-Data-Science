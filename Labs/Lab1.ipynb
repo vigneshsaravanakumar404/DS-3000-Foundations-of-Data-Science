{
 "cells": [
  {
   "cell_type": "markdown",
   "metadata": {},
   "source": [
    "# DS 3000 Lab 1\n",
    "\n",
    "Due: Thursday, Sept. 16 @ 11:59 pm\n",
    "\n",
    "### Submission Instructions\n",
    "Submit this `ipynb` file to Gradescope (this can also be done via the assignment on Canvas).  To ensure that your submitted `ipynb` file represents your latest code, make sure to give a fresh `Kernel > Restart & Run All` just before uploading the `ipynb` file to gradescope.\n",
    "\n",
    "### Tips for success\n",
    "- Collaborate: bounce ideas off of each other, if you are having trouble you can ask your classmates or Dr. Singhal for help with specific issues, however...\n",
    "- Under no circumstances may one student view or share their ungraded homework or quiz with another student [(see also)](http://www.northeastern.edu/osccr/academic-integrity), i.e. you are welcome to **talk about** (*not* show each other your answers to) the problems."
   ]
  },
  {
   "cell_type": "code",
   "execution_count": 1,
   "metadata": {},
   "outputs": [],
   "source": [
    "# you may want to use the below modules on this lab\n",
    "import warnings\n",
    "warnings.simplefilter(action='ignore', category=FutureWarning)\n",
    "\n",
    "import requests\n",
    "from datetime import datetime\n",
    "import pandas as pd\n",
    "import matplotlib.pyplot as plt\n",
    "import plotly.express as px\n",
    "from bs4 import BeautifulSoup"
   ]
  },
  {
   "cell_type": "markdown",
   "metadata": {},
   "source": [
    "# Part 1: Sketch and Begin Implementing a Pipeline\n",
    "\n",
    "We wish to create a data frame that includes all the spells for each class (a \"class\" is something like a \"wizard\", or a \"bard\") in Dungeons and Dragons 5th Edition, which you can find [here](http://dnd5e.wikidot.com/). Your final data frame should look something like:\n",
    "\n",
    "| Class     | Level     | Spell Name    | School      | Casting Time | Range                | Duration      | Components |\n",
    "|----------:|----------:|--------------:|------------:|-------------:|---------------------:|--------------:|-----------:|\n",
    "| Artificer | Cantrip   | Acid Splash   | Conjuration | 1 Action     | 60 Feet              | Instantaneous | V, S       |\n",
    "| Artificer | Cantrip   | Booming Blade | Evocation   | 1 Action     | Self (5-foot radius) | 1 Round       | S, M       |\n",
    "| ...       | ...       | ...           | ...         | ...          | ...                  | ...           | ...        |\n",
    "| Wizard    | 9th Level | Wish          | Conjuration | 1 Action     | Self                 | Instantaneous | V          |"
   ]
  },
  {
   "cell_type": "markdown",
   "metadata": {},
   "source": [
    "## Part 1.1: Poking Around (10 points)\n",
    "\n",
    "Go to the D&D 5th Edition linked above. Scroll down to the \"All Spells\" list and click on \"Artificer Spells\", spend a moment looking around at the page, then \"Bard Spells\" to do the same, and make note of the url of each. What do you note about the pages and url that should be pretty convenient for scraping the data we are interested in for all different types of spells? Discuss anything else you might notice about the pages that may be either tricky or convenient to deal with. Note that in our desired data frame, we include the \"Class\" and \"Level\" for each spell."
   ]
  },
  {
   "cell_type": "markdown",
   "metadata": {},
   "source": []
  },
  {
   "cell_type": "markdown",
   "metadata": {},
   "source": [
    "## Part 1.2: Sketch the Pipeline (20 points)\n",
    "\n",
    "First, in a markdown cell, write a bullet point list of tasks we need to get the data frame we want. I'll give you what the first bullet point should be, and you fill in the rest (there may be only one more, depending on how efficient you are in describing the tasks...):\n",
    "\n",
    "- Write a function that takes a class (string) as an argument and returns the tables from the class's DND wiki spell page in a dictionary for each spell level\n",
    "- ... \n",
    "\n",
    "Then, in a code cell, define **empty** functions that correspond to the tasks you identified as needing done. For example, the function for the first bullet point above might start with:\n",
    "\n",
    "```python\n",
    "def get_class_spell_dict(dnd_class):\n",
    "    \"\"\" takes a D&D class (string) and gets the spell tables and saves them in a dictionary\n",
    "    \n",
    "    Args:\n",
    "        dnd_class (str): the D&D class\n",
    "        \n",
    "    Returns:\n",
    "        table_dict (dict): a dictionary of tables, one for each spell level\n",
    "    \"\"\"\n",
    "    pass\n",
    "```"
   ]
  },
  {
   "cell_type": "markdown",
   "metadata": {},
   "source": []
  },
  {
   "cell_type": "code",
   "execution_count": null,
   "metadata": {},
   "outputs": [],
   "source": []
  },
  {
   "cell_type": "markdown",
   "metadata": {},
   "source": [
    "## Part 1.3: Write the first function (30 points)\n",
    "\n",
    "Go ahead and write the first function, and then test it by getting the dictionary of Druid spell tables. Show that it works by printing out the head of the 4th level Druid spells. Your final calls should be something like:\n",
    "\n",
    "```python\n",
    "druid_spell_tables = get_class_spell_dict(\"druid\")\n",
    "druid_spell_tables['Level 4'].head()\n",
    "```\n",
    "\n",
    "**Note**: depending on how you create the dictionary in your `get_class_spell_dict` function, you may not have `'Level 4'` as the key; that's fine. The top of the table should look like:\n",
    "\n",
    "| Spell Name       | School        | Casting Time | Range                | Duration      | Components |\n",
    "|-----------------:|--------------:|-------------:|---------------------:|--------------:|-----------:|\n",
    "| Blight              | Necromancy    | 1 Action     | 30 Feet              | Instantaneous       | V, S   |\n",
    "| Charm Monster\t | Enchantment   | 1 Action    | 30 Feet              | 1 hour      | V, S"
   ]
  },
  {
   "cell_type": "code",
   "execution_count": null,
   "metadata": {},
   "outputs": [],
   "source": []
  },
  {
   "cell_type": "markdown",
   "metadata": {},
   "source": [
    "# Part 2: Web Scraping EuroMillions Results\n",
    "\n",
    "For this problem, we will begin to create a small data set scraped from [Euro-Millions](https://www.euro-millions.com/) which is a lottery that is played across nine European countries. Draws take place on Tuesday and Friday evenings with a minimum guaranteed jackpot of â‚¬17 million. "
   ]
  },
  {
   "cell_type": "markdown",
   "metadata": {},
   "source": [
    "## Part 2.1: The Scraper Function (20 points)\n",
    "\n",
    "Complete the function `get_lottery_html()` below (including docstring) which visits the lottery results for a specific date and grabs the html. Visit [the website](https://www.euro-millions.com/results/) to select a date or two and notice the pattern in the url so that you can pass any date to the function as a string. \n",
    "\n",
    "**Make sure to remove the `pass` statement when you are finished**. I have written the code you should run once the function is completed, getting the lottery results from the last day in April."
   ]
  },
  {
   "cell_type": "code",
   "execution_count": 2,
   "metadata": {},
   "outputs": [],
   "source": [
    "def get_lottery_html(code):\n",
    "    \n",
    "    pass\n"
   ]
  },
  {
   "cell_type": "code",
   "execution_count": null,
   "metadata": {},
   "outputs": [],
   "source": [
    "# when you are done the following code should be run\n",
    "url_text = get_lottery_html('06-05-2025')\n",
    "# url_text # uncomment to see if it worked"
   ]
  },
  {
   "cell_type": "markdown",
   "metadata": {},
   "source": [
    "## Part 2.2: The Soup Function (20 points)\n",
    "\n",
    "Complete the function `get_country_soup()` below (including docstring) which takes the html from the previous function and outputs one of nine beautiful soup objects, depending on the country you are interested in as defined by the `'id'` attribute:\n",
    "\n",
    "    - `id='PrizeAT'` (Austria)\n",
    "    - `id='PrizeBE'` (Belgium)\n",
    "    - `id='PrizeFR'` (France)\n",
    "    - `id='PrizeIE'` (Ireland)\n",
    "    - `id='PrizeLU'` (Luxembourg)\n",
    "    - `id='PrizePT'` (Portugal)\n",
    "    - `id='PrizeES'` (Spain)\n",
    "    - `id='PrizeCH'` (Switzerland)\n",
    "    - `id='PrizeGB'` (UK)\n",
    "    \n",
    "The function should take two arguments: the html object from `get_lottery_html()` and a string that specifies the `id` you are interested in (by default, Belgium or `BE`).\n",
    "    \n",
    "**Make sure to remove the `pass` statement when you are finished.** Then, also make sure to run the code to ensure your function works."
   ]
  },
  {
   "cell_type": "code",
   "execution_count": 4,
   "metadata": {},
   "outputs": [],
   "source": [
    "def get_country_soup(html, country):\n",
    "    \n",
    "    pass\n"
   ]
  },
  {
   "cell_type": "code",
   "execution_count": 5,
   "metadata": {},
   "outputs": [],
   "source": [
    "# when you are done the following code should be run (feel free to change the country if you wish)\n",
    "country_choice = 'FR'\n",
    "my_country_soup = get_country_soup(url_text, country_choice)\n",
    "# my_country_soup #uncomment to see if it worked"
   ]
  },
  {
   "cell_type": "code",
   "execution_count": null,
   "metadata": {},
   "outputs": [],
   "source": []
  }
 ],
 "metadata": {
  "kernelspec": {
   "display_name": "Python 3 (ipykernel)",
   "language": "python",
   "name": "python3"
  },
  "language_info": {
   "codemirror_mode": {
    "name": "ipython",
    "version": 3
   },
   "file_extension": ".py",
   "mimetype": "text/x-python",
   "name": "python",
   "nbconvert_exporter": "python",
   "pygments_lexer": "ipython3",
   "version": "3.13.0"
  }
 },
 "nbformat": 4,
 "nbformat_minor": 4
}
